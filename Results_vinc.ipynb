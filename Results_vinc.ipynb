{
 "cells": [
  {
   "cell_type": "code",
   "execution_count": 1,
   "metadata": {},
   "outputs": [],
   "source": [
    "%run algebra.py\n",
    "%run cache.py\n",
    "%run costs.py\n",
    "%run features.py\n",
    "%run gradients.py\n",
    "%run helpers.py\n",
    "%run model.py\n",
    "%run models.py\n",
    "%run splits.py\n",
    "\n",
    "import numpy as np\n",
    "import matplotlib.mlab as mlab\n",
    "import matplotlib.pyplot as plt\n",
    "import csv\n",
    "import numpy as np\n",
    "import warnings\n",
    "warnings.filterwarnings('ignore')"
   ]
  },
  {
   "cell_type": "code",
   "execution_count": 2,
   "metadata": {},
   "outputs": [],
   "source": [
    "SUB_SAMPLE = True\n",
    "CACHE_DIR = \"test/cache/\" if SUB_SAMPLE else \"cache/\"\n",
    "SUBMISSIONS_DIR = \"test/submissions/\" if SUB_SAMPLE else \"submissions/\""
   ]
  },
  {
   "cell_type": "code",
   "execution_count": 3,
   "metadata": {},
   "outputs": [],
   "source": [
    "def load_csv_data(data_path, sub_sample=True):\n",
    "    \"\"\"Loads data and returns y (class labels), tX (features) and ids (event ids)\"\"\"\n",
    "    y = np.genfromtxt(data_path, delimiter=\",\", skip_header=1, dtype=str, usecols=1)\n",
    "    x = np.genfromtxt(data_path, delimiter=\",\", skip_header=1)\n",
    "    ids = x[:, 0].astype(np.int)\n",
    "    input_data = x[:, 2:]\n",
    "\n",
    "    # convert class labels from strings to binary (-1,1)\n",
    "    yb = np.ones(len(y))\n",
    "    yb[np.where(y=='b')] = -1\n",
    "\n",
    "    # sub-sample\n",
    "    if sub_sample:\n",
    "        yb = yb[::50]\n",
    "        input_data = input_data[::50]\n",
    "        ids = ids[::50]\n",
    "\n",
    "    return yb, input_data, ids"
   ]
  },
  {
   "cell_type": "code",
   "execution_count": 4,
   "metadata": {
    "scrolled": true
   },
   "outputs": [],
   "source": [
    "y, x, ids = load_csv_data('data/train.csv', SUB_SAMPLE)"
   ]
  },
  {
   "cell_type": "markdown",
   "metadata": {},
   "source": [
    "### Logistic Regression"
   ]
  },
  {
   "cell_type": "code",
   "execution_count": 5,
   "metadata": {},
   "outputs": [],
   "source": [
    "class First_Order_Logistic_Regression_Model2(Model):\n",
    "\n",
    "    def prepare(self, x, y, h):\n",
    "        \n",
    "        degree = int(h['degree'])\n",
    "\n",
    "        x = remove_errors(x)\n",
    "        x = remove_outliers(x)\n",
    "        x = standardize_all(x)\n",
    "        x = remove_nan_features(x)\n",
    "        x = build_poly(x, degree)\n",
    "        \n",
    "        return x, y\n",
    "\n",
    "    def fit(self, x, y, h={}):\n",
    "        \n",
    "        batch_size = int(h['batch_size'])\n",
    "        n_iters = int(h['n_iters'])\n",
    "        gamma = float(h['gamma'])\n",
    "        \n",
    "        initial_w = np.zeros(x.shape[1])\n",
    "        return logistic_regression(y, x, initial_w, batch_size, n_iters, gamma)\n",
    "    \n",
    "    def test(self, x, y, w, h):\n",
    "        mse = compute_mse(y, x, w)\n",
    "        if np.isnan(mse):\n",
    "            mse = np.inf\n",
    "        return { 'mse': mse }"
   ]
  },
  {
   "cell_type": "code",
   "execution_count": 17,
   "metadata": {
    "scrolled": true
   },
   "outputs": [
    {
     "name": "stdout",
     "output_type": "stream",
     "text": [
      "(array([126]),)\n"
     ]
    },
    {
     "data": {
      "text/plain": [
       "{'n_iters': 1000,\n",
       " 'batch_size': 1,\n",
       " 'degree': 6,\n",
       " 'gamma': 2.7825594022071258e-11,\n",
       " 'k_fold': 4,\n",
       " 'seed': 0,\n",
       " 'mse_tr': 0.49696297914908244,\n",
       " 'mse_te': 0.49791066042234666}"
      ]
     },
     "execution_count": 17,
     "metadata": {},
     "output_type": "execute_result"
    }
   ],
   "source": [
    "myModel = CrossValidationModel(First_Order_Logistic_Regression_Model2())\n",
    "\n",
    "n_iters = [1000]\n",
    "batch_size = [1]\n",
    "degrees = np.arange(15)\n",
    "gammas = np.logspace(-15, -10, 10)\n",
    "\n",
    "hs={\n",
    "    'n_iters': n_iters,\n",
    "    'batch_size': batch_size,\n",
    "    'degree': degrees,\n",
    "    'gamma': gammas,\n",
    "    'k_fold': [4],\n",
    "    'seed': [0]\n",
    "}\n",
    "\n",
    "res = myModel.evaluate(x, y, hs, filename=CACHE_DIR+'Logistic_Regression_Explo')\n",
    "\n",
    "#print(res)\n",
    "\n",
    "#plot_heatmap(res, hs, 'mse_te', 'degree', 'gamma')\n",
    "\n",
    "#res_mse = np.vectorize(lambda x: x['mse'])(res)\n",
    "#x_axis = np.unique(np.vectorize(lambda x: x['gamma'])(res))\n",
    "#y_axis = np.unique(np.vectorize(lambda x: x['degree'])(res))\n",
    "\n",
    "#plot_heatmap(res, hs, 'mse', 'degree', 'gamma')\n",
    "find_arg_min(res, 'mse_te')"
   ]
  },
  {
   "cell_type": "code",
   "execution_count": null,
   "metadata": {},
   "outputs": [],
   "source": [
    "hs = {'batch_size': 10.0,\n",
    " 'degree': 1.0,\n",
    " 'gamma': 0.0003548133892335753,\n",
    " 'k_fold': 4.0,\n",
    " 'n_iters': 100000.0,\n",
    " 'seed': 0.0,\n",
    " 'mse_te': 0.3988701335328735,\n",
    " 'mse_tr': 0.3988200000042866}\n",
    "\n",
    "myModel.predict(hs, x, y, SUBMISSIONS_DIR + 'Logistic_Regression')"
   ]
  },
  {
   "cell_type": "markdown",
   "metadata": {},
   "source": [
    "### Reg Logistic Regression"
   ]
  },
  {
   "cell_type": "code",
   "execution_count": 9,
   "metadata": {},
   "outputs": [],
   "source": [
    "class Reg_Logistic_Regression_Model2(Model):\n",
    "\n",
    "    def prepare(self, x, y, h):\n",
    "        \n",
    "        degree = int(h['degree'])\n",
    "\n",
    "        x = remove_errors(x)\n",
    "        x = remove_outliers(x)\n",
    "        x = standardize_all(x)\n",
    "        x = remove_nan_features(x)\n",
    "        x = build_poly(x, degree)\n",
    "        \n",
    "        return x, y\n",
    "\n",
    "    def fit(self, x, y, h={}):\n",
    "        \n",
    "        batch_size = int(h['batch_size'])\n",
    "        n_iters = int(h['n_iters'])\n",
    "        gamma = float(h['gamma'])\n",
    "        lambda_ = float(h['lambda'])\n",
    "        \n",
    "        initial_w = np.zeros(x.shape[1])\n",
    "        return reg_logistic_regression(y, x, initial_w, batch_size, n_iters, gamma, lambda_)\n",
    "    \n",
    "    def test(self, x, y, w, h):\n",
    "        mse = compute_mse(y, x, w)\n",
    "        if np.isnan(mse):\n",
    "            mse = np.inf\n",
    "        return { 'mse': mse }"
   ]
  },
  {
   "cell_type": "code",
   "execution_count": 7,
   "metadata": {},
   "outputs": [
    {
     "name": "stdout",
     "output_type": "stream",
     "text": [
      "[{'batch_size': 1.0, 'degree': 5.0, 'gamma': 1e-15, 'k_fold': 4.0, 'lambda': 1e-10, 'n_iters': 1000.0, 'seed': 0.0, 'mse_te': 0.49999999320766625, 'mse_tr': 0.4999999915820104}, {'batch_size': 1.0, 'degree': 6.0, 'gamma': 1e-15, 'k_fold': 4.0, 'lambda': 1e-10, 'n_iters': 1000.0, 'seed': 0.0, 'mse_te': 0.4999998257003512, 'mse_tr': 0.4999997606510462}, {'batch_size': 1.0, 'degree': 7.0, 'gamma': 1e-15, 'k_fold': 4.0, 'lambda': 1e-10, 'n_iters': 1000.0, 'seed': 0.0, 'mse_te': 0.4999953335812706, 'mse_tr': 0.4999925425399327}, {'batch_size': 1.0, 'degree': 8.0, 'gamma': 1e-15, 'k_fold': 4.0, 'lambda': 1e-10, 'n_iters': 1000.0, 'seed': 0.0, 'mse_te': 0.4998840460029312, 'mse_tr': 0.4997610510534121}, {'batch_size': 1.0, 'degree': 9.0, 'gamma': 1e-15, 'k_fold': 4.0, 'lambda': 1e-10, 'n_iters': 1000.0, 'seed': 0.0, 'mse_te': 0.5138117047071616, 'mse_tr': 0.5140159362387455}, {'batch_size': 1.0, 'degree': 10.0, 'gamma': 1e-15, 'k_fold': 4.0, 'lambda': 1e-10, 'n_iters': 1000.0, 'seed': 0.0, 'mse_te': 33.64180311159088, 'mse_tr': 40.876805694001234}, {'batch_size': 1.0, 'degree': 11.0, 'gamma': 1e-15, 'k_fold': 4.0, 'lambda': 1e-10, 'n_iters': 1000.0, 'seed': 0.0, 'mse_te': 68151.41234826084, 'mse_tr': 79707.15216490751}, {'batch_size': 1.0, 'degree': 12.0, 'gamma': 1e-15, 'k_fold': 4.0, 'lambda': 1e-10, 'n_iters': 1000.0, 'seed': 0.0, 'mse_te': inf, 'mse_tr': inf}, {'batch_size': 1.0, 'degree': 13.0, 'gamma': 1e-15, 'k_fold': 4.0, 'lambda': 1e-10, 'n_iters': 1000.0, 'seed': 0.0, 'mse_te': inf, 'mse_tr': inf}, {'batch_size': 1.0, 'degree': 14.0, 'gamma': 1e-15, 'k_fold': 4.0, 'lambda': 1e-10, 'n_iters': 1000.0, 'seed': 0.0, 'mse_te': inf, 'mse_tr': inf}, {'batch_size': 1.0, 'degree': 5.0, 'gamma': 3.593813663804626e-15, 'k_fold': 4.0, 'lambda': 1e-10, 'n_iters': 1000.0, 'seed': 0.0, 'mse_te': 0.4999999755896535, 'mse_tr': 0.499999969747358}, {'batch_size': 1.0, 'degree': 6.0, 'gamma': 3.593813663804626e-15, 'k_fold': 4.0, 'lambda': 1e-10, 'n_iters': 1000.0, 'seed': 0.0, 'mse_te': 0.49999937363651525, 'mse_tr': 0.4999991398732035}, {'batch_size': 1.0, 'degree': 7.0, 'gamma': 3.593813663804626e-15, 'k_fold': 4.0, 'lambda': 1e-10, 'n_iters': 1000.0, 'seed': 0.0, 'mse_te': 0.4999832809779807, 'mse_tr': 0.4999732697413525}, {'batch_size': 1.0, 'degree': 8.0, 'gamma': 3.593813663804626e-15, 'k_fold': 4.0, 'lambda': 1e-10, 'n_iters': 1000.0, 'seed': 0.0, 'mse_te': 0.499670302899258, 'mse_tr': 0.49926414336081065}, {'batch_size': 1.0, 'degree': 9.0, 'gamma': 3.593813663804626e-15, 'k_fold': 4.0, 'lambda': 1e-10, 'n_iters': 1000.0, 'seed': 0.0, 'mse_te': 0.6977322345660675, 'mse_tr': 0.7399362249105212}, {'batch_size': 1.0, 'degree': 10.0, 'gamma': 3.593813663804626e-15, 'k_fold': 4.0, 'lambda': 1e-10, 'n_iters': 1000.0, 'seed': 0.0, 'mse_te': 344.7739506212087, 'mse_tr': 412.42535089974956}, {'batch_size': 1.0, 'degree': 11.0, 'gamma': 3.593813663804626e-15, 'k_fold': 4.0, 'lambda': 1e-10, 'n_iters': 1000.0, 'seed': 0.0, 'mse_te': 883667.7363484579, 'mse_tr': 1030604.8638967811}, {'batch_size': 1.0, 'degree': 12.0, 'gamma': 3.593813663804626e-15, 'k_fold': 4.0, 'lambda': 1e-10, 'n_iters': 1000.0, 'seed': 0.0, 'mse_te': inf, 'mse_tr': inf}, {'batch_size': 1.0, 'degree': 13.0, 'gamma': 3.593813663804626e-15, 'k_fold': 4.0, 'lambda': 1e-10, 'n_iters': 1000.0, 'seed': 0.0, 'mse_te': inf, 'mse_tr': inf}, {'batch_size': 1.0, 'degree': 14.0, 'gamma': 3.593813663804626e-15, 'k_fold': 4.0, 'lambda': 1e-10, 'n_iters': 1000.0, 'seed': 0.0, 'mse_te': inf, 'mse_tr': inf}, {'batch_size': 1.0, 'degree': 5.0, 'gamma': 1.2915496650148826e-14, 'k_fold': 4.0, 'lambda': 1e-10, 'n_iters': 1000.0, 'seed': 0.0, 'mse_te': 0.4999999122742187, 'mse_tr': 0.49999989127821043}, {'batch_size': 1.0, 'degree': 6.0, 'gamma': 1.2915496650148826e-14, 'k_fold': 4.0, 'lambda': 1e-10, 'n_iters': 1000.0, 'seed': 0.0, 'mse_te': 0.4999977494438713, 'mse_tr': 0.4999969094940899}, {'batch_size': 1.0, 'degree': 7.0, 'gamma': 1.2915496650148826e-14, 'k_fold': 4.0, 'lambda': 1e-10, 'n_iters': 1000.0, 'seed': 0.0, 'mse_te': 0.4999405749568129, 'mse_tr': 0.49990484446574235}, {'batch_size': 1.0, 'degree': 8.0, 'gamma': 1.2915496650148826e-14, 'k_fold': 4.0, 'lambda': 1e-10, 'n_iters': 1000.0, 'seed': 0.0, 'mse_te': 0.49983371518275305, 'mse_tr': 0.49878677216995204}, {'batch_size': 1.0, 'degree': 9.0, 'gamma': 1.2915496650148826e-14, 'k_fold': 4.0, 'lambda': 1e-10, 'n_iters': 1000.0, 'seed': 0.0, 'mse_te': 2.9116323960426316, 'mse_tr': 3.49943238711928}, {'batch_size': 1.0, 'degree': 10.0, 'gamma': 1.2915496650148826e-14, 'k_fold': 4.0, 'lambda': 1e-10, 'n_iters': 1000.0, 'seed': 0.0, 'mse_te': 4303.274666033148, 'mse_tr': 5133.959674965708}, {'batch_size': 1.0, 'degree': 11.0, 'gamma': 1.2915496650148826e-14, 'k_fold': 4.0, 'lambda': 1e-10, 'n_iters': 1000.0, 'seed': 0.0, 'mse_te': 11417247.10230562, 'mse_tr': 13310827.996396873}, {'batch_size': 1.0, 'degree': 12.0, 'gamma': 1.2915496650148826e-14, 'k_fold': 4.0, 'lambda': 1e-10, 'n_iters': 1000.0, 'seed': 0.0, 'mse_te': inf, 'mse_tr': inf}, {'batch_size': 1.0, 'degree': 13.0, 'gamma': 1.2915496650148826e-14, 'k_fold': 4.0, 'lambda': 1e-10, 'n_iters': 1000.0, 'seed': 0.0, 'mse_te': inf, 'mse_tr': inf}, {'batch_size': 1.0, 'degree': 14.0, 'gamma': 1.2915496650148826e-14, 'k_fold': 4.0, 'lambda': 1e-10, 'n_iters': 1000.0, 'seed': 0.0, 'mse_te': inf, 'mse_tr': inf}, {'batch_size': 1.0, 'degree': 5.0, 'gamma': 4.6415888336127726e-14, 'k_fold': 4.0, 'lambda': 1e-10, 'n_iters': 1000.0, 'seed': 0.0, 'mse_te': 0.499999684735771, 'mse_tr': 0.49999960928148934}, {'batch_size': 1.0, 'degree': 6.0, 'gamma': 4.6415888336127726e-14, 'k_fold': 4.0, 'lambda': 1e-10, 'n_iters': 1000.0, 'seed': 0.0, 'mse_te': 0.49999191808698695, 'mse_tr': 0.49998890142680563}, {'batch_size': 1.0, 'degree': 7.0, 'gamma': 4.6415888336127726e-14, 'k_fold': 4.0, 'lambda': 1e-10, 'n_iters': 1000.0, 'seed': 0.0, 'mse_te': 0.49979489305035263, 'mse_tr': 0.49966966243240607}, {'batch_size': 1.0, 'degree': 8.0, 'gamma': 4.6415888336127726e-14, 'k_fold': 4.0, 'lambda': 1e-10, 'n_iters': 1000.0, 'seed': 0.0, 'mse_te': 0.511081866958774, 'mse_tr': 0.5113633451557376}, {'batch_size': 1.0, 'degree': 9.0, 'gamma': 4.6415888336127726e-14, 'k_fold': 4.0, 'lambda': 1e-10, 'n_iters': 1000.0, 'seed': 0.0, 'mse_te': 26.059894987458208, 'mse_tr': 32.10066283716587}, {'batch_size': 1.0, 'degree': 10.0, 'gamma': 4.6415888336127726e-14, 'k_fold': 4.0, 'lambda': 1e-10, 'n_iters': 1000.0, 'seed': 0.0, 'mse_te': 55029.10340868951, 'mse_tr': 66091.2440297277}, {'batch_size': 1.0, 'degree': 11.0, 'gamma': 4.6415888336127726e-14, 'k_fold': 4.0, 'lambda': 1e-10, 'n_iters': 1000.0, 'seed': 0.0, 'mse_te': inf, 'mse_tr': inf}, {'batch_size': 1.0, 'degree': 12.0, 'gamma': 4.6415888336127726e-14, 'k_fold': 4.0, 'lambda': 1e-10, 'n_iters': 1000.0, 'seed': 0.0, 'mse_te': inf, 'mse_tr': inf}, {'batch_size': 1.0, 'degree': 13.0, 'gamma': 4.6415888336127726e-14, 'k_fold': 4.0, 'lambda': 1e-10, 'n_iters': 1000.0, 'seed': 0.0, 'mse_te': inf, 'mse_tr': inf}, {'batch_size': 1.0, 'degree': 14.0, 'gamma': 4.6415888336127726e-14, 'k_fold': 4.0, 'lambda': 1e-10, 'n_iters': 1000.0, 'seed': 0.0, 'mse_te': inf, 'mse_tr': inf}, {'batch_size': 1.0, 'degree': 5.0, 'gamma': 1.6681005372000557e-13, 'k_fold': 4.0, 'lambda': 1e-10, 'n_iters': 1000.0, 'seed': 0.0, 'mse_te': 0.499998867075079, 'mse_tr': 0.4999985959253074}, {'batch_size': 1.0, 'degree': 6.0, 'gamma': 1.6681005372000557e-13, 'k_fold': 4.0, 'lambda': 1e-10, 'n_iters': 1000.0, 'seed': 0.0, 'mse_te': 0.49997103470237003, 'mse_tr': 0.4999602187215074}, {'batch_size': 1.0, 'degree': 7.0, 'gamma': 1.6681005372000557e-13, 'k_fold': 4.0, 'lambda': 1e-10, 'n_iters': 1000.0, 'seed': 0.0, 'mse_te': 0.4993689992762653, 'mse_tr': 0.4989588011288327}, {'batch_size': 1.0, 'degree': 8.0, 'gamma': 1.6681005372000557e-13, 'k_fold': 4.0, 'lambda': 1e-10, 'n_iters': 1000.0, 'seed': 0.0, 'mse_te': 0.6759583337950397, 'mse_tr': 0.7165494283471993}, {'batch_size': 1.0, 'degree': 9.0, 'gamma': 1.6681005372000557e-13, 'k_fold': 4.0, 'lambda': 1e-10, 'n_iters': 1000.0, 'seed': 0.0, 'mse_te': 285.6303617976421, 'mse_tr': 351.3627255249997}, {'batch_size': 1.0, 'degree': 10.0, 'gamma': 1.6681005372000557e-13, 'k_fold': 4.0, 'lambda': 1e-10, 'n_iters': 1000.0, 'seed': 0.0, 'mse_te': 712002.9260256791, 'mse_tr': 853710.9405460719}, {'batch_size': 1.0, 'degree': 11.0, 'gamma': 1.6681005372000557e-13, 'k_fold': 4.0, 'lambda': 1e-10, 'n_iters': 1000.0, 'seed': 0.0, 'mse_te': inf, 'mse_tr': inf}, {'batch_size': 1.0, 'degree': 12.0, 'gamma': 1.6681005372000557e-13, 'k_fold': 4.0, 'lambda': 1e-10, 'n_iters': 1000.0, 'seed': 0.0, 'mse_te': inf, 'mse_tr': inf}, {'batch_size': 1.0, 'degree': 13.0, 'gamma': 1.6681005372000557e-13, 'k_fold': 4.0, 'lambda': 1e-10, 'n_iters': 1000.0, 'seed': 0.0, 'mse_te': inf, 'mse_tr': inf}, {'batch_size': 1.0, 'degree': 14.0, 'gamma': 1.6681005372000557e-13, 'k_fold': 4.0, 'lambda': 1e-10, 'n_iters': 1000.0, 'seed': 0.0, 'mse_te': inf, 'mse_tr': inf}, {'batch_size': 1.0, 'degree': 5.0, 'gamma': 5.994842503189421e-13, 'k_fold': 4.0, 'lambda': 1e-10, 'n_iters': 1000.0, 'seed': 0.0, 'mse_te': 0.4999959294601063, 'mse_tr': 0.49999495524187876}, {'batch_size': 1.0, 'degree': 6.0, 'gamma': 5.994842503189421e-13, 'k_fold': 4.0, 'lambda': 1e-10, 'n_iters': 1000.0, 'seed': 0.0, 'mse_te': 0.4998969297802163, 'mse_tr': 0.49985838556485573}, {'batch_size': 1.0, 'degree': 7.0, 'gamma': 5.994842503189421e-13, 'k_fold': 4.0, 'lambda': 1e-10, 'n_iters': 1000.0, 'seed': 0.0, 'mse_te': 0.4989821701406717, 'mse_tr': 0.49796901254252934}, {'batch_size': 1.0, 'degree': 8.0, 'gamma': 5.994842503189421e-13, 'k_fold': 4.0, 'lambda': 1e-10, 'n_iters': 1000.0, 'seed': 0.0, 'mse_te': 2.5715130624649656, 'mse_tr': 3.1230521138337046}, {'batch_size': 1.0, 'degree': 9.0, 'gamma': 5.994842503189421e-13, 'k_fold': 4.0, 'lambda': 1e-10, 'n_iters': 1000.0, 'seed': 0.0, 'mse_te': 3661.8323107900846, 'mse_tr': 4497.09721022218}, {'batch_size': 1.0, 'degree': 10.0, 'gamma': 5.994842503189421e-13, 'k_fold': 4.0, 'lambda': 1e-10, 'n_iters': 1000.0, 'seed': 0.0, 'mse_te': inf, 'mse_tr': inf}, {'batch_size': 1.0, 'degree': 11.0, 'gamma': 5.994842503189421e-13, 'k_fold': 4.0, 'lambda': 1e-10, 'n_iters': 1000.0, 'seed': 0.0, 'mse_te': inf, 'mse_tr': inf}, {'batch_size': 1.0, 'degree': 12.0, 'gamma': 5.994842503189421e-13, 'k_fold': 4.0, 'lambda': 1e-10, 'n_iters': 1000.0, 'seed': 0.0, 'mse_te': inf, 'mse_tr': inf}, {'batch_size': 1.0, 'degree': 13.0, 'gamma': 5.994842503189421e-13, 'k_fold': 4.0, 'lambda': 1e-10, 'n_iters': 1000.0, 'seed': 0.0, 'mse_te': inf, 'mse_tr': inf}, {'batch_size': 1.0, 'degree': 14.0, 'gamma': 5.994842503189421e-13, 'k_fold': 4.0, 'lambda': 1e-10, 'n_iters': 1000.0, 'seed': 0.0, 'mse_te': inf, 'mse_tr': inf}, {'batch_size': 1.0, 'degree': 5.0, 'gamma': 2.1544346900318868e-12, 'k_fold': 4.0, 'lambda': 1e-10, 'n_iters': 1000.0, 'seed': 0.0, 'mse_te': 0.4999853839076937, 'mse_tr': 0.4999818858934234}, {'batch_size': 1.0, 'degree': 6.0, 'gamma': 2.1544346900318868e-12, 'k_fold': 4.0, 'lambda': 1e-10, 'n_iters': 1000.0, 'seed': 0.0, 'mse_te': 0.4996427254068277, 'mse_tr': 0.4995083834930131}, {'batch_size': 1.0, 'degree': 7.0, 'gamma': 2.1544346900318868e-12, 'k_fold': 4.0, 'lambda': 1e-10, 'n_iters': 1000.0, 'seed': 0.0, 'mse_te': 0.509970733137786, 'mse_tr': 0.5107954561520777}, {'batch_size': 1.0, 'degree': 8.0, 'gamma': 2.1544346900318868e-12, 'k_fold': 4.0, 'lambda': 1e-10, 'n_iters': 1000.0, 'seed': 0.0, 'mse_te': 22.30499374078247, 'mse_tr': 28.208746715552245}, {'batch_size': 1.0, 'degree': 9.0, 'gamma': 2.1544346900318868e-12, 'k_fold': 4.0, 'lambda': 1e-10, 'n_iters': 1000.0, 'seed': 0.0, 'mse_te': 47368.20257224483, 'mse_tr': 58017.478327183766}, {'batch_size': 1.0, 'degree': 10.0, 'gamma': 2.1544346900318868e-12, 'k_fold': 4.0, 'lambda': 1e-10, 'n_iters': 1000.0, 'seed': 0.0, 'mse_te': inf, 'mse_tr': inf}, {'batch_size': 1.0, 'degree': 11.0, 'gamma': 2.1544346900318868e-12, 'k_fold': 4.0, 'lambda': 1e-10, 'n_iters': 1000.0, 'seed': 0.0, 'mse_te': inf, 'mse_tr': inf}, {'batch_size': 1.0, 'degree': 12.0, 'gamma': 2.1544346900318868e-12, 'k_fold': 4.0, 'lambda': 1e-10, 'n_iters': 1000.0, 'seed': 0.0, 'mse_te': inf, 'mse_tr': inf}, {'batch_size': 1.0, 'degree': 13.0, 'gamma': 2.1544346900318868e-12, 'k_fold': 4.0, 'lambda': 1e-10, 'n_iters': 1000.0, 'seed': 0.0, 'mse_te': inf, 'mse_tr': inf}, {'batch_size': 1.0, 'degree': 14.0, 'gamma': 2.1544346900318868e-12, 'k_fold': 4.0, 'lambda': 1e-10, 'n_iters': 1000.0, 'seed': 0.0, 'mse_te': inf, 'mse_tr': inf}, {'batch_size': 1.0, 'degree': 5.0, 'gamma': 7.742636826811278e-12, 'k_fold': 4.0, 'lambda': 1e-10, 'n_iters': 1000.0, 'seed': 0.0, 'mse_te': 0.49994763599718767, 'mse_tr': 0.4999351053632377}, {'batch_size': 1.0, 'degree': 6.0, 'gamma': 7.742636826811278e-12, 'k_fold': 4.0, 'lambda': 1e-10, 'n_iters': 1000.0, 'seed': 0.0, 'mse_te': 0.4988809193814938, 'mse_tr': 0.4984503796309589}, {'batch_size': 1.0, 'degree': 7.0, 'gamma': 7.742636826811278e-12, 'k_fold': 4.0, 'lambda': 1e-10, 'n_iters': 1000.0, 'seed': 0.0, 'mse_te': 0.6788798486027388, 'mse_tr': 0.7241546710701663}, {'batch_size': 1.0, 'degree': 8.0, 'gamma': 7.742636826811278e-12, 'k_fold': 4.0, 'lambda': 1e-10, 'n_iters': 1000.0, 'seed': 0.0, 'mse_te': 265.4255394018211, 'mse_tr': 338.2775447426101}, {'batch_size': 1.0, 'degree': 9.0, 'gamma': 7.742636826811278e-12, 'k_fold': 4.0, 'lambda': 1e-10, 'n_iters': 1000.0, 'seed': 0.0, 'mse_te': 612445.8997631872, 'mse_tr': 749612.5734990033}, {'batch_size': 1.0, 'degree': 10.0, 'gamma': 7.742636826811278e-12, 'k_fold': 4.0, 'lambda': 1e-10, 'n_iters': 1000.0, 'seed': 0.0, 'mse_te': inf, 'mse_tr': inf}, {'batch_size': 1.0, 'degree': 11.0, 'gamma': 7.742636826811278e-12, 'k_fold': 4.0, 'lambda': 1e-10, 'n_iters': 1000.0, 'seed': 0.0, 'mse_te': inf, 'mse_tr': inf}, {'batch_size': 1.0, 'degree': 12.0, 'gamma': 7.742636826811278e-12, 'k_fold': 4.0, 'lambda': 1e-10, 'n_iters': 1000.0, 'seed': 0.0, 'mse_te': inf, 'mse_tr': inf}, {'batch_size': 1.0, 'degree': 13.0, 'gamma': 7.742636826811278e-12, 'k_fold': 4.0, 'lambda': 1e-10, 'n_iters': 1000.0, 'seed': 0.0, 'mse_te': inf, 'mse_tr': inf}, {'batch_size': 1.0, 'degree': 14.0, 'gamma': 7.742636826811278e-12, 'k_fold': 4.0, 'lambda': 1e-10, 'n_iters': 1000.0, 'seed': 0.0, 'mse_te': inf, 'mse_tr': inf}, {'batch_size': 1.0, 'degree': 5.0, 'gamma': 2.7825594022071258e-11, 'k_fold': 4.0, 'lambda': 1e-10, 'n_iters': 1000.0, 'seed': 0.0, 'mse_te': 0.49981391956539156, 'mse_tr': 0.4997694092408166}, {'batch_size': 1.0, 'degree': 6.0, 'gamma': 2.7825594022071258e-11, 'k_fold': 4.0, 'lambda': 1e-10, 'n_iters': 1000.0, 'seed': 0.0, 'mse_te': 0.49791066042234666, 'mse_tr': 0.49696297914908244}, {'batch_size': 1.0, 'degree': 7.0, 'gamma': 2.7825594022071258e-11, 'k_fold': 4.0, 'lambda': 1e-10, 'n_iters': 1000.0, 'seed': 0.0, 'mse_te': 2.555467153105643, 'mse_tr': 3.149353976410553}, {'batch_size': 1.0, 'degree': 8.0, 'gamma': 2.7825594022071258e-11, 'k_fold': 4.0, 'lambda': 1e-10, 'n_iters': 1000.0, 'seed': 0.0, 'mse_te': 3399.4108882799133, 'mse_tr': 4328.772432724114}, {'batch_size': 1.0, 'degree': 9.0, 'gamma': 2.7825594022071258e-11, 'k_fold': 4.0, 'lambda': 1e-10, 'n_iters': 1000.0, 'seed': 0.0, 'mse_te': inf, 'mse_tr': inf}, {'batch_size': 1.0, 'degree': 10.0, 'gamma': 2.7825594022071258e-11, 'k_fold': 4.0, 'lambda': 1e-10, 'n_iters': 1000.0, 'seed': 0.0, 'mse_te': inf, 'mse_tr': inf}, {'batch_size': 1.0, 'degree': 11.0, 'gamma': 2.7825594022071258e-11, 'k_fold': 4.0, 'lambda': 1e-10, 'n_iters': 1000.0, 'seed': 0.0, 'mse_te': inf, 'mse_tr': inf}, {'batch_size': 1.0, 'degree': 12.0, 'gamma': 2.7825594022071258e-11, 'k_fold': 4.0, 'lambda': 1e-10, 'n_iters': 1000.0, 'seed': 0.0, 'mse_te': inf, 'mse_tr': inf}, {'batch_size': 1.0, 'degree': 13.0, 'gamma': 2.7825594022071258e-11, 'k_fold': 4.0, 'lambda': 1e-10, 'n_iters': 1000.0, 'seed': 0.0, 'mse_te': inf, 'mse_tr': inf}, {'batch_size': 1.0, 'degree': 14.0, 'gamma': 2.7825594022071258e-11, 'k_fold': 4.0, 'lambda': 1e-10, 'n_iters': 1000.0, 'seed': 0.0, 'mse_te': inf, 'mse_tr': inf}, {'batch_size': 1.0, 'degree': 5.0, 'gamma': 1e-10, 'k_fold': 4.0, 'lambda': 1e-10, 'n_iters': 1000.0, 'seed': 0.0, 'mse_te': 0.49935819570259676, 'mse_tr': 0.49920490542280876}, {'batch_size': 1.0, 'degree': 6.0, 'gamma': 1e-10, 'k_fold': 4.0, 'lambda': 1e-10, 'n_iters': 1000.0, 'seed': 0.0, 'mse_te': 0.5123095287927109, 'mse_tr': 0.5145366673820144}, {'batch_size': 1.0, 'degree': 7.0, 'gamma': 1e-10, 'k_fold': 4.0, 'lambda': 1e-10, 'n_iters': 1000.0, 'seed': 0.0, 'mse_te': 23.61647961256744, 'mse_tr': 30.64096780568783}, {'batch_size': 1.0, 'degree': 8.0, 'gamma': 1e-10, 'k_fold': 4.0, 'lambda': 1e-10, 'n_iters': 1000.0, 'seed': 0.0, 'mse_te': 43859.49713325616, 'mse_tr': 55790.07913389243}, {'batch_size': 1.0, 'degree': 9.0, 'gamma': 1e-10, 'k_fold': 4.0, 'lambda': 1e-10, 'n_iters': 1000.0, 'seed': 0.0, 'mse_te': inf, 'mse_tr': inf}, {'batch_size': 1.0, 'degree': 10.0, 'gamma': 1e-10, 'k_fold': 4.0, 'lambda': 1e-10, 'n_iters': 1000.0, 'seed': 0.0, 'mse_te': inf, 'mse_tr': inf}, {'batch_size': 1.0, 'degree': 11.0, 'gamma': 1e-10, 'k_fold': 4.0, 'lambda': 1e-10, 'n_iters': 1000.0, 'seed': 0.0, 'mse_te': inf, 'mse_tr': inf}, {'batch_size': 1.0, 'degree': 12.0, 'gamma': 1e-10, 'k_fold': 4.0, 'lambda': 1e-10, 'n_iters': 1000.0, 'seed': 0.0, 'mse_te': inf, 'mse_tr': inf}, {'batch_size': 1.0, 'degree': 13.0, 'gamma': 1e-10, 'k_fold': 4.0, 'lambda': 1e-10, 'n_iters': 1000.0, 'seed': 0.0, 'mse_te': inf, 'mse_tr': inf}, {'batch_size': 1.0, 'degree': 14.0, 'gamma': 1e-10, 'k_fold': 4.0, 'lambda': 1e-10, 'n_iters': 1000.0, 'seed': 0.0, 'mse_te': inf, 'mse_tr': inf}, {'batch_size': 1.0, 'degree': 5.0, 'gamma': 1e-15, 'k_fold': 4.0, 'lambda': 1e-05, 'n_iters': 1000.0, 'seed': 0.0, 'mse_te': 0.49999999320766625, 'mse_tr': 0.4999999915820104}, {'batch_size': 1.0, 'degree': 6.0, 'gamma': 1e-15, 'k_fold': 4.0, 'lambda': 1e-05, 'n_iters': 1000.0, 'seed': 0.0, 'mse_te': 0.4999998257003512, 'mse_tr': 0.4999997606510462}, {'batch_size': 1.0, 'degree': 7.0, 'gamma': 1e-15, 'k_fold': 4.0, 'lambda': 1e-05, 'n_iters': 1000.0, 'seed': 0.0, 'mse_te': 0.4999953335812706, 'mse_tr': 0.4999925425399327}, {'batch_size': 1.0, 'degree': 8.0, 'gamma': 1e-15, 'k_fold': 4.0, 'lambda': 1e-05, 'n_iters': 1000.0, 'seed': 0.0, 'mse_te': 0.4998840460029312, 'mse_tr': 0.4997610510534121}, {'batch_size': 1.0, 'degree': 9.0, 'gamma': 1e-15, 'k_fold': 4.0, 'lambda': 1e-05, 'n_iters': 1000.0, 'seed': 0.0, 'mse_te': 0.5138117047071616, 'mse_tr': 0.5140159362387455}, {'batch_size': 1.0, 'degree': 10.0, 'gamma': 1e-15, 'k_fold': 4.0, 'lambda': 1e-05, 'n_iters': 1000.0, 'seed': 0.0, 'mse_te': 33.64180311159088, 'mse_tr': 40.876805694001234}, {'batch_size': 1.0, 'degree': 11.0, 'gamma': 1e-15, 'k_fold': 4.0, 'lambda': 1e-05, 'n_iters': 1000.0, 'seed': 0.0, 'mse_te': 68151.41234826084, 'mse_tr': 79707.15216490751}, {'batch_size': 1.0, 'degree': 12.0, 'gamma': 1e-15, 'k_fold': 4.0, 'lambda': 1e-05, 'n_iters': 1000.0, 'seed': 0.0, 'mse_te': inf, 'mse_tr': inf}, {'batch_size': 1.0, 'degree': 13.0, 'gamma': 1e-15, 'k_fold': 4.0, 'lambda': 1e-05, 'n_iters': 1000.0, 'seed': 0.0, 'mse_te': inf, 'mse_tr': inf}, {'batch_size': 1.0, 'degree': 14.0, 'gamma': 1e-15, 'k_fold': 4.0, 'lambda': 1e-05, 'n_iters': 1000.0, 'seed': 0.0, 'mse_te': inf, 'mse_tr': inf}, {'batch_size': 1.0, 'degree': 5.0, 'gamma': 3.593813663804626e-15, 'k_fold': 4.0, 'lambda': 1e-05, 'n_iters': 1000.0, 'seed': 0.0, 'mse_te': 0.4999999755896535, 'mse_tr': 0.499999969747358}, {'batch_size': 1.0, 'degree': 6.0, 'gamma': 3.593813663804626e-15, 'k_fold': 4.0, 'lambda': 1e-05, 'n_iters': 1000.0, 'seed': 0.0, 'mse_te': 0.49999937363651525, 'mse_tr': 0.4999991398732035}, {'batch_size': 1.0, 'degree': 7.0, 'gamma': 3.593813663804626e-15, 'k_fold': 4.0, 'lambda': 1e-05, 'n_iters': 1000.0, 'seed': 0.0, 'mse_te': 0.4999832809779807, 'mse_tr': 0.4999732697413525}, {'batch_size': 1.0, 'degree': 8.0, 'gamma': 3.593813663804626e-15, 'k_fold': 4.0, 'lambda': 1e-05, 'n_iters': 1000.0, 'seed': 0.0, 'mse_te': 0.499670302899258, 'mse_tr': 0.49926414336081065}, {'batch_size': 1.0, 'degree': 9.0, 'gamma': 3.593813663804626e-15, 'k_fold': 4.0, 'lambda': 1e-05, 'n_iters': 1000.0, 'seed': 0.0, 'mse_te': 0.6977322345660675, 'mse_tr': 0.7399362249105211}, {'batch_size': 1.0, 'degree': 10.0, 'gamma': 3.593813663804626e-15, 'k_fold': 4.0, 'lambda': 1e-05, 'n_iters': 1000.0, 'seed': 0.0, 'mse_te': 344.7739506212087, 'mse_tr': 412.42535089974956}, {'batch_size': 1.0, 'degree': 11.0, 'gamma': 3.593813663804626e-15, 'k_fold': 4.0, 'lambda': 1e-05, 'n_iters': 1000.0, 'seed': 0.0, 'mse_te': 883667.7363484579, 'mse_tr': 1030604.8638967811}, {'batch_size': 1.0, 'degree': 12.0, 'gamma': 3.593813663804626e-15, 'k_fold': 4.0, 'lambda': 1e-05, 'n_iters': 1000.0, 'seed': 0.0, 'mse_te': inf, 'mse_tr': inf}, {'batch_size': 1.0, 'degree': 13.0, 'gamma': 3.593813663804626e-15, 'k_fold': 4.0, 'lambda': 1e-05, 'n_iters': 1000.0, 'seed': 0.0, 'mse_te': inf, 'mse_tr': inf}, {'batch_size': 1.0, 'degree': 14.0, 'gamma': 3.593813663804626e-15, 'k_fold': 4.0, 'lambda': 1e-05, 'n_iters': 1000.0, 'seed': 0.0, 'mse_te': inf, 'mse_tr': inf}, {'batch_size': 1.0, 'degree': 5.0, 'gamma': 1.2915496650148826e-14, 'k_fold': 4.0, 'lambda': 1e-05, 'n_iters': 1000.0, 'seed': 0.0, 'mse_te': 0.4999999122742187, 'mse_tr': 0.49999989127821043}, {'batch_size': 1.0, 'degree': 6.0, 'gamma': 1.2915496650148826e-14, 'k_fold': 4.0, 'lambda': 1e-05, 'n_iters': 1000.0, 'seed': 0.0, 'mse_te': 0.4999977494438713, 'mse_tr': 0.4999969094940899}, {'batch_size': 1.0, 'degree': 7.0, 'gamma': 1.2915496650148826e-14, 'k_fold': 4.0, 'lambda': 1e-05, 'n_iters': 1000.0, 'seed': 0.0, 'mse_te': 0.4999405749568129, 'mse_tr': 0.49990484446574235}, {'batch_size': 1.0, 'degree': 8.0, 'gamma': 1.2915496650148826e-14, 'k_fold': 4.0, 'lambda': 1e-05, 'n_iters': 1000.0, 'seed': 0.0, 'mse_te': 0.49983371518275305, 'mse_tr': 0.49878677216995204}, {'batch_size': 1.0, 'degree': 9.0, 'gamma': 1.2915496650148826e-14, 'k_fold': 4.0, 'lambda': 1e-05, 'n_iters': 1000.0, 'seed': 0.0, 'mse_te': 2.9116323960426307, 'mse_tr': 3.4994323871192785}, {'batch_size': 1.0, 'degree': 10.0, 'gamma': 1.2915496650148826e-14, 'k_fold': 4.0, 'lambda': 1e-05, 'n_iters': 1000.0, 'seed': 0.0, 'mse_te': 4303.274666033147, 'mse_tr': 5133.959674965707}, {'batch_size': 1.0, 'degree': 11.0, 'gamma': 1.2915496650148826e-14, 'k_fold': 4.0, 'lambda': 1e-05, 'n_iters': 1000.0, 'seed': 0.0, 'mse_te': 11417247.10230562, 'mse_tr': 13310827.996396873}, {'batch_size': 1.0, 'degree': 12.0, 'gamma': 1.2915496650148826e-14, 'k_fold': 4.0, 'lambda': 1e-05, 'n_iters': 1000.0, 'seed': 0.0, 'mse_te': inf, 'mse_tr': inf}, {'batch_size': 1.0, 'degree': 13.0, 'gamma': 1.2915496650148826e-14, 'k_fold': 4.0, 'lambda': 1e-05, 'n_iters': 1000.0, 'seed': 0.0, 'mse_te': inf, 'mse_tr': inf}, {'batch_size': 1.0, 'degree': 14.0, 'gamma': 1.2915496650148826e-14, 'k_fold': 4.0, 'lambda': 1e-05, 'n_iters': 1000.0, 'seed': 0.0, 'mse_te': inf, 'mse_tr': inf}, {'batch_size': 1.0, 'degree': 5.0, 'gamma': 4.6415888336127726e-14, 'k_fold': 4.0, 'lambda': 1e-05, 'n_iters': 1000.0, 'seed': 0.0, 'mse_te': 0.499999684735771, 'mse_tr': 0.49999960928148934}, {'batch_size': 1.0, 'degree': 6.0, 'gamma': 4.6415888336127726e-14, 'k_fold': 4.0, 'lambda': 1e-05, 'n_iters': 1000.0, 'seed': 0.0, 'mse_te': 0.49999191808698695, 'mse_tr': 0.49998890142680563}, {'batch_size': 1.0, 'degree': 7.0, 'gamma': 4.6415888336127726e-14, 'k_fold': 4.0, 'lambda': 1e-05, 'n_iters': 1000.0, 'seed': 0.0, 'mse_te': 0.49979489305035263, 'mse_tr': 0.49966966243240607}, {'batch_size': 1.0, 'degree': 8.0, 'gamma': 4.6415888336127726e-14, 'k_fold': 4.0, 'lambda': 1e-05, 'n_iters': 1000.0, 'seed': 0.0, 'mse_te': 0.5110818669587739, 'mse_tr': 0.5113633451557376}, {'batch_size': 1.0, 'degree': 9.0, 'gamma': 4.6415888336127726e-14, 'k_fold': 4.0, 'lambda': 1e-05, 'n_iters': 1000.0, 'seed': 0.0, 'mse_te': 26.059894987458186, 'mse_tr': 32.10066283716585}, {'batch_size': 1.0, 'degree': 10.0, 'gamma': 4.6415888336127726e-14, 'k_fold': 4.0, 'lambda': 1e-05, 'n_iters': 1000.0, 'seed': 0.0, 'mse_te': 55029.10340868948, 'mse_tr': 66091.24402972768}, {'batch_size': 1.0, 'degree': 11.0, 'gamma': 4.6415888336127726e-14, 'k_fold': 4.0, 'lambda': 1e-05, 'n_iters': 1000.0, 'seed': 0.0, 'mse_te': inf, 'mse_tr': inf}, {'batch_size': 1.0, 'degree': 12.0, 'gamma': 4.6415888336127726e-14, 'k_fold': 4.0, 'lambda': 1e-05, 'n_iters': 1000.0, 'seed': 0.0, 'mse_te': inf, 'mse_tr': inf}, {'batch_size': 1.0, 'degree': 13.0, 'gamma': 4.6415888336127726e-14, 'k_fold': 4.0, 'lambda': 1e-05, 'n_iters': 1000.0, 'seed': 0.0, 'mse_te': inf, 'mse_tr': inf}, {'batch_size': 1.0, 'degree': 14.0, 'gamma': 4.6415888336127726e-14, 'k_fold': 4.0, 'lambda': 1e-05, 'n_iters': 1000.0, 'seed': 0.0, 'mse_te': inf, 'mse_tr': inf}, {'batch_size': 1.0, 'degree': 5.0, 'gamma': 1.6681005372000557e-13, 'k_fold': 4.0, 'lambda': 1e-05, 'n_iters': 1000.0, 'seed': 0.0, 'mse_te': 0.499998867075079, 'mse_tr': 0.4999985959253074}, {'batch_size': 1.0, 'degree': 6.0, 'gamma': 1.6681005372000557e-13, 'k_fold': 4.0, 'lambda': 1e-05, 'n_iters': 1000.0, 'seed': 0.0, 'mse_te': 0.49997103470237003, 'mse_tr': 0.4999602187215074}, {'batch_size': 1.0, 'degree': 7.0, 'gamma': 1.6681005372000557e-13, 'k_fold': 4.0, 'lambda': 1e-05, 'n_iters': 1000.0, 'seed': 0.0, 'mse_te': 0.4993689992762653, 'mse_tr': 0.4989588011288327}, {'batch_size': 1.0, 'degree': 8.0, 'gamma': 1.6681005372000557e-13, 'k_fold': 4.0, 'lambda': 1e-05, 'n_iters': 1000.0, 'seed': 0.0, 'mse_te': 0.6759583337950392, 'mse_tr': 0.7165494283471986}, {'batch_size': 1.0, 'degree': 9.0, 'gamma': 1.6681005372000557e-13, 'k_fold': 4.0, 'lambda': 1e-05, 'n_iters': 1000.0, 'seed': 0.0, 'mse_te': 285.6303617976415, 'mse_tr': 351.36272552499895}, {'batch_size': 1.0, 'degree': 10.0, 'gamma': 1.6681005372000557e-13, 'k_fold': 4.0, 'lambda': 1e-05, 'n_iters': 1000.0, 'seed': 0.0, 'mse_te': 712002.9260256777, 'mse_tr': 853710.9405460702}, {'batch_size': 1.0, 'degree': 11.0, 'gamma': 1.6681005372000557e-13, 'k_fold': 4.0, 'lambda': 1e-05, 'n_iters': 1000.0, 'seed': 0.0, 'mse_te': inf, 'mse_tr': inf}, {'batch_size': 1.0, 'degree': 12.0, 'gamma': 1.6681005372000557e-13, 'k_fold': 4.0, 'lambda': 1e-05, 'n_iters': 1000.0, 'seed': 0.0, 'mse_te': inf, 'mse_tr': inf}, {'batch_size': 1.0, 'degree': 13.0, 'gamma': 1.6681005372000557e-13, 'k_fold': 4.0, 'lambda': 1e-05, 'n_iters': 1000.0, 'seed': 0.0, 'mse_te': inf, 'mse_tr': inf}, {'batch_size': 1.0, 'degree': 14.0, 'gamma': 1.6681005372000557e-13, 'k_fold': 4.0, 'lambda': 1e-05, 'n_iters': 1000.0, 'seed': 0.0, 'mse_te': inf, 'mse_tr': inf}, {'batch_size': 1.0, 'degree': 5.0, 'gamma': 5.994842503189421e-13, 'k_fold': 4.0, 'lambda': 1e-05, 'n_iters': 1000.0, 'seed': 0.0, 'mse_te': 0.4999959294601063, 'mse_tr': 0.49999495524187876}, {'batch_size': 1.0, 'degree': 6.0, 'gamma': 5.994842503189421e-13, 'k_fold': 4.0, 'lambda': 1e-05, 'n_iters': 1000.0, 'seed': 0.0, 'mse_te': 0.4998969297802163, 'mse_tr': 0.49985838556485573}, {'batch_size': 1.0, 'degree': 7.0, 'gamma': 5.994842503189421e-13, 'k_fold': 4.0, 'lambda': 1e-05, 'n_iters': 1000.0, 'seed': 0.0, 'mse_te': 0.4989821701406717, 'mse_tr': 0.49796901254252934}, {'batch_size': 1.0, 'degree': 8.0, 'gamma': 5.994842503189421e-13, 'k_fold': 4.0, 'lambda': 1e-05, 'n_iters': 1000.0, 'seed': 0.0, 'mse_te': 2.571513062464952, 'mse_tr': 3.123052113833685}, {'batch_size': 1.0, 'degree': 9.0, 'gamma': 5.994842503189421e-13, 'k_fold': 4.0, 'lambda': 1e-05, 'n_iters': 1000.0, 'seed': 0.0, 'mse_te': 3661.832310790058, 'mse_tr': 4497.097210222146}, {'batch_size': 1.0, 'degree': 10.0, 'gamma': 5.994842503189421e-13, 'k_fold': 4.0, 'lambda': 1e-05, 'n_iters': 1000.0, 'seed': 0.0, 'mse_te': inf, 'mse_tr': inf}, {'batch_size': 1.0, 'degree': 11.0, 'gamma': 5.994842503189421e-13, 'k_fold': 4.0, 'lambda': 1e-05, 'n_iters': 1000.0, 'seed': 0.0, 'mse_te': inf, 'mse_tr': inf}, {'batch_size': 1.0, 'degree': 12.0, 'gamma': 5.994842503189421e-13, 'k_fold': 4.0, 'lambda': 1e-05, 'n_iters': 1000.0, 'seed': 0.0, 'mse_te': inf, 'mse_tr': inf}, {'batch_size': 1.0, 'degree': 13.0, 'gamma': 5.994842503189421e-13, 'k_fold': 4.0, 'lambda': 1e-05, 'n_iters': 1000.0, 'seed': 0.0, 'mse_te': inf, 'mse_tr': inf}, {'batch_size': 1.0, 'degree': 14.0, 'gamma': 5.994842503189421e-13, 'k_fold': 4.0, 'lambda': 1e-05, 'n_iters': 1000.0, 'seed': 0.0, 'mse_te': inf, 'mse_tr': inf}, {'batch_size': 1.0, 'degree': 5.0, 'gamma': 2.1544346900318868e-12, 'k_fold': 4.0, 'lambda': 1e-05, 'n_iters': 1000.0, 'seed': 0.0, 'mse_te': 0.4999853839076937, 'mse_tr': 0.4999818858934234}, {'batch_size': 1.0, 'degree': 6.0, 'gamma': 2.1544346900318868e-12, 'k_fold': 4.0, 'lambda': 1e-05, 'n_iters': 1000.0, 'seed': 0.0, 'mse_te': 0.49964272540682775, 'mse_tr': 0.4995083834930131}, {'batch_size': 1.0, 'degree': 7.0, 'gamma': 2.1544346900318868e-12, 'k_fold': 4.0, 'lambda': 1e-05, 'n_iters': 1000.0, 'seed': 0.0, 'mse_te': 0.5099707331377855, 'mse_tr': 0.5107954561520771}, {'batch_size': 1.0, 'degree': 8.0, 'gamma': 2.1544346900318868e-12, 'k_fold': 4.0, 'lambda': 1e-05, 'n_iters': 1000.0, 'seed': 0.0, 'mse_te': 22.30499374078194, 'mse_tr': 28.208746715551552}, {'batch_size': 1.0, 'degree': 9.0, 'gamma': 2.1544346900318868e-12, 'k_fold': 4.0, 'lambda': 1e-05, 'n_iters': 1000.0, 'seed': 0.0, 'mse_te': 47368.20257224355, 'mse_tr': 58017.47832718214}, {'batch_size': 1.0, 'degree': 10.0, 'gamma': 2.1544346900318868e-12, 'k_fold': 4.0, 'lambda': 1e-05, 'n_iters': 1000.0, 'seed': 0.0, 'mse_te': inf, 'mse_tr': inf}, {'batch_size': 1.0, 'degree': 11.0, 'gamma': 2.1544346900318868e-12, 'k_fold': 4.0, 'lambda': 1e-05, 'n_iters': 1000.0, 'seed': 0.0, 'mse_te': inf, 'mse_tr': inf}, {'batch_size': 1.0, 'degree': 12.0, 'gamma': 2.1544346900318868e-12, 'k_fold': 4.0, 'lambda': 1e-05, 'n_iters': 1000.0, 'seed': 0.0, 'mse_te': inf, 'mse_tr': inf}, {'batch_size': 1.0, 'degree': 13.0, 'gamma': 2.1544346900318868e-12, 'k_fold': 4.0, 'lambda': 1e-05, 'n_iters': 1000.0, 'seed': 0.0, 'mse_te': inf, 'mse_tr': inf}, {'batch_size': 1.0, 'degree': 14.0, 'gamma': 2.1544346900318868e-12, 'k_fold': 4.0, 'lambda': 1e-05, 'n_iters': 1000.0, 'seed': 0.0, 'mse_te': inf, 'mse_tr': inf}, {'batch_size': 1.0, 'degree': 5.0, 'gamma': 7.742636826811278e-12, 'k_fold': 4.0, 'lambda': 1e-05, 'n_iters': 1000.0, 'seed': 0.0, 'mse_te': 0.49994763599718767, 'mse_tr': 0.4999351053632377}, {'batch_size': 1.0, 'degree': 6.0, 'gamma': 7.742636826811278e-12, 'k_fold': 4.0, 'lambda': 1e-05, 'n_iters': 1000.0, 'seed': 0.0, 'mse_te': 0.49888091938149376, 'mse_tr': 0.49845037963095895}, {'batch_size': 1.0, 'degree': 7.0, 'gamma': 7.742636826811278e-12, 'k_fold': 4.0, 'lambda': 1e-05, 'n_iters': 1000.0, 'seed': 0.0, 'mse_te': 0.6788798486027211, 'mse_tr': 0.724154671070143}, {'batch_size': 1.0, 'degree': 8.0, 'gamma': 7.742636826811278e-12, 'k_fold': 4.0, 'lambda': 1e-05, 'n_iters': 1000.0, 'seed': 0.0, 'mse_te': 265.4255394017965, 'mse_tr': 338.27754474257756}, {'batch_size': 1.0, 'degree': 9.0, 'gamma': 7.742636826811278e-12, 'k_fold': 4.0, 'lambda': 1e-05, 'n_iters': 1000.0, 'seed': 0.0, 'mse_te': 612445.8997631229, 'mse_tr': 749612.573498921}, {'batch_size': 1.0, 'degree': 10.0, 'gamma': 7.742636826811278e-12, 'k_fold': 4.0, 'lambda': 1e-05, 'n_iters': 1000.0, 'seed': 0.0, 'mse_te': inf, 'mse_tr': inf}, {'batch_size': 1.0, 'degree': 11.0, 'gamma': 7.742636826811278e-12, 'k_fold': 4.0, 'lambda': 1e-05, 'n_iters': 1000.0, 'seed': 0.0, 'mse_te': inf, 'mse_tr': inf}, {'batch_size': 1.0, 'degree': 12.0, 'gamma': 7.742636826811278e-12, 'k_fold': 4.0, 'lambda': 1e-05, 'n_iters': 1000.0, 'seed': 0.0, 'mse_te': inf, 'mse_tr': inf}, {'batch_size': 1.0, 'degree': 13.0, 'gamma': 7.742636826811278e-12, 'k_fold': 4.0, 'lambda': 1e-05, 'n_iters': 1000.0, 'seed': 0.0, 'mse_te': inf, 'mse_tr': inf}, {'batch_size': 1.0, 'degree': 14.0, 'gamma': 7.742636826811278e-12, 'k_fold': 4.0, 'lambda': 1e-05, 'n_iters': 1000.0, 'seed': 0.0, 'mse_te': inf, 'mse_tr': inf}, {'batch_size': 1.0, 'degree': 5.0, 'gamma': 2.7825594022071258e-11, 'k_fold': 4.0, 'lambda': 1e-05, 'n_iters': 1000.0, 'seed': 0.0, 'mse_te': 0.49981391956539156, 'mse_tr': 0.4997694092408166}, {'batch_size': 1.0, 'degree': 6.0, 'gamma': 2.7825594022071258e-11, 'k_fold': 4.0, 'lambda': 1e-05, 'n_iters': 1000.0, 'seed': 0.0, 'mse_te': 0.49791066042234655, 'mse_tr': 0.4969629791490823}, {'batch_size': 1.0, 'degree': 7.0, 'gamma': 2.7825594022071258e-11, 'k_fold': 4.0, 'lambda': 1e-05, 'n_iters': 1000.0, 'seed': 0.0, 'mse_te': 2.5554671531049795, 'mse_tr': 3.149353976409658}, {'batch_size': 1.0, 'degree': 8.0, 'gamma': 2.7825594022071258e-11, 'k_fold': 4.0, 'lambda': 1e-05, 'n_iters': 1000.0, 'seed': 0.0, 'mse_te': 3399.4108882787536, 'mse_tr': 4328.772432722582}, {'batch_size': 1.0, 'degree': 9.0, 'gamma': 2.7825594022071258e-11, 'k_fold': 4.0, 'lambda': 1e-05, 'n_iters': 1000.0, 'seed': 0.0, 'mse_te': inf, 'mse_tr': inf}, {'batch_size': 1.0, 'degree': 10.0, 'gamma': 2.7825594022071258e-11, 'k_fold': 4.0, 'lambda': 1e-05, 'n_iters': 1000.0, 'seed': 0.0, 'mse_te': inf, 'mse_tr': inf}, {'batch_size': 1.0, 'degree': 11.0, 'gamma': 2.7825594022071258e-11, 'k_fold': 4.0, 'lambda': 1e-05, 'n_iters': 1000.0, 'seed': 0.0, 'mse_te': inf, 'mse_tr': inf}, {'batch_size': 1.0, 'degree': 12.0, 'gamma': 2.7825594022071258e-11, 'k_fold': 4.0, 'lambda': 1e-05, 'n_iters': 1000.0, 'seed': 0.0, 'mse_te': inf, 'mse_tr': inf}, {'batch_size': 1.0, 'degree': 13.0, 'gamma': 2.7825594022071258e-11, 'k_fold': 4.0, 'lambda': 1e-05, 'n_iters': 1000.0, 'seed': 0.0, 'mse_te': inf, 'mse_tr': inf}, {'batch_size': 1.0, 'degree': 14.0, 'gamma': 2.7825594022071258e-11, 'k_fold': 4.0, 'lambda': 1e-05, 'n_iters': 1000.0, 'seed': 0.0, 'mse_te': inf, 'mse_tr': inf}, {'batch_size': 1.0, 'degree': 5.0, 'gamma': 1e-10, 'k_fold': 4.0, 'lambda': 1e-05, 'n_iters': 1000.0, 'seed': 0.0, 'mse_te': 0.499358195702597, 'mse_tr': 0.49920490542280915}, {'batch_size': 1.0, 'degree': 6.0, 'gamma': 1e-10, 'k_fold': 4.0, 'lambda': 1e-05, 'n_iters': 1000.0, 'seed': 0.0, 'mse_te': 0.5123095287926895, 'mse_tr': 0.5145366673819867}, {'batch_size': 1.0, 'degree': 7.0, 'gamma': 1e-10, 'k_fold': 4.0, 'lambda': 1e-05, 'n_iters': 1000.0, 'seed': 0.0, 'mse_te': 23.61647961254109, 'mse_tr': 30.640967805651925}, {'batch_size': 1.0, 'degree': 8.0, 'gamma': 1e-10, 'k_fold': 4.0, 'lambda': 1e-05, 'n_iters': 1000.0, 'seed': 0.0, 'mse_te': 43859.497133202036, 'mse_tr': 55790.079133821}, {'batch_size': 1.0, 'degree': 9.0, 'gamma': 1e-10, 'k_fold': 4.0, 'lambda': 1e-05, 'n_iters': 1000.0, 'seed': 0.0, 'mse_te': inf, 'mse_tr': inf}, {'batch_size': 1.0, 'degree': 10.0, 'gamma': 1e-10, 'k_fold': 4.0, 'lambda': 1e-05, 'n_iters': 1000.0, 'seed': 0.0, 'mse_te': inf, 'mse_tr': inf}, {'batch_size': 1.0, 'degree': 11.0, 'gamma': 1e-10, 'k_fold': 4.0, 'lambda': 1e-05, 'n_iters': 1000.0, 'seed': 0.0, 'mse_te': inf, 'mse_tr': inf}, {'batch_size': 1.0, 'degree': 12.0, 'gamma': 1e-10, 'k_fold': 4.0, 'lambda': 1e-05, 'n_iters': 1000.0, 'seed': 0.0, 'mse_te': inf, 'mse_tr': inf}, {'batch_size': 1.0, 'degree': 13.0, 'gamma': 1e-10, 'k_fold': 4.0, 'lambda': 1e-05, 'n_iters': 1000.0, 'seed': 0.0, 'mse_te': inf, 'mse_tr': inf}, {'batch_size': 1.0, 'degree': 14.0, 'gamma': 1e-10, 'k_fold': 4.0, 'lambda': 1e-05, 'n_iters': 1000.0, 'seed': 0.0, 'mse_te': inf, 'mse_tr': inf}, {'batch_size': 1.0, 'degree': 5.0, 'gamma': 1e-15, 'k_fold': 4.0, 'lambda': 1.0, 'n_iters': 1000.0, 'seed': 0.0, 'mse_te': 0.49999999320766625, 'mse_tr': 0.4999999915820104}, {'batch_size': 1.0, 'degree': 6.0, 'gamma': 1e-15, 'k_fold': 4.0, 'lambda': 1.0, 'n_iters': 1000.0, 'seed': 0.0, 'mse_te': 0.4999998257003512, 'mse_tr': 0.4999997606510462}, {'batch_size': 1.0, 'degree': 7.0, 'gamma': 1e-15, 'k_fold': 4.0, 'lambda': 1.0, 'n_iters': 1000.0, 'seed': 0.0, 'mse_te': 0.4999953335812706, 'mse_tr': 0.4999925425399327}, {'batch_size': 1.0, 'degree': 8.0, 'gamma': 1e-15, 'k_fold': 4.0, 'lambda': 1.0, 'n_iters': 1000.0, 'seed': 0.0, 'mse_te': 0.4998840460029311, 'mse_tr': 0.49976105105341223}, {'batch_size': 1.0, 'degree': 9.0, 'gamma': 1e-15, 'k_fold': 4.0, 'lambda': 1.0, 'n_iters': 1000.0, 'seed': 0.0, 'mse_te': 0.51381170470714, 'mse_tr': 0.5140159362387194}, {'batch_size': 1.0, 'degree': 10.0, 'gamma': 1e-15, 'k_fold': 4.0, 'lambda': 1.0, 'n_iters': 1000.0, 'seed': 0.0, 'mse_te': 33.64180311154614, 'mse_tr': 40.87680569394455}, {'batch_size': 1.0, 'degree': 11.0, 'gamma': 1e-15, 'k_fold': 4.0, 'lambda': 1.0, 'n_iters': 1000.0, 'seed': 0.0, 'mse_te': 68151.41234817042, 'mse_tr': 79707.15216479554}, {'batch_size': 1.0, 'degree': 12.0, 'gamma': 1e-15, 'k_fold': 4.0, 'lambda': 1.0, 'n_iters': 1000.0, 'seed': 0.0, 'mse_te': inf, 'mse_tr': inf}, {'batch_size': 1.0, 'degree': 13.0, 'gamma': 1e-15, 'k_fold': 4.0, 'lambda': 1.0, 'n_iters': 1000.0, 'seed': 0.0, 'mse_te': inf, 'mse_tr': inf}, {'batch_size': 1.0, 'degree': 14.0, 'gamma': 1e-15, 'k_fold': 4.0, 'lambda': 1.0, 'n_iters': 1000.0, 'seed': 0.0, 'mse_te': inf, 'mse_tr': inf}, {'batch_size': 1.0, 'degree': 5.0, 'gamma': 3.593813663804626e-15, 'k_fold': 4.0, 'lambda': 1.0, 'n_iters': 1000.0, 'seed': 0.0, 'mse_te': 0.4999999755896535, 'mse_tr': 0.499999969747358}, {'batch_size': 1.0, 'degree': 6.0, 'gamma': 3.593813663804626e-15, 'k_fold': 4.0, 'lambda': 1.0, 'n_iters': 1000.0, 'seed': 0.0, 'mse_te': 0.49999937363651525, 'mse_tr': 0.4999991398732035}, {'batch_size': 1.0, 'degree': 7.0, 'gamma': 3.593813663804626e-15, 'k_fold': 4.0, 'lambda': 1.0, 'n_iters': 1000.0, 'seed': 0.0, 'mse_te': 0.4999832809779807, 'mse_tr': 0.49997326974135253}, {'batch_size': 1.0, 'degree': 8.0, 'gamma': 3.593813663804626e-15, 'k_fold': 4.0, 'lambda': 1.0, 'n_iters': 1000.0, 'seed': 0.0, 'mse_te': 0.499670302899258, 'mse_tr': 0.49926414336081143}, {'batch_size': 1.0, 'degree': 9.0, 'gamma': 3.593813663804626e-15, 'k_fold': 4.0, 'lambda': 1.0, 'n_iters': 1000.0, 'seed': 0.0, 'mse_te': 0.6977322345650794, 'mse_tr': 0.7399362249092594}, {'batch_size': 1.0, 'degree': 10.0, 'gamma': 3.593813663804626e-15, 'k_fold': 4.0, 'lambda': 1.0, 'n_iters': 1000.0, 'seed': 0.0, 'mse_te': 344.7739506195745, 'mse_tr': 412.42535089770547}, {'batch_size': 1.0, 'degree': 11.0, 'gamma': 3.593813663804626e-15, 'k_fold': 4.0, 'lambda': 1.0, 'n_iters': 1000.0, 'seed': 0.0, 'mse_te': 883667.7363442297, 'mse_tr': 1030604.8638915516}, {'batch_size': 1.0, 'degree': 12.0, 'gamma': 3.593813663804626e-15, 'k_fold': 4.0, 'lambda': 1.0, 'n_iters': 1000.0, 'seed': 0.0, 'mse_te': inf, 'mse_tr': inf}, {'batch_size': 1.0, 'degree': 13.0, 'gamma': 3.593813663804626e-15, 'k_fold': 4.0, 'lambda': 1.0, 'n_iters': 1000.0, 'seed': 0.0, 'mse_te': inf, 'mse_tr': inf}, {'batch_size': 1.0, 'degree': 14.0, 'gamma': 3.593813663804626e-15, 'k_fold': 4.0, 'lambda': 1.0, 'n_iters': 1000.0, 'seed': 0.0, 'mse_te': inf, 'mse_tr': inf}, {'batch_size': 1.0, 'degree': 5.0, 'gamma': 1.2915496650148826e-14, 'k_fold': 4.0, 'lambda': 1.0, 'n_iters': 1000.0, 'seed': 0.0, 'mse_te': 0.4999999122742187, 'mse_tr': 0.49999989127821043}, {'batch_size': 1.0, 'degree': 6.0, 'gamma': 1.2915496650148826e-14, 'k_fold': 4.0, 'lambda': 1.0, 'n_iters': 1000.0, 'seed': 0.0, 'mse_te': 0.4999977494438713, 'mse_tr': 0.4999969094940899}, {'batch_size': 1.0, 'degree': 7.0, 'gamma': 1.2915496650148826e-14, 'k_fold': 4.0, 'lambda': 1.0, 'n_iters': 1000.0, 'seed': 0.0, 'mse_te': 0.49994057495681316, 'mse_tr': 0.49990484446574296}, {'batch_size': 1.0, 'degree': 8.0, 'gamma': 1.2915496650148826e-14, 'k_fold': 4.0, 'lambda': 1.0, 'n_iters': 1000.0, 'seed': 0.0, 'mse_te': 0.49983371518273695, 'mse_tr': 0.49878677216994005}, {'batch_size': 1.0, 'degree': 9.0, 'gamma': 1.2915496650148826e-14, 'k_fold': 4.0, 'lambda': 1.0, 'n_iters': 1000.0, 'seed': 0.0, 'mse_te': 2.911632396001118, 'mse_tr': 3.4994323870656023}, {'batch_size': 1.0, 'degree': 10.0, 'gamma': 1.2915496650148826e-14, 'k_fold': 4.0, 'lambda': 1.0, 'n_iters': 1000.0, 'seed': 0.0, 'mse_te': 4303.274665958083, 'mse_tr': 5133.959674873182}, {'batch_size': 1.0, 'degree': 11.0, 'gamma': 1.2915496650148826e-14, 'k_fold': 4.0, 'lambda': 1.0, 'n_iters': 1000.0, 'seed': 0.0, 'mse_te': 11417247.102109373, 'mse_tr': 13310827.996154357}, {'batch_size': 1.0, 'degree': 12.0, 'gamma': 1.2915496650148826e-14, 'k_fold': 4.0, 'lambda': 1.0, 'n_iters': 1000.0, 'seed': 0.0, 'mse_te': inf, 'mse_tr': inf}, {'batch_size': 1.0, 'degree': 13.0, 'gamma': 1.2915496650148826e-14, 'k_fold': 4.0, 'lambda': 1.0, 'n_iters': 1000.0, 'seed': 0.0, 'mse_te': inf, 'mse_tr': inf}, {'batch_size': 1.0, 'degree': 14.0, 'gamma': 1.2915496650148826e-14, 'k_fold': 4.0, 'lambda': 1.0, 'n_iters': 1000.0, 'seed': 0.0, 'mse_te': inf, 'mse_tr': inf}, {'batch_size': 1.0, 'degree': 5.0, 'gamma': 4.6415888336127726e-14, 'k_fold': 4.0, 'lambda': 1.0, 'n_iters': 1000.0, 'seed': 0.0, 'mse_te': 0.499999684735771, 'mse_tr': 0.49999960928148934}, {'batch_size': 1.0, 'degree': 6.0, 'gamma': 4.6415888336127726e-14, 'k_fold': 4.0, 'lambda': 1.0, 'n_iters': 1000.0, 'seed': 0.0, 'mse_te': 0.4999919180869872, 'mse_tr': 0.49998890142680585}, {'batch_size': 1.0, 'degree': 7.0, 'gamma': 4.6415888336127726e-14, 'k_fold': 4.0, 'lambda': 1.0, 'n_iters': 1000.0, 'seed': 0.0, 'mse_te': 0.49979489305035607, 'mse_tr': 0.49966966243241295}, {'batch_size': 1.0, 'degree': 8.0, 'gamma': 4.6415888336127726e-14, 'k_fold': 4.0, 'lambda': 1.0, 'n_iters': 1000.0, 'seed': 0.0, 'mse_te': 0.5110818669579054, 'mse_tr': 0.5113633451546808}, {'batch_size': 1.0, 'degree': 9.0, 'gamma': 4.6415888336127726e-14, 'k_fold': 4.0, 'lambda': 1.0, 'n_iters': 1000.0, 'seed': 0.0, 'mse_te': 26.05989498592307, 'mse_tr': 32.100662835192736}, {'batch_size': 1.0, 'degree': 10.0, 'gamma': 4.6415888336127726e-14, 'k_fold': 4.0, 'lambda': 1.0, 'n_iters': 1000.0, 'seed': 0.0, 'mse_te': 55029.10340530449, 'mse_tr': 66091.24402546172}, {'batch_size': 1.0, 'degree': 11.0, 'gamma': 4.6415888336127726e-14, 'k_fold': 4.0, 'lambda': 1.0, 'n_iters': 1000.0, 'seed': 0.0, 'mse_te': inf, 'mse_tr': inf}, {'batch_size': 1.0, 'degree': 12.0, 'gamma': 4.6415888336127726e-14, 'k_fold': 4.0, 'lambda': 1.0, 'n_iters': 1000.0, 'seed': 0.0, 'mse_te': inf, 'mse_tr': inf}, {'batch_size': 1.0, 'degree': 13.0, 'gamma': 4.6415888336127726e-14, 'k_fold': 4.0, 'lambda': 1.0, 'n_iters': 1000.0, 'seed': 0.0, 'mse_te': inf, 'mse_tr': inf}, {'batch_size': 1.0, 'degree': 14.0, 'gamma': 4.6415888336127726e-14, 'k_fold': 4.0, 'lambda': 1.0, 'n_iters': 1000.0, 'seed': 0.0, 'mse_te': inf, 'mse_tr': inf}, {'batch_size': 1.0, 'degree': 5.0, 'gamma': 1.6681005372000557e-13, 'k_fold': 4.0, 'lambda': 1.0, 'n_iters': 1000.0, 'seed': 0.0, 'mse_te': 0.499998867075079, 'mse_tr': 0.4999985959253074}, {'batch_size': 1.0, 'degree': 6.0, 'gamma': 1.6681005372000557e-13, 'k_fold': 4.0, 'lambda': 1.0, 'n_iters': 1000.0, 'seed': 0.0, 'mse_te': 0.499971034702372, 'mse_tr': 0.49996021872151053}, {'batch_size': 1.0, 'degree': 7.0, 'gamma': 1.6681005372000557e-13, 'k_fold': 4.0, 'lambda': 1.0, 'n_iters': 1000.0, 'seed': 0.0, 'mse_te': 0.49936899927628925, 'mse_tr': 0.49895880112889407}, {'batch_size': 1.0, 'degree': 8.0, 'gamma': 1.6681005372000557e-13, 'k_fold': 4.0, 'lambda': 1.0, 'n_iters': 1000.0, 'seed': 0.0, 'mse_te': 0.675958333755627, 'mse_tr': 0.71654942829612}, {'batch_size': 1.0, 'degree': 9.0, 'gamma': 1.6681005372000557e-13, 'k_fold': 4.0, 'lambda': 1.0, 'n_iters': 1000.0, 'seed': 0.0, 'mse_te': 285.63036173655723, 'mse_tr': 351.36272544636165}, {'batch_size': 1.0, 'degree': 10.0, 'gamma': 1.6681005372000557e-13, 'k_fold': 4.0, 'lambda': 1.0, 'n_iters': 1000.0, 'seed': 0.0, 'mse_te': 712002.925868501, 'mse_tr': 853710.9403482642}, {'batch_size': 1.0, 'degree': 11.0, 'gamma': 1.6681005372000557e-13, 'k_fold': 4.0, 'lambda': 1.0, 'n_iters': 1000.0, 'seed': 0.0, 'mse_te': inf, 'mse_tr': inf}, {'batch_size': 1.0, 'degree': 12.0, 'gamma': 1.6681005372000557e-13, 'k_fold': 4.0, 'lambda': 1.0, 'n_iters': 1000.0, 'seed': 0.0, 'mse_te': inf, 'mse_tr': inf}, {'batch_size': 1.0, 'degree': 13.0, 'gamma': 1.6681005372000557e-13, 'k_fold': 4.0, 'lambda': 1.0, 'n_iters': 1000.0, 'seed': 0.0, 'mse_te': inf, 'mse_tr': inf}, {'batch_size': 1.0, 'degree': 14.0, 'gamma': 1.6681005372000557e-13, 'k_fold': 4.0, 'lambda': 1.0, 'n_iters': 1000.0, 'seed': 0.0, 'mse_te': inf, 'mse_tr': inf}, {'batch_size': 1.0, 'degree': 5.0, 'gamma': 5.994842503189421e-13, 'k_fold': 4.0, 'lambda': 1.0, 'n_iters': 1000.0, 'seed': 0.0, 'mse_te': 0.49999592946010735, 'mse_tr': 0.4999949552418802}, {'batch_size': 1.0, 'degree': 6.0, 'gamma': 5.994842503189421e-13, 'k_fold': 4.0, 'lambda': 1.0, 'n_iters': 1000.0, 'seed': 0.0, 'mse_te': 0.4998969297802422, 'mse_tr': 0.49985838556489554}, {'batch_size': 1.0, 'degree': 7.0, 'gamma': 5.994842503189421e-13, 'k_fold': 4.0, 'lambda': 1.0, 'n_iters': 1000.0, 'seed': 0.0, 'mse_te': 0.49898217014015356, 'mse_tr': 0.49796901254216364}, {'batch_size': 1.0, 'degree': 8.0, 'gamma': 5.994842503189421e-13, 'k_fold': 4.0, 'lambda': 1.0, 'n_iters': 1000.0, 'seed': 0.0, 'mse_te': 2.571513060886049, 'mse_tr': 3.1230521117566328}, {'batch_size': 1.0, 'degree': 9.0, 'gamma': 5.994842503189421e-13, 'k_fold': 4.0, 'lambda': 1.0, 'n_iters': 1000.0, 'seed': 0.0, 'mse_te': 3661.832307963612, 'mse_tr': 4497.097206593147}, {'batch_size': 1.0, 'degree': 10.0, 'gamma': 5.994842503189421e-13, 'k_fold': 4.0, 'lambda': 1.0, 'n_iters': 1000.0, 'seed': 0.0, 'mse_te': inf, 'mse_tr': inf}, {'batch_size': 1.0, 'degree': 11.0, 'gamma': 5.994842503189421e-13, 'k_fold': 4.0, 'lambda': 1.0, 'n_iters': 1000.0, 'seed': 0.0, 'mse_te': inf, 'mse_tr': inf}, {'batch_size': 1.0, 'degree': 12.0, 'gamma': 5.994842503189421e-13, 'k_fold': 4.0, 'lambda': 1.0, 'n_iters': 1000.0, 'seed': 0.0, 'mse_te': inf, 'mse_tr': inf}, {'batch_size': 1.0, 'degree': 13.0, 'gamma': 5.994842503189421e-13, 'k_fold': 4.0, 'lambda': 1.0, 'n_iters': 1000.0, 'seed': 0.0, 'mse_te': inf, 'mse_tr': inf}, {'batch_size': 1.0, 'degree': 14.0, 'gamma': 5.994842503189421e-13, 'k_fold': 4.0, 'lambda': 1.0, 'n_iters': 1000.0, 'seed': 0.0, 'mse_te': inf, 'mse_tr': inf}, {'batch_size': 1.0, 'degree': 5.0, 'gamma': 2.1544346900318868e-12, 'k_fold': 4.0, 'lambda': 1.0, 'n_iters': 1000.0, 'seed': 0.0, 'mse_te': 0.49998538390770764, 'mse_tr': 0.4999818858934417}, {'batch_size': 1.0, 'degree': 6.0, 'gamma': 2.1544346900318868e-12, 'k_fold': 4.0, 'lambda': 1.0, 'n_iters': 1000.0, 'seed': 0.0, 'mse_te': 0.4996427254071334, 'mse_tr': 0.4995083834934879}, {'batch_size': 1.0, 'degree': 7.0, 'gamma': 2.1544346900318868e-12, 'k_fold': 4.0, 'lambda': 1.0, 'n_iters': 1000.0, 'seed': 0.0, 'mse_te': 0.5099707330992483, 'mse_tr': 0.5107954561037231}, {'batch_size': 1.0, 'degree': 8.0, 'gamma': 2.1544346900318868e-12, 'k_fold': 4.0, 'lambda': 1.0, 'n_iters': 1000.0, 'seed': 0.0, 'mse_te': 22.30499368301587, 'mse_tr': 28.208746639167853}, {'batch_size': 1.0, 'degree': 9.0, 'gamma': 2.1544346900318868e-12, 'k_fold': 4.0, 'lambda': 1.0, 'n_iters': 1000.0, 'seed': 0.0, 'mse_te': 47368.2024409258, 'mse_tr': 58017.47815897686}, {'batch_size': 1.0, 'degree': 10.0, 'gamma': 2.1544346900318868e-12, 'k_fold': 4.0, 'lambda': 1.0, 'n_iters': 1000.0, 'seed': 0.0, 'mse_te': inf, 'mse_tr': inf}, {'batch_size': 1.0, 'degree': 11.0, 'gamma': 2.1544346900318868e-12, 'k_fold': 4.0, 'lambda': 1.0, 'n_iters': 1000.0, 'seed': 0.0, 'mse_te': inf, 'mse_tr': inf}, {'batch_size': 1.0, 'degree': 12.0, 'gamma': 2.1544346900318868e-12, 'k_fold': 4.0, 'lambda': 1.0, 'n_iters': 1000.0, 'seed': 0.0, 'mse_te': inf, 'mse_tr': inf}, {'batch_size': 1.0, 'degree': 13.0, 'gamma': 2.1544346900318868e-12, 'k_fold': 4.0, 'lambda': 1.0, 'n_iters': 1000.0, 'seed': 0.0, 'mse_te': inf, 'mse_tr': inf}, {'batch_size': 1.0, 'degree': 14.0, 'gamma': 2.1544346900318868e-12, 'k_fold': 4.0, 'lambda': 1.0, 'n_iters': 1000.0, 'seed': 0.0, 'mse_te': inf, 'mse_tr': inf}, {'batch_size': 1.0, 'degree': 5.0, 'gamma': 7.742636826811278e-12, 'k_fold': 4.0, 'lambda': 1.0, 'n_iters': 1000.0, 'seed': 0.0, 'mse_te': 0.4999476359973666, 'mse_tr': 0.4999351053634735}, {'batch_size': 1.0, 'degree': 6.0, 'gamma': 7.742636826811278e-12, 'k_fold': 4.0, 'lambda': 1.0, 'n_iters': 1000.0, 'seed': 0.0, 'mse_te': 0.49888091938416623, 'mse_tr': 0.4984503796353381}, {'batch_size': 1.0, 'degree': 7.0, 'gamma': 7.742636826811278e-12, 'k_fold': 4.0, 'lambda': 1.0, 'n_iters': 1000.0, 'seed': 0.0, 'mse_te': 0.6788798468570049, 'mse_tr': 0.7241546687614934}, {'batch_size': 1.0, 'degree': 8.0, 'gamma': 7.742636826811278e-12, 'k_fold': 4.0, 'lambda': 1.0, 'n_iters': 1000.0, 'seed': 0.0, 'mse_te': 265.4255368773425, 'mse_tr': 338.2775413961784}, {'batch_size': 1.0, 'degree': 9.0, 'gamma': 7.742636826811278e-12, 'k_fold': 4.0, 'lambda': 1.0, 'n_iters': 1000.0, 'seed': 0.0, 'mse_te': 612445.8936653192, 'mse_tr': 749612.5656907131}, {'batch_size': 1.0, 'degree': 10.0, 'gamma': 7.742636826811278e-12, 'k_fold': 4.0, 'lambda': 1.0, 'n_iters': 1000.0, 'seed': 0.0, 'mse_te': inf, 'mse_tr': inf}, {'batch_size': 1.0, 'degree': 11.0, 'gamma': 7.742636826811278e-12, 'k_fold': 4.0, 'lambda': 1.0, 'n_iters': 1000.0, 'seed': 0.0, 'mse_te': inf, 'mse_tr': inf}, {'batch_size': 1.0, 'degree': 12.0, 'gamma': 7.742636826811278e-12, 'k_fold': 4.0, 'lambda': 1.0, 'n_iters': 1000.0, 'seed': 0.0, 'mse_te': inf, 'mse_tr': inf}, {'batch_size': 1.0, 'degree': 13.0, 'gamma': 7.742636826811278e-12, 'k_fold': 4.0, 'lambda': 1.0, 'n_iters': 1000.0, 'seed': 0.0, 'mse_te': inf, 'mse_tr': inf}, {'batch_size': 1.0, 'degree': 14.0, 'gamma': 7.742636826811278e-12, 'k_fold': 4.0, 'lambda': 1.0, 'n_iters': 1000.0, 'seed': 0.0, 'mse_te': inf, 'mse_tr': inf}, {'batch_size': 1.0, 'degree': 5.0, 'gamma': 2.7825594022071258e-11, 'k_fold': 4.0, 'lambda': 1.0, 'n_iters': 1000.0, 'seed': 0.0, 'mse_te': 0.4998139195676477, 'mse_tr': 0.499769409243791}, {'batch_size': 1.0, 'degree': 6.0, 'gamma': 2.7825594022071258e-11, 'k_fold': 4.0, 'lambda': 1.0, 'n_iters': 1000.0, 'seed': 0.0, 'mse_te': 0.4979106604043108, 'mse_tr': 0.49696297913361}, {'batch_size': 1.0, 'degree': 7.0, 'gamma': 2.7825594022071258e-11, 'k_fold': 4.0, 'lambda': 1.0, 'n_iters': 1000.0, 'seed': 0.0, 'mse_te': 2.555467086079419, 'mse_tr': 3.1493538860960277}, {'batch_size': 1.0, 'degree': 8.0, 'gamma': 2.7825594022071258e-11, 'k_fold': 4.0, 'lambda': 1.0, 'n_iters': 1000.0, 'seed': 0.0, 'mse_te': 3399.410771672841, 'mse_tr': 4328.772278497494}, {'batch_size': 1.0, 'degree': 9.0, 'gamma': 2.7825594022071258e-11, 'k_fold': 4.0, 'lambda': 1.0, 'n_iters': 1000.0, 'seed': 0.0, 'mse_te': inf, 'mse_tr': inf}, {'batch_size': 1.0, 'degree': 10.0, 'gamma': 2.7825594022071258e-11, 'k_fold': 4.0, 'lambda': 1.0, 'n_iters': 1000.0, 'seed': 0.0, 'mse_te': inf, 'mse_tr': inf}, {'batch_size': 1.0, 'degree': 11.0, 'gamma': 2.7825594022071258e-11, 'k_fold': 4.0, 'lambda': 1.0, 'n_iters': 1000.0, 'seed': 0.0, 'mse_te': inf, 'mse_tr': inf}, {'batch_size': 1.0, 'degree': 12.0, 'gamma': 2.7825594022071258e-11, 'k_fold': 4.0, 'lambda': 1.0, 'n_iters': 1000.0, 'seed': 0.0, 'mse_te': inf, 'mse_tr': inf}, {'batch_size': 1.0, 'degree': 13.0, 'gamma': 2.7825594022071258e-11, 'k_fold': 4.0, 'lambda': 1.0, 'n_iters': 1000.0, 'seed': 0.0, 'mse_te': inf, 'mse_tr': inf}, {'batch_size': 1.0, 'degree': 14.0, 'gamma': 2.7825594022071258e-11, 'k_fold': 4.0, 'lambda': 1.0, 'n_iters': 1000.0, 'seed': 0.0, 'mse_te': inf, 'mse_tr': inf}, {'batch_size': 1.0, 'degree': 5.0, 'gamma': 1e-10, 'k_fold': 4.0, 'lambda': 1.0, 'n_iters': 1000.0, 'seed': 0.0, 'mse_te': 0.49935819572925333, 'mse_tr': 0.4992049054579638}, {'batch_size': 1.0, 'degree': 6.0, 'gamma': 1e-10, 'k_fold': 4.0, 'lambda': 1.0, 'n_iters': 1000.0, 'seed': 0.0, 'mse_te': 0.5123095266604106, 'mse_tr': 0.5145366646175984}, {'batch_size': 1.0, 'degree': 7.0, 'gamma': 1e-10, 'k_fold': 4.0, 'lambda': 1.0, 'n_iters': 1000.0, 'seed': 0.0, 'mse_te': 23.61647697638059, 'mse_tr': 30.640964213119375}, {'batch_size': 1.0, 'degree': 8.0, 'gamma': 1e-10, 'k_fold': 4.0, 'lambda': 1.0, 'n_iters': 1000.0, 'seed': 0.0, 'mse_te': 43859.49171498454, 'mse_tr': 55790.07198110596}, {'batch_size': 1.0, 'degree': 9.0, 'gamma': 1e-10, 'k_fold': 4.0, 'lambda': 1.0, 'n_iters': 1000.0, 'seed': 0.0, 'mse_te': inf, 'mse_tr': inf}, {'batch_size': 1.0, 'degree': 10.0, 'gamma': 1e-10, 'k_fold': 4.0, 'lambda': 1.0, 'n_iters': 1000.0, 'seed': 0.0, 'mse_te': inf, 'mse_tr': inf}, {'batch_size': 1.0, 'degree': 11.0, 'gamma': 1e-10, 'k_fold': 4.0, 'lambda': 1.0, 'n_iters': 1000.0, 'seed': 0.0, 'mse_te': inf, 'mse_tr': inf}, {'batch_size': 1.0, 'degree': 12.0, 'gamma': 1e-10, 'k_fold': 4.0, 'lambda': 1.0, 'n_iters': 1000.0, 'seed': 0.0, 'mse_te': inf, 'mse_tr': inf}, {'batch_size': 1.0, 'degree': 13.0, 'gamma': 1e-10, 'k_fold': 4.0, 'lambda': 1.0, 'n_iters': 1000.0, 'seed': 0.0, 'mse_te': inf, 'mse_tr': inf}, {'batch_size': 1.0, 'degree': 14.0, 'gamma': 1e-10, 'k_fold': 4.0, 'lambda': 1.0, 'n_iters': 1000.0, 'seed': 0.0, 'mse_te': inf, 'mse_tr': inf}]\n",
      "(array([281]),)\n"
     ]
    },
    {
     "data": {
      "text/plain": [
       "{'batch_size': 1.0,\n",
       " 'degree': 6.0,\n",
       " 'gamma': 2.7825594022071258e-11,\n",
       " 'k_fold': 4.0,\n",
       " 'lambda': 1.0,\n",
       " 'n_iters': 1000.0,\n",
       " 'seed': 0.0,\n",
       " 'mse_te': 0.4979106604043108,\n",
       " 'mse_tr': 0.49696297913361}"
      ]
     },
     "execution_count": 7,
     "metadata": {},
     "output_type": "execute_result"
    }
   ],
   "source": [
    "myModel = CrossValidationModel(Reg_Logistic_Regression_Model2())\n",
    "\n",
    "n_iters = [1000]\n",
    "batch_size = [1]\n",
    "degrees = np.arange(5,15)\n",
    "gammas = np.logspace(-15, -10, 10)\n",
    "lambdas = np.logspace(-10, 0, 3)\n",
    "\n",
    "hs={\n",
    "    'n_iters': n_iters,\n",
    "    'batch_size': batch_size,\n",
    "    'degree': degrees,\n",
    "    'gamma': gammas,\n",
    "    'lambda': lambdas,\n",
    "    'k_fold': [4],\n",
    "    'seed': [0]\n",
    "}\n",
    "\n",
    "res = myModel.evaluate(x, y, hs, filename=CACHE_DIR+'Reg_Logistic_Regression_Explo')\n",
    "\n",
    "print(res)\n",
    "\n",
    "#plot_heatmap(res, hs, 'mse_te', 'degree', 'gamma')\n",
    "\n",
    "#res_mse = np.vectorize(lambda x: x['mse'])(res)\n",
    "#x_axis = np.unique(np.vectorize(lambda x: x['gamma'])(res))\n",
    "#y_axis = np.unique(np.vectorize(lambda x: x['degree'])(res))\n",
    "\n",
    "#plot_heatmap(res, hs, 'mse', 'degree', 'gamma')\n",
    "find_arg_min(res, 'mse_te')"
   ]
  },
  {
   "cell_type": "code",
   "execution_count": null,
   "metadata": {},
   "outputs": [],
   "source": []
  }
 ],
 "metadata": {
  "kernelspec": {
   "display_name": "Python 3",
   "language": "python",
   "name": "python3"
  },
  "language_info": {
   "codemirror_mode": {
    "name": "ipython",
    "version": 3
   },
   "file_extension": ".py",
   "mimetype": "text/x-python",
   "name": "python",
   "nbconvert_exporter": "python",
   "pygments_lexer": "ipython3",
   "version": "3.6.5"
  }
 },
 "nbformat": 4,
 "nbformat_minor": 2
}
