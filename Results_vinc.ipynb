{
 "cells": [
  {
   "cell_type": "code",
   "execution_count": 1,
   "metadata": {},
   "outputs": [],
   "source": [
    "%run algebra.py\n",
    "%run cache.py\n",
    "%run costs.py\n",
    "%run features.py\n",
    "%run gradients.py\n",
    "%run helpers.py\n",
    "%run model.py\n",
    "%run models.py\n",
    "%run splits.py\n",
    "\n",
    "import numpy as np\n",
    "import matplotlib.mlab as mlab\n",
    "import matplotlib.pyplot as plt\n",
    "import csv\n",
    "import numpy as np\n",
    "import warnings\n",
    "warnings.filterwarnings('ignore')"
   ]
  },
  {
   "cell_type": "code",
   "execution_count": 2,
   "metadata": {},
   "outputs": [],
   "source": [
    "SUB_SAMPLE = True\n",
    "OUTPUT_DIR = \"results_test/\" if SUB_SAMPLE else \"results/\""
   ]
  },
  {
   "cell_type": "code",
   "execution_count": 3,
   "metadata": {},
   "outputs": [],
   "source": [
    "def load_csv_data(data_path, sub_sample=True):\n",
    "    \"\"\"Loads data and returns y (class labels), tX (features) and ids (event ids)\"\"\"\n",
    "    y = np.genfromtxt(data_path, delimiter=\",\", skip_header=1, dtype=str, usecols=1)\n",
    "    x = np.genfromtxt(data_path, delimiter=\",\", skip_header=1)\n",
    "    ids = x[:, 0].astype(np.int)\n",
    "    input_data = x[:, 2:]\n",
    "\n",
    "    # convert class labels from strings to binary (-1,1)\n",
    "    yb = np.ones(len(y))\n",
    "    yb[np.where(y=='b')] = -1\n",
    "\n",
    "    # sub-sample\n",
    "    if sub_sample:\n",
    "        yb = yb[::50]\n",
    "        input_data = input_data[::50]\n",
    "        ids = ids[::50]\n",
    "\n",
    "    return yb, input_data, ids"
   ]
  },
  {
   "cell_type": "code",
   "execution_count": 4,
   "metadata": {
    "scrolled": true
   },
   "outputs": [],
   "source": [
    "y, x, ids = load_csv_data('data/train.csv', SUB_SAMPLE)"
   ]
  },
  {
   "cell_type": "markdown",
   "metadata": {},
   "source": [
    "# 1 - Only Using Clean Features"
   ]
  },
  {
   "cell_type": "code",
   "execution_count": 5,
   "metadata": {},
   "outputs": [],
   "source": [
    "def plot_heatmap(res, hs, value, x, y):\n",
    "    val = np.vectorize(lambda x: x[value])(res)\n",
    "    \n",
    "    index = 0\n",
    "    \n",
    "    for key in sorted(hs.keys()):\n",
    "        if key == x or key == y:\n",
    "            index = index + 1\n",
    "        else:\n",
    "            val = np.apply_along_axis(np.mean, index, val)        \n",
    "    \n",
    "    ax = plt.imshow(1 / val, cmap='hot', interpolation='none')\n",
    "    plt.show()\n",
    "\n",
    "def find_arg_min(res, value):\n",
    "    val = np.vectorize(lambda x: x[value])(res)\n",
    "    index = np.where(val == val.min())\n",
    "\n",
    "    print(res[tuple([i[0] for i in index])])"
   ]
  },
  {
   "cell_type": "markdown",
   "metadata": {},
   "source": [
    "### Ridge Regression with Fixed Degree"
   ]
  },
  {
   "cell_type": "code",
   "execution_count": 8,
   "metadata": {
    "scrolled": true
   },
   "outputs": [
    {
     "data": {
      "image/png": "[encoded data removed]",
      "text/plain": [
       "<Figure size 432x288 with 1 Axes>"
      ]
     },
     "metadata": {
      "needs_background": "light"
     },
     "output_type": "display_data"
    },
    {
     "data": {
      "text/plain": [
       "{'degree': 12.0, 'lambda': 2.1544346900318823e-05, 'mse': 0.27156314426523304}"
      ]
     },
     "execution_count": 8,
     "metadata": {},
     "output_type": "execute_result"
    }
   ],
   "source": [
    "myModel = RidgeRegression_MSE_Degree_Model(x, y)\n",
    "\n",
    "res = myModel.evaluate(hs={ \n",
    "    'degree': np.arange(30), \n",
    "    'lambda': np.logspace(-8, -2, 10)\n",
    "}, filename=OUTPUT_DIR+'RidgeRegression_MSE_Degree_Model')\n",
    "\n",
    "res_mse = np.vectorize(lambda x: x['mse'])(res)\n",
    "\n",
    "plt.imshow(1 / res_mse, cmap='hot', interpolation='nearest')\n",
    "plt.show()\n",
    "\n",
    "ii = np.where(res_mse == res_mse.min())\n",
    "i, j = ii[0][0], ii[1][0]\n",
    "\n",
    "res[i, j]"
   ]
  },
  {
   "cell_type": "markdown",
   "metadata": {},
   "source": [
    "### Least Squares"
   ]
  },
  {
   "cell_type": "code",
   "execution_count": 9,
   "metadata": {},
   "outputs": [
    {
     "data": {
      "image/png": "[encoded data removed]",
      "text/plain": [
       "<Figure size 432x288 with 1 Axes>"
      ]
     },
     "metadata": {
      "needs_background": "light"
     },
     "output_type": "display_data"
    },
    {
     "data": {
      "text/plain": [
       "{'degree': 12.0, 'mse': 0.27188712714910396}"
      ]
     },
     "execution_count": 9,
     "metadata": {},
     "output_type": "execute_result"
    }
   ],
   "source": [
    "myModel = LeastSquare_MSE_Degree_Model(x, y)\n",
    "\n",
    "degrees = np.arange(15)\n",
    "\n",
    "hs={ \n",
    "    'degree': degrees\n",
    "}\n",
    "\n",
    "res = myModel.evaluate(hs, filename=OUTPUT_DIR+'LeastSquare_MSE_Degree_Model')\n",
    "\n",
    "res_mse = np.vectorize(lambda x: x['mse'])(res)\n",
    "\n",
    "plt.figure(2)\n",
    "plt.plot(degrees, res_mse, 'r')\n",
    "plt.xlabel('Degrees')\n",
    "plt.ylabel('Error')\n",
    "plt.show()\n",
    "\n",
    "ii = np.where(res_mse == res_mse.min())\n",
    "i = ii[0][0]\n",
    "\n",
    "res[i]"
   ]
  },
  {
   "cell_type": "markdown",
   "metadata": {},
   "source": [
    "### Stochastic Gradient Descent"
   ]
  },
  {
   "cell_type": "code",
   "execution_count": 20,
   "metadata": {},
   "outputs": [
    {
     "data": {
      "image/png": "[encoded data removed]",
      "text/plain": [
       "<Figure size 432x288 with 1 Axes>"
      ]
     },
     "metadata": {
      "needs_background": "light"
     },
     "output_type": "display_data"
    },
    {
     "name": "stdout",
     "output_type": "stream",
     "text": [
      "{'batch_size': 1.0, 'degree': 1.0, 'gamma': 0.01, 'n_iters': 100.0, 'mse': 0.4142108130994235}\n"
     ]
    }
   ],
   "source": [
    "myModel = StochasticGradientDescent_MSE_Degree_Model(x, y)\n",
    "\n",
    "n_iters = 100\n",
    "batch_size = 1\n",
    "gammas = np.logspace(-10, -2, 20)\n",
    "degrees = np.arange(5)\n",
    "\n",
    "hs={\n",
    "    'batch_size': batch_size,\n",
    "    'n_iters': n_iters,\n",
    "    'degree': degrees,\n",
    "    'gamma': gammas\n",
    "}\n",
    "\n",
    "res = myModel.evaluate(hs, filename='results/SGD_Degree_Gamma_Variation_Model')\n",
    "\n",
    "res_mse = np.vectorize(lambda x: x['mse'])(res)\n",
    "\n",
    "plot_heatmap(res, hs, 'mse', 'degree', 'gamma')\n",
    "find_arg_min(res, 'mse')"
   ]
  },
  {
   "cell_type": "markdown",
   "metadata": {},
   "source": [
    "### Lasso SGD with Fixed Gamma "
   ]
  },
  {
   "cell_type": "code",
   "execution_count": 28,
   "metadata": {
    "scrolled": true
   },
   "outputs": [
    {
     "data": {
      "image/png": "[encoded data removed]",
      "text/plain": [
       "<Figure size 432x288 with 1 Axes>"
      ]
     },
     "metadata": {
      "needs_background": "light"
     },
     "output_type": "display_data"
    },
    {
     "name": "stdout",
     "output_type": "stream",
     "text": [
      "{'batch_size': 1.0, 'degree': 3.0, 'gamma': 1e-05, 'lambda': 2.1544346900318866e-09, 'n_iters': 100.0, 'mse': 0.49402108398968503}\n"
     ]
    }
   ],
   "source": [
    "myModel = Lasso_SGD_MSE_Degree_Model(x, y)\n",
    "\n",
    "n_iters = 100\n",
    "batch_size = 1\n",
    "gamma = 10**-5\n",
    "degrees = np.arange(4)\n",
    "lambdas = np.logspace(-10, -4, 10)\n",
    "\n",
    "hs={\n",
    "    'n_iters': n_iters,\n",
    "    'batch_size': batch_size,\n",
    "    'gamma': gamma,\n",
    "    'degree': degrees,\n",
    "    'lambda': lambdas\n",
    "}\n",
    "\n",
    "res = myModel.evaluate(hs, filename=OUTPUT_DIR+'Lasso_SGD_Degree_Lambda_Variation_Model')\n",
    "\n",
    "res_mse = np.vectorize(lambda x: x['mse'])(res)\n",
    "\n",
    "plot_heatmap(res, hs, 'mse', 'degree', 'lambda')\n",
    "find_arg_min(res, 'mse')"
   ]
  },
  {
   "cell_type": "markdown",
   "metadata": {},
   "source": [
    "### Logistic Regression"
   ]
  },
  {
   "cell_type": "code",
   "execution_count": 7,
   "metadata": {
    "scrolled": true
   },
   "outputs": [
    {
     "data": {
      "image/png": "[encoded data removed]",
      "text/plain": [
       "<Figure size 432x288 with 1 Axes>"
      ]
     },
     "metadata": {},
     "output_type": "display_data"
    },
    {
     "name": "stdout",
     "output_type": "stream",
     "text": [
      "{'batch_size': 1.0, 'degree': 4.0, 'gamma': 2.1544346900318867e-07, 'n_iters': 10.0, 'mse': 0.4989238339106781}\n"
     ]
    }
   ],
   "source": [
    "myModel = First_Order_Logistic_Regression_Model(x, y)\n",
    "\n",
    "n_iters = 10\n",
    "batch_size = 1\n",
    "degrees = np.arange(12)\n",
    "gammas = np.logspace(-10, -5, 10)\n",
    "\n",
    "hs={\n",
    "    'n_iters': n_iters,\n",
    "    'batch_size': batch_size,\n",
    "    'degree': degrees,\n",
    "    'gamma': gammas\n",
    "}\n",
    "\n",
    "res = myModel.evaluate(hs, filename=OUTPUT_DIR+'Logistic_Regression_Degree_Lambda_Variation_Model')\n",
    "\n",
    "res_mse = np.vectorize(lambda x: x['mse'])(res)\n",
    "\n",
    "plot_heatmap(res, hs, 'mse', 'degree', 'gamma')\n",
    "find_arg_min(res, 'mse')"
   ]
  },
  {
   "cell_type": "markdown",
   "metadata": {},
   "source": [
    "### Second Order Logistic Regression"
   ]
  },
  {
   "cell_type": "code",
   "execution_count": 12,
   "metadata": {},
   "outputs": [
    {
     "name": "stdout",
     "output_type": "stream",
     "text": [
      "{'batch_size': 5.0, 'degree': 3.0, 'gamma': 1e-10, 'n_iters': 10.0, 'mse': 0.4999720754881264}\n"
     ]
    },
    {
     "data": {
      "image/png": "[encoded data removed]",
      "text/plain": [
       "<Figure size 432x288 with 1 Axes>"
      ]
     },
     "metadata": {},
     "output_type": "display_data"
    }
   ],
   "source": [
    "myModel = Second_Order_Logistic_Regression_Model(x, y)\n",
    "\n",
    "n_iters = 10\n",
    "batch_size = np.arange(3,10)\n",
    "degrees = 3\n",
    "gammas = 10**-10\n",
    "\n",
    "hs={\n",
    "    'n_iters': n_iters,\n",
    "    'batch_size': batch_size,\n",
    "    'degree': degrees,\n",
    "    'gamma': gammas\n",
    "}\n",
    "\n",
    "res = myModel.evaluate(hs, filename=OUTPUT_DIR+'SecondOrd_Logistic_Regression_Degree_Lambda_Variation_Model')\n",
    "\n",
    "res_mse = np.vectorize(lambda x: x['mse'])(res)\n",
    "\n",
    "#plot_heatmap(res, hs, 'mse', 'degree', 'gamma')\n",
    "plt.plot(batch_size, res_mse.flatten())\n",
    "find_arg_min(res, 'mse')"
   ]
  },
  {
   "cell_type": "code",
   "execution_count": null,
   "metadata": {},
   "outputs": [],
   "source": []
  }
 ],
 "metadata": {
  "kernelspec": {
   "display_name": "Python 3",
   "language": "python",
   "name": "python3"
  },
  "language_info": {
   "codemirror_mode": {
    "name": "ipython",
    "version": 3
   },
   "file_extension": ".py",
   "mimetype": "text/x-python",
   "name": "python",
   "nbconvert_exporter": "python",
   "pygments_lexer": "ipython3",
   "version": "3.6.5"
  }
 },
 "nbformat": 4,
 "nbformat_minor": 2
}
