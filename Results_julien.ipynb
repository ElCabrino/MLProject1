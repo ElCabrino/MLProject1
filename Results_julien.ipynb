{
 "cells": [
  {
   "cell_type": "code",
   "execution_count": 75,
   "metadata": {},
   "outputs": [
    {
     "name": "stdout",
     "output_type": "stream",
     "text": [
      "The autoreload extension is already loaded. To reload it, use:\n",
      "  %reload_ext autoreload\n"
     ]
    }
   ],
   "source": [
    "%load_ext autoreload\n",
    "%autoreload 2\n",
    "\n",
    "from algebra import *\n",
    "from cache import *\n",
    "from costs import *\n",
    "from features import *\n",
    "from gradients import *\n",
    "from helpers import *\n",
    "from model import *\n",
    "from splits import *\n",
    "\n",
    "import numpy as np\n",
    "import matplotlib.mlab as mlab\n",
    "import matplotlib.pyplot as plt\n",
    "import csv\n",
    "import warnings\n",
    "warnings.filterwarnings('ignore')"
   ]
  },
  {
   "cell_type": "code",
   "execution_count": 76,
   "metadata": {},
   "outputs": [],
   "source": [
    "SUB_SAMPLE = False\n",
    "CACHE_DIR = \"test/cache/\" if SUB_SAMPLE else \"cache/\"\n",
    "SUBMISSIONS_DIR = \"test/submissions/\" if SUB_SAMPLE else \"submissions/\""
   ]
  },
  {
   "cell_type": "code",
   "execution_count": 77,
   "metadata": {},
   "outputs": [],
   "source": [
    "y, x, ids = load_csv_data('data/train.csv', SUB_SAMPLE)"
   ]
  },
  {
   "cell_type": "markdown",
   "metadata": {},
   "source": [
    "# 1 - Analytical Results"
   ]
  },
  {
   "cell_type": "markdown",
   "metadata": {},
   "source": [
    "### Ridge Regression with Fixed Degree"
   ]
  },
  {
   "cell_type": "markdown",
   "metadata": {},
   "source": [
    "##### Without Validation"
   ]
  },
  {
   "cell_type": "code",
   "execution_count": 57,
   "metadata": {},
   "outputs": [],
   "source": [
    "def clean_standardize_expand(y, x, h):\n",
    "        \n",
    "    degree = int(h['degree'])\n",
    "\n",
    "    x = remove_errors(x)\n",
    "    x = remove_outliers(x)\n",
    "    x = standardize_all(x)\n",
    "    x = remove_nan_features(x)\n",
    "    x = build_poly(x, degree)\n",
    "\n",
    "    return y, x\n",
    "\n",
    "def ridge_regression_analytical(y, x, h):\n",
    "\n",
    "    lambda_ = float(h['lambda'])\n",
    "    degree = int(h['degree'])\n",
    "\n",
    "    w = ridge_regression(y, x, lambda_)\n",
    "    \n",
    "    return {\n",
    "        'w': w,\n",
    "        'mse': compute_mse(y, x, w)\n",
    "    }\n",
    "\n",
    "def ridge_mse(y, x, w, h):\n",
    "\n",
    "    lambda_ = float(h['lambda'])\n",
    "    \n",
    "    mse = compute_mse(y, x, w)\n",
    "    ridge_norm = np.linalg.norm(w, 2) * lambda_\n",
    "        \n",
    "    return {\n",
    "        'mse': mse,\n",
    "        'ridge_norm': ridge_norm,\n",
    "        'total_loss': mse + ridge_norm,\n",
    "        'n_err': compute_error_count(predict_values)(y, x, w)\n",
    "    }\n",
    "    "
   ]
  },
  {
   "cell_type": "code",
   "execution_count": null,
   "metadata": {},
   "outputs": [],
   "source": [
    "hs = { \n",
    "    'degree': [5, 6, 7], \n",
    "    'lambda': 1e-4,\n",
    "}\n",
    "\n",
    "_ = evaluate(\n",
    "    clean = clean_standardize_expand, \n",
    "    fit   = ridge_regression_analytical, \n",
    "    x     = x, \n",
    "    y     = y, \n",
    "    hs    = hs, \n",
    "    cache = CACHE_DIR + 'clean_standardize_expand_ridge_regression_analytical'\n",
    ")"
   ]
  },
  {
   "cell_type": "markdown",
   "metadata": {},
   "source": [
    "##### Using Cross-Validation\n",
    "\n",
    "Here, we implement the same model with cross-validation."
   ]
  },
  {
   "cell_type": "code",
   "execution_count": null,
   "metadata": {},
   "outputs": [],
   "source": [
    "hs = { \n",
    "    'degree': np.arange(4, 16), \n",
    "    'lambda': np.logspace(-8, -4, 5),\n",
    "    'k_fold': 4,\n",
    "    'seed': 0\n",
    "}\n",
    "\n",
    "def mse(y, x, w):\n",
    "    return { 'mse' : compute_mse(y, x, w) }\n",
    "\n",
    "\n",
    "\n",
    "evaluate(\n",
    "    clean = cross_validate(ridge_regression_analytical, mse), \n",
    "    fit   = fit_function, \n",
    "    x     = x,\n",
    "    y     = y, \n",
    "    hs    = hs, \n",
    "    cache = CACHE_DIR + 'clean_standardize_expand_cross_validate_ridge_regression_analytical_mse'\n",
    ")"
   ]
  },
  {
   "cell_type": "code",
   "execution_count": null,
   "metadata": {},
   "outputs": [],
   "source": [
    "# myModel.predict(best_h, x, y, SUBMISSIONS_DIR + 'RidgeRegression_MSE_FixedDegree_CrossValidation_Model')"
   ]
  },
  {
   "cell_type": "markdown",
   "metadata": {},
   "source": [
    "## Gradient Descents\n",
    "\n",
    "#### Least Square"
   ]
  },
  {
   "cell_type": "markdown",
   "metadata": {},
   "source": [
    "#### Ridge Regression"
   ]
  },
  {
   "cell_type": "markdown",
   "metadata": {},
   "source": [
    "#### Lasso"
   ]
  },
  {
   "cell_type": "markdown",
   "metadata": {},
   "source": [
    "# Logistic Regression"
   ]
  },
  {
   "cell_type": "code",
   "execution_count": 18,
   "metadata": {},
   "outputs": [],
   "source": [
    "def map_logistic(clean):\n",
    "    \n",
    "    def inner_function(y, x, h):\n",
    "        y, x = clean(y, x, h)\n",
    "        y = np.where(y == 1, 1, 0)\n",
    "        return y, x\n",
    "    \n",
    "    return inner_function\n",
    "\n",
    "def logistic_gradient(y, x, w, h):\n",
    "    \n",
    "    return compute_logistic_gradient(y, x, w)\n",
    "            \n",
    "def logistic_error(y, x, w, h):\n",
    "    \n",
    "    return { \n",
    "        'logistic_err': compute_logistic_error(y, x, w),\n",
    "        'n_err': compute_error_count(predict_logistic)(y, x, w)\n",
    "    }\n",
    "\n",
    "def logistic_gradient_ridge(y, x, w, h):\n",
    "    \n",
    "    lambda_ = h['lambda']\n",
    "    \n",
    "    return compute_logistic_gradient(y, x, w) + lambda_ * w\n",
    "\n",
    "def logistic_error_and_ridge(y, x, w, h):\n",
    "    \n",
    "    lambda_ = h['lambda']\n",
    "    \n",
    "    ridge_norm = np.linalg.norm(w, 2) * lambda_\n",
    "    logistic_err = compute_logistic_error(y, x, w)\n",
    "    n_err = compute_error_count(predict_logistic)(y, x, w)\n",
    "    \n",
    "    return {\n",
    "        'logistic_err': logistic_err,\n",
    "        'ridge_norm': ridge_norm,\n",
    "        'total_loss': logistic_err + ridge_norm,\n",
    "        'n_err': n_err\n",
    "    }\n",
    "\n",
    "def logistic_gradient_lasso(y, x, w, h):\n",
    "    \n",
    "    lambda_ = h['lambda']\n",
    "    \n",
    "    return compute_logistic_gradient(y, x, w) + lambda_ * np.sign(w)\n",
    "\n",
    "def logistic_error_and_lasso(y, x, w, h):\n",
    "    \n",
    "    lambda_ = h['lambda']\n",
    "    \n",
    "    lasso_norm = np.linalg.norm(w, 1) * lambda_\n",
    "    logistic_err = compute_logistic_error(y, x, w)\n",
    "    n_err = compute_error_count(predict_logistic)(y, x, w)\n",
    "    \n",
    "    return {\n",
    "        'logistic_err': logistic_err,\n",
    "        'lasso_norm': lasso_norm,\n",
    "        'total_loss': logistic_err + lasso_norm,\n",
    "        'n_err': n_err\n",
    "    }"
   ]
  },
  {
   "cell_type": "markdown",
   "metadata": {},
   "source": [
    "### Without Validation"
   ]
  },
  {
   "cell_type": "markdown",
   "metadata": {},
   "source": [
    "##### Stochastic Gradient Descent"
   ]
  },
  {
   "cell_type": "code",
   "execution_count": 40,
   "metadata": {
    "collapsed": true
   },
   "outputs": [
    {
     "name": "stdout",
     "output_type": "stream",
     "text": [
      "iteration 100 - {'batch_size': 2500, 'degree': -2, 'gamma': 0.01, 'k_fold': 4, 'lambda': 0, 'max_iters': 100, 'num_batches': 1, 'seed': 1, 'logistic_err': 0.5157348347950221, 'n_err': 0.2486}\n",
      "iteration 200 - {'batch_size': 2500, 'degree': -2, 'gamma': 0.01, 'k_fold': 4, 'lambda': 0, 'max_iters': 100, 'num_batches': 1, 'seed': 101, 'logistic_err': 0.48062207362374104, 'n_err': 0.2256}\n",
      "iteration 300 - {'batch_size': 2500, 'degree': -2, 'gamma': 0.01, 'k_fold': 4, 'lambda': 0, 'max_iters': 100, 'num_batches': 1, 'seed': 201, 'logistic_err': 0.4631917074576885, 'n_err': 0.213}\n",
      "iteration 400 - {'batch_size': 2500, 'degree': -2, 'gamma': 0.01, 'k_fold': 4, 'lambda': 0, 'max_iters': 100, 'num_batches': 1, 'seed': 301, 'logistic_err': 0.44928213278017104, 'n_err': 0.202}\n",
      "iteration 500 - {'batch_size': 2500, 'degree': -2, 'gamma': 0.01, 'k_fold': 4, 'lambda': 0, 'max_iters': 100, 'num_batches': 1, 'seed': 401, 'logistic_err': 0.43956587335652947, 'n_err': 0.199}\n",
      "iteration 600 - {'batch_size': 2500, 'degree': -2, 'gamma': 0.01, 'k_fold': 4, 'lambda': 0, 'max_iters': 100, 'num_batches': 1, 'seed': 501, 'logistic_err': 0.4325675926982175, 'n_err': 0.1962}\n",
      "iteration 700 - {'batch_size': 2500, 'degree': -2, 'gamma': 0.01, 'k_fold': 4, 'lambda': 0, 'max_iters': 100, 'num_batches': 1, 'seed': 601, 'logistic_err': 0.42738813128935416, 'n_err': 0.1944}\n",
      "iteration 800 - {'batch_size': 2500, 'degree': -2, 'gamma': 0.01, 'k_fold': 4, 'lambda': 0, 'max_iters': 100, 'num_batches': 1, 'seed': 701, 'logistic_err': 0.4225363331827505, 'n_err': 0.1908}\n",
      "iteration 900 - {'batch_size': 2500, 'degree': -2, 'gamma': 0.01, 'k_fold': 4, 'lambda': 0, 'max_iters': 100, 'num_batches': 1, 'seed': 801, 'logistic_err': 0.4185639148540676, 'n_err': 0.1888}\n",
      "iteration 1000 - {'batch_size': 2500, 'degree': -2, 'gamma': 0.01, 'k_fold': 4, 'lambda': 0, 'max_iters': 100, 'num_batches': 1, 'seed': 901, 'logistic_err': 0.4152457357027726, 'n_err': 0.1872}\n",
      "iteration 1100 - {'batch_size': 2500, 'degree': -2, 'gamma': 0.01, 'k_fold': 4, 'lambda': 0, 'max_iters': 100, 'num_batches': 1, 'seed': 1001, 'logistic_err': 0.4118464997878951, 'n_err': 0.1862}\n",
      "iteration 1200 - {'batch_size': 2500, 'degree': -2, 'gamma': 0.01, 'k_fold': 4, 'lambda': 0, 'max_iters': 100, 'num_batches': 1, 'seed': 1101, 'logistic_err': 0.40902193154517474, 'n_err': 0.1852}\n",
      "iteration 1300 - {'batch_size': 2500, 'degree': -2, 'gamma': 0.01, 'k_fold': 4, 'lambda': 0, 'max_iters': 100, 'num_batches': 1, 'seed': 1201, 'logistic_err': 0.4069672917181106, 'n_err': 0.1858}\n",
      "iteration 1400 - {'batch_size': 2500, 'degree': -2, 'gamma': 0.01, 'k_fold': 4, 'lambda': 0, 'max_iters': 100, 'num_batches': 1, 'seed': 1301, 'logistic_err': 0.40558022614974787, 'n_err': 0.1842}\n",
      "iteration 1500 - {'batch_size': 2500, 'degree': -2, 'gamma': 0.01, 'k_fold': 4, 'lambda': 0, 'max_iters': 100, 'num_batches': 1, 'seed': 1401, 'logistic_err': 0.4034085181155454, 'n_err': 0.1844}\n",
      "iteration 1600 - {'batch_size': 2500, 'degree': -2, 'gamma': 0.01, 'k_fold': 4, 'lambda': 0, 'max_iters': 100, 'num_batches': 1, 'seed': 1501, 'logistic_err': 0.40128010602977066, 'n_err': 0.181}\n",
      "iteration 1700 - {'batch_size': 2500, 'degree': -2, 'gamma': 0.01, 'k_fold': 4, 'lambda': 0, 'max_iters': 100, 'num_batches': 1, 'seed': 1601, 'logistic_err': 0.39958966783934363, 'n_err': 0.1822}\n",
      "iteration 1800 - {'batch_size': 2500, 'degree': -2, 'gamma': 0.01, 'k_fold': 4, 'lambda': 0, 'max_iters': 100, 'num_batches': 1, 'seed': 1701, 'logistic_err': 0.3983702374275935, 'n_err': 0.1838}\n",
      "iteration 1900 - {'batch_size': 2500, 'degree': -2, 'gamma': 0.01, 'k_fold': 4, 'lambda': 0, 'max_iters': 100, 'num_batches': 1, 'seed': 1801, 'logistic_err': 0.39710922676018756, 'n_err': 0.1818}\n",
      "iteration 2000 - {'batch_size': 2500, 'degree': -2, 'gamma': 0.01, 'k_fold': 4, 'lambda': 0, 'max_iters': 100, 'num_batches': 1, 'seed': 1901, 'logistic_err': 0.3959338603485414, 'n_err': 0.1814}\n",
      "iteration 2100 - {'batch_size': 2500, 'degree': -2, 'gamma': 0.01, 'k_fold': 4, 'lambda': 0, 'max_iters': 100, 'num_batches': 1, 'seed': 2001, 'logistic_err': 0.39525727855395837, 'n_err': 0.1832}\n",
      "iteration 2200 - {'batch_size': 2500, 'degree': -2, 'gamma': 0.01, 'k_fold': 4, 'lambda': 0, 'max_iters': 100, 'num_batches': 1, 'seed': 2101, 'logistic_err': 0.39477234373696496, 'n_err': 0.1804}\n",
      "iteration 2300 - {'batch_size': 2500, 'degree': -2, 'gamma': 0.01, 'k_fold': 4, 'lambda': 0, 'max_iters': 100, 'num_batches': 1, 'seed': 2201, 'logistic_err': 0.3935092164495807, 'n_err': 0.183}\n",
      "iteration 2400 - {'batch_size': 2500, 'degree': -2, 'gamma': 0.01, 'k_fold': 4, 'lambda': 0, 'max_iters': 100, 'num_batches': 1, 'seed': 2301, 'logistic_err': 0.3928102323654019, 'n_err': 0.1786}\n",
      "iteration 2500 - {'batch_size': 2500, 'degree': -2, 'gamma': 0.01, 'k_fold': 4, 'lambda': 0, 'max_iters': 100, 'num_batches': 1, 'seed': 2401, 'logistic_err': 0.39147909079867316, 'n_err': 0.1778}\n",
      "iteration 2600 - {'batch_size': 2500, 'degree': -2, 'gamma': 0.01, 'k_fold': 4, 'lambda': 0, 'max_iters': 100, 'num_batches': 1, 'seed': 2501, 'logistic_err': 0.3911665865255116, 'n_err': 0.1792}\n",
      "iteration 2700 - {'batch_size': 2500, 'degree': -2, 'gamma': 0.01, 'k_fold': 4, 'lambda': 0, 'max_iters': 100, 'num_batches': 1, 'seed': 2601, 'logistic_err': 0.3903105826996411, 'n_err': 0.1766}\n",
      "iteration 2800 - {'batch_size': 2500, 'degree': -2, 'gamma': 0.01, 'k_fold': 4, 'lambda': 0, 'max_iters': 100, 'num_batches': 1, 'seed': 2701, 'logistic_err': 0.3894630770272248, 'n_err': 0.1754}\n",
      "iteration 2900 - {'batch_size': 2500, 'degree': -2, 'gamma': 0.01, 'k_fold': 4, 'lambda': 0, 'max_iters': 100, 'num_batches': 1, 'seed': 2801, 'logistic_err': 0.38888313581305345, 'n_err': 0.1762}\n",
      "iteration 3000 - {'batch_size': 2500, 'degree': -2, 'gamma': 0.01, 'k_fold': 4, 'lambda': 0, 'max_iters': 100, 'num_batches': 1, 'seed': 2901, 'logistic_err': 0.3883060487178426, 'n_err': 0.1764}\n",
      "iteration 100 - {'batch_size': 2500, 'degree': -2, 'gamma': 0.001, 'k_fold': 4, 'lambda': 0, 'max_iters': 100, 'num_batches': 1, 'seed': 1, 'logistic_err': 0.6291365491179349, 'n_err': 0.3142}\n",
      "iteration 200 - {'batch_size': 2500, 'degree': -2, 'gamma': 0.001, 'k_fold': 4, 'lambda': 0, 'max_iters': 100, 'num_batches': 1, 'seed': 101, 'logistic_err': 0.5952452274367613, 'n_err': 0.3106}\n",
      "iteration 300 - {'batch_size': 2500, 'degree': -2, 'gamma': 0.001, 'k_fold': 4, 'lambda': 0, 'max_iters': 100, 'num_batches': 1, 'seed': 201, 'logistic_err': 0.5746208119867415, 'n_err': 0.3032}\n",
      "iteration 400 - {'batch_size': 2500, 'degree': -2, 'gamma': 0.001, 'k_fold': 4, 'lambda': 0, 'max_iters': 100, 'num_batches': 1, 'seed': 301, 'logistic_err': 0.5610305502842435, 'n_err': 0.2978}\n",
      "iteration 500 - {'batch_size': 2500, 'degree': -2, 'gamma': 0.001, 'k_fold': 4, 'lambda': 0, 'max_iters': 100, 'num_batches': 1, 'seed': 401, 'logistic_err': 0.5497467933650656, 'n_err': 0.2954}\n",
      "iteration 600 - {'batch_size': 2500, 'degree': -2, 'gamma': 0.001, 'k_fold': 4, 'lambda': 0, 'max_iters': 100, 'num_batches': 1, 'seed': 501, 'logistic_err': 0.5407319855423812, 'n_err': 0.2888}\n",
      "iteration 700 - {'batch_size': 2500, 'degree': -2, 'gamma': 0.001, 'k_fold': 4, 'lambda': 0, 'max_iters': 100, 'num_batches': 1, 'seed': 601, 'logistic_err': 0.5332239479597884, 'n_err': 0.2824}\n",
      "iteration 800 - {'batch_size': 2500, 'degree': -2, 'gamma': 0.001, 'k_fold': 4, 'lambda': 0, 'max_iters': 100, 'num_batches': 1, 'seed': 701, 'logistic_err': 0.5267247889915274, 'n_err': 0.2732}\n",
      "iteration 900 - {'batch_size': 2500, 'degree': -2, 'gamma': 0.001, 'k_fold': 4, 'lambda': 0, 'max_iters': 100, 'num_batches': 1, 'seed': 801, 'logistic_err': 0.5206165839443242, 'n_err': 0.2668}\n",
      "iteration 1000 - {'batch_size': 2500, 'degree': -2, 'gamma': 0.001, 'k_fold': 4, 'lambda': 0, 'max_iters': 100, 'num_batches': 1, 'seed': 901, 'logistic_err': 0.515417244371369, 'n_err': 0.2602}\n",
      "iteration 1100 - {'batch_size': 2500, 'degree': -2, 'gamma': 0.001, 'k_fold': 4, 'lambda': 0, 'max_iters': 100, 'num_batches': 1, 'seed': 1001, 'logistic_err': 0.5105215473389773, 'n_err': 0.2568}\n",
      "iteration 1200 - {'batch_size': 2500, 'degree': -2, 'gamma': 0.001, 'k_fold': 4, 'lambda': 0, 'max_iters': 100, 'num_batches': 1, 'seed': 1101, 'logistic_err': 0.5062004234042832, 'n_err': 0.2532}\n"
     ]
    },
    {
     "ename": "KeyboardInterrupt",
     "evalue": "",
     "output_type": "error",
     "traceback": [
      "\u001b[0;31m---------------------------------------------------------------------------\u001b[0m",
      "\u001b[0;31mKeyboardInterrupt\u001b[0m                         Traceback (most recent call last)",
      "\u001b[0;32m<ipython-input-40-cafeb312a3dc>\u001b[0m in \u001b[0;36m<module>\u001b[0;34m()\u001b[0m\n\u001b[1;32m     23\u001b[0m     \u001b[0my\u001b[0m     \u001b[0;34m=\u001b[0m \u001b[0my\u001b[0m\u001b[0;34m,\u001b[0m\u001b[0;34m\u001b[0m\u001b[0m\n\u001b[1;32m     24\u001b[0m     \u001b[0mx\u001b[0m     \u001b[0;34m=\u001b[0m \u001b[0mx\u001b[0m\u001b[0;34m,\u001b[0m\u001b[0;34m\u001b[0m\u001b[0m\n\u001b[0;32m---> 25\u001b[0;31m     \u001b[0mhs\u001b[0m    \u001b[0;34m=\u001b[0m \u001b[0mhs\u001b[0m\u001b[0;34m\u001b[0m\u001b[0m\n\u001b[0m\u001b[1;32m     26\u001b[0m )\n",
      "\u001b[0;32m~/Dropbox/Dev/EPFL/Machine Learning/Project 1/model.py\u001b[0m in \u001b[0;36mevaluate\u001b[0;34m(clean, fit, y, x, hs)\u001b[0m\n\u001b[1;32m    312\u001b[0m     \u001b[0;31m# res = pool.starmap(self.execute, hs_params)\u001b[0m\u001b[0;34m\u001b[0m\u001b[0;34m\u001b[0m\u001b[0m\n\u001b[1;32m    313\u001b[0m \u001b[0;34m\u001b[0m\u001b[0m\n\u001b[0;32m--> 314\u001b[0;31m     \u001b[0;32mreturn\u001b[0m \u001b[0;34m[\u001b[0m\u001b[0mclean_and_fit\u001b[0m\u001b[0;34m(\u001b[0m\u001b[0mclean\u001b[0m\u001b[0;34m,\u001b[0m \u001b[0mfit\u001b[0m\u001b[0;34m)\u001b[0m\u001b[0;34m(\u001b[0m\u001b[0;34m*\u001b[0m\u001b[0mparams\u001b[0m\u001b[0;34m)\u001b[0m \u001b[0;32mfor\u001b[0m \u001b[0mparams\u001b[0m \u001b[0;32min\u001b[0m \u001b[0mhs_params\u001b[0m\u001b[0;34m]\u001b[0m\u001b[0;34m\u001b[0m\u001b[0m\n\u001b[0m\u001b[1;32m    315\u001b[0m \u001b[0;34m\u001b[0m\u001b[0m\n\u001b[1;32m    316\u001b[0m \u001b[0;32mdef\u001b[0m \u001b[0mplot_heatmap\u001b[0m\u001b[0;34m(\u001b[0m\u001b[0mres\u001b[0m\u001b[0;34m,\u001b[0m \u001b[0mhs\u001b[0m\u001b[0;34m,\u001b[0m \u001b[0mvalue\u001b[0m\u001b[0;34m,\u001b[0m \u001b[0mx\u001b[0m\u001b[0;34m,\u001b[0m \u001b[0my\u001b[0m\u001b[0;34m)\u001b[0m\u001b[0;34m:\u001b[0m\u001b[0;34m\u001b[0m\u001b[0m\n",
      "\u001b[0;32m~/Dropbox/Dev/EPFL/Machine Learning/Project 1/model.py\u001b[0m in \u001b[0;36m<listcomp>\u001b[0;34m(.0)\u001b[0m\n\u001b[1;32m    312\u001b[0m     \u001b[0;31m# res = pool.starmap(self.execute, hs_params)\u001b[0m\u001b[0;34m\u001b[0m\u001b[0;34m\u001b[0m\u001b[0m\n\u001b[1;32m    313\u001b[0m \u001b[0;34m\u001b[0m\u001b[0m\n\u001b[0;32m--> 314\u001b[0;31m     \u001b[0;32mreturn\u001b[0m \u001b[0;34m[\u001b[0m\u001b[0mclean_and_fit\u001b[0m\u001b[0;34m(\u001b[0m\u001b[0mclean\u001b[0m\u001b[0;34m,\u001b[0m \u001b[0mfit\u001b[0m\u001b[0;34m)\u001b[0m\u001b[0;34m(\u001b[0m\u001b[0;34m*\u001b[0m\u001b[0mparams\u001b[0m\u001b[0;34m)\u001b[0m \u001b[0;32mfor\u001b[0m \u001b[0mparams\u001b[0m \u001b[0;32min\u001b[0m \u001b[0mhs_params\u001b[0m\u001b[0;34m]\u001b[0m\u001b[0;34m\u001b[0m\u001b[0m\n\u001b[0m\u001b[1;32m    315\u001b[0m \u001b[0;34m\u001b[0m\u001b[0m\n\u001b[1;32m    316\u001b[0m \u001b[0;32mdef\u001b[0m \u001b[0mplot_heatmap\u001b[0m\u001b[0;34m(\u001b[0m\u001b[0mres\u001b[0m\u001b[0;34m,\u001b[0m \u001b[0mhs\u001b[0m\u001b[0;34m,\u001b[0m \u001b[0mvalue\u001b[0m\u001b[0;34m,\u001b[0m \u001b[0mx\u001b[0m\u001b[0;34m,\u001b[0m \u001b[0my\u001b[0m\u001b[0;34m)\u001b[0m\u001b[0;34m:\u001b[0m\u001b[0;34m\u001b[0m\u001b[0m\n",
      "\u001b[0;32m~/Dropbox/Dev/EPFL/Machine Learning/Project 1/model.py\u001b[0m in \u001b[0;36minner_function\u001b[0;34m(y, x, h)\u001b[0m\n\u001b[1;32m    260\u001b[0m     \u001b[0;32mdef\u001b[0m \u001b[0minner_function\u001b[0m\u001b[0;34m(\u001b[0m\u001b[0my\u001b[0m\u001b[0;34m,\u001b[0m \u001b[0mx\u001b[0m\u001b[0;34m,\u001b[0m \u001b[0mh\u001b[0m\u001b[0;34m)\u001b[0m\u001b[0;34m:\u001b[0m\u001b[0;34m\u001b[0m\u001b[0m\n\u001b[1;32m    261\u001b[0m         \u001b[0my\u001b[0m\u001b[0;34m,\u001b[0m \u001b[0mx\u001b[0m \u001b[0;34m=\u001b[0m \u001b[0mclean\u001b[0m\u001b[0;34m(\u001b[0m\u001b[0my\u001b[0m\u001b[0;34m,\u001b[0m \u001b[0mx\u001b[0m\u001b[0;34m,\u001b[0m \u001b[0mh\u001b[0m\u001b[0;34m)\u001b[0m\u001b[0;34m\u001b[0m\u001b[0m\n\u001b[0;32m--> 262\u001b[0;31m         \u001b[0;32mreturn\u001b[0m \u001b[0mfit\u001b[0m\u001b[0;34m(\u001b[0m\u001b[0my\u001b[0m\u001b[0;34m,\u001b[0m \u001b[0mx\u001b[0m\u001b[0;34m,\u001b[0m \u001b[0mh\u001b[0m\u001b[0;34m)\u001b[0m\u001b[0;34m\u001b[0m\u001b[0m\n\u001b[0m\u001b[1;32m    263\u001b[0m \u001b[0;34m\u001b[0m\u001b[0m\n\u001b[1;32m    264\u001b[0m     \u001b[0;32mreturn\u001b[0m \u001b[0minner_function\u001b[0m\u001b[0;34m\u001b[0m\u001b[0m\n",
      "\u001b[0;32m~/Dropbox/Dev/EPFL/Machine Learning/Project 1/model.py\u001b[0m in \u001b[0;36minner_function\u001b[0;34m(y, x, h)\u001b[0m\n\u001b[1;32m     93\u001b[0m             \u001b[0mmodified_h\u001b[0m\u001b[0;34m[\u001b[0m\u001b[0;34m'seed'\u001b[0m\u001b[0;34m]\u001b[0m \u001b[0;34m=\u001b[0m \u001b[0mseed_iter\u001b[0m\u001b[0;34m\u001b[0m\u001b[0m\n\u001b[1;32m     94\u001b[0m \u001b[0;34m\u001b[0m\u001b[0m\n\u001b[0;32m---> 95\u001b[0;31m             \u001b[0mresult\u001b[0m \u001b[0;34m=\u001b[0m \u001b[0mdescent\u001b[0m\u001b[0;34m(\u001b[0m\u001b[0my\u001b[0m\u001b[0;34m,\u001b[0m \u001b[0mx\u001b[0m\u001b[0;34m,\u001b[0m \u001b[0mmodified_h\u001b[0m\u001b[0;34m,\u001b[0m \u001b[0minitial_w\u001b[0m\u001b[0;34m)\u001b[0m\u001b[0;34m\u001b[0m\u001b[0m\n\u001b[0m\u001b[1;32m     96\u001b[0m \u001b[0;34m\u001b[0m\u001b[0m\n\u001b[1;32m     97\u001b[0m             \u001b[0;32mif\u001b[0m \u001b[0mmultiple\u001b[0m\u001b[0;34m:\u001b[0m\u001b[0;34m\u001b[0m\u001b[0m\n",
      "\u001b[0;32m~/Dropbox/Dev/EPFL/Machine Learning/Project 1/model.py\u001b[0m in \u001b[0;36minner_function\u001b[0;34m(y, x, h, initial_w)\u001b[0m\n\u001b[1;32m    119\u001b[0m     \u001b[0;32mdef\u001b[0m \u001b[0minner_function\u001b[0m\u001b[0;34m(\u001b[0m\u001b[0my\u001b[0m\u001b[0;34m,\u001b[0m \u001b[0mx\u001b[0m\u001b[0;34m,\u001b[0m \u001b[0mh\u001b[0m\u001b[0;34m,\u001b[0m \u001b[0minitial_w\u001b[0m\u001b[0;34m)\u001b[0m\u001b[0;34m:\u001b[0m\u001b[0;34m\u001b[0m\u001b[0m\n\u001b[1;32m    120\u001b[0m \u001b[0;34m\u001b[0m\u001b[0m\n\u001b[0;32m--> 121\u001b[0;31m         \u001b[0mresult\u001b[0m \u001b[0;34m=\u001b[0m \u001b[0mgradient\u001b[0m\u001b[0;34m(\u001b[0m\u001b[0my\u001b[0m\u001b[0;34m,\u001b[0m \u001b[0mx\u001b[0m\u001b[0;34m,\u001b[0m \u001b[0mh\u001b[0m\u001b[0;34m,\u001b[0m \u001b[0minitial_w\u001b[0m\u001b[0;34m)\u001b[0m\u001b[0;34m\u001b[0m\u001b[0m\n\u001b[0m\u001b[1;32m    122\u001b[0m         \u001b[0merr\u001b[0m \u001b[0;34m=\u001b[0m \u001b[0mloss\u001b[0m\u001b[0;34m(\u001b[0m\u001b[0my\u001b[0m\u001b[0;34m,\u001b[0m \u001b[0mx\u001b[0m\u001b[0;34m,\u001b[0m \u001b[0mresult\u001b[0m\u001b[0;34m[\u001b[0m\u001b[0;34m'w'\u001b[0m\u001b[0;34m]\u001b[0m\u001b[0;34m,\u001b[0m \u001b[0mh\u001b[0m\u001b[0;34m)\u001b[0m\u001b[0;34m\u001b[0m\u001b[0m\n\u001b[1;32m    123\u001b[0m \u001b[0;34m\u001b[0m\u001b[0m\n",
      "\u001b[0;32m~/Dropbox/Dev/EPFL/Machine Learning/Project 1/model.py\u001b[0m in \u001b[0;36minner_function\u001b[0;34m(y, x, h, initial_w)\u001b[0m\n\u001b[1;32m    147\u001b[0m         \u001b[0;32mfor\u001b[0m \u001b[0mstep\u001b[0m \u001b[0;32min\u001b[0m \u001b[0mrange\u001b[0m\u001b[0;34m(\u001b[0m\u001b[0mmax_iters\u001b[0m\u001b[0;34m)\u001b[0m\u001b[0;34m:\u001b[0m\u001b[0;34m\u001b[0m\u001b[0m\n\u001b[1;32m    148\u001b[0m \u001b[0;34m\u001b[0m\u001b[0m\n\u001b[0;32m--> 149\u001b[0;31m             \u001b[0;32mfor\u001b[0m \u001b[0my_batch\u001b[0m\u001b[0;34m,\u001b[0m \u001b[0mx_batch\u001b[0m \u001b[0;32min\u001b[0m \u001b[0mbatch_iter\u001b[0m\u001b[0;34m(\u001b[0m\u001b[0my\u001b[0m\u001b[0;34m,\u001b[0m \u001b[0mx\u001b[0m\u001b[0;34m,\u001b[0m \u001b[0mbatch_size\u001b[0m\u001b[0;34m=\u001b[0m\u001b[0mbatch_size\u001b[0m\u001b[0;34m,\u001b[0m \u001b[0mnum_batches\u001b[0m\u001b[0;34m=\u001b[0m\u001b[0mnum_batches\u001b[0m\u001b[0;34m,\u001b[0m \u001b[0mseed\u001b[0m\u001b[0;34m=\u001b[0m\u001b[0mseed_iter\u001b[0m\u001b[0;34m)\u001b[0m\u001b[0;34m:\u001b[0m\u001b[0;34m\u001b[0m\u001b[0m\n\u001b[0m\u001b[1;32m    150\u001b[0m \u001b[0;34m\u001b[0m\u001b[0m\n\u001b[1;32m    151\u001b[0m                 \u001b[0;31m# Compute gradient using the inner model\u001b[0m\u001b[0;34m\u001b[0m\u001b[0;34m\u001b[0m\u001b[0m\n",
      "\u001b[0;32m~/Dropbox/Dev/EPFL/Machine Learning/Project 1/splits.py\u001b[0m in \u001b[0;36mbatch_iter\u001b[0;34m(y, tx, batch_size, num_batches, seed)\u001b[0m\n\u001b[1;32m     77\u001b[0m     \u001b[0mshuffle_indices\u001b[0m \u001b[0;34m=\u001b[0m \u001b[0mnp\u001b[0m\u001b[0;34m.\u001b[0m\u001b[0mrandom\u001b[0m\u001b[0;34m.\u001b[0m\u001b[0mpermutation\u001b[0m\u001b[0;34m(\u001b[0m\u001b[0mnp\u001b[0m\u001b[0;34m.\u001b[0m\u001b[0marange\u001b[0m\u001b[0;34m(\u001b[0m\u001b[0mdata_size\u001b[0m\u001b[0;34m)\u001b[0m\u001b[0;34m)\u001b[0m\u001b[0;34m\u001b[0m\u001b[0m\n\u001b[1;32m     78\u001b[0m     \u001b[0mshuffled_y\u001b[0m \u001b[0;34m=\u001b[0m \u001b[0my\u001b[0m\u001b[0;34m[\u001b[0m\u001b[0mshuffle_indices\u001b[0m\u001b[0;34m]\u001b[0m\u001b[0;34m\u001b[0m\u001b[0m\n\u001b[0;32m---> 79\u001b[0;31m     \u001b[0mshuffled_tx\u001b[0m \u001b[0;34m=\u001b[0m \u001b[0mtx\u001b[0m\u001b[0;34m[\u001b[0m\u001b[0mshuffle_indices\u001b[0m\u001b[0;34m]\u001b[0m\u001b[0;34m\u001b[0m\u001b[0m\n\u001b[0m\u001b[1;32m     80\u001b[0m \u001b[0;34m\u001b[0m\u001b[0m\n\u001b[1;32m     81\u001b[0m     \u001b[0;32mfor\u001b[0m \u001b[0mbatch_num\u001b[0m \u001b[0;32min\u001b[0m \u001b[0mrange\u001b[0m\u001b[0;34m(\u001b[0m\u001b[0mnum_batches\u001b[0m\u001b[0;34m)\u001b[0m\u001b[0;34m:\u001b[0m\u001b[0;34m\u001b[0m\u001b[0m\n",
      "\u001b[0;31mKeyboardInterrupt\u001b[0m: "
     ]
    }
   ],
   "source": [
    "hs = {\n",
    "    'batch_size': 2500,\n",
    "    'degree': np.concatenate([[-2], np.arange(1, 7)]),\n",
    "    'gamma': [1e-2, 1e-3], \n",
    "    'k_fold': 4,\n",
    "    'lambda': 0,\n",
    "    'max_iters': 3000,\n",
    "    'num_batches': 1,\n",
    "    'seed': 1,\n",
    "}\n",
    "\n",
    "cache = Cache(CACHE_DIR + 'clean_standardize_expand_stochastic_logistic_descent')\n",
    "\n",
    "_ = evaluate(\n",
    "    clean = map_logistic(clean_standardize_expand), \n",
    "    fit   = descent_with_cache(\n",
    "        descent    = descent_with_loss(stochastic_gradient_descent_e(logistic_gradient), logistic_error),  \n",
    "        round_size = 100,\n",
    "        cache      = cache,\n",
    "        multiple   = False,\n",
    "        log        = True\n",
    "    ), \n",
    "    y     = y,\n",
    "    x     = x,\n",
    "    hs    = hs\n",
    ")"
   ]
  },
  {
   "cell_type": "markdown",
   "metadata": {},
   "source": [
    "###### Stochastic Gradient Descent With Ridge Regression"
   ]
  },
  {
   "cell_type": "code",
   "execution_count": null,
   "metadata": {},
   "outputs": [],
   "source": [
    "hs = {\n",
    "    'batch_size': 2500,\n",
    "    'degree': [-2] + np.arange(3, 4),\n",
    "    'gamma': [1e-2, 1e-3], \n",
    "    'lambda': [1e-2, 1e-3],\n",
    "    'k_fold': 4,\n",
    "    'max_iters': 1000,\n",
    "    'num_batches': 1,\n",
    "    'seed': 1,\n",
    "}\n",
    "\n",
    "cache = Cache(CACHE_DIR + 'clean_standardize_expand_stochastic_logistic_ridge_descent')\n",
    "\n",
    "_ = evaluate(\n",
    "    clean = map_logistic(clean_standardize_expand), \n",
    "    fit   = descent_with_cache(\n",
    "        descent    = stochastic_gradient_descent_e(logistic_gradient_ridge), \n",
    "        loss       = logistic_error_and_ridge, \n",
    "        round_size = 100,\n",
    "        cache      = cache,\n",
    "        log        = True\n",
    "    ), \n",
    "    y     = y,\n",
    "    x     = x,\n",
    "    hs    = hs\n",
    ")"
   ]
  },
  {
   "cell_type": "markdown",
   "metadata": {},
   "source": [
    "##### Stochastic Gradient Descent With Lasso"
   ]
  },
  {
   "cell_type": "code",
   "execution_count": null,
   "metadata": {},
   "outputs": [],
   "source": [
    "hs = {\n",
    "    'batch_size': 2500,\n",
    "    'degree': [-2, 1, 2, 3, 4, 5, 6],\n",
    "    'gamma': [1e-1, 1e-2, 1e-3], \n",
    "    'lambda': [1e-1, 1e-2, 1e-3],\n",
    "    'k_fold': 4,\n",
    "    'max_iters': 2000,\n",
    "    'num_batches': 1,\n",
    "    'seed': 0,\n",
    "}\n",
    "\n",
    "cache = Cache(CACHE_DIR + 'clean_standardize_expand_stochastic_logistic_lasso_descent')\n",
    "\n",
    "_ = evaluate(\n",
    "    clean = map_logistic(clean_standardize_expand), \n",
    "    fit   = descent_with_cache(\n",
    "        descent    = stochastic_gradient_descent_e(logistic_gradient_lasso), \n",
    "        loss       = logistic_error_and_lasso, \n",
    "        round_size = 100,\n",
    "        cache      = cache,\n",
    "        log        = True\n",
    "    ), \n",
    "    y     = y,\n",
    "    x     = x,\n",
    "    hs    = hs\n",
    ")"
   ]
  },
  {
   "cell_type": "markdown",
   "metadata": {},
   "source": [
    "### With Cross-Validation"
   ]
  },
  {
   "cell_type": "markdown",
   "metadata": {},
   "source": [
    "##### Stochastic Gradient Descent"
   ]
  },
  {
   "cell_type": "code",
   "execution_count": null,
   "metadata": {},
   "outputs": [],
   "source": [
    "hs = {\n",
    "    'batch_size': 2500,\n",
    "    'degree': np.concatenate([[-2], np.arange(1, 7)]),\n",
    "    'gamma': [1e-2, 1e-3], \n",
    "    'k_fold': 4,\n",
    "    'lambda': 0,\n",
    "    'max_iters': 3000,\n",
    "    'num_batches': 1,\n",
    "    'seed': 0,\n",
    "    'seed_cv': 0\n",
    "}\n",
    "\n",
    "cache = Cache(CACHE_DIR + 'clean_standardize_expand_stochastic_logistic_descent_cross_validate')\n",
    "\n",
    "_ = evaluate(\n",
    "    clean = map_logistic(clean_standardize_expand), \n",
    "    fit   = descent_with_cache(\n",
    "        descent    = cross_validate_descent(\n",
    "            stochastic_gradient_descent_e(logistic_gradient), \n",
    "            logistic_error\n",
    "        ),\n",
    "        round_size = 100,\n",
    "        cache      = cache,\n",
    "        multiple   = True,\n",
    "        log        = True\n",
    "    ), \n",
    "    y     = y,\n",
    "    x     = x,\n",
    "    hs    = hs\n",
    ")"
   ]
  },
  {
   "cell_type": "markdown",
   "metadata": {},
   "source": [
    "##### Descent with Ridge"
   ]
  },
  {
   "cell_type": "code",
   "execution_count": null,
   "metadata": {},
   "outputs": [],
   "source": [
    "hs = {\n",
    "    'batch_size': 2500,\n",
    "    'degree': [-2] + np.arange(3, 4),\n",
    "    'gamma': [1e-2, 1e-3], \n",
    "    'lambda': [1e-2, 1e-3],\n",
    "    'k_fold': 4,\n",
    "    'max_iters': 1000,\n",
    "    'num_batches': 1,\n",
    "    'seed': 1,\n",
    "}\n",
    "\n",
    "cache = Cache(CACHE_DIR + 'clean_standardize_expand_stochastic_logistic_ridge_descent_cross_validate')\n",
    "\n",
    "_ = evaluate(\n",
    "    clean = map_logistic(clean_standardize_expand), \n",
    "    fit   = descent_with_cache(\n",
    "        descent    = cross_validate_descent(\n",
    "            stochastic_gradient_descent_e(logistic_gradient_ridge), \n",
    "            logistic_error_and_ridge,\n",
    "        ),\n",
    "        round_size = 100,\n",
    "        cache      = cache,\n",
    "        log        = True\n",
    "    ), \n",
    "    y     = y,\n",
    "    x     = x,\n",
    "    hs    = hs\n",
    ")"
   ]
  },
  {
   "cell_type": "markdown",
   "metadata": {},
   "source": [
    "##### Descent with Lasso"
   ]
  },
  {
   "cell_type": "code",
   "execution_count": null,
   "metadata": {},
   "outputs": [],
   "source": [
    "hs = {\n",
    "    'batch_size': 2500,\n",
    "    'degree': [-2] + np.arange(3, 4),\n",
    "    'gamma': [1e-2, 1e-3], \n",
    "    'lambda': [1e-2, 1e-3],\n",
    "    'k_fold': 4,\n",
    "    'max_iters': 1000,\n",
    "    'num_batches': 1,\n",
    "    'seed': 1,\n",
    "}\n",
    "\n",
    "cache = Cache(CACHE_DIR + 'clean_standardize_expand_stochastic_logistic_lasso_descent_cross_validate')\n",
    "\n",
    "_ = evaluate(\n",
    "    clean = map_logistic(clean_standardize_expand), \n",
    "    fit   = descent_with_cache(\n",
    "        descent    = cross_validate_descent(\n",
    "            stochastic_gradient_descent_e(logistic_gradient_lasso), \n",
    "            logistic_error_and_lasso,\n",
    "        ),\n",
    "        round_size = 100,\n",
    "        cache      = cache,\n",
    "        log        = True\n",
    "    ), \n",
    "    y     = y,\n",
    "    x     = x,\n",
    "    hs    = hs\n",
    ")"
   ]
  },
  {
   "cell_type": "markdown",
   "metadata": {},
   "source": [
    "# Split Dataset"
   ]
  },
  {
   "cell_type": "markdown",
   "metadata": {},
   "source": [
    "### Least Square Ridge"
   ]
  },
  {
   "cell_type": "code",
   "execution_count": 14,
   "metadata": {},
   "outputs": [],
   "source": [
    "def split_data(y, x, ids):\n",
    "    \n",
    "    def categorize(x):\n",
    "        if x[0] == -999.0:\n",
    "            return 0\n",
    "        else:\n",
    "            return x[22] + 1\n",
    "    \n",
    "    categories = np.apply_along_axis(categorize, 1, x)\n",
    "\n",
    "    xs = [x[categories == i] for i in np.arange(5)]\n",
    "    ys = [y[categories == i] for i in np.arange(5)]\n",
    "    ids = [ids[categories == i] for i in np.arange(5)]\n",
    "    \n",
    "    return ys, xs, ids"
   ]
  },
  {
   "cell_type": "code",
   "execution_count": 78,
   "metadata": {},
   "outputs": [],
   "source": [
    "y_split, x_split = split_data(y, x)"
   ]
  },
  {
   "cell_type": "code",
   "execution_count": 80,
   "metadata": {},
   "outputs": [],
   "source": [
    "hs = { \n",
    "    'degree': np.concatenate([np.array([-2]), np.arange(4, 16)]), \n",
    "    'lambda': np.logspace(-8, -4, 5),\n",
    "    'k_fold': 4,\n",
    "    'seed': 0\n",
    "}\n",
    "\n",
    "for i in range(5):\n",
    "    \n",
    "    cache = Cache(CACHE_DIR + f'clean_standardize_expand_cross_validate_ridge_regression_analytical_mse_split{i}')\n",
    "\n",
    "    result = evaluate(\n",
    "        clean = clean_standardize_expand, \n",
    "        fit   = fit_with_cache(cross_validate(ridge_regression_analytical, ridge_mse), cache), \n",
    "        x     = x_split[i],\n",
    "        y     = y_split[i], \n",
    "        hs    = hs\n",
    "    )"
   ]
  },
  {
   "cell_type": "code",
   "execution_count": 81,
   "metadata": {},
   "outputs": [],
   "source": [
    "hs = { \n",
    "    'degree': np.concatenate([np.array([-2]), np.arange(4, 16)]), \n",
    "    'lambda': np.logspace(-8, -4, 5),\n",
    "    'k_fold': 4,\n",
    "    'seed': 0\n",
    "}\n",
    "\n",
    "\n",
    "cache = Cache(CACHE_DIR + 'clean_standardize_expand_cross_validate_ridge_regression_analytical_mse_no_split')\n",
    "\n",
    "result1 = evaluate(\n",
    "    clean = clean_standardize_expand, \n",
    "    fit   = fit_with_cache(cross_validate(ridge_regression_analytical, ridge_mse), cache), \n",
    "    x     = x,\n",
    "    y     = y, \n",
    "    hs    = hs\n",
    ")"
   ]
  },
  {
   "cell_type": "markdown",
   "metadata": {},
   "source": [
    "###  Logistic Ridge"
   ]
  },
  {
   "cell_type": "code",
   "execution_count": null,
   "metadata": {},
   "outputs": [
    {
     "name": "stdout",
     "output_type": "stream",
     "text": [
      "iteration 100 - {'batch_size': 2500, 'degree': -2, 'gamma': 0.01, 'k_fold': 4, 'lambda': 0.01, 'max_iters': 100, 'num_batches': 1, 'seed': 0, 'seed_cv': 0, 'avg_logistic_err_tr': 0.2802956357278603, 'avg_ridge_norm_tr': 0.005513907527966065, 'avg_total_loss_tr': 0.28580954325582636, 'avg_n_err_tr': 0.06683809123985446, 'avg_logistic_err_te': 0.2806963559780926, 'avg_ridge_norm_te': 0.005513907527966065, 'avg_total_loss_te': 0.28621026350605866, 'avg_n_err_te': 0.06664567590260286}\n",
      "iteration 200 - {'batch_size': 2500, 'degree': -2, 'gamma': 0.01, 'k_fold': 4, 'lambda': 0.01, 'max_iters': 100, 'num_batches': 1, 'seed': 100, 'seed_cv': 0, 'avg_logistic_err_tr': 0.2390144211466928, 'avg_ridge_norm_tr': 0.007271311608074616, 'avg_total_loss_tr': 0.24628573275476745, 'avg_n_err_tr': 0.06561363000279877, 'avg_logistic_err_te': 0.24036869631921826, 'avg_ridge_norm_te': 0.007271311608074616, 'avg_total_loss_te': 0.24764000792729288, 'avg_n_err_te': 0.06591099916036944}\n",
      "iteration 300 - {'batch_size': 2500, 'degree': -2, 'gamma': 0.01, 'k_fold': 4, 'lambda': 0.01, 'max_iters': 100, 'num_batches': 1, 'seed': 200, 'seed_cv': 0, 'avg_logistic_err_tr': 0.2224652594710008, 'avg_ridge_norm_tr': 0.008288687508536742, 'avg_total_loss_tr': 0.23075394697953752, 'avg_n_err_tr': 0.06533375314861462, 'avg_logistic_err_te': 0.22350986836766717, 'avg_ridge_norm_te': 0.008288687508536742, 'avg_total_loss_te': 0.2317985558762039, 'avg_n_err_te': 0.06546494542401343}\n",
      "iteration 400 - {'batch_size': 2500, 'degree': -2, 'gamma': 0.01, 'k_fold': 4, 'lambda': 0.01, 'max_iters': 100, 'num_batches': 1, 'seed': 300, 'seed_cv': 0, 'avg_logistic_err_tr': 0.21469001139621, 'avg_ridge_norm_tr': 0.009060876688990563, 'avg_total_loss_tr': 0.22375088808520055, 'avg_n_err_tr': 0.06522879932829555, 'avg_logistic_err_te': 0.21662145617069128, 'avg_ridge_norm_te': 0.009060876688990563, 'avg_total_loss_te': 0.22568233285968187, 'avg_n_err_te': 0.06528127623845509}\n",
      "iteration 500 - {'batch_size': 2500, 'degree': -2, 'gamma': 0.01, 'k_fold': 4, 'lambda': 0.01, 'max_iters': 100, 'num_batches': 1, 'seed': 400, 'seed_cv': 0, 'avg_logistic_err_tr': 0.21081591871174613, 'avg_ridge_norm_tr': 0.009686091902808806, 'avg_total_loss_tr': 0.22050201061455496, 'avg_n_err_tr': 0.06475650713685978, 'avg_logistic_err_te': 0.21253899485801556, 'avg_ridge_norm_te': 0.009686091902808806, 'avg_total_loss_te': 0.22222508676082434, 'avg_n_err_te': 0.06520256087321578}\n",
      "iteration 600 - {'batch_size': 2500, 'degree': -2, 'gamma': 0.01, 'k_fold': 4, 'lambda': 0.01, 'max_iters': 100, 'num_batches': 1, 'seed': 500, 'seed_cv': 0, 'avg_logistic_err_tr': 0.20733566219319774, 'avg_ridge_norm_tr': 0.010015205071628784, 'avg_total_loss_tr': 0.21735086726482655, 'avg_n_err_tr': 0.06464280716484747, 'avg_logistic_err_te': 0.2095939649450068, 'avg_ridge_norm_te': 0.010015205071628784, 'avg_total_loss_te': 0.21960917001663557, 'avg_n_err_te': 0.06543870696893365}\n",
      "iteration 700 - {'batch_size': 2500, 'degree': -2, 'gamma': 0.01, 'k_fold': 4, 'lambda': 0.01, 'max_iters': 100, 'num_batches': 1, 'seed': 600, 'seed_cv': 0, 'avg_logistic_err_tr': 0.2040008912897438, 'avg_ridge_norm_tr': 0.010378506535471243, 'avg_total_loss_tr': 0.2143793978252151, 'avg_n_err_tr': 0.06383816120906802, 'avg_logistic_err_te': 0.20695173820290166, 'avg_ridge_norm_te': 0.010378506535471243, 'avg_total_loss_te': 0.2173302447383729, 'avg_n_err_te': 0.06389063811922754}\n",
      "iteration 800 - {'batch_size': 2500, 'degree': -2, 'gamma': 0.01, 'k_fold': 4, 'lambda': 0.01, 'max_iters': 100, 'num_batches': 1, 'seed': 700, 'seed_cv': 0, 'avg_logistic_err_tr': 0.20274125463190926, 'avg_ridge_norm_tr': 0.01058490856531905, 'avg_total_loss_tr': 0.2133261631972283, 'avg_n_err_tr': 0.06419675342849146, 'avg_logistic_err_te': 0.20547095384209735, 'avg_ridge_norm_te': 0.01058490856531905, 'avg_total_loss_te': 0.21605586240741642, 'avg_n_err_te': 0.06465155331654072}\n",
      "iteration 900 - {'batch_size': 2500, 'degree': -2, 'gamma': 0.01, 'k_fold': 4, 'lambda': 0.01, 'max_iters': 100, 'num_batches': 1, 'seed': 800, 'seed_cv': 0, 'avg_logistic_err_tr': 0.20190075778859778, 'avg_ridge_norm_tr': 0.010839973709875893, 'avg_total_loss_tr': 0.21274073149847367, 'avg_n_err_tr': 0.06480023789532606, 'avg_logistic_err_te': 0.20499637442371196, 'avg_ridge_norm_te': 0.010839973709875893, 'avg_total_loss_te': 0.21583634813358787, 'avg_n_err_te': 0.06494017632241814}\n",
      "iteration 1000 - {'batch_size': 2500, 'degree': -2, 'gamma': 0.01, 'k_fold': 4, 'lambda': 0.01, 'max_iters': 100, 'num_batches': 1, 'seed': 900, 'seed_cv': 0, 'avg_logistic_err_tr': 0.1996091673417055, 'avg_ridge_norm_tr': 0.011085773565352477, 'avg_total_loss_tr': 0.21069494090705795, 'avg_n_err_tr': 0.06375069969213547, 'avg_logistic_err_te': 0.20313668349113198, 'avg_ridge_norm_te': 0.011085773565352477, 'avg_total_loss_te': 0.21422245705648443, 'avg_n_err_te': 0.06441540722082283}\n",
      "iteration 100 - {'batch_size': 2500, 'degree': -2, 'gamma': 0.01, 'k_fold': 4, 'lambda': 0.001, 'max_iters': 100, 'num_batches': 1, 'seed': 0, 'seed_cv': 0, 'avg_logistic_err_tr': 0.2797957999037099, 'avg_ridge_norm_tr': 0.0005534585328401936, 'avg_total_loss_tr': 0.28034925843655006, 'avg_n_err_tr': 0.06683809123985446, 'avg_logistic_err_te': 0.28019869540425824, 'avg_ridge_norm_te': 0.0005534585328401936, 'avg_total_loss_te': 0.28075215393709846, 'avg_n_err_te': 0.06661943744752309}\n",
      "iteration 200 - {'batch_size': 2500, 'degree': -2, 'gamma': 0.01, 'k_fold': 4, 'lambda': 0.001, 'max_iters': 100, 'num_batches': 1, 'seed': 100, 'seed_cv': 0, 'avg_logistic_err_tr': 0.23830261129523744, 'avg_ridge_norm_tr': 0.0007323686214197666, 'avg_total_loss_tr': 0.23903497991665723, 'avg_n_err_tr': 0.06561363000279877, 'avg_logistic_err_te': 0.239665950850603, 'avg_ridge_norm_te': 0.0007323686214197666, 'avg_total_loss_te': 0.24039831947202275, 'avg_n_err_te': 0.06591099916036944}\n",
      "iteration 300 - {'batch_size': 2500, 'degree': -2, 'gamma': 0.01, 'k_fold': 4, 'lambda': 0.001, 'max_iters': 100, 'num_batches': 1, 'seed': 200, 'seed_cv': 0, 'avg_logistic_err_tr': 0.2216491234129071, 'avg_ridge_norm_tr': 0.0008374694545816207, 'avg_total_loss_tr': 0.22248659286748876, 'avg_n_err_tr': 0.06534249930030786, 'avg_logistic_err_te': 0.22270726913398478, 'avg_ridge_norm_te': 0.0008374694545816207, 'avg_total_loss_te': 0.22354473858856638, 'avg_n_err_te': 0.06533375314861462}\n",
      "iteration 400 - {'batch_size': 2500, 'degree': -2, 'gamma': 0.01, 'k_fold': 4, 'lambda': 0.001, 'max_iters': 100, 'num_batches': 1, 'seed': 300, 'seed_cv': 0, 'avg_logistic_err_tr': 0.21388475413030195, 'avg_ridge_norm_tr': 0.0009181581620359997, 'avg_total_loss_tr': 0.21480291229233794, 'avg_n_err_tr': 0.06525503778337531, 'avg_logistic_err_te': 0.21584744168629982, 'avg_ridge_norm_te': 0.0009181581620359997, 'avg_total_loss_te': 0.21676559984833582, 'avg_n_err_te': 0.06533375314861462}\n",
      "iteration 500 - {'batch_size': 2500, 'degree': -2, 'gamma': 0.01, 'k_fold': 4, 'lambda': 0.001, 'max_iters': 100, 'num_batches': 1, 'seed': 400, 'seed_cv': 0, 'avg_logistic_err_tr': 0.21005602738800055, 'avg_ridge_norm_tr': 0.000984271639283111, 'avg_total_loss_tr': 0.21104029902728363, 'avg_n_err_tr': 0.06476525328855302, 'avg_logistic_err_te': 0.21181327207346473, 'avg_ridge_norm_te': 0.000984271639283111, 'avg_total_loss_te': 0.21279754371274787, 'avg_n_err_te': 0.06525503778337532}\n",
      "iteration 600 - {'batch_size': 2500, 'degree': -2, 'gamma': 0.01, 'k_fold': 4, 'lambda': 0.001, 'max_iters': 100, 'num_batches': 1, 'seed': 500, 'seed_cv': 0, 'avg_logistic_err_tr': 0.20650263551146508, 'avg_ridge_norm_tr': 0.0010207103990452935, 'avg_total_loss_tr': 0.20752334591051036, 'avg_n_err_tr': 0.06451161488944865, 'avg_logistic_err_te': 0.20880804449930346, 'avg_ridge_norm_te': 0.0010207103990452935, 'avg_total_loss_te': 0.20982875489834873, 'avg_n_err_te': 0.06530751469353484}\n",
      "iteration 700 - {'batch_size': 2500, 'degree': -2, 'gamma': 0.01, 'k_fold': 4, 'lambda': 0.001, 'max_iters': 100, 'num_batches': 1, 'seed': 600, 'seed_cv': 0, 'avg_logistic_err_tr': 0.2031483554602842, 'avg_ridge_norm_tr': 0.0010604863266140895, 'avg_total_loss_tr': 0.20420884178689827, 'avg_n_err_tr': 0.06383816120906802, 'avg_logistic_err_te': 0.20617421471061642, 'avg_ridge_norm_te': 0.0010604863266140895, 'avg_total_loss_te': 0.2072347010372305, 'avg_n_err_te': 0.06381192275398825}\n"
     ]
    },
    {
     "name": "stdout",
     "output_type": "stream",
     "text": [
      "iteration 800 - {'batch_size': 2500, 'degree': -2, 'gamma': 0.01, 'k_fold': 4, 'lambda': 0.001, 'max_iters': 100, 'num_batches': 1, 'seed': 700, 'seed_cv': 0, 'avg_logistic_err_tr': 0.20184105337439734, 'avg_ridge_norm_tr': 0.0010843835438105157, 'avg_total_loss_tr': 0.20292543691820786, 'avg_n_err_tr': 0.06418800727679821, 'avg_logistic_err_te': 0.20466341143721586, 'avg_ridge_norm_te': 0.0010843835438105157, 'avg_total_loss_te': 0.2057477949810264, 'avg_n_err_te': 0.06441540722082284}\n",
      "iteration 900 - {'batch_size': 2500, 'degree': -2, 'gamma': 0.01, 'k_fold': 4, 'lambda': 0.001, 'max_iters': 100, 'num_batches': 1, 'seed': 800, 'seed_cv': 0, 'avg_logistic_err_tr': 0.20099121197841052, 'avg_ridge_norm_tr': 0.0011130215897378797, 'avg_total_loss_tr': 0.20210423356814844, 'avg_n_err_tr': 0.06480023789532605, 'avg_logistic_err_te': 0.2041965234856376, 'avg_ridge_norm_te': 0.0011130215897378797, 'avg_total_loss_te': 0.2053095450753755, 'avg_n_err_te': 0.06507136859781695}\n",
      "iteration 1000 - {'batch_size': 2500, 'degree': -2, 'gamma': 0.01, 'k_fold': 4, 'lambda': 0.001, 'max_iters': 100, 'num_batches': 1, 'seed': 900, 'seed_cv': 0, 'avg_logistic_err_tr': 0.19867276972377224, 'avg_ridge_norm_tr': 0.0011407371821174465, 'avg_total_loss_tr': 0.19981350690588967, 'avg_n_err_tr': 0.06375069969213545, 'avg_logistic_err_te': 0.20231553620912776, 'avg_ridge_norm_te': 0.0011407371821174465, 'avg_total_loss_te': 0.20345627339124522, 'avg_n_err_te': 0.06446788413098237}\n",
      "iteration 100 - {'batch_size': 2500, 'degree': -2, 'gamma': 0.001, 'k_fold': 4, 'lambda': 0.01, 'max_iters': 100, 'num_batches': 1, 'seed': 0, 'seed_cv': 0, 'avg_logistic_err_tr': 0.5145433160358339, 'avg_ridge_norm_tr': 0.0012973876053575673, 'avg_total_loss_tr': 0.5158407036411915, 'avg_n_err_tr': 0.07427232017912119, 'avg_logistic_err_te': 0.5145755389344708, 'avg_ridge_norm_te': 0.0012973876053575673, 'avg_total_loss_te': 0.5158729265398284, 'avg_n_err_te': 0.07425482787573467}\n",
      "iteration 200 - {'batch_size': 2500, 'degree': -2, 'gamma': 0.001, 'k_fold': 4, 'lambda': 0.01, 'max_iters': 100, 'num_batches': 1, 'seed': 100, 'seed_cv': 0, 'avg_logistic_err_tr': 0.4431666228225518, 'avg_ridge_norm_tr': 0.0021024911459849183, 'avg_total_loss_tr': 0.44526911396853674, 'avg_n_err_tr': 0.07282920514973412, 'avg_logistic_err_te': 0.44366462410866997, 'avg_ridge_norm_te': 0.0021024911459849183, 'avg_total_loss_te': 0.44576711525465484, 'avg_n_err_te': 0.07299538203190596}\n",
      "iteration 300 - {'batch_size': 2500, 'degree': -2, 'gamma': 0.001, 'k_fold': 4, 'lambda': 0.01, 'max_iters': 100, 'num_batches': 1, 'seed': 200, 'seed_cv': 0, 'avg_logistic_err_tr': 0.3974047580367655, 'avg_ridge_norm_tr': 0.0027287527480888626, 'avg_total_loss_tr': 0.4001335107848544, 'avg_n_err_tr': 0.0714735516372796, 'avg_logistic_err_te': 0.39793013838347624, 'avg_ridge_norm_te': 0.0027287527480888626, 'avg_total_loss_te': 0.40065889113156516, 'avg_n_err_te': 0.07176217464315701}\n",
      "iteration 400 - {'batch_size': 2500, 'degree': -2, 'gamma': 0.001, 'k_fold': 4, 'lambda': 0.01, 'max_iters': 100, 'num_batches': 1, 'seed': 300, 'seed_cv': 0, 'avg_logistic_err_tr': 0.3634038830704191, 'avg_ridge_norm_tr': 0.0032769764420764813, 'avg_total_loss_tr': 0.36668085951249557, 'avg_n_err_tr': 0.06992548278757346, 'avg_logistic_err_te': 0.3639571870181042, 'avg_ridge_norm_te': 0.0032769764420764813, 'avg_total_loss_te': 0.3672341634601807, 'avg_n_err_te': 0.06995172124265323}\n",
      "iteration 500 - {'batch_size': 2500, 'degree': -2, 'gamma': 0.001, 'k_fold': 4, 'lambda': 0.01, 'max_iters': 100, 'num_batches': 1, 'seed': 400, 'seed_cv': 0, 'avg_logistic_err_tr': 0.33801579468140464, 'avg_ridge_norm_tr': 0.003772725723455531, 'avg_total_loss_tr': 0.34178852040486024, 'avg_n_err_tr': 0.0688497061293031, 'avg_logistic_err_te': 0.3386214620653641, 'avg_ridge_norm_te': 0.003772725723455531, 'avg_total_loss_te': 0.3423941877888196, 'avg_n_err_te': 0.06877099076406382}\n",
      "iteration 600 - {'batch_size': 2500, 'degree': -2, 'gamma': 0.001, 'k_fold': 4, 'lambda': 0.01, 'max_iters': 100, 'num_batches': 1, 'seed': 500, 'seed_cv': 0, 'avg_logistic_err_tr': 0.31956084913674276, 'avg_ridge_norm_tr': 0.004182909801080631, 'avg_total_loss_tr': 0.32374375893782337, 'avg_n_err_tr': 0.06851735236495941, 'avg_logistic_err_te': 0.3201898237336644, 'avg_ridge_norm_te': 0.004182909801080631, 'avg_total_loss_te': 0.324372733534745, 'avg_n_err_te': 0.0684036523929471}\n",
      "iteration 700 - {'batch_size': 2500, 'degree': -2, 'gamma': 0.001, 'k_fold': 4, 'lambda': 0.01, 'max_iters': 100, 'num_batches': 1, 'seed': 600, 'seed_cv': 0, 'avg_logistic_err_tr': 0.3048473571897775, 'avg_ridge_norm_tr': 0.004563632709441413, 'avg_total_loss_tr': 0.3094109898992189, 'avg_n_err_tr': 0.06853484466834593, 'avg_logistic_err_te': 0.30564626306141834, 'avg_ridge_norm_te': 0.004563632709441413, 'avg_total_loss_te': 0.3102098957708597, 'avg_n_err_te': 0.06858732157850546}\n",
      "iteration 800 - {'batch_size': 2500, 'degree': -2, 'gamma': 0.001, 'k_fold': 4, 'lambda': 0.01, 'max_iters': 100, 'num_batches': 1, 'seed': 700, 'seed_cv': 0, 'avg_logistic_err_tr': 0.2925221204637175, 'avg_ridge_norm_tr': 0.004875446214759779, 'avg_total_loss_tr': 0.2973975666784772, 'avg_n_err_tr': 0.06711796809403862, 'avg_logistic_err_te': 0.29329309724662134, 'avg_ridge_norm_te': 0.004875446214759779, 'avg_total_loss_te': 0.29816854346138116, 'avg_n_err_te': 0.06693429890848027}\n",
      "iteration 900 - {'batch_size': 2500, 'degree': -2, 'gamma': 0.001, 'k_fold': 4, 'lambda': 0.01, 'max_iters': 100, 'num_batches': 1, 'seed': 800, 'seed_cv': 0, 'avg_logistic_err_tr': 0.28245308168019057, 'avg_ridge_norm_tr': 0.0051728865861004275, 'avg_total_loss_tr': 0.287625968266291, 'avg_n_err_tr': 0.06732787573467675, 'avg_logistic_err_te': 0.2834113345831953, 'avg_ridge_norm_te': 0.0051728865861004275, 'avg_total_loss_te': 0.2885842211692957, 'avg_n_err_te': 0.0669867758186398}\n",
      "iteration 1000 - {'batch_size': 2500, 'degree': -2, 'gamma': 0.001, 'k_fold': 4, 'lambda': 0.01, 'max_iters': 100, 'num_batches': 1, 'seed': 900, 'seed_cv': 0, 'avg_logistic_err_tr': 0.2738950731467894, 'avg_ridge_norm_tr': 0.0054479797674668335, 'avg_total_loss_tr': 0.27934305291425626, 'avg_n_err_tr': 0.06677686817800169, 'avg_logistic_err_te': 0.27503570255536114, 'avg_ridge_norm_te': 0.0054479797674668335, 'avg_total_loss_te': 0.28048368232282794, 'avg_n_err_te': 0.06667191435768262}\n",
      "iteration 100 - {'batch_size': 2500, 'degree': -2, 'gamma': 0.001, 'k_fold': 4, 'lambda': 0.001, 'max_iters': 100, 'num_batches': 1, 'seed': 0, 'seed_cv': 0, 'avg_logistic_err_tr': 0.514493470532803, 'avg_ridge_norm_tr': 0.00012979230800452436, 'avg_total_loss_tr': 0.5146232628408074, 'avg_n_err_tr': 0.07427232017912119, 'avg_logistic_err_te': 0.5145256970246816, 'avg_ridge_norm_te': 0.00012979230800452436, 'avg_total_loss_te': 0.5146554893326862, 'avg_n_err_te': 0.07425482787573467}\n",
      "iteration 200 - {'batch_size': 2500, 'degree': -2, 'gamma': 0.001, 'k_fold': 4, 'lambda': 0.001, 'max_iters': 100, 'num_batches': 1, 'seed': 100, 'seed_cv': 0, 'avg_logistic_err_tr': 0.44304424075848264, 'avg_ridge_norm_tr': 0.00021041932147458872, 'avg_total_loss_tr': 0.4432546600799573, 'avg_n_err_tr': 0.07282920514973412, 'avg_logistic_err_te': 0.443542546279468, 'avg_ridge_norm_te': 0.00021041932147458872, 'avg_total_loss_te': 0.4437529656009426, 'avg_n_err_te': 0.07299538203190596}\n",
      "iteration 300 - {'batch_size': 2500, 'degree': -2, 'gamma': 0.001, 'k_fold': 4, 'lambda': 0.001, 'max_iters': 100, 'num_batches': 1, 'seed': 200, 'seed_cv': 0, 'avg_logistic_err_tr': 0.39720656370379387, 'avg_ridge_norm_tr': 0.0002732017525794385, 'avg_total_loss_tr': 0.3974797654563733, 'avg_n_err_tr': 0.0714735516372796, 'avg_logistic_err_te': 0.39773277425536674, 'avg_ridge_norm_te': 0.0002732017525794385, 'avg_total_loss_te': 0.3980059760079462, 'avg_n_err_te': 0.07176217464315701}\n",
      "iteration 400 - {'batch_size': 2500, 'degree': -2, 'gamma': 0.001, 'k_fold': 4, 'lambda': 0.001, 'max_iters': 100, 'num_batches': 1, 'seed': 300, 'seed_cv': 0, 'avg_logistic_err_tr': 0.3631362851930864, 'avg_ridge_norm_tr': 0.00032820920678830955, 'avg_total_loss_tr': 0.3634644943998747, 'avg_n_err_tr': 0.06993422893926672, 'avg_logistic_err_te': 0.36369044749376384, 'avg_ridge_norm_te': 0.00032820920678830955, 'avg_total_loss_te': 0.36401865670055217, 'avg_n_err_te': 0.06995172124265323}\n"
     ]
    },
    {
     "name": "stdout",
     "output_type": "stream",
     "text": [
      "iteration 500 - {'batch_size': 2500, 'degree': -2, 'gamma': 0.001, 'k_fold': 4, 'lambda': 0.001, 'max_iters': 100, 'num_batches': 1, 'seed': 400, 'seed_cv': 0, 'avg_logistic_err_tr': 0.3376890843630257, 'avg_ridge_norm_tr': 0.0003779955406275863, 'avg_total_loss_tr': 0.3380670799036532, 'avg_n_err_tr': 0.06885845228099637, 'avg_logistic_err_te': 0.33829578869501037, 'avg_ridge_norm_te': 0.0003779955406275863, 'avg_total_loss_te': 0.338673784235638, 'avg_n_err_te': 0.06874475230898405}\n",
      "iteration 600 - {'batch_size': 2500, 'degree': -2, 'gamma': 0.001, 'k_fold': 4, 'lambda': 0.001, 'max_iters': 100, 'num_batches': 1, 'seed': 500, 'seed_cv': 0, 'avg_logistic_err_tr': 0.3191790124277407, 'avg_ridge_norm_tr': 0.0004192475515141929, 'avg_total_loss_tr': 0.3195982599792549, 'avg_n_err_tr': 0.06851735236495941, 'avg_logistic_err_te': 0.3198090562366863, 'avg_ridge_norm_te': 0.0004192475515141929, 'avg_total_loss_te': 0.3202283037882005, 'avg_n_err_te': 0.06842989084802686}\n",
      "iteration 700 - {'batch_size': 2500, 'degree': -2, 'gamma': 0.001, 'k_fold': 4, 'lambda': 0.001, 'max_iters': 100, 'num_batches': 1, 'seed': 600, 'seed_cv': 0, 'avg_logistic_err_tr': 0.3044201415405624, 'avg_ridge_norm_tr': 0.0004575698465974787, 'avg_total_loss_tr': 0.30487771138715986, 'avg_n_err_tr': 0.06851735236495943, 'avg_logistic_err_te': 0.30522064613745525, 'avg_ridge_norm_te': 0.0004575698465974787, 'avg_total_loss_te': 0.30567821598405276, 'avg_n_err_te': 0.06853484466834592}\n",
      "iteration 800 - {'batch_size': 2500, 'degree': -2, 'gamma': 0.001, 'k_fold': 4, 'lambda': 0.001, 'max_iters': 100, 'num_batches': 1, 'seed': 700, 'seed_cv': 0, 'avg_logistic_err_tr': 0.2920443437794386, 'avg_ridge_norm_tr': 0.0004890194213617639, 'avg_total_loss_tr': 0.29253336320080037, 'avg_n_err_tr': 0.0670829834872656, 'avg_logistic_err_te': 0.2928172671737592, 'avg_ridge_norm_te': 0.0004890194213617639, 'avg_total_loss_te': 0.293306286595121, 'avg_n_err_te': 0.0669080604534005}\n",
      "iteration 900 - {'batch_size': 2500, 'degree': -2, 'gamma': 0.001, 'k_fold': 4, 'lambda': 0.001, 'max_iters': 100, 'num_batches': 1, 'seed': 800, 'seed_cv': 0, 'avg_logistic_err_tr': 0.2819363188532403, 'avg_ridge_norm_tr': 0.0005190362585063932, 'avg_total_loss_tr': 0.2824553551117467, 'avg_n_err_tr': 0.06734536803806324, 'avg_logistic_err_te': 0.28289696393428265, 'avg_ridge_norm_te': 0.0005190362585063932, 'avg_total_loss_te': 0.28341600019278906, 'avg_n_err_te': 0.06696053736356003}\n",
      "iteration 1000 - {'batch_size': 2500, 'degree': -2, 'gamma': 0.001, 'k_fold': 4, 'lambda': 0.001, 'max_iters': 100, 'num_batches': 1, 'seed': 900, 'seed_cv': 0, 'avg_logistic_err_tr': 0.2733434846591155, 'avg_ridge_norm_tr': 0.0005468336082436915, 'avg_total_loss_tr': 0.2738903182673592, 'avg_n_err_tr': 0.06675062972292191, 'avg_logistic_err_te': 0.27448768446454463, 'avg_ridge_norm_te': 0.0005468336082436915, 'avg_total_loss_te': 0.27503451807278834, 'avg_n_err_te': 0.06664567590260286}\n",
      "iteration 100 - {'batch_size': 2500, 'degree': 2, 'gamma': 0.01, 'k_fold': 4, 'lambda': 0.01, 'max_iters': 100, 'num_batches': 1, 'seed': 0, 'seed_cv': 0, 'avg_logistic_err_tr': 0.28832343784402437, 'avg_ridge_norm_tr': 0.005587343935284832, 'avg_total_loss_tr': 0.2939107817793092, 'avg_n_err_tr': 0.070870067170445, 'avg_logistic_err_te': 0.28816613348218956, 'avg_ridge_norm_te': 0.005587343935284832, 'avg_total_loss_te': 0.29375347741747443, 'avg_n_err_te': 0.07047649034424854}\n",
      "iteration 200 - {'batch_size': 2500, 'degree': 2, 'gamma': 0.01, 'k_fold': 4, 'lambda': 0.01, 'max_iters': 100, 'num_batches': 1, 'seed': 100, 'seed_cv': 0, 'avg_logistic_err_tr': 0.2467855410441633, 'avg_ridge_norm_tr': 0.007453187428113961, 'avg_total_loss_tr': 0.25423872847227724, 'avg_n_err_tr': 0.07072138259165967, 'avg_logistic_err_te': 0.2470857487726033, 'avg_ridge_norm_te': 0.007453187428113961, 'avg_total_loss_te': 0.2545389362007173, 'avg_n_err_te': 0.07068639798488664}\n",
      "iteration 300 - {'batch_size': 2500, 'degree': 2, 'gamma': 0.01, 'k_fold': 4, 'lambda': 0.01, 'max_iters': 100, 'num_batches': 1, 'seed': 200, 'seed_cv': 0, 'avg_logistic_err_tr': 0.23182538108457038, 'avg_ridge_norm_tr': 0.008493030556247689, 'avg_total_loss_tr': 0.24031841164081807, 'avg_n_err_tr': 0.06984676742233417, 'avg_logistic_err_te': 0.23201671432533205, 'avg_ridge_norm_te': 0.008493030556247689, 'avg_total_loss_te': 0.24050974488157972, 'avg_n_err_te': 0.07003043660789253}\n",
      "iteration 400 - {'batch_size': 2500, 'degree': 2, 'gamma': 0.01, 'k_fold': 4, 'lambda': 0.01, 'max_iters': 100, 'num_batches': 1, 'seed': 300, 'seed_cv': 0, 'avg_logistic_err_tr': 0.22431099498591592, 'avg_ridge_norm_tr': 0.00928914432083295, 'avg_total_loss_tr': 0.23360013930674883, 'avg_n_err_tr': 0.06997795969773299, 'avg_logistic_err_te': 0.22469992875130182, 'avg_ridge_norm_te': 0.00928914432083295, 'avg_total_loss_te': 0.2339890730721348, 'avg_n_err_te': 0.0697418136020151}\n",
      "iteration 500 - {'batch_size': 2500, 'degree': 2, 'gamma': 0.01, 'k_fold': 4, 'lambda': 0.01, 'max_iters': 100, 'num_batches': 1, 'seed': 400, 'seed_cv': 0, 'avg_logistic_err_tr': 0.22014387127566853, 'avg_ridge_norm_tr': 0.009905993424231194, 'avg_total_loss_tr': 0.23004986469989974, 'avg_n_err_tr': 0.07001294430450603, 'avg_logistic_err_te': 0.2205318319387035, 'avg_ridge_norm_te': 0.009905993424231194, 'avg_total_loss_te': 0.23043782536293472, 'avg_n_err_te': 0.07029282115869018}\n",
      "iteration 600 - {'batch_size': 2500, 'degree': 2, 'gamma': 0.01, 'k_fold': 4, 'lambda': 0.01, 'max_iters': 100, 'num_batches': 1, 'seed': 500, 'seed_cv': 0, 'avg_logistic_err_tr': 0.217809014489943, 'avg_ridge_norm_tr': 0.010206451220095803, 'avg_total_loss_tr': 0.2280154657100388, 'avg_n_err_tr': 0.06984676742233417, 'avg_logistic_err_te': 0.21830441595786287, 'avg_ridge_norm_te': 0.010206451220095803, 'avg_total_loss_te': 0.22851086717795868, 'avg_n_err_te': 0.06963685978169605}\n",
      "iteration 700 - {'batch_size': 2500, 'degree': 2, 'gamma': 0.01, 'k_fold': 4, 'lambda': 0.01, 'max_iters': 100, 'num_batches': 1, 'seed': 600, 'seed_cv': 0, 'avg_logistic_err_tr': 0.21584157431881837, 'avg_ridge_norm_tr': 0.0105063161806301, 'avg_total_loss_tr': 0.22634789049944845, 'avg_n_err_tr': 0.06867478309543801, 'avg_logistic_err_te': 0.216732235917574, 'avg_ridge_norm_te': 0.0105063161806301, 'avg_total_loss_te': 0.2272385520982041, 'avg_n_err_te': 0.06903337531486146}\n",
      "iteration 800 - {'batch_size': 2500, 'degree': 2, 'gamma': 0.01, 'k_fold': 4, 'lambda': 0.01, 'max_iters': 100, 'num_batches': 1, 'seed': 700, 'seed_cv': 0, 'avg_logistic_err_tr': 0.21477013281087332, 'avg_ridge_norm_tr': 0.010662916111414865, 'avg_total_loss_tr': 0.22543304892228822, 'avg_n_err_tr': 0.06996046739434648, 'avg_logistic_err_te': 0.21529830411929646, 'avg_ridge_norm_te': 0.010662916111414865, 'avg_total_loss_te': 0.2259612202307113, 'avg_n_err_te': 0.07010915197313182}\n",
      "iteration 900 - {'batch_size': 2500, 'degree': 2, 'gamma': 0.01, 'k_fold': 4, 'lambda': 0.01, 'max_iters': 100, 'num_batches': 1, 'seed': 800, 'seed_cv': 0, 'avg_logistic_err_tr': 0.21348870973950104, 'avg_ridge_norm_tr': 0.010865436249101034, 'avg_total_loss_tr': 0.22435414598860207, 'avg_n_err_tr': 0.06966309823677583, 'avg_logistic_err_te': 0.2141228716768604, 'avg_ridge_norm_te': 0.010865436249101034, 'avg_total_loss_te': 0.22498830792596142, 'avg_n_err_te': 0.06997795969773299}\n",
      "iteration 1000 - {'batch_size': 2500, 'degree': 2, 'gamma': 0.01, 'k_fold': 4, 'lambda': 0.01, 'max_iters': 100, 'num_batches': 1, 'seed': 900, 'seed_cv': 0, 'avg_logistic_err_tr': 0.21187192752908518, 'avg_ridge_norm_tr': 0.011095295092350237, 'avg_total_loss_tr': 0.22296722262143542, 'avg_n_err_tr': 0.06943569829275119, 'avg_logistic_err_te': 0.21298967246001227, 'avg_ridge_norm_te': 0.011095295092350237, 'avg_total_loss_te': 0.2240849675523625, 'avg_n_err_te': 0.06961062132661629}\n",
      "iteration 100 - {'batch_size': 2500, 'degree': 2, 'gamma': 0.01, 'k_fold': 4, 'lambda': 0.001, 'max_iters': 100, 'num_batches': 1, 'seed': 0, 'seed_cv': 0, 'avg_logistic_err_tr': 0.28774447644072343, 'avg_ridge_norm_tr': 0.0005608420050492455, 'avg_total_loss_tr': 0.28830531844577273, 'avg_n_err_tr': 0.07086132101875176, 'avg_logistic_err_te': 0.28758650415212894, 'avg_ridge_norm_te': 0.0005608420050492455, 'avg_total_loss_te': 0.2881473461571782, 'avg_n_err_te': 0.07042401343408901}\n"
     ]
    },
    {
     "name": "stdout",
     "output_type": "stream",
     "text": [
      "iteration 200 - {'batch_size': 2500, 'degree': 2, 'gamma': 0.01, 'k_fold': 4, 'lambda': 0.001, 'max_iters': 100, 'num_batches': 1, 'seed': 100, 'seed_cv': 0, 'avg_logistic_err_tr': 0.2460011425728144, 'avg_ridge_norm_tr': 0.0007507446760006462, 'avg_total_loss_tr': 0.24675188724881503, 'avg_n_err_tr': 0.07071263643996642, 'avg_logistic_err_te': 0.24630073622936408, 'avg_ridge_norm_te': 0.0007507446760006462, 'avg_total_loss_te': 0.24705148090536472, 'avg_n_err_te': 0.07066015952980689}\n",
      "iteration 300 - {'batch_size': 2500, 'degree': 2, 'gamma': 0.01, 'k_fold': 4, 'lambda': 0.001, 'max_iters': 100, 'num_batches': 1, 'seed': 200, 'seed_cv': 0, 'avg_logistic_err_tr': 0.23096633027354962, 'avg_ridge_norm_tr': 0.0008582221869459955, 'avg_total_loss_tr': 0.23182455246049563, 'avg_n_err_tr': 0.0698817520291072, 'avg_logistic_err_te': 0.231158512610165, 'avg_ridge_norm_te': 0.0008582221869459955, 'avg_total_loss_te': 0.232016734797111, 'avg_n_err_te': 0.06995172124265323}\n",
      "iteration 400 - {'batch_size': 2500, 'degree': 2, 'gamma': 0.01, 'k_fold': 4, 'lambda': 0.001, 'max_iters': 100, 'num_batches': 1, 'seed': 300, 'seed_cv': 0, 'avg_logistic_err_tr': 0.22348616175112443, 'avg_ridge_norm_tr': 0.0009413475810206935, 'avg_total_loss_tr': 0.22442750933214511, 'avg_n_err_tr': 0.07001294430450601, 'avg_logistic_err_te': 0.22388212883364186, 'avg_ridge_norm_te': 0.0009413475810206935, 'avg_total_loss_te': 0.22482347641466255, 'avg_n_err_te': 0.06979429051217464}\n",
      "iteration 500 - {'batch_size': 2500, 'degree': 2, 'gamma': 0.01, 'k_fold': 4, 'lambda': 0.001, 'max_iters': 100, 'num_batches': 1, 'seed': 400, 'seed_cv': 0, 'avg_logistic_err_tr': 0.21940140533952773, 'avg_ridge_norm_tr': 0.001006625062752022, 'avg_total_loss_tr': 0.22040803040227977, 'avg_n_err_tr': 0.07003043660789252, 'avg_logistic_err_te': 0.2198012645159767, 'avg_ridge_norm_te': 0.001006625062752022, 'avg_total_loss_te': 0.22080788957872874, 'avg_n_err_te': 0.07018786733837111}\n",
      "iteration 600 - {'batch_size': 2500, 'degree': 2, 'gamma': 0.01, 'k_fold': 4, 'lambda': 0.001, 'max_iters': 100, 'num_batches': 1, 'seed': 500, 'seed_cv': 0, 'avg_logistic_err_tr': 0.2170482825779959, 'avg_ridge_norm_tr': 0.0010400757297625376, 'avg_total_loss_tr': 0.21808835830775847, 'avg_n_err_tr': 0.06987300587741394, 'avg_logistic_err_te': 0.21755136214644355, 'avg_ridge_norm_te': 0.0010400757297625376, 'avg_total_loss_te': 0.2185914378762061, 'avg_n_err_te': 0.06971557514693535}\n",
      "iteration 700 - {'batch_size': 2500, 'degree': 2, 'gamma': 0.01, 'k_fold': 4, 'lambda': 0.001, 'max_iters': 100, 'num_batches': 1, 'seed': 600, 'seed_cv': 0, 'avg_logistic_err_tr': 0.21508213442522123, 'avg_ridge_norm_tr': 0.0010732582347618487, 'avg_total_loss_tr': 0.21615539265998307, 'avg_n_err_tr': 0.0686572907920515, 'avg_logistic_err_te': 0.21598800952477704, 'avg_ridge_norm_te': 0.0010732582347618487, 'avg_total_loss_te': 0.21706126775953885, 'avg_n_err_te': 0.06900713685978169}\n",
      "iteration 800 - {'batch_size': 2500, 'degree': 2, 'gamma': 0.01, 'k_fold': 4, 'lambda': 0.001, 'max_iters': 100, 'num_batches': 1, 'seed': 700, 'seed_cv': 0, 'avg_logistic_err_tr': 0.21397696767822955, 'avg_ridge_norm_tr': 0.0010918535397790783, 'avg_total_loss_tr': 0.21506882121800858, 'avg_n_err_tr': 0.07002169045619927, 'avg_logistic_err_te': 0.2145263391261074, 'avg_ridge_norm_te': 0.0010918535397790783, 'avg_total_loss_te': 0.2156181926658865, 'avg_n_err_te': 0.07016162888329135}\n",
      "iteration 900 - {'batch_size': 2500, 'degree': 2, 'gamma': 0.01, 'k_fold': 4, 'lambda': 0.001, 'max_iters': 100, 'num_batches': 1, 'seed': 800, 'seed_cv': 0, 'avg_logistic_err_tr': 0.21266650100130924, 'avg_ridge_norm_tr': 0.0011148810842623725, 'avg_total_loss_tr': 0.2137813820855716, 'avg_n_err_tr': 0.06968933669185559, 'avg_logistic_err_te': 0.2133202625275237, 'avg_ridge_norm_te': 0.0011148810842623725, 'avg_total_loss_te': 0.21443514361178606, 'avg_n_err_te': 0.07008291351805206}\n",
      "iteration 1000 - {'batch_size': 2500, 'degree': 2, 'gamma': 0.01, 'k_fold': 4, 'lambda': 0.001, 'max_iters': 100, 'num_batches': 1, 'seed': 900, 'seed_cv': 0, 'avg_logistic_err_tr': 0.21108664070347044, 'avg_ridge_norm_tr': 0.0011405367770198195, 'avg_total_loss_tr': 0.21222717748049025, 'avg_n_err_tr': 0.0695493982647635, 'avg_logistic_err_te': 0.21223823707223463, 'avg_ridge_norm_te': 0.0011405367770198195, 'avg_total_loss_te': 0.21337877384925447, 'avg_n_err_te': 0.06966309823677583}\n",
      "iteration 100 - {'batch_size': 2500, 'degree': 2, 'gamma': 0.001, 'k_fold': 4, 'lambda': 0.01, 'max_iters': 100, 'num_batches': 1, 'seed': 0, 'seed_cv': 0, 'avg_logistic_err_tr': 0.5385855284667249, 'avg_ridge_norm_tr': 0.0012189143462501037, 'avg_total_loss_tr': 0.539804442812975, 'avg_n_err_tr': 0.0743860201511335, 'avg_logistic_err_te': 0.5385733573118511, 'avg_ridge_norm_te': 0.0012189143462501037, 'avg_total_loss_te': 0.5397922716581012, 'avg_n_err_te': 0.0743860201511335}\n",
      "iteration 200 - {'batch_size': 2500, 'degree': 2, 'gamma': 0.001, 'k_fold': 4, 'lambda': 0.01, 'max_iters': 100, 'num_batches': 1, 'seed': 100, 'seed_cv': 0, 'avg_logistic_err_tr': 0.4659149855463356, 'avg_ridge_norm_tr': 0.0020389263705565524, 'avg_total_loss_tr': 0.4679539119168921, 'avg_n_err_tr': 0.0743860201511335, 'avg_logistic_err_te': 0.46613392971621365, 'avg_ridge_norm_te': 0.0020389263705565524, 'avg_total_loss_te': 0.4681728560867702, 'avg_n_err_te': 0.0743860201511335}\n",
      "iteration 300 - {'batch_size': 2500, 'degree': 2, 'gamma': 0.001, 'k_fold': 4, 'lambda': 0.01, 'max_iters': 100, 'num_batches': 1, 'seed': 200, 'seed_cv': 0, 'avg_logistic_err_tr': 0.41912021732223487, 'avg_ridge_norm_tr': 0.0026824856965306843, 'avg_total_loss_tr': 0.4218027030187655, 'avg_n_err_tr': 0.0743860201511335, 'avg_logistic_err_te': 0.419454151418324, 'avg_ridge_norm_te': 0.0026824856965306843, 'avg_total_loss_te': 0.42213663711485466, 'avg_n_err_te': 0.0743860201511335}\n",
      "iteration 400 - {'batch_size': 2500, 'degree': 2, 'gamma': 0.001, 'k_fold': 4, 'lambda': 0.01, 'max_iters': 100, 'num_batches': 1, 'seed': 300, 'seed_cv': 0, 'avg_logistic_err_tr': 0.3838471859134258, 'avg_ridge_norm_tr': 0.0032472599267658214, 'avg_total_loss_tr': 0.3870944458401916, 'avg_n_err_tr': 0.07437727399944025, 'avg_logistic_err_te': 0.38416575259859564, 'avg_ridge_norm_te': 0.0032472599267658214, 'avg_total_loss_te': 0.3874130125253615, 'avg_n_err_te': 0.0743860201511335}\n",
      "iteration 500 - {'batch_size': 2500, 'degree': 2, 'gamma': 0.001, 'k_fold': 4, 'lambda': 0.01, 'max_iters': 100, 'num_batches': 1, 'seed': 400, 'seed_cv': 0, 'avg_logistic_err_tr': 0.3569077113759896, 'avg_ridge_norm_tr': 0.003754820514310574, 'avg_total_loss_tr': 0.3606625318903002, 'avg_n_err_tr': 0.07393122026308424, 'avg_logistic_err_te': 0.35721341738612056, 'avg_ridge_norm_te': 0.003754820514310574, 'avg_total_loss_te': 0.3609682379004312, 'avg_n_err_te': 0.0739399664147775}\n",
      "iteration 600 - {'batch_size': 2500, 'degree': 2, 'gamma': 0.001, 'k_fold': 4, 'lambda': 0.01, 'max_iters': 100, 'num_batches': 1, 'seed': 500, 'seed_cv': 0, 'avg_logistic_err_tr': 0.3368965325432649, 'avg_ridge_norm_tr': 0.004187135661814303, 'avg_total_loss_tr': 0.3410836682050792, 'avg_n_err_tr': 0.07356388189196753, 'avg_logistic_err_te': 0.33722787595654125, 'avg_ridge_norm_te': 0.004187135661814303, 'avg_total_loss_te': 0.3414150116183555, 'avg_n_err_te': 0.07362510495382031}\n",
      "iteration 700 - {'batch_size': 2500, 'degree': 2, 'gamma': 0.001, 'k_fold': 4, 'lambda': 0.01, 'max_iters': 100, 'num_batches': 1, 'seed': 600, 'seed_cv': 0, 'avg_logistic_err_tr': 0.32070402802523645, 'avg_ridge_norm_tr': 0.00458800746291441, 'avg_total_loss_tr': 0.32529203548815083, 'avg_n_err_tr': 0.07340645116148894, 'avg_logistic_err_te': 0.3210915210323886, 'avg_ridge_norm_te': 0.00458800746291441, 'avg_total_loss_te': 0.32567952849530296, 'avg_n_err_te': 0.0734939126784215}\n",
      "iteration 800 - {'batch_size': 2500, 'degree': 2, 'gamma': 0.001, 'k_fold': 4, 'lambda': 0.01, 'max_iters': 100, 'num_batches': 1, 'seed': 700, 'seed_cv': 0, 'avg_logistic_err_tr': 0.30732642905111274, 'avg_ridge_norm_tr': 0.004913806623041307, 'avg_total_loss_tr': 0.31224023567415404, 'avg_n_err_tr': 0.07188462076686258, 'avg_logistic_err_te': 0.30760631794901755, 'avg_ridge_norm_te': 0.004913806623041307, 'avg_total_loss_te': 0.31252012457205885, 'avg_n_err_te': 0.07189336691855583}\n"
     ]
    },
    {
     "name": "stdout",
     "output_type": "stream",
     "text": [
      "iteration 900 - {'batch_size': 2500, 'degree': 2, 'gamma': 0.001, 'k_fold': 4, 'lambda': 0.01, 'max_iters': 100, 'num_batches': 1, 'seed': 800, 'seed_cv': 0, 'avg_logistic_err_tr': 0.29667656497797606, 'avg_ridge_norm_tr': 0.005229583741895787, 'avg_total_loss_tr': 0.30190614871987187, 'avg_n_err_tr': 0.07169220542961097, 'avg_logistic_err_te': 0.2970375638728564, 'avg_ridge_norm_te': 0.005229583741895787, 'avg_total_loss_te': 0.30226714761475215, 'avg_n_err_te': 0.0716309823677582}\n",
      "iteration 1000 - {'batch_size': 2500, 'degree': 2, 'gamma': 0.001, 'k_fold': 4, 'lambda': 0.01, 'max_iters': 100, 'num_batches': 1, 'seed': 900, 'seed_cv': 0, 'avg_logistic_err_tr': 0.2874056947791859, 'avg_ridge_norm_tr': 0.005519204611156941, 'avg_total_loss_tr': 0.29292489939034283, 'avg_n_err_tr': 0.07116743632801567, 'avg_logistic_err_te': 0.2878087430615758, 'avg_ridge_norm_te': 0.005519204611156941, 'avg_total_loss_te': 0.29332794767273274, 'avg_n_err_te': 0.07128988245172124}\n",
      "iteration 100 - {'batch_size': 2500, 'degree': 2, 'gamma': 0.001, 'k_fold': 4, 'lambda': 0.001, 'max_iters': 100, 'num_batches': 1, 'seed': 0, 'seed_cv': 0, 'avg_logistic_err_tr': 0.5385367077520247, 'avg_ridge_norm_tr': 0.00012194219427661857, 'avg_total_loss_tr': 0.5386586499463013, 'avg_n_err_tr': 0.0743860201511335, 'avg_logistic_err_te': 0.5385245170479045, 'avg_ridge_norm_te': 0.00012194219427661857, 'avg_total_loss_te': 0.5386464592421812, 'avg_n_err_te': 0.0743860201511335}\n",
      "iteration 200 - {'batch_size': 2500, 'degree': 2, 'gamma': 0.001, 'k_fold': 4, 'lambda': 0.001, 'max_iters': 100, 'num_batches': 1, 'seed': 100, 'seed_cv': 0, 'avg_logistic_err_tr': 0.4657911152680286, 'avg_ridge_norm_tr': 0.00020405844777167745, 'avg_total_loss_tr': 0.46599517371580024, 'avg_n_err_tr': 0.0743860201511335, 'avg_logistic_err_te': 0.46601019691005596, 'avg_ridge_norm_te': 0.00020405844777167745, 'avg_total_loss_te': 0.4662142553578276, 'avg_n_err_te': 0.0743860201511335}\n",
      "iteration 300 - {'batch_size': 2500, 'degree': 2, 'gamma': 0.001, 'k_fold': 4, 'lambda': 0.001, 'max_iters': 100, 'num_batches': 1, 'seed': 200, 'seed_cv': 0, 'avg_logistic_err_tr': 0.41891822447830207, 'avg_ridge_norm_tr': 0.0002685707573979525, 'avg_total_loss_tr': 0.4191867952357, 'avg_n_err_tr': 0.0743860201511335, 'avg_logistic_err_te': 0.4192525819485015, 'avg_ridge_norm_te': 0.0002685707573979525, 'avg_total_loss_te': 0.4195211527058994, 'avg_n_err_te': 0.0743860201511335}\n",
      "iteration 400 - {'batch_size': 2500, 'degree': 2, 'gamma': 0.001, 'k_fold': 4, 'lambda': 0.001, 'max_iters': 100, 'num_batches': 1, 'seed': 300, 'seed_cv': 0, 'avg_logistic_err_tr': 0.383570847878717, 'avg_ridge_norm_tr': 0.00032523522051612066, 'avg_total_loss_tr': 0.38389608309923307, 'avg_n_err_tr': 0.07437727399944025, 'avg_logistic_err_te': 0.3838900201767894, 'avg_ridge_norm_te': 0.00032523522051612066, 'avg_total_loss_te': 0.3842152553973055, 'avg_n_err_te': 0.0743860201511335}\n",
      "iteration 500 - {'batch_size': 2500, 'degree': 2, 'gamma': 0.001, 'k_fold': 4, 'lambda': 0.001, 'max_iters': 100, 'num_batches': 1, 'seed': 400, 'seed_cv': 0, 'avg_logistic_err_tr': 0.35656509624266197, 'avg_ridge_norm_tr': 0.00037620545418615625, 'avg_total_loss_tr': 0.3569413016968482, 'avg_n_err_tr': 0.073922474111391, 'avg_logistic_err_te': 0.3568714850552361, 'avg_ridge_norm_te': 0.00037620545418615625, 'avg_total_loss_te': 0.35724769050942223, 'avg_n_err_te': 0.0739399664147775}\n",
      "iteration 600 - {'batch_size': 2500, 'degree': 2, 'gamma': 0.001, 'k_fold': 4, 'lambda': 0.001, 'max_iters': 100, 'num_batches': 1, 'seed': 500, 'seed_cv': 0, 'avg_logistic_err_tr': 0.33649246919863796, 'avg_ridge_norm_tr': 0.00041967404390379947, 'avg_total_loss_tr': 0.33691214324254176, 'avg_n_err_tr': 0.07356388189196753, 'avg_logistic_err_te': 0.3368244459852079, 'avg_ridge_norm_te': 0.00041967404390379947, 'avg_total_loss_te': 0.33724412002911175, 'avg_n_err_te': 0.07359886649874055}\n",
      "iteration 700 - {'batch_size': 2500, 'degree': 2, 'gamma': 0.001, 'k_fold': 4, 'lambda': 0.001, 'max_iters': 100, 'num_batches': 1, 'seed': 600, 'seed_cv': 0, 'avg_logistic_err_tr': 0.3202494408892546, 'avg_ridge_norm_tr': 0.00046001660046261013, 'avg_total_loss_tr': 0.32070945748971724, 'avg_n_err_tr': 0.07340645116148894, 'avg_logistic_err_te': 0.3206375610293809, 'avg_ridge_norm_te': 0.00046001660046261013, 'avg_total_loss_te': 0.32109757762984353, 'avg_n_err_te': 0.0734939126784215}\n",
      "iteration 800 - {'batch_size': 2500, 'degree': 2, 'gamma': 0.001, 'k_fold': 4, 'lambda': 0.001, 'max_iters': 100, 'num_batches': 1, 'seed': 700, 'seed_cv': 0, 'avg_logistic_err_tr': 0.3068128132310523, 'avg_ridge_norm_tr': 0.0004928713708528468, 'avg_total_loss_tr': 0.30730568460190516, 'avg_n_err_tr': 0.07189336691855584, 'avg_logistic_err_te': 0.30709337838194695, 'avg_ridge_norm_te': 0.0004928713708528468, 'avg_total_loss_te': 0.3075862497527998, 'avg_n_err_te': 0.07189336691855583}\n",
      "iteration 900 - {'batch_size': 2500, 'degree': 2, 'gamma': 0.001, 'k_fold': 4, 'lambda': 0.001, 'max_iters': 100, 'num_batches': 1, 'seed': 800, 'seed_cv': 0, 'avg_logistic_err_tr': 0.2961203375283088, 'avg_ridge_norm_tr': 0.0005247305248517938, 'avg_total_loss_tr': 0.2966450680531606, 'avg_n_err_tr': 0.0716659669745312, 'avg_logistic_err_te': 0.29648209451192525, 'avg_ridge_norm_te': 0.0005247305248517938, 'avg_total_loss_te': 0.2970068250367771, 'avg_n_err_te': 0.07160474391267842}\n",
      "iteration 1000 - {'batch_size': 2500, 'degree': 2, 'gamma': 0.001, 'k_fold': 4, 'lambda': 0.001, 'max_iters': 100, 'num_batches': 1, 'seed': 900, 'seed_cv': 0, 'avg_logistic_err_tr': 0.2868096942158007, 'avg_ridge_norm_tr': 0.0005539892567095051, 'avg_total_loss_tr': 0.2873636834725103, 'avg_n_err_tr': 0.07119367478309543, 'avg_logistic_err_te': 0.2872137602738383, 'avg_ridge_norm_te': 0.0005539892567095051, 'avg_total_loss_te': 0.28776774953054785, 'avg_n_err_te': 0.07126364399664148}\n",
      "iteration 100 - {'batch_size': 2500, 'degree': 3, 'gamma': 0.01, 'k_fold': 4, 'lambda': 0.01, 'max_iters': 100, 'num_batches': 1, 'seed': 0, 'seed_cv': 0, 'avg_logistic_err_tr': 0.2835722289465259, 'avg_ridge_norm_tr': 0.005537347568435571, 'avg_total_loss_tr': 0.28910957651496144, 'avg_n_err_tr': 0.06948817520291072, 'avg_logistic_err_te': 0.2845987910556691, 'avg_ridge_norm_te': 0.005537347568435571, 'avg_total_loss_te': 0.29013613862410464, 'avg_n_err_te': 0.06974181360201512}\n",
      "iteration 200 - {'batch_size': 2500, 'degree': 3, 'gamma': 0.01, 'k_fold': 4, 'lambda': 0.01, 'max_iters': 100, 'num_batches': 1, 'seed': 100, 'seed_cv': 0, 'avg_logistic_err_tr': 0.24627916147691045, 'avg_ridge_norm_tr': 0.0071781226992279285, 'avg_total_loss_tr': 0.2534572841761384, 'avg_n_err_tr': 0.07113245172124266, 'avg_logistic_err_te': 0.24756097336473037, 'avg_ridge_norm_te': 0.0071781226992279285, 'avg_total_loss_te': 0.2547390960639583, 'avg_n_err_te': 0.07202455919395466}\n",
      "iteration 300 - {'batch_size': 2500, 'degree': 3, 'gamma': 0.01, 'k_fold': 4, 'lambda': 0.01, 'max_iters': 100, 'num_batches': 1, 'seed': 200, 'seed_cv': 0, 'avg_logistic_err_tr': 0.23386075049255467, 'avg_ridge_norm_tr': 0.008068107793520587, 'avg_total_loss_tr': 0.24192885828607524, 'avg_n_err_tr': 0.07073887489504618, 'avg_logistic_err_te': 0.23407643343193288, 'avg_ridge_norm_te': 0.008068107793520587, 'avg_total_loss_te': 0.24214454122545348, 'avg_n_err_te': 0.07050272879932828}\n",
      "iteration 400 - {'batch_size': 2500, 'degree': 3, 'gamma': 0.01, 'k_fold': 4, 'lambda': 0.01, 'max_iters': 100, 'num_batches': 1, 'seed': 300, 'seed_cv': 0, 'avg_logistic_err_tr': 0.22823985531477228, 'avg_ridge_norm_tr': 0.008757763374355888, 'avg_total_loss_tr': 0.2369976186891282, 'avg_n_err_tr': 0.07083508256367199, 'avg_logistic_err_te': 0.2296718631348597, 'avg_ridge_norm_te': 0.008757763374355888, 'avg_total_loss_te': 0.23842962650921562, 'avg_n_err_te': 0.07079135180520571}\n",
      "iteration 500 - {'batch_size': 2500, 'degree': 3, 'gamma': 0.01, 'k_fold': 4, 'lambda': 0.01, 'max_iters': 100, 'num_batches': 1, 'seed': 400, 'seed_cv': 0, 'avg_logistic_err_tr': 0.22182327261189563, 'avg_ridge_norm_tr': 0.009307877564928981, 'avg_total_loss_tr': 0.23113115017682462, 'avg_n_err_tr': 0.07009165966974532, 'avg_logistic_err_te': 0.22340786964069914, 'avg_ridge_norm_te': 0.009307877564928981, 'avg_total_loss_te': 0.23271574720562813, 'avg_n_err_te': 0.06995172124265324}\n"
     ]
    },
    {
     "name": "stdout",
     "output_type": "stream",
     "text": [
      "iteration 600 - {'batch_size': 2500, 'degree': 3, 'gamma': 0.01, 'k_fold': 4, 'lambda': 0.01, 'max_iters': 100, 'num_batches': 1, 'seed': 500, 'seed_cv': 0, 'avg_logistic_err_tr': 0.21713403580808613, 'avg_ridge_norm_tr': 0.009631393812593942, 'avg_total_loss_tr': 0.22676542962068008, 'avg_n_err_tr': 0.07005667506297229, 'avg_logistic_err_te': 0.21879723215484903, 'avg_ridge_norm_te': 0.009631393812593942, 'avg_total_loss_te': 0.22842862596744296, 'avg_n_err_te': 0.07010915197313183}\n",
      "iteration 700 - {'batch_size': 2500, 'degree': 3, 'gamma': 0.01, 'k_fold': 4, 'lambda': 0.01, 'max_iters': 100, 'num_batches': 1, 'seed': 600, 'seed_cv': 0, 'avg_logistic_err_tr': 0.217192889482131, 'avg_ridge_norm_tr': 0.009972356067687775, 'avg_total_loss_tr': 0.22716524554981882, 'avg_n_err_tr': 0.06957563671984326, 'avg_logistic_err_te': 0.21843001048224425, 'avg_ridge_norm_te': 0.009972356067687775, 'avg_total_loss_te': 0.22840236654993204, 'avg_n_err_te': 0.06992548278757346}\n",
      "iteration 800 - {'batch_size': 2500, 'degree': 3, 'gamma': 0.01, 'k_fold': 4, 'lambda': 0.01, 'max_iters': 100, 'num_batches': 1, 'seed': 700, 'seed_cv': 0, 'avg_logistic_err_tr': 0.21370145538357455, 'avg_ridge_norm_tr': 0.01015993183089414, 'avg_total_loss_tr': 0.2238613872144687, 'avg_n_err_tr': 0.06946193674783095, 'avg_logistic_err_te': 0.21423793218972093, 'avg_ridge_norm_te': 0.01015993183089414, 'avg_total_loss_te': 0.22439786402061507, 'avg_n_err_te': 0.07055520570948781}\n",
      "iteration 900 - {'batch_size': 2500, 'degree': 3, 'gamma': 0.01, 'k_fold': 4, 'lambda': 0.01, 'max_iters': 100, 'num_batches': 1, 'seed': 800, 'seed_cv': 0, 'avg_logistic_err_tr': 0.21788772336819712, 'avg_ridge_norm_tr': 0.010451443745667885, 'avg_total_loss_tr': 0.22833916711386498, 'avg_n_err_tr': 0.07027532885530367, 'avg_logistic_err_te': 0.21743605807755959, 'avg_ridge_norm_te': 0.010451443745667885, 'avg_total_loss_te': 0.22788750182322742, 'avg_n_err_te': 0.07010915197313182}\n",
      "iteration 1000 - {'batch_size': 2500, 'degree': 3, 'gamma': 0.01, 'k_fold': 4, 'lambda': 0.01, 'max_iters': 100, 'num_batches': 1, 'seed': 900, 'seed_cv': 0, 'avg_logistic_err_tr': 0.2121098349074138, 'avg_ridge_norm_tr': 0.01071199710128524, 'avg_total_loss_tr': 0.22282183200869904, 'avg_n_err_tr': 0.0697243212986286, 'avg_logistic_err_te': 0.21379311594750766, 'avg_ridge_norm_te': 0.01071199710128524, 'avg_total_loss_te': 0.2245051130487929, 'avg_n_err_te': 0.06974181360201512}\n",
      "iteration 100 - {'batch_size': 2500, 'degree': 3, 'gamma': 0.01, 'k_fold': 4, 'lambda': 0.001, 'max_iters': 100, 'num_batches': 1, 'seed': 0, 'seed_cv': 0, 'avg_logistic_err_tr': 0.28309669405721816, 'avg_ridge_norm_tr': 0.0005557941328813471, 'avg_total_loss_tr': 0.2836524881900995, 'avg_n_err_tr': 0.06949692135460397, 'avg_logistic_err_te': 0.2841238431800537, 'avg_ridge_norm_te': 0.0005557941328813471, 'avg_total_loss_te': 0.284679637312935, 'avg_n_err_te': 0.06974181360201512}\n",
      "iteration 200 - {'batch_size': 2500, 'degree': 3, 'gamma': 0.01, 'k_fold': 4, 'lambda': 0.001, 'max_iters': 100, 'num_batches': 1, 'seed': 100, 'seed_cv': 0, 'avg_logistic_err_tr': 0.24563190164990484, 'avg_ridge_norm_tr': 0.0007228393478308382, 'avg_total_loss_tr': 0.24635474099773563, 'avg_n_err_tr': 0.0711237055695494, 'avg_logistic_err_te': 0.24692529576963124, 'avg_ridge_norm_te': 0.0007228393478308382, 'avg_total_loss_te': 0.2476481351174621, 'avg_n_err_te': 0.07205079764903442}\n",
      "iteration 300 - {'batch_size': 2500, 'degree': 3, 'gamma': 0.01, 'k_fold': 4, 'lambda': 0.001, 'max_iters': 100, 'num_batches': 1, 'seed': 200, 'seed_cv': 0, 'avg_logistic_err_tr': 0.2328419658246807, 'avg_ridge_norm_tr': 0.0008148304159024027, 'avg_total_loss_tr': 0.23365679624058308, 'avg_n_err_tr': 0.07061642877134061, 'avg_logistic_err_te': 0.23276758029783265, 'avg_ridge_norm_te': 0.0008148304159024027, 'avg_total_loss_te': 0.23358241071373503, 'avg_n_err_te': 0.07039777497900923}\n",
      "iteration 400 - {'batch_size': 2500, 'degree': 3, 'gamma': 0.01, 'k_fold': 4, 'lambda': 0.001, 'max_iters': 100, 'num_batches': 1, 'seed': 300, 'seed_cv': 0, 'avg_logistic_err_tr': 0.2275082626225092, 'avg_ridge_norm_tr': 0.0008869030326842018, 'avg_total_loss_tr': 0.2283951656551934, 'avg_n_err_tr': 0.07084382871536524, 'avg_logistic_err_te': 0.22895792666218262, 'avg_ridge_norm_te': 0.0008869030326842018, 'avg_total_loss_te': 0.22984482969486686, 'avg_n_err_te': 0.07073887489504618}\n",
      "iteration 500 - {'batch_size': 2500, 'degree': 3, 'gamma': 0.01, 'k_fold': 4, 'lambda': 0.001, 'max_iters': 100, 'num_batches': 1, 'seed': 400, 'seed_cv': 0, 'avg_logistic_err_tr': 0.22114952030707716, 'avg_ridge_norm_tr': 0.0009451762325520494, 'avg_total_loss_tr': 0.2220946965396292, 'avg_n_err_tr': 0.0701353904282116, 'avg_logistic_err_te': 0.22270987808630066, 'avg_ridge_norm_te': 0.0009451762325520494, 'avg_total_loss_te': 0.2236550543188527, 'avg_n_err_te': 0.06984676742233417}\n",
      "iteration 600 - {'batch_size': 2500, 'degree': 3, 'gamma': 0.01, 'k_fold': 4, 'lambda': 0.001, 'max_iters': 100, 'num_batches': 1, 'seed': 500, 'seed_cv': 0, 'avg_logistic_err_tr': 0.21625372022428813, 'avg_ridge_norm_tr': 0.0009807366117433143, 'avg_total_loss_tr': 0.21723445683603143, 'avg_n_err_tr': 0.07004792891127905, 'avg_logistic_err_te': 0.2179498429663975, 'avg_ridge_norm_te': 0.0009807366117433143, 'avg_total_loss_te': 0.21893057957814083, 'avg_n_err_te': 0.07008291351805204}\n",
      "iteration 700 - {'batch_size': 2500, 'degree': 3, 'gamma': 0.01, 'k_fold': 4, 'lambda': 0.001, 'max_iters': 100, 'num_batches': 1, 'seed': 600, 'seed_cv': 0, 'avg_logistic_err_tr': 0.21635915107078119, 'avg_ridge_norm_tr': 0.001018007494525644, 'avg_total_loss_tr': 0.21737715856530682, 'avg_n_err_tr': 0.0695493982647635, 'avg_logistic_err_te': 0.21763062286313695, 'avg_ridge_norm_te': 0.001018007494525644, 'avg_total_loss_te': 0.2186486303576626, 'avg_n_err_te': 0.07000419815281277}\n",
      "iteration 800 - {'batch_size': 2500, 'degree': 3, 'gamma': 0.01, 'k_fold': 4, 'lambda': 0.001, 'max_iters': 100, 'num_batches': 1, 'seed': 700, 'seed_cv': 0, 'avg_logistic_err_tr': 0.21270399320777547, 'avg_ridge_norm_tr': 0.0010399905805865692, 'avg_total_loss_tr': 0.21374398378836204, 'avg_n_err_tr': 0.0695493982647635, 'avg_logistic_err_te': 0.21323458303079645, 'avg_ridge_norm_te': 0.0010399905805865692, 'avg_total_loss_te': 0.21427457361138302, 'avg_n_err_te': 0.0705814441645676}\n",
      "iteration 900 - {'batch_size': 2500, 'degree': 3, 'gamma': 0.01, 'k_fold': 4, 'lambda': 0.001, 'max_iters': 100, 'num_batches': 1, 'seed': 800, 'seed_cv': 0, 'avg_logistic_err_tr': 0.21691793464082038, 'avg_ridge_norm_tr': 0.0010721790464496117, 'avg_total_loss_tr': 0.21799011368726998, 'avg_n_err_tr': 0.07028407500699692, 'avg_logistic_err_te': 0.21648051314486128, 'avg_ridge_norm_te': 0.0010721790464496117, 'avg_total_loss_te': 0.21755269219131085, 'avg_n_err_te': 0.06992548278757346}\n",
      "iteration 1000 - {'batch_size': 2500, 'degree': 3, 'gamma': 0.01, 'k_fold': 4, 'lambda': 0.001, 'max_iters': 100, 'num_batches': 1, 'seed': 900, 'seed_cv': 0, 'avg_logistic_err_tr': 0.21109098449352814, 'avg_ridge_norm_tr': 0.0011014263958502286, 'avg_total_loss_tr': 0.2121924108893784, 'avg_n_err_tr': 0.06975930590540161, 'avg_logistic_err_te': 0.21278166816937324, 'avg_ridge_norm_te': 0.0011014263958502286, 'avg_total_loss_te': 0.21388309456522345, 'avg_n_err_te': 0.06982052896725441}\n",
      "iteration 100 - {'batch_size': 2500, 'degree': 3, 'gamma': 0.001, 'k_fold': 4, 'lambda': 0.01, 'max_iters': 100, 'num_batches': 1, 'seed': 0, 'seed_cv': 0, 'avg_logistic_err_tr': 0.5297813035057259, 'avg_ridge_norm_tr': 0.001248997099218991, 'avg_total_loss_tr': 0.5310303006049449, 'avg_n_err_tr': 0.06928701371396585, 'avg_logistic_err_te': 0.5297084297028708, 'avg_ridge_norm_te': 0.001248997099218991, 'avg_total_loss_te': 0.5309574268020898, 'avg_n_err_te': 0.06913832913518052}\n",
      "iteration 200 - {'batch_size': 2500, 'degree': 3, 'gamma': 0.001, 'k_fold': 4, 'lambda': 0.01, 'max_iters': 100, 'num_batches': 1, 'seed': 100, 'seed_cv': 0, 'avg_logistic_err_tr': 0.4545516757170159, 'avg_ridge_norm_tr': 0.0020618212291648227, 'avg_total_loss_tr': 0.4566134969461807, 'avg_n_err_tr': 0.07106248250769662, 'avg_logistic_err_te': 0.45531429022705777, 'avg_ridge_norm_te': 0.0020618212291648227, 'avg_total_loss_te': 0.45737611145622253, 'avg_n_err_te': 0.07115869017632243}\n"
     ]
    },
    {
     "name": "stdout",
     "output_type": "stream",
     "text": [
      "iteration 300 - {'batch_size': 2500, 'degree': 3, 'gamma': 0.001, 'k_fold': 4, 'lambda': 0.01, 'max_iters': 100, 'num_batches': 1, 'seed': 200, 'seed_cv': 0, 'avg_logistic_err_tr': 0.4015985262050578, 'avg_ridge_norm_tr': 0.0027325139070319424, 'avg_total_loss_tr': 0.40433104011208976, 'avg_n_err_tr': 0.06982052896725441, 'avg_logistic_err_te': 0.40203826320098873, 'avg_ridge_norm_te': 0.0027325139070319424, 'avg_total_loss_te': 0.4047707771080206, 'avg_n_err_te': 0.0698992443324937}\n",
      "iteration 400 - {'batch_size': 2500, 'degree': 3, 'gamma': 0.001, 'k_fold': 4, 'lambda': 0.01, 'max_iters': 100, 'num_batches': 1, 'seed': 300, 'seed_cv': 0, 'avg_logistic_err_tr': 0.36497648934861326, 'avg_ridge_norm_tr': 0.003331604358658217, 'avg_total_loss_tr': 0.36830809370727147, 'avg_n_err_tr': 0.07026658270361041, 'avg_logistic_err_te': 0.36541063890108577, 'avg_ridge_norm_te': 0.003331604358658217, 'avg_total_loss_te': 0.368742243259744, 'avg_n_err_te': 0.070424013434089}\n",
      "iteration 500 - {'batch_size': 2500, 'degree': 3, 'gamma': 0.001, 'k_fold': 4, 'lambda': 0.01, 'max_iters': 100, 'num_batches': 1, 'seed': 400, 'seed_cv': 0, 'avg_logistic_err_tr': 0.3383683039015878, 'avg_ridge_norm_tr': 0.0038479031205377835, 'avg_total_loss_tr': 0.3422162070221255, 'avg_n_err_tr': 0.06973306745032186, 'avg_logistic_err_te': 0.3391975225435496, 'avg_ridge_norm_te': 0.0038479031205377835, 'avg_total_loss_te': 0.34304542566408736, 'avg_n_err_te': 0.06963685978169605}\n",
      "iteration 600 - {'batch_size': 2500, 'degree': 3, 'gamma': 0.001, 'k_fold': 4, 'lambda': 0.01, 'max_iters': 100, 'num_batches': 1, 'seed': 500, 'seed_cv': 0, 'avg_logistic_err_tr': 0.3188473971006508, 'avg_ridge_norm_tr': 0.004266931274626659, 'avg_total_loss_tr': 0.3231143283752774, 'avg_n_err_tr': 0.06998670584942625, 'avg_logistic_err_te': 0.31965049129796635, 'avg_ridge_norm_te': 0.004266931274626659, 'avg_total_loss_te': 0.32391742257259304, 'avg_n_err_te': 0.07031905961376994}\n",
      "iteration 700 - {'batch_size': 2500, 'degree': 3, 'gamma': 0.001, 'k_fold': 4, 'lambda': 0.01, 'max_iters': 100, 'num_batches': 1, 'seed': 600, 'seed_cv': 0, 'avg_logistic_err_tr': 0.30511277570690204, 'avg_ridge_norm_tr': 0.004648040621486108, 'avg_total_loss_tr': 0.30976081632838814, 'avg_n_err_tr': 0.06983802127064091, 'avg_logistic_err_te': 0.3059686386634907, 'avg_ridge_norm_te': 0.004648040621486108, 'avg_total_loss_te': 0.3106166792849768, 'avg_n_err_te': 0.07026658270361041}\n",
      "iteration 800 - {'batch_size': 2500, 'degree': 3, 'gamma': 0.001, 'k_fold': 4, 'lambda': 0.01, 'max_iters': 100, 'num_batches': 1, 'seed': 700, 'seed_cv': 0, 'avg_logistic_err_tr': 0.29352394161408885, 'avg_ridge_norm_tr': 0.004960889008713621, 'avg_total_loss_tr': 0.29848483062280246, 'avg_n_err_tr': 0.07035404422054296, 'avg_logistic_err_te': 0.29406290349556785, 'avg_ridge_norm_te': 0.004960889008713621, 'avg_total_loss_te': 0.29902379250428146, 'avg_n_err_te': 0.07058144416456759}\n",
      "iteration 900 - {'batch_size': 2500, 'degree': 3, 'gamma': 0.001, 'k_fold': 4, 'lambda': 0.01, 'max_iters': 100, 'num_batches': 1, 'seed': 800, 'seed_cv': 0, 'avg_logistic_err_tr': 0.2869896726330173, 'avg_ridge_norm_tr': 0.0052595378146249, 'avg_total_loss_tr': 0.2922492104476421, 'avg_n_err_tr': 0.07148229778897286, 'avg_logistic_err_te': 0.2870382129496866, 'avg_ridge_norm_te': 0.0052595378146249, 'avg_total_loss_te': 0.2922977507643115, 'avg_n_err_te': 0.0713948362720403}\n",
      "iteration 1000 - {'batch_size': 2500, 'degree': 3, 'gamma': 0.001, 'k_fold': 4, 'lambda': 0.01, 'max_iters': 100, 'num_batches': 1, 'seed': 900, 'seed_cv': 0, 'avg_logistic_err_tr': 0.27574194789815704, 'avg_ridge_norm_tr': 0.0055259609920129795, 'avg_total_loss_tr': 0.28126790889017, 'avg_n_err_tr': 0.07030156731038342, 'avg_logistic_err_te': 0.27700053744340314, 'avg_ridge_norm_te': 0.0055259609920129795, 'avg_total_loss_te': 0.2825264984354161, 'avg_n_err_te': 0.07018786733837112}\n",
      "iteration 100 - {'batch_size': 2500, 'degree': 3, 'gamma': 0.001, 'k_fold': 4, 'lambda': 0.001, 'max_iters': 100, 'num_batches': 1, 'seed': 0, 'seed_cv': 0, 'avg_logistic_err_tr': 0.5297347445039282, 'avg_ridge_norm_tr': 0.00012495203964147183, 'avg_total_loss_tr': 0.5298596965435698, 'avg_n_err_tr': 0.06928701371396585, 'avg_logistic_err_te': 0.5296618571072818, 'avg_ridge_norm_te': 0.00012495203964147183, 'avg_total_loss_te': 0.5297868091469231, 'avg_n_err_te': 0.06913832913518052}\n",
      "iteration 200 - {'batch_size': 2500, 'degree': 3, 'gamma': 0.001, 'k_fold': 4, 'lambda': 0.001, 'max_iters': 100, 'num_batches': 1, 'seed': 100, 'seed_cv': 0, 'avg_logistic_err_tr': 0.4544265894740973, 'avg_ridge_norm_tr': 0.00020635213634350358, 'avg_total_loss_tr': 0.4546329416104408, 'avg_n_err_tr': 0.07106248250769662, 'avg_logistic_err_te': 0.45518952699503906, 'avg_ridge_norm_te': 0.00020635213634350358, 'avg_total_loss_te': 0.4553958791313825, 'avg_n_err_te': 0.07115869017632243}\n",
      "iteration 300 - {'batch_size': 2500, 'degree': 3, 'gamma': 0.001, 'k_fold': 4, 'lambda': 0.001, 'max_iters': 100, 'num_batches': 1, 'seed': 200, 'seed_cv': 0, 'avg_logistic_err_tr': 0.4013864885366132, 'avg_ridge_norm_tr': 0.0002735808782625638, 'avg_total_loss_tr': 0.4016600694148757, 'avg_n_err_tr': 0.06981178281556116, 'avg_logistic_err_te': 0.4018269942221367, 'avg_ridge_norm_te': 0.0002735808782625638, 'avg_total_loss_te': 0.40210057510039926, 'avg_n_err_te': 0.06987300587741394}\n",
      "iteration 400 - {'batch_size': 2500, 'degree': 3, 'gamma': 0.001, 'k_fold': 4, 'lambda': 0.001, 'max_iters': 100, 'num_batches': 1, 'seed': 300, 'seed_cv': 0, 'avg_logistic_err_tr': 0.36469477793787697, 'avg_ridge_norm_tr': 0.00033368174952217746, 'avg_total_loss_tr': 0.36502845968739916, 'avg_n_err_tr': 0.07027532885530367, 'avg_logistic_err_te': 0.36512996589622715, 'avg_ridge_norm_te': 0.00033368174952217746, 'avg_total_loss_te': 0.3654636476457494, 'avg_n_err_te': 0.070424013434089}\n",
      "iteration 500 - {'batch_size': 2500, 'degree': 3, 'gamma': 0.001, 'k_fold': 4, 'lambda': 0.001, 'max_iters': 100, 'num_batches': 1, 'seed': 400, 'seed_cv': 0, 'avg_logistic_err_tr': 0.3380288116420293, 'avg_ridge_norm_tr': 0.0003855289599567519, 'avg_total_loss_tr': 0.33841434060198605, 'avg_n_err_tr': 0.06974181360201512, 'avg_logistic_err_te': 0.3388589679026831, 'avg_ridge_norm_te': 0.0003855289599567519, 'avg_total_loss_te': 0.33924449686263985, 'avg_n_err_te': 0.06963685978169605}\n",
      "iteration 600 - {'batch_size': 2500, 'degree': 3, 'gamma': 0.001, 'k_fold': 4, 'lambda': 0.001, 'max_iters': 100, 'num_batches': 1, 'seed': 500, 'seed_cv': 0, 'avg_logistic_err_tr': 0.3184531084635588, 'avg_ridge_norm_tr': 0.0004276684546868695, 'avg_total_loss_tr': 0.3188807769182457, 'avg_n_err_tr': 0.06998670584942625, 'avg_logistic_err_te': 0.3192566092095499, 'avg_ridge_norm_te': 0.0004276684546868695, 'avg_total_loss_te': 0.3196842776642368, 'avg_n_err_te': 0.0703452980688497}\n",
      "iteration 700 - {'batch_size': 2500, 'degree': 3, 'gamma': 0.001, 'k_fold': 4, 'lambda': 0.001, 'max_iters': 100, 'num_batches': 1, 'seed': 600, 'seed_cv': 0, 'avg_logistic_err_tr': 0.3046816717958243, 'avg_ridge_norm_tr': 0.00046602957455049254, 'avg_total_loss_tr': 0.3051477013703747, 'avg_n_err_tr': 0.06982927511894767, 'avg_logistic_err_te': 0.3055391839653946, 'avg_ridge_norm_te': 0.00046602957455049254, 'avg_total_loss_te': 0.3060052135399451, 'avg_n_err_te': 0.07026658270361041}\n",
      "iteration 800 - {'batch_size': 2500, 'degree': 3, 'gamma': 0.001, 'k_fold': 4, 'lambda': 0.001, 'max_iters': 100, 'num_batches': 1, 'seed': 700, 'seed_cv': 0, 'avg_logistic_err_tr': 0.2930517559833472, 'avg_ridge_norm_tr': 0.0004975775983629711, 'avg_total_loss_tr': 0.2935493335817102, 'avg_n_err_tr': 0.07036279037223622, 'avg_logistic_err_te': 0.2935916245059801, 'avg_ridge_norm_te': 0.0004975775983629711, 'avg_total_loss_te': 0.2940892021043431, 'avg_n_err_te': 0.07058144416456759}\n",
      "iteration 900 - {'batch_size': 2500, 'degree': 3, 'gamma': 0.001, 'k_fold': 4, 'lambda': 0.001, 'max_iters': 100, 'num_batches': 1, 'seed': 800, 'seed_cv': 0, 'avg_logistic_err_tr': 0.2864968826876509, 'avg_ridge_norm_tr': 0.0005277128492662125, 'avg_total_loss_tr': 0.28702459553691706, 'avg_n_err_tr': 0.0714910439406661, 'avg_logistic_err_te': 0.28654571291356923, 'avg_ridge_norm_te': 0.0005277128492662125, 'avg_total_loss_te': 0.28707342576283545, 'avg_n_err_te': 0.0713948362720403}\n"
     ]
    },
    {
     "name": "stdout",
     "output_type": "stream",
     "text": [
      "iteration 1000 - {'batch_size': 2500, 'degree': 3, 'gamma': 0.001, 'k_fold': 4, 'lambda': 0.001, 'max_iters': 100, 'num_batches': 1, 'seed': 900, 'seed_cv': 0, 'avg_logistic_err_tr': 0.2752158255801573, 'avg_ridge_norm_tr': 0.0005546354486213115, 'avg_total_loss_tr': 0.2757704610287786, 'avg_n_err_tr': 0.07029282115869018, 'avg_logistic_err_te': 0.2764784885299838, 'avg_ridge_norm_te': 0.0005546354486213115, 'avg_total_loss_te': 0.27703312397860513, 'avg_n_err_te': 0.07018786733837112}\n",
      "iteration 100 - {'batch_size': 2500, 'degree': -2, 'gamma': 0.01, 'k_fold': 4, 'lambda': 0.01, 'max_iters': 100, 'num_batches': 1, 'seed': 0, 'seed_cv': 0, 'avg_logistic_err_tr': 0.49982568546495576, 'avg_ridge_norm_tr': 0.003896455504381534, 'avg_total_loss_tr': 0.5037221409693373, 'avg_n_err_tr': 0.2117598164109792, 'avg_logistic_err_te': 0.4999627397352905, 'avg_ridge_norm_te': 0.003896455504381534, 'avg_total_loss_te': 0.503859195239672, 'avg_n_err_te': 0.2129343524692362}\n",
      "iteration 200 - {'batch_size': 2500, 'degree': -2, 'gamma': 0.01, 'k_fold': 4, 'lambda': 0.01, 'max_iters': 100, 'num_batches': 1, 'seed': 100, 'seed_cv': 0, 'avg_logistic_err_tr': 0.4736129449513178, 'avg_ridge_norm_tr': 0.005443534265542716, 'avg_total_loss_tr': 0.47905647921686056, 'avg_n_err_tr': 0.21104154243689127, 'avg_logistic_err_te': 0.4732151411093269, 'avg_ridge_norm_te': 0.005443534265542716, 'avg_total_loss_te': 0.47865867537486956, 'avg_n_err_te': 0.21063045481650133}\n",
      "iteration 300 - {'batch_size': 2500, 'degree': -2, 'gamma': 0.01, 'k_fold': 4, 'lambda': 0.01, 'max_iters': 100, 'num_batches': 1, 'seed': 200, 'seed_cv': 0, 'avg_logistic_err_tr': 0.4573374977400683, 'avg_ridge_norm_tr': 0.006478825701089558, 'avg_total_loss_tr': 0.4638163234411579, 'avg_n_err_tr': 0.20088632297934622, 'avg_logistic_err_te': 0.4573977404977109, 'avg_ridge_norm_te': 0.006478825701089558, 'avg_total_loss_te': 0.46387656619880047, 'avg_n_err_te': 0.20050685748360167}\n",
      "iteration 400 - {'batch_size': 2500, 'degree': -2, 'gamma': 0.01, 'k_fold': 4, 'lambda': 0.01, 'max_iters': 100, 'num_batches': 1, 'seed': 300, 'seed_cv': 0, 'avg_logistic_err_tr': 0.44989300609908545, 'avg_ridge_norm_tr': 0.007273843476035081, 'avg_total_loss_tr': 0.4571668495751205, 'avg_n_err_tr': 0.19989248477620572, 'avg_logistic_err_te': 0.4505689455689863, 'avg_ridge_norm_te': 0.007273843476035081, 'avg_total_loss_te': 0.4578427890450214, 'avg_n_err_te': 0.19992410690085108}\n",
      "iteration 500 - {'batch_size': 2500, 'degree': -2, 'gamma': 0.01, 'k_fold': 4, 'lambda': 0.01, 'max_iters': 100, 'num_batches': 1, 'seed': 400, 'seed_cv': 0, 'avg_logistic_err_tr': 0.44589504153531667, 'avg_ridge_norm_tr': 0.007798515360379619, 'avg_total_loss_tr': 0.45369355689569635, 'avg_n_err_tr': 0.19738530203646482, 'avg_logistic_err_te': 0.4465895599703871, 'avg_ridge_norm_te': 0.007798515360379619, 'avg_total_loss_te': 0.45438807533076664, 'avg_n_err_te': 0.1969425922914295}\n",
      "iteration 600 - {'batch_size': 2500, 'degree': -2, 'gamma': 0.01, 'k_fold': 4, 'lambda': 0.01, 'max_iters': 100, 'num_batches': 1, 'seed': 500, 'seed_cv': 0, 'avg_logistic_err_tr': 0.4431303049175694, 'avg_ridge_norm_tr': 0.008272188389781613, 'avg_total_loss_tr': 0.451402493307351, 'avg_n_err_tr': 0.19742595905386603, 'avg_logistic_err_te': 0.44390638263092286, 'avg_ridge_norm_te': 0.008272188389781613, 'avg_total_loss_te': 0.45217857102070447, 'avg_n_err_te': 0.1978099419959885}\n",
      "iteration 700 - {'batch_size': 2500, 'degree': -2, 'gamma': 0.01, 'k_fold': 4, 'lambda': 0.01, 'max_iters': 100, 'num_batches': 1, 'seed': 600, 'seed_cv': 0, 'avg_logistic_err_tr': 0.4412165976314911, 'avg_ridge_norm_tr': 0.008562227350846963, 'avg_total_loss_tr': 0.44977882498233807, 'avg_n_err_tr': 0.1983068610975588, 'avg_logistic_err_te': 0.4420835882829637, 'avg_ridge_norm_te': 0.008562227350846963, 'avg_total_loss_te': 0.45064581563381056, 'avg_n_err_te': 0.19837914023960534}\n",
      "iteration 800 - {'batch_size': 2500, 'degree': -2, 'gamma': 0.01, 'k_fold': 4, 'lambda': 0.01, 'max_iters': 100, 'num_batches': 1, 'seed': 700, 'seed_cv': 0, 'avg_logistic_err_tr': 0.4398177576715203, 'avg_ridge_norm_tr': 0.008936970687901395, 'avg_total_loss_tr': 0.44875472835942176, 'avg_n_err_tr': 0.19805840154677365, 'avg_logistic_err_te': 0.44180429632763585, 'avg_ridge_norm_te': 0.008936970687901395, 'avg_total_loss_te': 0.45074126701553724, 'avg_n_err_te': 0.19883991977015233}\n",
      "iteration 900 - {'batch_size': 2500, 'degree': -2, 'gamma': 0.01, 'k_fold': 4, 'lambda': 0.01, 'max_iters': 100, 'num_batches': 1, 'seed': 800, 'seed_cv': 0, 'avg_logistic_err_tr': 0.43872814725648557, 'avg_ridge_norm_tr': 0.009235126273486445, 'avg_total_loss_tr': 0.447963273529972, 'avg_n_err_tr': 0.1940378742704324, 'avg_logistic_err_te': 0.44007362934120714, 'avg_ridge_norm_te': 0.009235126273486445, 'avg_total_loss_te': 0.4493087556146936, 'avg_n_err_te': 0.19438120019515367}\n",
      "iteration 1000 - {'batch_size': 2500, 'degree': -2, 'gamma': 0.01, 'k_fold': 4, 'lambda': 0.01, 'max_iters': 100, 'num_batches': 1, 'seed': 900, 'seed_cv': 0, 'avg_logistic_err_tr': 0.43825682387222226, 'avg_ridge_norm_tr': 0.009195384821283013, 'avg_total_loss_tr': 0.44745220869350527, 'avg_n_err_tr': 0.1975343777669359, 'avg_logistic_err_te': 0.4386330081226686, 'avg_ridge_norm_te': 0.009195384821283013, 'avg_total_loss_te': 0.4478283929439516, 'avg_n_err_te': 0.19837914023960534}\n",
      "iteration 100 - {'batch_size': 2500, 'degree': -2, 'gamma': 0.01, 'k_fold': 4, 'lambda': 0.001, 'max_iters': 100, 'num_batches': 1, 'seed': 0, 'seed_cv': 0, 'avg_logistic_err_tr': 0.49951811306176286, 'avg_ridge_norm_tr': 0.0003911567841652249, 'avg_total_loss_tr': 0.4999092698459281, 'avg_n_err_tr': 0.21165591514428722, 'avg_logistic_err_te': 0.4996544011305402, 'avg_ridge_norm_te': 0.0003911567841652249, 'avg_total_loss_te': 0.5000455579147055, 'avg_n_err_te': 0.2127852767387651}\n",
      "iteration 200 - {'batch_size': 2500, 'degree': -2, 'gamma': 0.01, 'k_fold': 4, 'lambda': 0.001, 'max_iters': 100, 'num_batches': 1, 'seed': 100, 'seed_cv': 0, 'avg_logistic_err_tr': 0.4731084737767363, 'avg_ridge_norm_tr': 0.0005484047949376534, 'avg_total_loss_tr': 0.47365687857167393, 'avg_n_err_tr': 0.21094667606295514, 'avg_logistic_err_te': 0.47270157552743075, 'avg_ridge_norm_te': 0.0005484047949376534, 'avg_total_loss_te': 0.4732499803223684, 'avg_n_err_te': 0.2105762454599664}\n",
      "iteration 300 - {'batch_size': 2500, 'degree': -2, 'gamma': 0.01, 'k_fold': 4, 'lambda': 0.001, 'max_iters': 100, 'num_batches': 1, 'seed': 200, 'seed_cv': 0, 'avg_logistic_err_tr': 0.4567067401445114, 'avg_ridge_norm_tr': 0.0006548579718185456, 'avg_total_loss_tr': 0.4573615981163299, 'avg_n_err_tr': 0.20092246255036952, 'avg_logistic_err_te': 0.45676565441793665, 'avg_ridge_norm_te': 0.0006548579718185456, 'avg_total_loss_te': 0.4574205123897552, 'avg_n_err_te': 0.20033067707486313}\n",
      "iteration 400 - {'batch_size': 2500, 'degree': -2, 'gamma': 0.01, 'k_fold': 4, 'lambda': 0.001, 'max_iters': 100, 'num_batches': 1, 'seed': 300, 'seed_cv': 0, 'avg_logistic_err_tr': 0.449190273251111, 'avg_ridge_norm_tr': 0.0007374616665696242, 'avg_total_loss_tr': 0.4499277349176806, 'avg_n_err_tr': 0.1997343741529788, 'avg_logistic_err_te': 0.44986781965342404, 'avg_ridge_norm_te': 0.0007374616665696242, 'avg_total_loss_te': 0.4506052813199936, 'avg_n_err_te': 0.19970726947471135}\n",
      "iteration 500 - {'batch_size': 2500, 'degree': -2, 'gamma': 0.01, 'k_fold': 4, 'lambda': 0.001, 'max_iters': 100, 'num_batches': 1, 'seed': 400, 'seed_cv': 0, 'avg_logistic_err_tr': 0.44514358063643517, 'avg_ridge_norm_tr': 0.0007930594566595035, 'avg_total_loss_tr': 0.4459366400930947, 'avg_n_err_tr': 0.197326575233552, 'avg_logistic_err_te': 0.44585188864590397, 'avg_ridge_norm_te': 0.0007930594566595035, 'avg_total_loss_te': 0.4466449481025635, 'avg_n_err_te': 0.19676641188269095}\n",
      "iteration 600 - {'batch_size': 2500, 'degree': -2, 'gamma': 0.01, 'k_fold': 4, 'lambda': 0.001, 'max_iters': 100, 'num_batches': 1, 'seed': 500, 'seed_cv': 0, 'avg_logistic_err_tr': 0.4423896567779818, 'avg_ridge_norm_tr': 0.0008433751789792964, 'avg_total_loss_tr': 0.4432330319569611, 'avg_n_err_tr': 0.19739433692922065, 'avg_logistic_err_te': 0.44317246398996035, 'avg_ridge_norm_te': 0.0008433751789792964, 'avg_total_loss_te': 0.44401583916893966, 'avg_n_err_te': 0.19772862796118612}\n"
     ]
    },
    {
     "name": "stdout",
     "output_type": "stream",
     "text": [
      "iteration 700 - {'batch_size': 2500, 'degree': -2, 'gamma': 0.01, 'k_fold': 4, 'lambda': 0.001, 'max_iters': 100, 'num_batches': 1, 'seed': 600, 'seed_cv': 0, 'avg_logistic_err_tr': 0.44045468623938955, 'avg_ridge_norm_tr': 0.0008753473168474694, 'avg_total_loss_tr': 0.441330033556237, 'avg_n_err_tr': 0.19829330875842502, 'avg_logistic_err_te': 0.44133379048917987, 'avg_ridge_norm_te': 0.0008753473168474694, 'avg_total_loss_te': 0.44220913780602733, 'avg_n_err_te': 0.19860953000487883}\n",
      "iteration 800 - {'batch_size': 2500, 'degree': -2, 'gamma': 0.01, 'k_fold': 4, 'lambda': 0.001, 'max_iters': 100, 'num_batches': 1, 'seed': 700, 'seed_cv': 0, 'avg_logistic_err_tr': 0.4390866341924806, 'avg_ridge_norm_tr': 0.0009157113616222203, 'avg_total_loss_tr': 0.4400023455541028, 'avg_n_err_tr': 0.19813519813519814, 'avg_logistic_err_te': 0.4411337745519255, 'avg_ridge_norm_te': 0.0009157113616222203, 'avg_total_loss_te': 0.4420494859135477, 'avg_n_err_te': 0.1988263674310186}\n",
      "iteration 900 - {'batch_size': 2500, 'degree': -2, 'gamma': 0.01, 'k_fold': 4, 'lambda': 0.001, 'max_iters': 100, 'num_batches': 1, 'seed': 800, 'seed_cv': 0, 'avg_logistic_err_tr': 0.43801696556202885, 'avg_ridge_norm_tr': 0.0009484593411148157, 'avg_total_loss_tr': 0.43896542490314355, 'avg_n_err_tr': 0.1939159032182288, 'avg_logistic_err_te': 0.4394046212678425, 'avg_ridge_norm_te': 0.0009484593411148157, 'avg_total_loss_te': 0.44035308060895734, 'avg_n_err_te': 0.19461158996042716}\n",
      "iteration 1000 - {'batch_size': 2500, 'degree': -2, 'gamma': 0.01, 'k_fold': 4, 'lambda': 0.001, 'max_iters': 100, 'num_batches': 1, 'seed': 900, 'seed_cv': 0, 'avg_logistic_err_tr': 0.43740420162025373, 'avg_ridge_norm_tr': 0.0009470975013990829, 'avg_total_loss_tr': 0.4383512991216528, 'avg_n_err_tr': 0.19739885437559854, 'avg_logistic_err_te': 0.4378194160175418, 'avg_ridge_norm_te': 0.0009470975013990829, 'avg_total_loss_te': 0.4387665135189409, 'avg_n_err_te': 0.19825716918740172}\n",
      "iteration 100 - {'batch_size': 2500, 'degree': -2, 'gamma': 0.001, 'k_fold': 4, 'lambda': 0.01, 'max_iters': 100, 'num_batches': 1, 'seed': 0, 'seed_cv': 0, 'avg_logistic_err_tr': 0.6093988451746188, 'avg_ridge_norm_tr': 0.0009163174583462915, 'avg_total_loss_tr': 0.6103151626329653, 'avg_n_err_tr': 0.32338139896279433, 'avg_logistic_err_te': 0.6094662888797873, 'avg_ridge_norm_te': 0.0009163174583462915, 'avg_total_loss_te': 0.6103826063381336, 'avg_n_err_te': 0.3234401257657072}\n",
      "iteration 200 - {'batch_size': 2500, 'degree': -2, 'gamma': 0.001, 'k_fold': 4, 'lambda': 0.01, 'max_iters': 100, 'num_batches': 1, 'seed': 100, 'seed_cv': 0, 'avg_logistic_err_tr': 0.5813925733559828, 'avg_ridge_norm_tr': 0.0014078714074668647, 'avg_total_loss_tr': 0.5828004447634496, 'avg_n_err_tr': 0.3028405702824307, 'avg_logistic_err_te': 0.5814310566157357, 'avg_ridge_norm_te': 0.0014078714074668647, 'avg_total_loss_te': 0.5828389280232026, 'avg_n_err_te': 0.30324714045644274}\n",
      "iteration 300 - {'batch_size': 2500, 'degree': -2, 'gamma': 0.001, 'k_fold': 4, 'lambda': 0.01, 'max_iters': 100, 'num_batches': 1, 'seed': 200, 'seed_cv': 0, 'avg_logistic_err_tr': 0.5623257433277483, 'avg_ridge_norm_tr': 0.0018296314160591853, 'avg_total_loss_tr': 0.5641553747438075, 'avg_n_err_tr': 0.28375435933575466, 'avg_logistic_err_te': 0.5623809361135953, 'avg_ridge_norm_te': 0.0018296314160591853, 'avg_total_loss_te': 0.5642105675296545, 'avg_n_err_te': 0.2834742776603242}\n",
      "iteration 400 - {'batch_size': 2500, 'degree': -2, 'gamma': 0.001, 'k_fold': 4, 'lambda': 0.01, 'max_iters': 100, 'num_batches': 1, 'seed': 300, 'seed_cv': 0, 'avg_logistic_err_tr': 0.5484717029246243, 'avg_ridge_norm_tr': 0.002178272319059975, 'avg_total_loss_tr': 0.5506499752436843, 'avg_n_err_tr': 0.26544063171970145, 'avg_logistic_err_te': 0.5485625210389311, 'avg_ridge_norm_te': 0.002178272319059975, 'avg_total_loss_te': 0.550740793357991, 'avg_n_err_te': 0.2658833414647368}\n",
      "iteration 500 - {'batch_size': 2500, 'degree': -2, 'gamma': 0.001, 'k_fold': 4, 'lambda': 0.01, 'max_iters': 100, 'num_batches': 1, 'seed': 400, 'seed_cv': 0, 'avg_logistic_err_tr': 0.5371399407225084, 'avg_ridge_norm_tr': 0.0024830962182814274, 'avg_total_loss_tr': 0.5396230369407898, 'avg_n_err_tr': 0.2473301891906543, 'avg_logistic_err_te': 0.5373450646498653, 'avg_ridge_norm_te': 0.0024830962182814274, 'avg_total_loss_te': 0.5398281608681468, 'avg_n_err_te': 0.24709979942538082}\n",
      "iteration 600 - {'batch_size': 2500, 'degree': -2, 'gamma': 0.001, 'k_fold': 4, 'lambda': 0.01, 'max_iters': 100, 'num_batches': 1, 'seed': 500, 'seed_cv': 0, 'avg_logistic_err_tr': 0.5269519980162911, 'avg_ridge_norm_tr': 0.0027822439593256964, 'avg_total_loss_tr': 0.5297342419756167, 'avg_n_err_tr': 0.23537702607470048, 'avg_logistic_err_te': 0.5272285810809682, 'avg_ridge_norm_te': 0.0027822439593256964, 'avg_total_loss_te': 0.530010825040294, 'avg_n_err_te': 0.23602753835311976}\n",
      "iteration 700 - {'batch_size': 2500, 'degree': -2, 'gamma': 0.001, 'k_fold': 4, 'lambda': 0.01, 'max_iters': 100, 'num_batches': 1, 'seed': 600, 'seed_cv': 0, 'avg_logistic_err_tr': 0.518808359074685, 'avg_ridge_norm_tr': 0.003037589337839066, 'avg_total_loss_tr': 0.5218459484125241, 'avg_n_err_tr': 0.22833884461791437, 'avg_logistic_err_te': 0.518910055405408, 'avg_ridge_norm_te': 0.003037589337839066, 'avg_total_loss_te': 0.5219476447432472, 'avg_n_err_te': 0.22837046674255979}\n",
      "iteration 800 - {'batch_size': 2500, 'degree': -2, 'gamma': 0.001, 'k_fold': 4, 'lambda': 0.01, 'max_iters': 100, 'num_batches': 1, 'seed': 700, 'seed_cv': 0, 'avg_logistic_err_tr': 0.511292992562092, 'avg_ridge_norm_tr': 0.0032908613352744835, 'avg_total_loss_tr': 0.5145838538973665, 'avg_n_err_tr': 0.21999060371153392, 'avg_logistic_err_te': 0.5116764935435348, 'avg_ridge_norm_te': 0.0032908613352744835, 'avg_total_loss_te': 0.5149673548788093, 'avg_n_err_te': 0.22023906326231907}\n",
      "iteration 900 - {'batch_size': 2500, 'degree': -2, 'gamma': 0.001, 'k_fold': 4, 'lambda': 0.01, 'max_iters': 100, 'num_batches': 1, 'seed': 800, 'seed_cv': 0, 'avg_logistic_err_tr': 0.5050731337277768, 'avg_ridge_norm_tr': 0.003547101900895789, 'avg_total_loss_tr': 0.5086202356286726, 'avg_n_err_tr': 0.21642182107298386, 'avg_logistic_err_te': 0.5055239188082541, 'avg_ridge_norm_te': 0.003547101900895789, 'avg_total_loss_te': 0.5090710207091499, 'avg_n_err_te': 0.21656637935707704}\n",
      "iteration 1000 - {'batch_size': 2500, 'degree': -2, 'gamma': 0.001, 'k_fold': 4, 'lambda': 0.01, 'max_iters': 100, 'num_batches': 1, 'seed': 900, 'seed_cv': 0, 'avg_logistic_err_tr': 0.5002990029476699, 'avg_ridge_norm_tr': 0.0037300017459367197, 'avg_total_loss_tr': 0.5040290046936067, 'avg_n_err_tr': 0.21368876601434741, 'avg_logistic_err_te': 0.5005304579934701, 'avg_ridge_norm_te': 0.0037300017459367197, 'avg_total_loss_te': 0.5042604597394067, 'avg_n_err_te': 0.2138830162085976}\n",
      "iteration 100 - {'batch_size': 2500, 'degree': -2, 'gamma': 0.001, 'k_fold': 4, 'lambda': 0.001, 'max_iters': 100, 'num_batches': 1, 'seed': 0, 'seed_cv': 0, 'avg_logistic_err_tr': 0.6093767856737111, 'avg_ridge_norm_tr': 9.166910651733382e-05, 'avg_total_loss_tr': 0.6094684547802285, 'avg_n_err_tr': 0.32338139896279433, 'avg_logistic_err_te': 0.6094442452369105, 'avg_ridge_norm_te': 9.166910651733382e-05, 'avg_total_loss_te': 0.6095359143434278, 'avg_n_err_te': 0.3234401257657072}\n",
      "iteration 200 - {'batch_size': 2500, 'degree': -2, 'gamma': 0.001, 'k_fold': 4, 'lambda': 0.001, 'max_iters': 100, 'num_batches': 1, 'seed': 100, 'seed_cv': 0, 'avg_logistic_err_tr': 0.5813401779895312, 'avg_ridge_norm_tr': 0.00014089984743666643, 'avg_total_loss_tr': 0.5814810778369679, 'avg_n_err_tr': 0.3028179830505412, 'avg_logistic_err_te': 0.5813788332430746, 'avg_ridge_norm_te': 0.00014089984743666643, 'avg_total_loss_te': 0.5815197330905112, 'avg_n_err_te': 0.3031793787607741}\n",
      "iteration 300 - {'batch_size': 2500, 'degree': -2, 'gamma': 0.001, 'k_fold': 4, 'lambda': 0.001, 'max_iters': 100, 'num_batches': 1, 'seed': 200, 'seed_cv': 0, 'avg_logistic_err_tr': 0.5622424499407874, 'avg_ridge_norm_tr': 0.00018317902730530144, 'avg_total_loss_tr': 0.5624256289680928, 'avg_n_err_tr': 0.28369111508646394, 'avg_logistic_err_te': 0.562297713863019, 'avg_ridge_norm_te': 0.00018317902730530144, 'avg_total_loss_te': 0.5624808928903244, 'avg_n_err_te': 0.28346072532119043}\n"
     ]
    },
    {
     "name": "stdout",
     "output_type": "stream",
     "text": [
      "iteration 400 - {'batch_size': 2500, 'degree': -2, 'gamma': 0.001, 'k_fold': 4, 'lambda': 0.001, 'max_iters': 100, 'num_batches': 1, 'seed': 300, 'seed_cv': 0, 'avg_logistic_err_tr': 0.5483542041582139, 'avg_ridge_norm_tr': 0.00021817056391417315, 'avg_total_loss_tr': 0.548572374722128, 'avg_n_err_tr': 0.265363835131277, 'avg_logistic_err_te': 0.5484450562579817, 'avg_ridge_norm_te': 0.00021817056391417315, 'avg_total_loss_te': 0.5486632268218957, 'avg_n_err_te': 0.26585623678646936}\n",
      "iteration 500 - {'batch_size': 2500, 'degree': -2, 'gamma': 0.001, 'k_fold': 4, 'lambda': 0.001, 'max_iters': 100, 'num_batches': 1, 'seed': 400, 'seed_cv': 0, 'avg_logistic_err_tr': 0.5369854009367527, 'avg_ridge_norm_tr': 0.00024880006316096954, 'avg_total_loss_tr': 0.5372342009999137, 'avg_n_err_tr': 0.2472127355848286, 'avg_logistic_err_te': 0.5371908949066602, 'avg_ridge_norm_te': 0.00024880006316096954, 'avg_total_loss_te': 0.5374396949698211, 'avg_n_err_te': 0.24699138071231097}\n",
      "iteration 600 - {'batch_size': 2500, 'degree': -2, 'gamma': 0.001, 'k_fold': 4, 'lambda': 0.001, 'max_iters': 100, 'num_batches': 1, 'seed': 500, 'seed_cv': 0, 'avg_logistic_err_tr': 0.5267617947374538, 'avg_ridge_norm_tr': 0.00027887968260610516, 'avg_total_loss_tr': 0.5270406744200599, 'avg_n_err_tr': 0.23530022948627602, 'avg_logistic_err_te': 0.5270391597781156, 'avg_ridge_norm_te': 0.00027887968260610516, 'avg_total_loss_te': 0.5273180394607216, 'avg_n_err_te': 0.23590556730091614}\n",
      "iteration 700 - {'batch_size': 2500, 'degree': -2, 'gamma': 0.001, 'k_fold': 4, 'lambda': 0.001, 'max_iters': 100, 'num_batches': 1, 'seed': 600, 'seed_cv': 0, 'avg_logistic_err_tr': 0.5185817301634329, 'avg_ridge_norm_tr': 0.0003045934692234757, 'avg_total_loss_tr': 0.5188863236326564, 'avg_n_err_tr': 0.22818525144106538, 'avg_logistic_err_te': 0.5186844765939728, 'avg_ridge_norm_te': 0.0003045934692234757, 'avg_total_loss_te': 0.5189890700631964, 'avg_n_err_te': 0.22824849569035616}\n",
      "iteration 800 - {'batch_size': 2500, 'degree': -2, 'gamma': 0.001, 'k_fold': 4, 'lambda': 0.001, 'max_iters': 100, 'num_batches': 1, 'seed': 700, 'seed_cv': 0, 'avg_logistic_err_tr': 0.5110319606777562, 'avg_ridge_norm_tr': 0.00033011436939041545, 'avg_total_loss_tr': 0.5113620750471467, 'avg_n_err_tr': 0.21984152798106285, 'avg_logistic_err_te': 0.5114165782246018, 'avg_ridge_norm_te': 0.00033011436939041545, 'avg_total_loss_te': 0.5117466925939922, 'avg_n_err_te': 0.22015774922751669}\n",
      "iteration 900 - {'batch_size': 2500, 'degree': -2, 'gamma': 0.001, 'k_fold': 4, 'lambda': 0.001, 'max_iters': 100, 'num_batches': 1, 'seed': 800, 'seed_cv': 0, 'avg_logistic_err_tr': 0.504783273241329, 'avg_ridge_norm_tr': 0.0003559446594897482, 'avg_total_loss_tr': 0.5051392179008187, 'avg_n_err_tr': 0.2163179198062919, 'avg_logistic_err_te': 0.5052349825250237, 'avg_ridge_norm_te': 0.0003559446594897482, 'avg_total_loss_te': 0.5055909271845134, 'avg_n_err_te': 0.21639019894833847}\n",
      "iteration 1000 - {'batch_size': 2500, 'degree': -2, 'gamma': 0.001, 'k_fold': 4, 'lambda': 0.001, 'max_iters': 100, 'num_batches': 1, 'seed': 900, 'seed_cv': 0, 'avg_logistic_err_tr': 0.49997436900681214, 'avg_ridge_norm_tr': 0.0003744518244923675, 'avg_total_loss_tr': 0.5003488208313045, 'avg_n_err_tr': 0.2135713124085217, 'avg_logistic_err_te': 0.5002075895301551, 'avg_ridge_norm_te': 0.0003744518244923675, 'avg_total_loss_te': 0.5005820413546475, 'avg_n_err_te': 0.21385591153033012}\n",
      "iteration 100 - {'batch_size': 2500, 'degree': 2, 'gamma': 0.01, 'k_fold': 4, 'lambda': 0.01, 'max_iters': 100, 'num_batches': 1, 'seed': 0, 'seed_cv': 0, 'avg_logistic_err_tr': 0.5170183906406712, 'avg_ridge_norm_tr': 0.0037508386953531833, 'avg_total_loss_tr': 0.5207692293360244, 'avg_n_err_tr': 0.23224643573480783, 'avg_logistic_err_te': 0.5170474356930455, 'avg_ridge_norm_te': 0.0037508386953531833, 'avg_total_loss_te': 0.5207982743883988, 'avg_n_err_te': 0.23162302813465602}\n",
      "iteration 200 - {'batch_size': 2500, 'degree': 2, 'gamma': 0.01, 'k_fold': 4, 'lambda': 0.01, 'max_iters': 100, 'num_batches': 1, 'seed': 100, 'seed_cv': 0, 'avg_logistic_err_tr': 0.48659923835832475, 'avg_ridge_norm_tr': 0.00536461295795793, 'avg_total_loss_tr': 0.4919638513162827, 'avg_n_err_tr': 0.21654379212518748, 'avg_logistic_err_te': 0.48653307614412333, 'avg_ridge_norm_te': 0.00536461295795793, 'avg_total_loss_te': 0.49189768910208126, 'avg_n_err_te': 0.21609204748739633}\n",
      "iteration 300 - {'batch_size': 2500, 'degree': 2, 'gamma': 0.01, 'k_fold': 4, 'lambda': 0.01, 'max_iters': 100, 'num_batches': 1, 'seed': 200, 'seed_cv': 0, 'avg_logistic_err_tr': 0.47028567242467245, 'avg_ridge_norm_tr': 0.006476909027886452, 'avg_total_loss_tr': 0.4767625814525589, 'avg_n_err_tr': 0.20588713611969428, 'avg_logistic_err_te': 0.47043598019992383, 'avg_ridge_norm_te': 0.006476909027886452, 'avg_total_loss_te': 0.47691288922781033, 'avg_n_err_te': 0.2062259445980376}\n",
      "iteration 400 - {'batch_size': 2500, 'degree': 2, 'gamma': 0.01, 'k_fold': 4, 'lambda': 0.01, 'max_iters': 100, 'num_batches': 1, 'seed': 300, 'seed_cv': 0, 'avg_logistic_err_tr': 0.4617604031342306, 'avg_ridge_norm_tr': 0.007354353618951637, 'avg_total_loss_tr': 0.46911475675318215, 'avg_n_err_tr': 0.204418966046873, 'avg_logistic_err_te': 0.4620962113471436, 'avg_ridge_norm_te': 0.007354353618951637, 'avg_total_loss_te': 0.4694505649660953, 'avg_n_err_te': 0.20398980864097144}\n",
      "iteration 500 - {'batch_size': 2500, 'degree': 2, 'gamma': 0.01, 'k_fold': 4, 'lambda': 0.01, 'max_iters': 100, 'num_batches': 1, 'seed': 400, 'seed_cv': 0, 'avg_logistic_err_tr': 0.4569753229011182, 'avg_ridge_norm_tr': 0.007943306584092025, 'avg_total_loss_tr': 0.46491862948521023, 'avg_n_err_tr': 0.20223252199996386, 'avg_logistic_err_te': 0.4572768919053126, 'avg_ridge_norm_te': 0.007943306584092025, 'avg_total_loss_te': 0.4652201984894047, 'avg_n_err_te': 0.20187564373610886}\n",
      "iteration 600 - {'batch_size': 2500, 'degree': 2, 'gamma': 0.01, 'k_fold': 4, 'lambda': 0.01, 'max_iters': 100, 'num_batches': 1, 'seed': 500, 'seed_cv': 0, 'avg_logistic_err_tr': 0.4537225515591483, 'avg_ridge_norm_tr': 0.00842803812838435, 'avg_total_loss_tr': 0.4621505896875327, 'avg_n_err_tr': 0.20240418496232448, 'avg_logistic_err_te': 0.45385088493131187, 'avg_ridge_norm_te': 0.00842803812838435, 'avg_total_loss_te': 0.4622789230596962, 'avg_n_err_te': 0.20245839431885942}\n",
      "iteration 700 - {'batch_size': 2500, 'degree': 2, 'gamma': 0.01, 'k_fold': 4, 'lambda': 0.01, 'max_iters': 100, 'num_batches': 1, 'seed': 600, 'seed_cv': 0, 'avg_logistic_err_tr': 0.45191816737651885, 'avg_ridge_norm_tr': 0.008774851269108009, 'avg_total_loss_tr': 0.46069301864562695, 'avg_n_err_tr': 0.20345674996837787, 'avg_logistic_err_te': 0.4518814513889112, 'avg_ridge_norm_te': 0.008774851269108009, 'avg_total_loss_te': 0.4606563026580192, 'avg_n_err_te': 0.20282430747547026}\n",
      "iteration 800 - {'batch_size': 2500, 'degree': 2, 'gamma': 0.01, 'k_fold': 4, 'lambda': 0.01, 'max_iters': 100, 'num_batches': 1, 'seed': 700, 'seed_cv': 0, 'avg_logistic_err_tr': 0.4500950811909507, 'avg_ridge_norm_tr': 0.00911504486661362, 'avg_total_loss_tr': 0.4592101260575643, 'avg_n_err_tr': 0.20312697638279034, 'avg_logistic_err_te': 0.45087362364100037, 'avg_ridge_norm_te': 0.00911504486661362, 'avg_total_loss_te': 0.45998866850761394, 'avg_n_err_te': 0.20332574402341846}\n",
      "iteration 900 - {'batch_size': 2500, 'degree': 2, 'gamma': 0.01, 'k_fold': 4, 'lambda': 0.01, 'max_iters': 100, 'num_batches': 1, 'seed': 800, 'seed_cv': 0, 'avg_logistic_err_tr': 0.4487005727361577, 'avg_ridge_norm_tr': 0.009457051269250845, 'avg_total_loss_tr': 0.45815762400540855, 'avg_n_err_tr': 0.20101281147792777, 'avg_logistic_err_te': 0.44921663598857586, 'avg_ridge_norm_te': 0.009457051269250845, 'avg_total_loss_te': 0.45867368725782676, 'avg_n_err_te': 0.20077790426627637}\n",
      "iteration 1000 - {'batch_size': 2500, 'degree': 2, 'gamma': 0.01, 'k_fold': 4, 'lambda': 0.01, 'max_iters': 100, 'num_batches': 1, 'seed': 900, 'seed_cv': 0, 'avg_logistic_err_tr': 0.4482777287823637, 'avg_ridge_norm_tr': 0.009486302990133576, 'avg_total_loss_tr': 0.45776403177249725, 'avg_n_err_tr': 0.20184402161146348, 'avg_logistic_err_te': 0.44828698889503915, 'avg_ridge_norm_te': 0.009486302990133576, 'avg_total_loss_te': 0.4577732918851727, 'avg_n_err_te': 0.20163170163170163}\n"
     ]
    },
    {
     "name": "stdout",
     "output_type": "stream",
     "text": [
      "iteration 100 - {'batch_size': 2500, 'degree': 2, 'gamma': 0.01, 'k_fold': 4, 'lambda': 0.001, 'max_iters': 100, 'num_batches': 1, 'seed': 0, 'seed_cv': 0, 'avg_logistic_err_tr': 0.5166976768196165, 'avg_ridge_norm_tr': 0.00037653713221146707, 'avg_total_loss_tr': 0.5170742139518281, 'avg_n_err_tr': 0.23208380766520303, 'avg_logistic_err_te': 0.5167270876190346, 'avg_ridge_norm_te': 0.00037653713221146707, 'avg_total_loss_te': 0.5171036247512462, 'avg_n_err_te': 0.23147395240418497}\n",
      "iteration 200 - {'batch_size': 2500, 'degree': 2, 'gamma': 0.01, 'k_fold': 4, 'lambda': 0.001, 'max_iters': 100, 'num_batches': 1, 'seed': 100, 'seed_cv': 0, 'avg_logistic_err_tr': 0.4860216228082623, 'avg_ridge_norm_tr': 0.0005405158452920089, 'avg_total_loss_tr': 0.4865621386535543, 'avg_n_err_tr': 0.21639923384109433, 'avg_logistic_err_te': 0.48595627034056743, 'avg_ridge_norm_te': 0.0005405158452920089, 'avg_total_loss_te': 0.48649678618585945, 'avg_n_err_te': 0.21598362877432647}\n",
      "iteration 300 - {'batch_size': 2500, 'degree': 2, 'gamma': 0.01, 'k_fold': 4, 'lambda': 0.001, 'max_iters': 100, 'num_batches': 1, 'seed': 200, 'seed_cv': 0, 'avg_logistic_err_tr': 0.4695577387836736, 'avg_ridge_norm_tr': 0.000654793041466201, 'avg_total_loss_tr': 0.4702125318251397, 'avg_n_err_tr': 0.20592327569071756, 'avg_logistic_err_te': 0.4697091837149421, 'avg_ridge_norm_te': 0.000654793041466201, 'avg_total_loss_te': 0.47036397675640823, 'avg_n_err_te': 0.20596845015449666}\n",
      "iteration 400 - {'batch_size': 2500, 'degree': 2, 'gamma': 0.01, 'k_fold': 4, 'lambda': 0.001, 'max_iters': 100, 'num_batches': 1, 'seed': 300, 'seed_cv': 0, 'avg_logistic_err_tr': 0.46095778355580874, 'avg_ridge_norm_tr': 0.0007458051989444933, 'avg_total_loss_tr': 0.4617035887547532, 'avg_n_err_tr': 0.2043286171193148, 'avg_logistic_err_te': 0.4612950059858023, 'avg_ridge_norm_te': 0.0007458051989444933, 'avg_total_loss_te': 0.46204081118474677, 'avg_n_err_te': 0.2038542852496341}\n",
      "iteration 500 - {'batch_size': 2500, 'degree': 2, 'gamma': 0.01, 'k_fold': 4, 'lambda': 0.001, 'max_iters': 100, 'num_batches': 1, 'seed': 400, 'seed_cv': 0, 'avg_logistic_err_tr': 0.45610735943938946, 'avg_ridge_norm_tr': 0.0008080387576732811, 'avg_total_loss_tr': 0.4569153981970628, 'avg_n_err_tr': 0.20210151605500443, 'avg_logistic_err_te': 0.4564142652593366, 'avg_ridge_norm_te': 0.0008080387576732811, 'avg_total_loss_te': 0.4572223040170099, 'avg_n_err_te': 0.2017401203447715}\n",
      "iteration 600 - {'batch_size': 2500, 'degree': 2, 'gamma': 0.01, 'k_fold': 4, 'lambda': 0.001, 'max_iters': 100, 'num_batches': 1, 'seed': 500, 'seed_cv': 0, 'avg_logistic_err_tr': 0.4528556942527077, 'avg_ridge_norm_tr': 0.0008596705741880652, 'avg_total_loss_tr': 0.4537153648268958, 'avg_n_err_tr': 0.20235449305216746, 'avg_logistic_err_te': 0.452977050007076, 'avg_ridge_norm_te': 0.0008596705741880652, 'avg_total_loss_te': 0.45383672058126406, 'avg_n_err_te': 0.20241773730145823}\n",
      "iteration 700 - {'batch_size': 2500, 'degree': 2, 'gamma': 0.01, 'k_fold': 4, 'lambda': 0.001, 'max_iters': 100, 'num_batches': 1, 'seed': 600, 'seed_cv': 0, 'avg_logistic_err_tr': 0.45105754232220874, 'avg_ridge_norm_tr': 0.0008974179884239129, 'avg_total_loss_tr': 0.4519549603106327, 'avg_n_err_tr': 0.2033799533799534, 'avg_logistic_err_te': 0.45101844294138016, 'avg_ridge_norm_te': 0.0008974179884239129, 'avg_total_loss_te': 0.4519158609298041, 'avg_n_err_te': 0.20291917384940641}\n",
      "iteration 800 - {'batch_size': 2500, 'degree': 2, 'gamma': 0.01, 'k_fold': 4, 'lambda': 0.001, 'max_iters': 100, 'num_batches': 1, 'seed': 700, 'seed_cv': 0, 'avg_logistic_err_tr': 0.44922931211275413, 'avg_ridge_norm_tr': 0.0009344916842775273, 'avg_total_loss_tr': 0.45016380379703164, 'avg_n_err_tr': 0.20297790065231927, 'avg_logistic_err_te': 0.45003170061362274, 'avg_ridge_norm_te': 0.0009344916842775273, 'avg_total_loss_te': 0.45096619229790025, 'avg_n_err_te': 0.20331219168428472}\n",
      "iteration 900 - {'batch_size': 2500, 'degree': 2, 'gamma': 0.01, 'k_fold': 4, 'lambda': 0.001, 'max_iters': 100, 'num_batches': 1, 'seed': 800, 'seed_cv': 0, 'avg_logistic_err_tr': 0.4478664386506101, 'avg_ridge_norm_tr': 0.0009717865924852892, 'avg_total_loss_tr': 0.4488382252430954, 'avg_n_err_tr': 0.20089535787210208, 'avg_logistic_err_te': 0.4483922435508498, 'avg_ridge_norm_te': 0.0009717865924852892, 'avg_total_loss_te': 0.44936403014333515, 'avg_n_err_te': 0.20042554344879926}\n",
      "iteration 1000 - {'batch_size': 2500, 'degree': 2, 'gamma': 0.01, 'k_fold': 4, 'lambda': 0.001, 'max_iters': 100, 'num_batches': 1, 'seed': 900, 'seed_cv': 0, 'avg_logistic_err_tr': 0.44735947590781955, 'avg_ridge_norm_tr': 0.0009774836016351405, 'avg_total_loss_tr': 0.4483369595094547, 'avg_n_err_tr': 0.20171753311288196, 'avg_logistic_err_te': 0.4473844167839031, 'avg_ridge_norm_te': 0.0009774836016351405, 'avg_total_loss_te': 0.4483619003855383, 'avg_n_err_te': 0.20140131186642815}\n",
      "iteration 100 - {'batch_size': 2500, 'degree': 2, 'gamma': 0.001, 'k_fold': 4, 'lambda': 0.01, 'max_iters': 100, 'num_batches': 1, 'seed': 0, 'seed_cv': 0, 'avg_logistic_err_tr': 0.6261661894476704, 'avg_ridge_norm_tr': 0.0008278146395993961, 'avg_total_loss_tr': 0.6269940040872699, 'avg_n_err_tr': 0.32434813248766736, 'avg_logistic_err_te': 0.6262014483656079, 'avg_ridge_norm_te': 0.0008278146395993961, 'avg_total_loss_te': 0.6270292630052072, 'avg_n_err_te': 0.32434813248766736}\n",
      "iteration 200 - {'batch_size': 2500, 'degree': 2, 'gamma': 0.001, 'k_fold': 4, 'lambda': 0.01, 'max_iters': 100, 'num_batches': 1, 'seed': 100, 'seed_cv': 0, 'avg_logistic_err_tr': 0.598102950235644, 'avg_ridge_norm_tr': 0.0013389632467991552, 'avg_total_loss_tr': 0.5994419134824431, 'avg_n_err_tr': 0.3243255452557778, 'avg_logistic_err_te': 0.5980853735187073, 'avg_ridge_norm_te': 0.0013389632467991552, 'avg_total_loss_te': 0.5994243367655065, 'avg_n_err_te': 0.32432102780939986}\n",
      "iteration 300 - {'batch_size': 2500, 'degree': 2, 'gamma': 0.001, 'k_fold': 4, 'lambda': 0.01, 'max_iters': 100, 'num_batches': 1, 'seed': 200, 'seed_cv': 0, 'avg_logistic_err_tr': 0.5798220144133285, 'avg_ridge_norm_tr': 0.001754893667633181, 'avg_total_loss_tr': 0.5815769080809617, 'avg_n_err_tr': 0.32203068249579875, 'avg_logistic_err_te': 0.5798186788110661, 'avg_ridge_norm_te': 0.001754893667633181, 'avg_total_loss_te': 0.5815735724786992, 'avg_n_err_te': 0.3219222637827289}\n",
      "iteration 400 - {'batch_size': 2500, 'degree': 2, 'gamma': 0.001, 'k_fold': 4, 'lambda': 0.01, 'max_iters': 100, 'num_batches': 1, 'seed': 300, 'seed_cv': 0, 'avg_logistic_err_tr': 0.5663094174482135, 'avg_ridge_norm_tr': 0.0021075467140471878, 'avg_total_loss_tr': 0.5684169641622607, 'avg_n_err_tr': 0.31169024773675935, 'avg_logistic_err_te': 0.5663428338286721, 'avg_ridge_norm_te': 0.0021075467140471878, 'avg_total_loss_te': 0.5684503805427192, 'avg_n_err_te': 0.3116766953976256}\n",
      "iteration 500 - {'batch_size': 2500, 'degree': 2, 'gamma': 0.001, 'k_fold': 4, 'lambda': 0.01, 'max_iters': 100, 'num_batches': 1, 'seed': 400, 'seed_cv': 0, 'avg_logistic_err_tr': 0.5556407279827078, 'avg_ridge_norm_tr': 0.0023999372160438833, 'avg_total_loss_tr': 0.5580406651987517, 'avg_n_err_tr': 0.29311450823078733, 'avg_logistic_err_te': 0.5557067827019448, 'avg_ridge_norm_te': 0.0023999372160438833, 'avg_total_loss_te': 0.5581067199179887, 'avg_n_err_te': 0.2930557814278745}\n",
      "iteration 600 - {'batch_size': 2500, 'degree': 2, 'gamma': 0.001, 'k_fold': 4, 'lambda': 0.01, 'max_iters': 100, 'num_batches': 1, 'seed': 500, 'seed_cv': 0, 'avg_logistic_err_tr': 0.5459766447666798, 'avg_ridge_norm_tr': 0.0026822795485349216, 'avg_total_loss_tr': 0.5486589243152147, 'avg_n_err_tr': 0.27462911765237347, 'avg_logistic_err_te': 0.5460703456280626, 'avg_ridge_norm_te': 0.0026822795485349216, 'avg_total_loss_te': 0.5487526251765975, 'avg_n_err_te': 0.2745974955277281}\n",
      "iteration 700 - {'batch_size': 2500, 'degree': 2, 'gamma': 0.001, 'k_fold': 4, 'lambda': 0.01, 'max_iters': 100, 'num_batches': 1, 'seed': 600, 'seed_cv': 0, 'avg_logistic_err_tr': 0.5377013298472787, 'avg_ridge_norm_tr': 0.002943487885320973, 'avg_total_loss_tr': 0.5406448177325998, 'avg_n_err_tr': 0.261329755515802, 'avg_logistic_err_te': 0.5377459369335106, 'avg_ridge_norm_te': 0.002943487885320973, 'avg_total_loss_te': 0.5406894248188315, 'avg_n_err_te': 0.2614652789071394}\n"
     ]
    },
    {
     "name": "stdout",
     "output_type": "stream",
     "text": [
      "iteration 800 - {'batch_size': 2500, 'degree': 2, 'gamma': 0.001, 'k_fold': 4, 'lambda': 0.01, 'max_iters': 100, 'num_batches': 1, 'seed': 700, 'seed_cv': 0, 'avg_logistic_err_tr': 0.5301895671442113, 'avg_ridge_norm_tr': 0.003187982866092577, 'avg_total_loss_tr': 0.5333775500103037, 'avg_n_err_tr': 0.24672485137601416, 'avg_logistic_err_te': 0.5302859193075433, 'avg_ridge_norm_te': 0.003187982866092577, 'avg_total_loss_te': 0.5334739021736359, 'avg_n_err_te': 0.246530601181764}\n",
      "iteration 900 - {'batch_size': 2500, 'degree': 2, 'gamma': 0.001, 'k_fold': 4, 'lambda': 0.01, 'max_iters': 100, 'num_batches': 1, 'seed': 800, 'seed_cv': 0, 'avg_logistic_err_tr': 0.5237784628110755, 'avg_ridge_norm_tr': 0.0034362663829595515, 'avg_total_loss_tr': 0.5272147291940351, 'avg_n_err_tr': 0.2398989898989899, 'avg_logistic_err_te': 0.5238882282567584, 'avg_ridge_norm_te': 0.0034362663829595515, 'avg_total_loss_te': 0.527324494639718, 'avg_n_err_te': 0.23983574564969914}\n",
      "iteration 1000 - {'batch_size': 2500, 'degree': 2, 'gamma': 0.001, 'k_fold': 4, 'lambda': 0.01, 'max_iters': 100, 'num_batches': 1, 'seed': 900, 'seed_cv': 0, 'avg_logistic_err_tr': 0.5186011210343314, 'avg_ridge_norm_tr': 0.003638741334994115, 'avg_total_loss_tr': 0.5222398623693254, 'avg_n_err_tr': 0.23445998445998445, 'avg_logistic_err_te': 0.5186558282755787, 'avg_ridge_norm_te': 0.003638741334994115, 'avg_total_loss_te': 0.522294569610573, 'avg_n_err_te': 0.23450967637014147}\n",
      "iteration 100 - {'batch_size': 2500, 'degree': 2, 'gamma': 0.001, 'k_fold': 4, 'lambda': 0.001, 'max_iters': 100, 'num_batches': 1, 'seed': 0, 'seed_cv': 0, 'avg_logistic_err_tr': 0.6261457596576023, 'avg_ridge_norm_tr': 8.28157629898195e-05, 'avg_total_loss_tr': 0.6262285754205921, 'avg_n_err_tr': 0.32434813248766736, 'avg_logistic_err_te': 0.6261810252760618, 'avg_ridge_norm_te': 8.28157629898195e-05, 'avg_total_loss_te': 0.6262638410390516, 'avg_n_err_te': 0.32434813248766736}\n",
      "iteration 200 - {'batch_size': 2500, 'degree': 2, 'gamma': 0.001, 'k_fold': 4, 'lambda': 0.001, 'max_iters': 100, 'num_batches': 1, 'seed': 100, 'seed_cv': 0, 'avg_logistic_err_tr': 0.598053364804259, 'avg_ridge_norm_tr': 0.00013400456652278654, 'avg_total_loss_tr': 0.5981873693707818, 'avg_n_err_tr': 0.3243255452557778, 'avg_logistic_err_te': 0.5980358159008157, 'avg_ridge_norm_te': 0.00013400456652278654, 'avg_total_loss_te': 0.5981698204673385, 'avg_n_err_te': 0.32432102780939986}\n",
      "iteration 300 - {'batch_size': 2500, 'degree': 2, 'gamma': 0.001, 'k_fold': 4, 'lambda': 0.001, 'max_iters': 100, 'num_batches': 1, 'seed': 200, 'seed_cv': 0, 'avg_logistic_err_tr': 0.5797426452588977, 'avg_ridge_norm_tr': 0.00017569821319015044, 'avg_total_loss_tr': 0.5799183434720878, 'avg_n_err_tr': 0.32203068249579875, 'avg_logistic_err_te': 0.5797393118844428, 'avg_ridge_norm_te': 0.00017569821319015044, 'avg_total_loss_te': 0.579915010097633, 'avg_n_err_te': 0.3219087114435952}\n",
      "iteration 400 - {'batch_size': 2500, 'degree': 2, 'gamma': 0.001, 'k_fold': 4, 'lambda': 0.001, 'max_iters': 100, 'num_batches': 1, 'seed': 300, 'seed_cv': 0, 'avg_logistic_err_tr': 0.5661983933516145, 'avg_ridge_norm_tr': 0.0002110871263275239, 'avg_total_loss_tr': 0.566409480477942, 'avg_n_err_tr': 0.3116179685947128, 'avg_logistic_err_te': 0.5662318509249595, 'avg_ridge_norm_te': 0.0002110871263275239, 'avg_total_loss_te': 0.566442938051287, 'avg_n_err_te': 0.31160893370195697}\n",
      "iteration 500 - {'batch_size': 2500, 'degree': 2, 'gamma': 0.001, 'k_fold': 4, 'lambda': 0.001, 'max_iters': 100, 'num_batches': 1, 'seed': 400, 'seed_cv': 0, 'avg_logistic_err_tr': 0.5554940201819336, 'avg_ridge_norm_tr': 0.00024046745992339406, 'avg_total_loss_tr': 0.555734487641857, 'avg_n_err_tr': 0.2930377116423628, 'avg_logistic_err_te': 0.5555603529654842, 'avg_ridge_norm_te': 0.00024046745992339406, 'avg_total_loss_te': 0.5558008204254076, 'avg_n_err_te': 0.29296091505393834}\n",
      "iteration 600 - {'batch_size': 2500, 'degree': 2, 'gamma': 0.001, 'k_fold': 4, 'lambda': 0.001, 'max_iters': 100, 'num_batches': 1, 'seed': 500, 'seed_cv': 0, 'avg_logistic_err_tr': 0.5457935141362181, 'avg_ridge_norm_tr': 0.0002688608867060721, 'avg_total_loss_tr': 0.5460623750229242, 'avg_n_err_tr': 0.27448907681465823, 'avg_logistic_err_te': 0.5458875380631967, 'avg_ridge_norm_te': 0.0002688608867060721, 'avg_total_loss_te': 0.5461563989499028, 'avg_n_err_te': 0.2745026291537919}\n",
      "iteration 700 - {'batch_size': 2500, 'degree': 2, 'gamma': 0.001, 'k_fold': 4, 'lambda': 0.001, 'max_iters': 100, 'num_batches': 1, 'seed': 600, 'seed_cv': 0, 'avg_logistic_err_tr': 0.5374818264101747, 'avg_ridge_norm_tr': 0.00029515593763900763, 'avg_total_loss_tr': 0.5377769823478138, 'avg_n_err_tr': 0.26115809255344136, 'avg_logistic_err_te': 0.5375262454239453, 'avg_ridge_norm_te': 0.00029515593763900763, 'avg_total_loss_te': 0.5378214013615843, 'avg_n_err_te': 0.26139751721147075}\n",
      "iteration 800 - {'batch_size': 2500, 'degree': 2, 'gamma': 0.001, 'k_fold': 4, 'lambda': 0.001, 'max_iters': 100, 'num_batches': 1, 'seed': 700, 'seed_cv': 0, 'avg_logistic_err_tr': 0.5299314487409221, 'avg_ridge_norm_tr': 0.0003197962116848631, 'avg_total_loss_tr': 0.530251244952607, 'avg_n_err_tr': 0.24650801394987443, 'avg_logistic_err_te': 0.5300275558953668, 'avg_ridge_norm_te': 0.0003197962116848631, 'avg_total_loss_te': 0.5303473521070516, 'avg_n_err_te': 0.24639507779042663}\n",
      "iteration 900 - {'batch_size': 2500, 'degree': 2, 'gamma': 0.001, 'k_fold': 4, 'lambda': 0.001, 'max_iters': 100, 'num_batches': 1, 'seed': 800, 'seed_cv': 0, 'avg_logistic_err_tr': 0.5234867030481597, 'avg_ridge_norm_tr': 0.00034482901564922795, 'avg_total_loss_tr': 0.523831532063809, 'avg_n_err_tr': 0.2397453967221409, 'avg_logistic_err_te': 0.5235968085532556, 'avg_ridge_norm_te': 0.00034482901564922795, 'avg_total_loss_te': 0.5239416375689048, 'avg_n_err_te': 0.23974087927576299}\n",
      "iteration 1000 - {'batch_size': 2500, 'degree': 2, 'gamma': 0.001, 'k_fold': 4, 'lambda': 0.001, 'max_iters': 100, 'num_batches': 1, 'seed': 900, 'seed_cv': 0, 'avg_logistic_err_tr': 0.5182737186398598, 'avg_ridge_norm_tr': 0.00036529285679429293, 'avg_total_loss_tr': 0.5186390114966541, 'avg_n_err_tr': 0.23422507724833305, 'avg_logistic_err_te': 0.518328902845886, 'avg_ridge_norm_te': 0.00036529285679429293, 'avg_total_loss_te': 0.5186941957026802, 'avg_n_err_te': 0.23430639128313546}\n",
      "iteration 100 - {'batch_size': 2500, 'degree': 3, 'gamma': 0.01, 'k_fold': 4, 'lambda': 0.01, 'max_iters': 100, 'num_batches': 1, 'seed': 0, 'seed_cv': 0, 'avg_logistic_err_tr': 0.511257751945213, 'avg_ridge_norm_tr': 0.0036382890195041733, 'avg_total_loss_tr': 0.5148960409647171, 'avg_n_err_tr': 0.22101154659294195, 'avg_logistic_err_te': 0.5117861133629639, 'avg_ridge_norm_te': 0.0036382890195041733, 'avg_total_loss_te': 0.515424402382468, 'avg_n_err_te': 0.22097088957554073}\n",
      "iteration 200 - {'batch_size': 2500, 'degree': 3, 'gamma': 0.01, 'k_fold': 4, 'lambda': 0.01, 'max_iters': 100, 'num_batches': 1, 'seed': 100, 'seed_cv': 0, 'avg_logistic_err_tr': 0.487840995947527, 'avg_ridge_norm_tr': 0.004837834098994919, 'avg_total_loss_tr': 0.4926788300465219, 'avg_n_err_tr': 0.21676514699770516, 'avg_logistic_err_te': 0.4879015658020257, 'avg_ridge_norm_te': 0.004837834098994919, 'avg_total_loss_te': 0.49273939990102067, 'avg_n_err_te': 0.2167019027484144}\n",
      "iteration 300 - {'batch_size': 2500, 'degree': 3, 'gamma': 0.01, 'k_fold': 4, 'lambda': 0.01, 'max_iters': 100, 'num_batches': 1, 'seed': 200, 'seed_cv': 0, 'avg_logistic_err_tr': 0.47608961422891993, 'avg_ridge_norm_tr': 0.00573832572032486, 'avg_total_loss_tr': 0.48182793994924483, 'avg_n_err_tr': 0.20871054010588894, 'avg_logistic_err_te': 0.4766626564674198, 'avg_ridge_norm_te': 0.00573832572032486, 'avg_total_loss_te': 0.48240098218774474, 'avg_n_err_te': 0.20863826096384233}\n",
      "iteration 400 - {'batch_size': 2500, 'degree': 3, 'gamma': 0.01, 'k_fold': 4, 'lambda': 0.01, 'max_iters': 100, 'num_batches': 1, 'seed': 300, 'seed_cv': 0, 'avg_logistic_err_tr': 0.46976924290931976, 'avg_ridge_norm_tr': 0.0064692554004015974, 'avg_total_loss_tr': 0.4762384983097213, 'avg_n_err_tr': 0.20745920745920748, 'avg_logistic_err_te': 0.4708361608456646, 'avg_ridge_norm_te': 0.0064692554004015974, 'avg_total_loss_te': 0.47730541624606615, 'avg_n_err_te': 0.20694421857212555}\n"
     ]
    },
    {
     "name": "stdout",
     "output_type": "stream",
     "text": [
      "iteration 500 - {'batch_size': 2500, 'degree': 3, 'gamma': 0.01, 'k_fold': 4, 'lambda': 0.01, 'max_iters': 100, 'num_batches': 1, 'seed': 400, 'seed_cv': 0, 'avg_logistic_err_tr': 0.4641311305870716, 'avg_ridge_norm_tr': 0.007064360813961809, 'avg_total_loss_tr': 0.47119549140103345, 'avg_n_err_tr': 0.20387235503514572, 'avg_logistic_err_te': 0.46566982781071137, 'avg_ridge_norm_te': 0.007064360813961809, 'avg_total_loss_te': 0.47273418862467315, 'avg_n_err_te': 0.20370520951916302}\n",
      "iteration 600 - {'batch_size': 2500, 'degree': 3, 'gamma': 0.01, 'k_fold': 4, 'lambda': 0.01, 'max_iters': 100, 'num_batches': 1, 'seed': 500, 'seed_cv': 0, 'avg_logistic_err_tr': 0.45967060354308487, 'avg_ridge_norm_tr': 0.007622830156098176, 'avg_total_loss_tr': 0.467293433699183, 'avg_n_err_tr': 0.20371876185829674, 'avg_logistic_err_te': 0.4606742675859047, 'avg_ridge_norm_te': 0.007622830156098176, 'avg_total_loss_te': 0.46829709774200284, 'avg_n_err_te': 0.2034612674147558}\n",
      "iteration 700 - {'batch_size': 2500, 'degree': 3, 'gamma': 0.01, 'k_fold': 4, 'lambda': 0.01, 'max_iters': 100, 'num_batches': 1, 'seed': 600, 'seed_cv': 0, 'avg_logistic_err_tr': 0.4573836880039789, 'avg_ridge_norm_tr': 0.008060147420305511, 'avg_total_loss_tr': 0.46544383542428447, 'avg_n_err_tr': 0.20426085542364614, 'avg_logistic_err_te': 0.4587338275523698, 'avg_ridge_norm_te': 0.008060147420305511, 'avg_total_loss_te': 0.4667939749726753, 'avg_n_err_te': 0.20350192443215698}\n",
      "iteration 800 - {'batch_size': 2500, 'degree': 3, 'gamma': 0.01, 'k_fold': 4, 'lambda': 0.01, 'max_iters': 100, 'num_batches': 1, 'seed': 700, 'seed_cv': 0, 'avg_logistic_err_tr': 0.4535626849627633, 'avg_ridge_norm_tr': 0.008424697628619629, 'avg_total_loss_tr': 0.46198738259138294, 'avg_n_err_tr': 0.20267523174499918, 'avg_logistic_err_te': 0.4554472052407488, 'avg_ridge_norm_te': 0.008424697628619629, 'avg_total_loss_te': 0.4638719028693684, 'avg_n_err_te': 0.20323087764948233}\n",
      "iteration 900 - {'batch_size': 2500, 'degree': 3, 'gamma': 0.01, 'k_fold': 4, 'lambda': 0.01, 'max_iters': 100, 'num_batches': 1, 'seed': 800, 'seed_cv': 0, 'avg_logistic_err_tr': 0.4537394737294323, 'avg_ridge_norm_tr': 0.00877485565638349, 'avg_total_loss_tr': 0.46251432938581577, 'avg_n_err_tr': 0.20028550261108402, 'avg_logistic_err_te': 0.45463161773101113, 'avg_ridge_norm_te': 0.00877485565638349, 'avg_total_loss_te': 0.4634064733873946, 'avg_n_err_te': 0.20018160134439206}\n",
      "iteration 1000 - {'batch_size': 2500, 'degree': 3, 'gamma': 0.01, 'k_fold': 4, 'lambda': 0.01, 'max_iters': 100, 'num_batches': 1, 'seed': 900, 'seed_cv': 0, 'avg_logistic_err_tr': 0.4484315049208245, 'avg_ridge_norm_tr': 0.008988939965200846, 'avg_total_loss_tr': 0.45742044488602535, 'avg_n_err_tr': 0.20101281147792774, 'avg_logistic_err_te': 0.45009111224041026, 'avg_ridge_norm_te': 0.008988939965200846, 'avg_total_loss_te': 0.4590800522056111, 'avg_n_err_te': 0.20129289315335824}\n",
      "iteration 100 - {'batch_size': 2500, 'degree': 3, 'gamma': 0.01, 'k_fold': 4, 'lambda': 0.001, 'max_iters': 100, 'num_batches': 1, 'seed': 0, 'seed_cv': 0, 'avg_logistic_err_tr': 0.5110406440285578, 'avg_ridge_norm_tr': 0.0003651871691290168, 'avg_total_loss_tr': 0.5114058311976868, 'avg_n_err_tr': 0.22100251170018612, 'avg_logistic_err_te': 0.5115732850863499, 'avg_ridge_norm_te': 0.0003651871691290168, 'avg_total_loss_te': 0.511938472255479, 'avg_n_err_te': 0.22090312787987204}\n",
      "iteration 200 - {'batch_size': 2500, 'degree': 3, 'gamma': 0.01, 'k_fold': 4, 'lambda': 0.001, 'max_iters': 100, 'num_batches': 1, 'seed': 100, 'seed_cv': 0, 'avg_logistic_err_tr': 0.4874653673229391, 'avg_ridge_norm_tr': 0.00048714772980347097, 'avg_total_loss_tr': 0.4879525150527426, 'avg_n_err_tr': 0.21666576317739109, 'avg_logistic_err_te': 0.48753813994543765, 'avg_ridge_norm_te': 0.00048714772980347097, 'avg_total_loss_te': 0.48802528767524117, 'avg_n_err_te': 0.21652572233967582}\n",
      "iteration 300 - {'batch_size': 2500, 'degree': 3, 'gamma': 0.01, 'k_fold': 4, 'lambda': 0.001, 'max_iters': 100, 'num_batches': 1, 'seed': 200, 'seed_cv': 0, 'avg_logistic_err_tr': 0.4753811018915384, 'avg_ridge_norm_tr': 0.0005794989827381203, 'avg_total_loss_tr': 0.47596060087427655, 'avg_n_err_tr': 0.20862922607108653, 'avg_logistic_err_te': 0.475981486839818, 'avg_ridge_norm_te': 0.0005794989827381203, 'avg_total_loss_te': 0.4765609858225561, 'avg_n_err_te': 0.20871957499864474}\n",
      "iteration 400 - {'batch_size': 2500, 'degree': 3, 'gamma': 0.01, 'k_fold': 4, 'lambda': 0.001, 'max_iters': 100, 'num_batches': 1, 'seed': 300, 'seed_cv': 0, 'avg_logistic_err_tr': 0.4691609185394909, 'avg_ridge_norm_tr': 0.0006553641780435868, 'avg_total_loss_tr': 0.4698162827175344, 'avg_n_err_tr': 0.20721526535480025, 'avg_logistic_err_te': 0.47023400957491396, 'avg_ridge_norm_te': 0.0006553641780435868, 'avg_total_loss_te': 0.47088937375295753, 'avg_n_err_te': 0.20706618962432916}\n",
      "iteration 500 - {'batch_size': 2500, 'degree': 3, 'gamma': 0.01, 'k_fold': 4, 'lambda': 0.001, 'max_iters': 100, 'num_batches': 1, 'seed': 400, 'seed_cv': 0, 'avg_logistic_err_tr': 0.4632799501742677, 'avg_ridge_norm_tr': 0.0007178582030333795, 'avg_total_loss_tr': 0.46399780837730104, 'avg_n_err_tr': 0.20376845376845376, 'avg_logistic_err_te': 0.46485714863475686, 'avg_ridge_norm_te': 0.0007178582030333795, 'avg_total_loss_te': 0.46557500683779024, 'avg_n_err_te': 0.2036645525017618}\n",
      "iteration 600 - {'batch_size': 2500, 'degree': 3, 'gamma': 0.01, 'k_fold': 4, 'lambda': 0.001, 'max_iters': 100, 'num_batches': 1, 'seed': 500, 'seed_cv': 0, 'avg_logistic_err_tr': 0.45756893050264824, 'avg_ridge_norm_tr': 0.0007768110685614088, 'avg_total_loss_tr': 0.45834574157120966, 'avg_n_err_tr': 0.20375038398294212, 'avg_logistic_err_te': 0.45924706837236307, 'avg_ridge_norm_te': 0.0007768110685614088, 'avg_total_loss_te': 0.4600238794409245, 'avg_n_err_te': 0.20365100016262808}\n",
      "iteration 700 - {'batch_size': 2500, 'degree': 3, 'gamma': 0.01, 'k_fold': 4, 'lambda': 0.001, 'max_iters': 100, 'num_batches': 1, 'seed': 600, 'seed_cv': 0, 'avg_logistic_err_tr': 0.45655092584259255, 'avg_ridge_norm_tr': 0.0008237975415063602, 'avg_total_loss_tr': 0.4573747233840989, 'avg_n_err_tr': 0.20406208778301801, 'avg_logistic_err_te': 0.45791189035901, 'avg_ridge_norm_te': 0.0008237975415063602, 'avg_total_loss_te': 0.45873568790051633, 'avg_n_err_te': 0.20348837209302326}\n",
      "iteration 800 - {'batch_size': 2500, 'degree': 3, 'gamma': 0.01, 'k_fold': 4, 'lambda': 0.001, 'max_iters': 100, 'num_batches': 1, 'seed': 700, 'seed_cv': 0, 'avg_logistic_err_tr': 0.45251881123546583, 'avg_ridge_norm_tr': 0.0008636060994109374, 'avg_total_loss_tr': 0.4533824173348767, 'avg_n_err_tr': 0.20252163856815017, 'avg_logistic_err_te': 0.45456232501300853, 'avg_ridge_norm_te': 0.0008636060994109374, 'avg_total_loss_te': 0.4554259311124194, 'avg_n_err_te': 0.20301404022334257}\n",
      "iteration 900 - {'batch_size': 2500, 'degree': 3, 'gamma': 0.01, 'k_fold': 4, 'lambda': 0.001, 'max_iters': 100, 'num_batches': 1, 'seed': 800, 'seed_cv': 0, 'avg_logistic_err_tr': 0.452514446265856, 'avg_ridge_norm_tr': 0.0009022494388364237, 'avg_total_loss_tr': 0.45341669570469245, 'avg_n_err_tr': 0.20028550261108402, 'avg_logistic_err_te': 0.4535475926096738, 'avg_ridge_norm_te': 0.0009022494388364237, 'avg_total_loss_te': 0.4544498420485103, 'avg_n_err_te': 0.19995121157911855}\n",
      "iteration 1000 - {'batch_size': 2500, 'degree': 3, 'gamma': 0.01, 'k_fold': 4, 'lambda': 0.001, 'max_iters': 100, 'num_batches': 1, 'seed': 900, 'seed_cv': 0, 'avg_logistic_err_tr': 0.4471754375519172, 'avg_ridge_norm_tr': 0.00092700902134192, 'avg_total_loss_tr': 0.44810244657325915, 'avg_n_err_tr': 0.20092697999674744, 'avg_logistic_err_te': 0.4489159246163118, 'avg_ridge_norm_te': 0.00092700902134192, 'avg_total_loss_te': 0.4498429336376538, 'avg_n_err_te': 0.20104895104895104}\n",
      "iteration 100 - {'batch_size': 2500, 'degree': 3, 'gamma': 0.001, 'k_fold': 4, 'lambda': 0.01, 'max_iters': 100, 'num_batches': 1, 'seed': 0, 'seed_cv': 0, 'avg_logistic_err_tr': 0.6066669068720358, 'avg_ridge_norm_tr': 0.0009299586367021809, 'avg_total_loss_tr': 0.607596865508738, 'avg_n_err_tr': 0.23323123904519255, 'avg_logistic_err_te': 0.606983391807435, 'avg_ridge_norm_te': 0.0009299586367021809, 'avg_total_loss_te': 0.6079133504441372, 'avg_n_err_te': 0.23244972082181387}\n"
     ]
    },
    {
     "name": "stdout",
     "output_type": "stream",
     "text": [
      "iteration 200 - {'batch_size': 2500, 'degree': 3, 'gamma': 0.001, 'k_fold': 4, 'lambda': 0.01, 'max_iters': 100, 'num_batches': 1, 'seed': 100, 'seed_cv': 0, 'avg_logistic_err_tr': 0.5811726665327275, 'avg_ridge_norm_tr': 0.0014302255168646394, 'avg_total_loss_tr': 0.5826028920495923, 'avg_n_err_tr': 0.24066695578323485, 'avg_logistic_err_te': 0.5806274749842533, 'avg_ridge_norm_te': 0.0014302255168646394, 'avg_total_loss_te': 0.5820577005011179, 'avg_n_err_te': 0.2403642868759148}\n",
      "iteration 300 - {'batch_size': 2500, 'degree': 3, 'gamma': 0.001, 'k_fold': 4, 'lambda': 0.01, 'max_iters': 100, 'num_batches': 1, 'seed': 200, 'seed_cv': 0, 'avg_logistic_err_tr': 0.5584724622737427, 'avg_ridge_norm_tr': 0.0018622449481695035, 'avg_total_loss_tr': 0.5603347072219123, 'avg_n_err_tr': 0.23441480999620534, 'avg_logistic_err_te': 0.5580204887541647, 'avg_ridge_norm_te': 0.0018622449481695035, 'avg_total_loss_te': 0.5598827337023342, 'avg_n_err_te': 0.2340488968395945}\n",
      "iteration 400 - {'batch_size': 2500, 'degree': 3, 'gamma': 0.001, 'k_fold': 4, 'lambda': 0.01, 'max_iters': 100, 'num_batches': 1, 'seed': 300, 'seed_cv': 0, 'avg_logistic_err_tr': 0.5479365317107304, 'avg_ridge_norm_tr': 0.0021437575941433097, 'avg_total_loss_tr': 0.5500802893048737, 'avg_n_err_tr': 0.23753636544334217, 'avg_logistic_err_te': 0.5479985621538938, 'avg_ridge_norm_te': 0.0021437575941433097, 'avg_total_loss_te': 0.5501423197480371, 'avg_n_err_te': 0.2368271263620101}\n",
      "iteration 500 - {'batch_size': 2500, 'degree': 3, 'gamma': 0.001, 'k_fold': 4, 'lambda': 0.01, 'max_iters': 100, 'num_batches': 1, 'seed': 400, 'seed_cv': 0, 'avg_logistic_err_tr': 0.5385118609746589, 'avg_ridge_norm_tr': 0.0024142180740895115, 'avg_total_loss_tr': 0.5409260790487485, 'avg_n_err_tr': 0.23076019587647495, 'avg_logistic_err_te': 0.538467850707437, 'avg_ridge_norm_te': 0.0024142180740895115, 'avg_total_loss_te': 0.5408820687815266, 'avg_n_err_te': 0.23087764948230063}\n",
      "iteration 600 - {'batch_size': 2500, 'degree': 3, 'gamma': 0.001, 'k_fold': 4, 'lambda': 0.01, 'max_iters': 100, 'num_batches': 1, 'seed': 500, 'seed_cv': 0, 'avg_logistic_err_tr': 0.5292966130936592, 'avg_ridge_norm_tr': 0.002710322580024527, 'avg_total_loss_tr': 0.5320069356736836, 'avg_n_err_tr': 0.22765671021484976, 'avg_logistic_err_te': 0.5290789857114603, 'avg_ridge_norm_te': 0.002710322580024527, 'avg_total_loss_te': 0.5317893082914849, 'avg_n_err_te': 0.22824849569035616}\n",
      "iteration 700 - {'batch_size': 2500, 'degree': 3, 'gamma': 0.001, 'k_fold': 4, 'lambda': 0.01, 'max_iters': 100, 'num_batches': 1, 'seed': 600, 'seed_cv': 0, 'avg_logistic_err_tr': 0.5224597756853208, 'avg_ridge_norm_tr': 0.002962929342274999, 'avg_total_loss_tr': 0.5254227050275958, 'avg_n_err_tr': 0.22656800563777307, 'avg_logistic_err_te': 0.522495008946972, 'avg_ridge_norm_te': 0.002962929342274999, 'avg_total_loss_te': 0.5254579382892469, 'avg_n_err_te': 0.22704233750745378}\n",
      "iteration 800 - {'batch_size': 2500, 'degree': 3, 'gamma': 0.001, 'k_fold': 4, 'lambda': 0.01, 'max_iters': 100, 'num_batches': 1, 'seed': 700, 'seed_cv': 0, 'avg_logistic_err_tr': 0.5168273439076226, 'avg_ridge_norm_tr': 0.0031675376503561043, 'avg_total_loss_tr': 0.5199948815579787, 'avg_n_err_tr': 0.22582262698541766, 'avg_logistic_err_te': 0.5172187737134148, 'avg_ridge_norm_te': 0.0031675376503561043, 'avg_total_loss_te': 0.520386311363771, 'avg_n_err_te': 0.2258226269854177}\n",
      "iteration 900 - {'batch_size': 2500, 'degree': 3, 'gamma': 0.001, 'k_fold': 4, 'lambda': 0.01, 'max_iters': 100, 'num_batches': 1, 'seed': 800, 'seed_cv': 0, 'avg_logistic_err_tr': 0.5129017345331361, 'avg_ridge_norm_tr': 0.003386625616404732, 'avg_total_loss_tr': 0.5162883601495409, 'avg_n_err_tr': 0.22219511754395474, 'avg_logistic_err_te': 0.5131212929906538, 'avg_ridge_norm_te': 0.003386625616404732, 'avg_total_loss_te': 0.5165079186070586, 'avg_n_err_te': 0.22208218138450697}\n",
      "iteration 1000 - {'batch_size': 2500, 'degree': 3, 'gamma': 0.001, 'k_fold': 4, 'lambda': 0.01, 'max_iters': 100, 'num_batches': 1, 'seed': 900, 'seed_cv': 0, 'avg_logistic_err_tr': 0.5101541485707589, 'avg_ridge_norm_tr': 0.00350980422976849, 'avg_total_loss_tr': 0.5136639528005273, 'avg_n_err_tr': 0.22312571149780452, 'avg_logistic_err_te': 0.5105447514991956, 'avg_ridge_norm_te': 0.00350980422976849, 'avg_total_loss_te': 0.5140545557289642, 'avg_n_err_te': 0.22416924161110208}\n",
      "iteration 100 - {'batch_size': 2500, 'degree': 3, 'gamma': 0.001, 'k_fold': 4, 'lambda': 0.001, 'max_iters': 100, 'num_batches': 1, 'seed': 0, 'seed_cv': 0, 'avg_logistic_err_tr': 0.6066446939962161, 'avg_ridge_norm_tr': 9.303415073533454e-05, 'avg_total_loss_tr': 0.6067377281469515, 'avg_n_err_tr': 0.23323123904519255, 'avg_logistic_err_te': 0.6069611240678071, 'avg_ridge_norm_te': 9.303415073533454e-05, 'avg_total_loss_te': 0.6070541582185425, 'avg_n_err_te': 0.23244972082181387}\n",
      "iteration 200 - {'batch_size': 2500, 'degree': 3, 'gamma': 0.001, 'k_fold': 4, 'lambda': 0.001, 'max_iters': 100, 'num_batches': 1, 'seed': 100, 'seed_cv': 0, 'avg_logistic_err_tr': 0.581122543125939, 'avg_ridge_norm_tr': 0.00014313792812819043, 'avg_total_loss_tr': 0.5812656810540673, 'avg_n_err_tr': 0.24066243833685694, 'avg_logistic_err_te': 0.5805766085046205, 'avg_ridge_norm_te': 0.00014313792812819043, 'avg_total_loss_te': 0.5807197464327486, 'avg_n_err_te': 0.24035073453678105}\n",
      "iteration 300 - {'batch_size': 2500, 'degree': 3, 'gamma': 0.001, 'k_fold': 4, 'lambda': 0.001, 'max_iters': 100, 'num_batches': 1, 'seed': 200, 'seed_cv': 0, 'avg_logistic_err_tr': 0.5583914534211392, 'avg_ridge_norm_tr': 0.000186445292773316, 'avg_total_loss_tr': 0.5585778987139125, 'avg_n_err_tr': 0.23442384488896117, 'avg_logistic_err_te': 0.5579384091983595, 'avg_ridge_norm_te': 0.000186445292773316, 'avg_total_loss_te': 0.5581248544911327, 'avg_n_err_te': 0.2340353445004608}\n",
      "iteration 400 - {'batch_size': 2500, 'degree': 3, 'gamma': 0.001, 'k_fold': 4, 'lambda': 0.001, 'max_iters': 100, 'num_batches': 1, 'seed': 300, 'seed_cv': 0, 'avg_logistic_err_tr': 0.5478232794779937, 'avg_ridge_norm_tr': 0.00021471974006076605, 'avg_total_loss_tr': 0.5480379992180544, 'avg_n_err_tr': 0.2374911909795631, 'avg_logistic_err_te': 0.5478844283944665, 'avg_ridge_norm_te': 0.00021471974006076605, 'avg_total_loss_te': 0.5480991481345273, 'avg_n_err_te': 0.23681357402287634}\n",
      "iteration 500 - {'batch_size': 2500, 'degree': 3, 'gamma': 0.001, 'k_fold': 4, 'lambda': 0.001, 'max_iters': 100, 'num_batches': 1, 'seed': 400, 'seed_cv': 0, 'avg_logistic_err_tr': 0.5383691951768058, 'avg_ridge_norm_tr': 0.00024189892383423247, 'avg_total_loss_tr': 0.53861109410064, 'avg_n_err_tr': 0.2307376086445854, 'avg_logistic_err_te': 0.5383246922850191, 'avg_ridge_norm_te': 0.00024189892383423247, 'avg_total_loss_te': 0.5385665912088533, 'avg_n_err_te': 0.23089120182143436}\n",
      "iteration 600 - {'batch_size': 2500, 'degree': 3, 'gamma': 0.001, 'k_fold': 4, 'lambda': 0.001, 'max_iters': 100, 'num_batches': 1, 'seed': 500, 'seed_cv': 0, 'avg_logistic_err_tr': 0.5291352519946728, 'avg_ridge_norm_tr': 0.0002716547286355552, 'avg_total_loss_tr': 0.5294069067233083, 'avg_n_err_tr': 0.227643157875716, 'avg_logistic_err_te': 0.5289169712675896, 'avg_ridge_norm_te': 0.0002716547286355552, 'avg_total_loss_te': 0.5291886259962253, 'avg_n_err_te': 0.22814007697728628}\n",
      "iteration 700 - {'batch_size': 2500, 'degree': 3, 'gamma': 0.001, 'k_fold': 4, 'lambda': 0.001, 'max_iters': 100, 'num_batches': 1, 'seed': 600, 'seed_cv': 0, 'avg_logistic_err_tr': 0.522272169406636, 'avg_ridge_norm_tr': 0.0002970737193076755, 'avg_total_loss_tr': 0.5225692431259438, 'avg_n_err_tr': 0.2265499358522614, 'avg_logistic_err_te': 0.5223098348261903, 'avg_ridge_norm_te': 0.0002970737193076755, 'avg_total_loss_te': 0.522606908545498, 'avg_n_err_te': 0.22702878516832004}\n",
      "iteration 800 - {'batch_size': 2500, 'degree': 3, 'gamma': 0.001, 'k_fold': 4, 'lambda': 0.001, 'max_iters': 100, 'num_batches': 1, 'seed': 700, 'seed_cv': 0, 'avg_logistic_err_tr': 0.516619131341392, 'avg_ridge_norm_tr': 0.0003177047554526542, 'avg_total_loss_tr': 0.5169368360968447, 'avg_n_err_tr': 0.22580003975352814, 'avg_logistic_err_te': 0.5170108105786138, 'avg_ridge_norm_te': 0.0003177047554526542, 'avg_total_loss_te': 0.5173285153340664, 'avg_n_err_te': 0.22576841762888275}\n"
     ]
    },
    {
     "name": "stdout",
     "output_type": "stream",
     "text": [
      "iteration 900 - {'batch_size': 2500, 'degree': 3, 'gamma': 0.001, 'k_fold': 4, 'lambda': 0.001, 'max_iters': 100, 'num_batches': 1, 'seed': 800, 'seed_cv': 0, 'avg_logistic_err_tr': 0.5126731313287469, 'avg_ridge_norm_tr': 0.0003397926201056944, 'avg_total_loss_tr': 0.5130129239488526, 'avg_n_err_tr': 0.22215897797293144, 'avg_logistic_err_te': 0.5128936144715188, 'avg_ridge_norm_te': 0.0003397926201056944, 'avg_total_loss_te': 0.5132334070916245, 'avg_n_err_te': 0.2219873150105708}\n",
      "iteration 1000 - {'batch_size': 2500, 'degree': 3, 'gamma': 0.001, 'k_fold': 4, 'lambda': 0.001, 'max_iters': 100, 'num_batches': 1, 'seed': 900, 'seed_cv': 0, 'avg_logistic_err_tr': 0.5099118880259963, 'avg_ridge_norm_tr': 0.00035229703133225884, 'avg_total_loss_tr': 0.5102641850573285, 'avg_n_err_tr': 0.2231211940514266, 'avg_logistic_err_te': 0.5103025987447334, 'avg_ridge_norm_te': 0.00035229703133225884, 'avg_total_loss_te': 0.5106548957760655, 'avg_n_err_te': 0.2241421369328346}\n",
      "iteration 100 - {'batch_size': 2500, 'degree': -2, 'gamma': 0.01, 'k_fold': 4, 'lambda': 0.01, 'max_iters': 100, 'num_batches': 1, 'seed': 0, 'seed_cv': 0, 'avg_logistic_err_tr': 0.558028311983078, 'avg_ridge_norm_tr': 0.003277260172623771, 'avg_total_loss_tr': 0.5613055721557019, 'avg_n_err_tr': 0.28109459845670187, 'avg_logistic_err_te': 0.5588575768511197, 'avg_ridge_norm_te': 0.003277260172623771, 'avg_total_loss_te': 0.5621348370237436, 'avg_n_err_te': 0.2823092312089168}\n",
      "iteration 200 - {'batch_size': 2500, 'degree': -2, 'gamma': 0.01, 'k_fold': 4, 'lambda': 0.01, 'max_iters': 100, 'num_batches': 1, 'seed': 100, 'seed_cv': 0, 'avg_logistic_err_tr': 0.5281893298394282, 'avg_ridge_norm_tr': 0.004921325695912995, 'avg_total_loss_tr': 0.5331106555353413, 'avg_n_err_tr': 0.23743926836238927, 'avg_logistic_err_te': 0.5298725945580358, 'avg_ridge_norm_te': 0.004921325695912995, 'avg_total_loss_te': 0.5347939202539488, 'avg_n_err_te': 0.2399256930551586}\n",
      "iteration 300 - {'batch_size': 2500, 'degree': -2, 'gamma': 0.01, 'k_fold': 4, 'lambda': 0.01, 'max_iters': 100, 'num_batches': 1, 'seed': 200, 'seed_cv': 0, 'avg_logistic_err_tr': 0.5123925029023763, 'avg_ridge_norm_tr': 0.006078895162805055, 'avg_total_loss_tr': 0.5184713980651813, 'avg_n_err_tr': 0.22864627988949224, 'avg_logistic_err_te': 0.5147485531717766, 'avg_ridge_norm_te': 0.006078895162805055, 'avg_total_loss_te': 0.5208274483345817, 'avg_n_err_te': 0.23082309231208917}\n",
      "iteration 400 - {'batch_size': 2500, 'degree': -2, 'gamma': 0.01, 'k_fold': 4, 'lambda': 0.01, 'max_iters': 100, 'num_batches': 1, 'seed': 300, 'seed_cv': 0, 'avg_logistic_err_tr': 0.5017035681179199, 'avg_ridge_norm_tr': 0.006946251666544407, 'avg_total_loss_tr': 0.5086498197844644, 'avg_n_err_tr': 0.22508812041535675, 'avg_logistic_err_te': 0.5033247465073218, 'avg_ridge_norm_te': 0.006946251666544407, 'avg_total_loss_te': 0.5102709981738662, 'avg_n_err_te': 0.2269505573020863}\n",
      "iteration 500 - {'batch_size': 2500, 'degree': -2, 'gamma': 0.01, 'k_fold': 4, 'lambda': 0.01, 'max_iters': 100, 'num_batches': 1, 'seed': 400, 'seed_cv': 0, 'avg_logistic_err_tr': 0.49547335041869106, 'avg_ridge_norm_tr': 0.007644294402523712, 'avg_total_loss_tr': 0.5031176448212147, 'avg_n_err_tr': 0.22315899780889778, 'avg_logistic_err_te': 0.4971214640874254, 'avg_ridge_norm_te': 0.007644294402523712, 'avg_total_loss_te': 0.5047657584899491, 'avg_n_err_te': 0.22499285510145756}\n",
      "iteration 600 - {'batch_size': 2500, 'degree': -2, 'gamma': 0.01, 'k_fold': 4, 'lambda': 0.01, 'max_iters': 100, 'num_batches': 1, 'seed': 500, 'seed_cv': 0, 'avg_logistic_err_tr': 0.4905751132917792, 'avg_ridge_norm_tr': 0.008289495837854254, 'avg_total_loss_tr': 0.49886460912963343, 'avg_n_err_tr': 0.22122511193674382, 'avg_logistic_err_te': 0.49205339403704274, 'avg_ridge_norm_te': 0.008289495837854254, 'avg_total_loss_te': 0.500342889874897, 'avg_n_err_te': 0.22340668762503574}\n",
      "iteration 700 - {'batch_size': 2500, 'degree': -2, 'gamma': 0.01, 'k_fold': 4, 'lambda': 0.01, 'max_iters': 100, 'num_batches': 1, 'seed': 600, 'seed_cv': 0, 'avg_logistic_err_tr': 0.48505388395873106, 'avg_ridge_norm_tr': 0.008843338199593943, 'avg_total_loss_tr': 0.493897222158325, 'avg_n_err_tr': 0.21898637706011242, 'avg_logistic_err_te': 0.48728941403695125, 'avg_ridge_norm_te': 0.008843338199593943, 'avg_total_loss_te': 0.4961327522365452, 'avg_n_err_te': 0.21977707916547584}\n",
      "iteration 800 - {'batch_size': 2500, 'degree': -2, 'gamma': 0.01, 'k_fold': 4, 'lambda': 0.01, 'max_iters': 100, 'num_batches': 1, 'seed': 700, 'seed_cv': 0, 'avg_logistic_err_tr': 0.4840062546305457, 'avg_ridge_norm_tr': 0.009255323166587021, 'avg_total_loss_tr': 0.49326157779713276, 'avg_n_err_tr': 0.21787177288749168, 'avg_logistic_err_te': 0.4856417941650506, 'avg_ridge_norm_te': 0.009255323166587021, 'avg_total_loss_te': 0.49489711733163755, 'avg_n_err_te': 0.2182766504715633}\n",
      "iteration 900 - {'batch_size': 2500, 'degree': -2, 'gamma': 0.01, 'k_fold': 4, 'lambda': 0.01, 'max_iters': 100, 'num_batches': 1, 'seed': 800, 'seed_cv': 0, 'avg_logistic_err_tr': 0.48162085002301447, 'avg_ridge_norm_tr': 0.009556342950224506, 'avg_total_loss_tr': 0.49117719297323903, 'avg_n_err_tr': 0.21660950747832713, 'avg_logistic_err_te': 0.4836732966441882, 'avg_ridge_norm_te': 0.009556342950224506, 'avg_total_loss_te': 0.4932296395944127, 'avg_n_err_te': 0.21781937696484707}\n",
      "iteration 1000 - {'batch_size': 2500, 'degree': -2, 'gamma': 0.01, 'k_fold': 4, 'lambda': 0.01, 'max_iters': 100, 'num_batches': 1, 'seed': 900, 'seed_cv': 0, 'avg_logistic_err_tr': 0.4782669576143324, 'avg_ridge_norm_tr': 0.009924310942622016, 'avg_total_loss_tr': 0.4881912685569544, 'avg_n_err_tr': 0.2137467847956559, 'avg_logistic_err_te': 0.4803980861708126, 'avg_ridge_norm_te': 0.009924310942622016, 'avg_total_loss_te': 0.4903223971134346, 'avg_n_err_te': 0.21553300943126608}\n",
      "iteration 100 - {'batch_size': 2500, 'degree': -2, 'gamma': 0.01, 'k_fold': 4, 'lambda': 0.001, 'max_iters': 100, 'num_batches': 1, 'seed': 0, 'seed_cv': 0, 'avg_logistic_err_tr': 0.5577853186232632, 'avg_ridge_norm_tr': 0.0003290110458638337, 'avg_total_loss_tr': 0.558114329669127, 'avg_n_err_tr': 0.280837382109174, 'avg_logistic_err_te': 0.5586181817736698, 'avg_ridge_norm_te': 0.0003290110458638337, 'avg_total_loss_te': 0.5589471928195336, 'avg_n_err_te': 0.2820805944555587}\n",
      "iteration 200 - {'batch_size': 2500, 'degree': -2, 'gamma': 0.01, 'k_fold': 4, 'lambda': 0.001, 'max_iters': 100, 'num_batches': 1, 'seed': 100, 'seed_cv': 0, 'avg_logistic_err_tr': 0.5276873765928242, 'avg_ridge_norm_tr': 0.0004958836390590372, 'avg_total_loss_tr': 0.5281832602318831, 'avg_n_err_tr': 0.23725826426598076, 'avg_logistic_err_te': 0.5293866215168672, 'avg_ridge_norm_te': 0.0004958836390590372, 'avg_total_loss_te': 0.5298825051559262, 'avg_n_err_te': 0.23966847670763075}\n",
      "iteration 300 - {'batch_size': 2500, 'degree': -2, 'gamma': 0.01, 'k_fold': 4, 'lambda': 0.001, 'max_iters': 100, 'num_batches': 1, 'seed': 200, 'seed_cv': 0, 'avg_logistic_err_tr': 0.5116610742169031, 'avg_ridge_norm_tr': 0.0006148187416299576, 'avg_total_loss_tr': 0.5122758929585329, 'avg_n_err_tr': 0.22843669619891396, 'avg_logistic_err_te': 0.5140501606664649, 'avg_ridge_norm_te': 0.0006148187416299576, 'avg_total_loss_te': 0.5146649794080949, 'avg_n_err_te': 0.23068019434124035}\n",
      "iteration 400 - {'batch_size': 2500, 'degree': -2, 'gamma': 0.01, 'k_fold': 4, 'lambda': 0.001, 'max_iters': 100, 'num_batches': 1, 'seed': 300, 'seed_cv': 0, 'avg_logistic_err_tr': 0.500760250677359, 'avg_ridge_norm_tr': 0.0007050934139742051, 'avg_total_loss_tr': 0.5014653440913331, 'avg_n_err_tr': 0.22486424692769363, 'avg_logistic_err_te': 0.502417788378616, 'avg_ridge_norm_te': 0.0007050934139742051, 'avg_total_loss_te': 0.5031228817925901, 'avg_n_err_te': 0.22647899399828522}\n",
      "iteration 500 - {'batch_size': 2500, 'degree': -2, 'gamma': 0.01, 'k_fold': 4, 'lambda': 0.001, 'max_iters': 100, 'num_batches': 1, 'seed': 400, 'seed_cv': 0, 'avg_logistic_err_tr': 0.4943699969157993, 'avg_ridge_norm_tr': 0.0007785692091997324, 'avg_total_loss_tr': 0.495148566124999, 'avg_n_err_tr': 0.22273030389635132, 'avg_logistic_err_te': 0.496035733369876, 'avg_ridge_norm_te': 0.0007785692091997324, 'avg_total_loss_te': 0.49681430257907566, 'avg_n_err_te': 0.22469276936267504}\n"
     ]
    },
    {
     "name": "stdout",
     "output_type": "stream",
     "text": [
      "iteration 600 - {'batch_size': 2500, 'degree': -2, 'gamma': 0.01, 'k_fold': 4, 'lambda': 0.001, 'max_iters': 100, 'num_batches': 1, 'seed': 500, 'seed_cv': 0, 'avg_logistic_err_tr': 0.4893789405550825, 'avg_ridge_norm_tr': 0.0008469389537562391, 'avg_total_loss_tr': 0.4902258795088388, 'avg_n_err_tr': 0.22093931599504618, 'avg_logistic_err_te': 0.4908823686734152, 'avg_ridge_norm_te': 0.0008469389537562391, 'avg_total_loss_te': 0.4917293076271715, 'avg_n_err_te': 0.22307802229208346}\n",
      "iteration 700 - {'batch_size': 2500, 'degree': -2, 'gamma': 0.01, 'k_fold': 4, 'lambda': 0.001, 'max_iters': 100, 'num_batches': 1, 'seed': 600, 'seed_cv': 0, 'avg_logistic_err_tr': 0.4837317266710782, 'avg_ridge_norm_tr': 0.0009064168786495389, 'avg_total_loss_tr': 0.48463814354972773, 'avg_n_err_tr': 0.21854815661617605, 'avg_logistic_err_te': 0.48600143141646424, 'avg_ridge_norm_te': 0.0009064168786495389, 'avg_total_loss_te': 0.48690784829511374, 'avg_n_err_te': 0.21927693626750502}\n",
      "iteration 800 - {'batch_size': 2500, 'degree': -2, 'gamma': 0.01, 'k_fold': 4, 'lambda': 0.001, 'max_iters': 100, 'num_batches': 1, 'seed': 700, 'seed_cv': 0, 'avg_logistic_err_tr': 0.48258064895617353, 'avg_ridge_norm_tr': 0.0009517118274958024, 'avg_total_loss_tr': 0.4835323607836694, 'avg_n_err_tr': 0.21754310755453937, 'avg_logistic_err_te': 0.4842613944469184, 'avg_ridge_norm_te': 0.0009517118274958024, 'avg_total_loss_te': 0.48521310627441416, 'avg_n_err_te': 0.21763360960274364}\n",
      "iteration 900 - {'batch_size': 2500, 'degree': -2, 'gamma': 0.01, 'k_fold': 4, 'lambda': 0.001, 'max_iters': 100, 'num_batches': 1, 'seed': 800, 'seed_cv': 0, 'avg_logistic_err_tr': 0.4800963643009537, 'avg_ridge_norm_tr': 0.000986012189417979, 'avg_total_loss_tr': 0.4810823764903717, 'avg_n_err_tr': 0.21633323806801943, 'avg_logistic_err_te': 0.48219413575303843, 'avg_ridge_norm_te': 0.000986012189417979, 'avg_total_loss_te': 0.4831801479424564, 'avg_n_err_te': 0.2172763646756216}\n",
      "iteration 1000 - {'batch_size': 2500, 'degree': -2, 'gamma': 0.01, 'k_fold': 4, 'lambda': 0.001, 'max_iters': 100, 'num_batches': 1, 'seed': 900, 'seed_cv': 0, 'avg_logistic_err_tr': 0.4766425642129149, 'avg_ridge_norm_tr': 0.0010268700794918656, 'avg_total_loss_tr': 0.47766943429240677, 'avg_n_err_tr': 0.21347527865104315, 'avg_logistic_err_te': 0.478832069116399, 'avg_ridge_norm_te': 0.0010268700794918656, 'avg_total_loss_te': 0.47985893919589084, 'avg_n_err_te': 0.2154472706487568}\n",
      "iteration 100 - {'batch_size': 2500, 'degree': -2, 'gamma': 0.001, 'k_fold': 4, 'lambda': 0.01, 'max_iters': 100, 'num_batches': 1, 'seed': 0, 'seed_cv': 0, 'avg_logistic_err_tr': 0.6386154248216129, 'avg_ridge_norm_tr': 0.0007239522107005762, 'avg_total_loss_tr': 0.6393393770323135, 'avg_n_err_tr': 0.36821472801752886, 'avg_logistic_err_te': 0.6387114417910877, 'avg_ridge_norm_te': 0.0007239522107005762, 'avg_total_loss_te': 0.6394353940017883, 'avg_n_err_te': 0.3678050871677622}\n",
      "iteration 200 - {'batch_size': 2500, 'degree': -2, 'gamma': 0.001, 'k_fold': 4, 'lambda': 0.01, 'max_iters': 100, 'num_batches': 1, 'seed': 100, 'seed_cv': 0, 'avg_logistic_err_tr': 0.6168061957122946, 'avg_ridge_norm_tr': 0.0011725306748288048, 'avg_total_loss_tr': 0.6179787263871233, 'avg_n_err_tr': 0.3621129846622845, 'avg_logistic_err_te': 0.6170771942323445, 'avg_ridge_norm_te': 0.0011725306748288048, 'avg_total_loss_te': 0.6182497249071733, 'avg_n_err_te': 0.3617747927979423}\n",
      "iteration 300 - {'batch_size': 2500, 'degree': -2, 'gamma': 0.001, 'k_fold': 4, 'lambda': 0.01, 'max_iters': 100, 'num_batches': 1, 'seed': 200, 'seed_cv': 0, 'avg_logistic_err_tr': 0.6033541653163086, 'avg_ridge_norm_tr': 0.0015130296583020233, 'avg_total_loss_tr': 0.6048671949746107, 'avg_n_err_tr': 0.3500476326569496, 'avg_logistic_err_te': 0.6037464801635761, 'avg_ridge_norm_te': 0.0015130296583020233, 'avg_total_loss_te': 0.6052595098218781, 'avg_n_err_te': 0.3497284938553873}\n",
      "iteration 400 - {'batch_size': 2500, 'degree': -2, 'gamma': 0.001, 'k_fold': 4, 'lambda': 0.01, 'max_iters': 100, 'num_batches': 1, 'seed': 300, 'seed_cv': 0, 'avg_logistic_err_tr': 0.592930824497452, 'avg_ridge_norm_tr': 0.0018119333221779067, 'avg_total_loss_tr': 0.5947427578196299, 'avg_n_err_tr': 0.33949223587691724, 'avg_logistic_err_te': 0.5932937597612116, 'avg_ridge_norm_te': 0.0018119333221779067, 'avg_total_loss_te': 0.5951056930833895, 'avg_n_err_te': 0.3401971991997714}\n",
      "iteration 500 - {'batch_size': 2500, 'degree': -2, 'gamma': 0.001, 'k_fold': 4, 'lambda': 0.01, 'max_iters': 100, 'num_batches': 1, 'seed': 400, 'seed_cv': 0, 'avg_logistic_err_tr': 0.5848618263322614, 'avg_ridge_norm_tr': 0.002079780778938387, 'avg_total_loss_tr': 0.5869416071111997, 'avg_n_err_tr': 0.32569781842431167, 'avg_logistic_err_te': 0.5853517511253554, 'avg_ridge_norm_te': 0.002079780778938387, 'avg_total_loss_te': 0.5874315319042938, 'avg_n_err_te': 0.3264932837953701}\n",
      "iteration 600 - {'batch_size': 2500, 'degree': -2, 'gamma': 0.001, 'k_fold': 4, 'lambda': 0.01, 'max_iters': 100, 'num_batches': 1, 'seed': 500, 'seed_cv': 0, 'avg_logistic_err_tr': 0.5773528761734301, 'avg_ridge_norm_tr': 0.002329299791270685, 'avg_total_loss_tr': 0.5796821759647008, 'avg_n_err_tr': 0.3110698294750881, 'avg_logistic_err_te': 0.5777830386851928, 'avg_ridge_norm_te': 0.002329299791270685, 'avg_total_loss_te': 0.5801123384764635, 'avg_n_err_te': 0.31181766218919693}\n",
      "iteration 700 - {'batch_size': 2500, 'degree': -2, 'gamma': 0.001, 'k_fold': 4, 'lambda': 0.01, 'max_iters': 100, 'num_batches': 1, 'seed': 600, 'seed_cv': 0, 'avg_logistic_err_tr': 0.5708329619429815, 'avg_ridge_norm_tr': 0.002563758850260003, 'avg_total_loss_tr': 0.5733967207932414, 'avg_n_err_tr': 0.30130989806611413, 'avg_logistic_err_te': 0.5714261607506633, 'avg_ridge_norm_te': 0.002563758850260003, 'avg_total_loss_te': 0.5739899196009234, 'avg_n_err_te': 0.3018433838239497}\n",
      "iteration 800 - {'batch_size': 2500, 'degree': -2, 'gamma': 0.001, 'k_fold': 4, 'lambda': 0.01, 'max_iters': 100, 'num_batches': 1, 'seed': 700, 'seed_cv': 0, 'avg_logistic_err_tr': 0.5653120731656052, 'avg_ridge_norm_tr': 0.002769977448576744, 'avg_total_loss_tr': 0.5680820506141819, 'avg_n_err_tr': 0.2894922358769172, 'avg_logistic_err_te': 0.5658997405895907, 'avg_ridge_norm_te': 0.002769977448576744, 'avg_total_loss_te': 0.5686697180381675, 'avg_n_err_te': 0.2898542440697342}\n",
      "iteration 900 - {'batch_size': 2500, 'degree': -2, 'gamma': 0.001, 'k_fold': 4, 'lambda': 0.01, 'max_iters': 100, 'num_batches': 1, 'seed': 800, 'seed_cv': 0, 'avg_logistic_err_tr': 0.5607289346922241, 'avg_ridge_norm_tr': 0.0029593380880019596, 'avg_total_loss_tr': 0.563688272780226, 'avg_n_err_tr': 0.28016099838048963, 'avg_logistic_err_te': 0.5615485980179615, 'avg_ridge_norm_te': 0.0029593380880019596, 'avg_total_loss_te': 0.5645079361059635, 'avg_n_err_te': 0.28133752500714493}\n",
      "iteration 1000 - {'batch_size': 2500, 'degree': -2, 'gamma': 0.001, 'k_fold': 4, 'lambda': 0.01, 'max_iters': 100, 'num_batches': 1, 'seed': 900, 'seed_cv': 0, 'avg_logistic_err_tr': 0.5561249200986462, 'avg_ridge_norm_tr': 0.0031497407702734343, 'avg_total_loss_tr': 0.5592746608689197, 'avg_n_err_tr': 0.2724206916261789, 'avg_logistic_err_te': 0.5569143046641747, 'avg_ridge_norm_te': 0.0031497407702734343, 'avg_total_loss_te': 0.5600640454344481, 'avg_n_err_te': 0.2731923406687625}\n",
      "iteration 100 - {'batch_size': 2500, 'degree': -2, 'gamma': 0.001, 'k_fold': 4, 'lambda': 0.001, 'max_iters': 100, 'num_batches': 1, 'seed': 0, 'seed_cv': 0, 'avg_logistic_err_tr': 0.6385996287567418, 'avg_ridge_norm_tr': 7.242526517986319e-05, 'avg_total_loss_tr': 0.6386720540219217, 'avg_n_err_tr': 0.3682099647518339, 'avg_logistic_err_te': 0.6386957010606502, 'avg_ridge_norm_te': 7.242526517986319e-05, 'avg_total_loss_te': 0.63876812632583, 'avg_n_err_te': 0.3678050871677622}\n",
      "iteration 200 - {'batch_size': 2500, 'degree': -2, 'gamma': 0.001, 'k_fold': 4, 'lambda': 0.001, 'max_iters': 100, 'num_batches': 1, 'seed': 100, 'seed_cv': 0, 'avg_logistic_err_tr': 0.6167684211111797, 'avg_ridge_norm_tr': 0.00011734783135608682, 'avg_total_loss_tr': 0.6168857689425358, 'avg_n_err_tr': 0.36210345813089456, 'avg_logistic_err_te': 0.6170396016719277, 'avg_ridge_norm_te': 0.00011734783135608682, 'avg_total_loss_te': 0.6171569495032839, 'avg_n_err_te': 0.3617605030008574}\n"
     ]
    },
    {
     "name": "stdout",
     "output_type": "stream",
     "text": [
      "iteration 300 - {'batch_size': 2500, 'degree': -2, 'gamma': 0.001, 'k_fold': 4, 'lambda': 0.001, 'max_iters': 100, 'num_batches': 1, 'seed': 200, 'seed_cv': 0, 'avg_logistic_err_tr': 0.6032918763817133, 'avg_ridge_norm_tr': 0.00015148620038794676, 'avg_total_loss_tr': 0.6034433625821013, 'avg_n_err_tr': 0.35003810612555963, 'avg_logistic_err_te': 0.603684604580117, 'avg_ridge_norm_te': 0.00015148620038794676, 'avg_total_loss_te': 0.6038360907805049, 'avg_n_err_te': 0.34969991426121744}\n",
      "iteration 400 - {'batch_size': 2500, 'degree': -2, 'gamma': 0.001, 'k_fold': 4, 'lambda': 0.001, 'max_iters': 100, 'num_batches': 1, 'seed': 300, 'seed_cv': 0, 'avg_logistic_err_tr': 0.5928439019046364, 'avg_ridge_norm_tr': 0.0001814821116821988, 'avg_total_loss_tr': 0.5930253840163187, 'avg_n_err_tr': 0.3394446032199676, 'avg_logistic_err_te': 0.5932075183911136, 'avg_ridge_norm_te': 0.0001814821116821988, 'avg_total_loss_te': 0.5933890005027957, 'avg_n_err_te': 0.3401686196056016}\n",
      "iteration 500 - {'batch_size': 2500, 'degree': -2, 'gamma': 0.001, 'k_fold': 4, 'lambda': 0.001, 'max_iters': 100, 'num_batches': 1, 'seed': 400, 'seed_cv': 0, 'avg_logistic_err_tr': 0.5847488880905026, 'avg_ridge_norm_tr': 0.0002083891090438403, 'avg_total_loss_tr': 0.5849572771995464, 'avg_n_err_tr': 0.32560731637610746, 'avg_logistic_err_te': 0.5852398312086989, 'avg_ridge_norm_te': 0.0002083891090438403, 'avg_total_loss_te': 0.5854482203177428, 'avg_n_err_te': 0.3264075450128608}\n",
      "iteration 600 - {'batch_size': 2500, 'degree': -2, 'gamma': 0.001, 'k_fold': 4, 'lambda': 0.001, 'max_iters': 100, 'num_batches': 1, 'seed': 500, 'seed_cv': 0, 'avg_logistic_err_tr': 0.5772127589323532, 'avg_ridge_norm_tr': 0.0002334801796820693, 'avg_total_loss_tr': 0.5774462391120354, 'avg_n_err_tr': 0.31094598456701916, 'avg_logistic_err_te': 0.5776442887596914, 'avg_ridge_norm_te': 0.0002334801796820693, 'avg_total_loss_te': 0.5778777689393736, 'avg_n_err_te': 0.311689054015433}\n",
      "iteration 700 - {'batch_size': 2500, 'degree': -2, 'gamma': 0.001, 'k_fold': 4, 'lambda': 0.001, 'max_iters': 100, 'num_batches': 1, 'seed': 600, 'seed_cv': 0, 'avg_logistic_err_tr': 0.5706647647692586, 'avg_ridge_norm_tr': 0.000257079355712556, 'avg_total_loss_tr': 0.5709218441249713, 'avg_n_err_tr': 0.3011527102981804, 'avg_logistic_err_te': 0.5712597103245546, 'avg_ridge_norm_te': 0.000257079355712556, 'avg_total_loss_te': 0.5715167896802671, 'avg_n_err_te': 0.3017147756501858}\n",
      "iteration 800 - {'batch_size': 2500, 'degree': -2, 'gamma': 0.001, 'k_fold': 4, 'lambda': 0.001, 'max_iters': 100, 'num_batches': 1, 'seed': 700, 'seed_cv': 0, 'avg_logistic_err_tr': 0.565112455057159, 'avg_ridge_norm_tr': 0.0002778685107403947, 'avg_total_loss_tr': 0.5653903235678994, 'avg_n_err_tr': 0.28933981137467846, 'avg_logistic_err_te': 0.5657019417339312, 'avg_ridge_norm_te': 0.0002778685107403947, 'avg_total_loss_te': 0.5659798102446716, 'avg_n_err_te': 0.2895684481280366}\n",
      "iteration 900 - {'batch_size': 2500, 'degree': -2, 'gamma': 0.001, 'k_fold': 4, 'lambda': 0.001, 'max_iters': 100, 'num_batches': 1, 'seed': 800, 'seed_cv': 0, 'avg_logistic_err_tr': 0.5604996013954703, 'avg_ridge_norm_tr': 0.0002969812198456059, 'avg_total_loss_tr': 0.560796582615316, 'avg_n_err_tr': 0.28001810040964087, 'avg_logistic_err_te': 0.5613218279846196, 'avg_ridge_norm_te': 0.0002969812198456059, 'avg_total_loss_te': 0.5616188092044652, 'avg_n_err_te': 0.28116604744212637}\n",
      "iteration 1000 - {'batch_size': 2500, 'degree': -2, 'gamma': 0.001, 'k_fold': 4, 'lambda': 0.001, 'max_iters': 100, 'num_batches': 1, 'seed': 900, 'seed_cv': 0, 'avg_logistic_err_tr': 0.555865301509639, 'avg_ridge_norm_tr': 0.0003162135961353124, 'avg_total_loss_tr': 0.5561815151057743, 'avg_n_err_tr': 0.27219205487282083, 'avg_logistic_err_te': 0.5566578901646408, 'avg_ridge_norm_te': 0.0003162135961353124, 'avg_total_loss_te': 0.556974103760776, 'avg_n_err_te': 0.27286367533581024}\n",
      "iteration 300 - {'batch_size': 2500, 'degree': 1, 'gamma': 0.001, 'k_fold': 4, 'lambda': 0.01, 'max_iters': 100, 'num_batches': 1, 'seed': 200, 'seed_cv': 0, 'avg_logistic_err_tr': 0.6701960652924437, 'avg_ridge_norm_tr': 0.0008285686678882861, 'avg_total_loss_tr': 0.6710246339603319, 'avg_n_err_tr': 0.3244069734209774, 'avg_logistic_err_te': 0.6702332249513273, 'avg_ridge_norm_te': 0.0008285686678882861, 'avg_total_loss_te': 0.6710617936192157, 'avg_n_err_te': 0.32446413260931695}\n",
      "iteration 400 - {'batch_size': 2500, 'degree': 1, 'gamma': 0.001, 'k_fold': 4, 'lambda': 0.01, 'max_iters': 100, 'num_batches': 1, 'seed': 300, 'seed_cv': 0, 'avg_logistic_err_tr': 0.6645995047802551, 'avg_ridge_norm_tr': 0.0010584031206527173, 'avg_total_loss_tr': 0.6656579079009078, 'avg_n_err_tr': 0.32389254072592166, 'avg_logistic_err_te': 0.664645069370827, 'avg_ridge_norm_te': 0.0010584031206527173, 'avg_total_loss_te': 0.6657034724914798, 'avg_n_err_te': 0.32423549585595884}\n",
      "iteration 500 - {'batch_size': 2500, 'degree': 1, 'gamma': 0.001, 'k_fold': 4, 'lambda': 0.01, 'max_iters': 100, 'num_batches': 1, 'seed': 400, 'seed_cv': 0, 'avg_logistic_err_tr': 0.6591899569431487, 'avg_ridge_norm_tr': 0.0012950476316075776, 'avg_total_loss_tr': 0.6604850045747563, 'avg_n_err_tr': 0.32300657330665905, 'avg_logistic_err_te': 0.6592303312558934, 'avg_ridge_norm_te': 0.0012950476316075776, 'avg_total_loss_te': 0.6605253788875008, 'avg_n_err_te': 0.32330665904544154}\n",
      "iteration 600 - {'batch_size': 2500, 'degree': 1, 'gamma': 0.001, 'k_fold': 4, 'lambda': 0.01, 'max_iters': 100, 'num_batches': 1, 'seed': 500, 'seed_cv': 0, 'avg_logistic_err_tr': 0.6543850516568617, 'avg_ridge_norm_tr': 0.00151745703396882, 'avg_total_loss_tr': 0.6559025086908303, 'avg_n_err_tr': 0.3224540344860436, 'avg_logistic_err_te': 0.6544213879394677, 'avg_ridge_norm_te': 0.00151745703396882, 'avg_total_loss_te': 0.6559388449734365, 'avg_n_err_te': 0.32277793655330095}\n",
      "iteration 700 - {'batch_size': 2500, 'degree': 1, 'gamma': 0.001, 'k_fold': 4, 'lambda': 0.01, 'max_iters': 100, 'num_batches': 1, 'seed': 600, 'seed_cv': 0, 'avg_logistic_err_tr': 0.65024153967755, 'avg_ridge_norm_tr': 0.0017170599301431961, 'avg_total_loss_tr': 0.6519585996076932, 'avg_n_err_tr': 0.32195865485376773, 'avg_logistic_err_te': 0.650284988588593, 'avg_ridge_norm_te': 0.0017170599301431961, 'avg_total_loss_te': 0.6520020485187362, 'avg_n_err_te': 0.32222063446699056}\n",
      "iteration 800 - {'batch_size': 2500, 'degree': 1, 'gamma': 0.001, 'k_fold': 4, 'lambda': 0.01, 'max_iters': 100, 'num_batches': 1, 'seed': 700, 'seed_cv': 0, 'avg_logistic_err_tr': 0.6464102329524593, 'avg_ridge_norm_tr': 0.001907940463174414, 'avg_total_loss_tr': 0.6483181734156336, 'avg_n_err_tr': 0.3213394303134229, 'avg_logistic_err_te': 0.6464637315030719, 'avg_ridge_norm_te': 0.001907940463174414, 'avg_total_loss_te': 0.6483716719662463, 'avg_n_err_te': 0.3214346956273221}\n",
      "iteration 900 - {'batch_size': 2500, 'degree': 1, 'gamma': 0.001, 'k_fold': 4, 'lambda': 0.01, 'max_iters': 100, 'num_batches': 1, 'seed': 800, 'seed_cv': 0, 'avg_logistic_err_tr': 0.643099455297799, 'avg_ridge_norm_tr': 0.002080198189620248, 'avg_total_loss_tr': 0.6451796534874192, 'avg_n_err_tr': 0.3206439935219586, 'avg_logistic_err_te': 0.6431629821931116, 'avg_ridge_norm_te': 0.002080198189620248, 'avg_total_loss_te': 0.6452431803827319, 'avg_n_err_te': 0.3208059445555873}\n",
      "iteration 1000 - {'batch_size': 2500, 'degree': 1, 'gamma': 0.001, 'k_fold': 4, 'lambda': 0.01, 'max_iters': 100, 'num_batches': 1, 'seed': 900, 'seed_cv': 0, 'avg_logistic_err_tr': 0.6401047156057657, 'avg_ridge_norm_tr': 0.002241366109695147, 'avg_total_loss_tr': 0.6423460817154608, 'avg_n_err_tr': 0.3201057444984281, 'avg_logistic_err_te': 0.6401977135189072, 'avg_ridge_norm_te': 0.002241366109695147, 'avg_total_loss_te': 0.6424390796286024, 'avg_n_err_te': 0.32076307516433267}\n",
      "iteration 100 - {'batch_size': 2500, 'degree': 1, 'gamma': 0.001, 'k_fold': 4, 'lambda': 0.001, 'max_iters': 100, 'num_batches': 1, 'seed': 0, 'seed_cv': 0, 'avg_logistic_err_tr': 0.6844361831405859, 'avg_ridge_norm_tr': 2.9690661676955003e-05, 'avg_total_loss_tr': 0.6844658738022628, 'avg_n_err_tr': 0.3281461369915214, 'avg_logistic_err_te': 0.6844314136790652, 'avg_ridge_norm_te': 2.9690661676955003e-05, 'avg_total_loss_te': 0.6844611043407423, 'avg_n_err_te': 0.3271934838525293}\n"
     ]
    },
    {
     "name": "stdout",
     "output_type": "stream",
     "text": [
      "iteration 200 - {'batch_size': 2500, 'degree': 1, 'gamma': 0.001, 'k_fold': 4, 'lambda': 0.001, 'max_iters': 100, 'num_batches': 1, 'seed': 100, 'seed_cv': 0, 'avg_logistic_err_tr': 0.6766475182530035, 'avg_ridge_norm_tr': 5.789965187952384e-05, 'avg_total_loss_tr': 0.6767054179048829, 'avg_n_err_tr': 0.3256978184243117, 'avg_logistic_err_te': 0.6766566440909527, 'avg_ridge_norm_te': 5.789965187952384e-05, 'avg_total_loss_te': 0.6767145437428321, 'avg_n_err_te': 0.3257216347527865}\n",
      "iteration 300 - {'batch_size': 2500, 'degree': 1, 'gamma': 0.001, 'k_fold': 4, 'lambda': 0.001, 'max_iters': 100, 'num_batches': 1, 'seed': 200, 'seed_cv': 0, 'avg_logistic_err_tr': 0.6701692266039162, 'avg_ridge_norm_tr': 8.296495465867697e-05, 'avg_total_loss_tr': 0.670252191558575, 'avg_n_err_tr': 0.3244117366866724, 'avg_logistic_err_te': 0.6702064059357027, 'avg_ridge_norm_te': 8.296495465867697e-05, 'avg_total_loss_te': 0.6702893708903613, 'avg_n_err_te': 0.32446413260931695}\n",
      "iteration 400 - {'batch_size': 2500, 'degree': 1, 'gamma': 0.001, 'k_fold': 4, 'lambda': 0.001, 'max_iters': 100, 'num_batches': 1, 'seed': 300, 'seed_cv': 0, 'avg_logistic_err_tr': 0.6645565029911269, 'avg_ridge_norm_tr': 0.0001060236608297548, 'avg_total_loss_tr': 0.6646625266519567, 'avg_n_err_tr': 0.32389254072592166, 'avg_logistic_err_te': 0.6646021170656535, 'avg_ridge_norm_te': 0.0001060236608297548, 'avg_total_loss_te': 0.6647081407264833, 'avg_n_err_te': 0.324221206058874}\n",
      "iteration 500 - {'batch_size': 2500, 'degree': 1, 'gamma': 0.001, 'k_fold': 4, 'lambda': 0.001, 'max_iters': 100, 'num_batches': 1, 'seed': 400, 'seed_cv': 0, 'avg_logistic_err_tr': 0.6591293792228035, 'avg_ridge_norm_tr': 0.00012977952318724278, 'avg_total_loss_tr': 0.6592591587459908, 'avg_n_err_tr': 0.32300181004096407, 'avg_logistic_err_te': 0.6591698351045011, 'avg_ridge_norm_te': 0.00012977952318724278, 'avg_total_loss_te': 0.6592996146276884, 'avg_n_err_te': 0.32330665904544154}\n",
      "iteration 600 - {'batch_size': 2500, 'degree': 1, 'gamma': 0.001, 'k_fold': 4, 'lambda': 0.001, 'max_iters': 100, 'num_batches': 1, 'seed': 500, 'seed_cv': 0, 'avg_logistic_err_tr': 0.6543056045940904, 'avg_ridge_norm_tr': 0.00015212741017578096, 'avg_total_loss_tr': 0.6544577320042662, 'avg_n_err_tr': 0.3224540344860436, 'avg_logistic_err_te': 0.654342055071333, 'avg_ridge_norm_te': 0.00015212741017578096, 'avg_total_loss_te': 0.6544941824815088, 'avg_n_err_te': 0.32277793655330095}\n",
      "iteration 700 - {'batch_size': 2500, 'degree': 1, 'gamma': 0.001, 'k_fold': 4, 'lambda': 0.001, 'max_iters': 100, 'num_batches': 1, 'seed': 600, 'seed_cv': 0, 'avg_logistic_err_tr': 0.6501422632006946, 'avg_ridge_norm_tr': 0.00017220684573843176, 'avg_total_loss_tr': 0.6503144700464331, 'avg_n_err_tr': 0.32194912832237776, 'avg_logistic_err_te': 0.6501858486652146, 'avg_ridge_norm_te': 0.00017220684573843176, 'avg_total_loss_te': 0.6503580555109529, 'avg_n_err_te': 0.3221491854815662}\n",
      "iteration 800 - {'batch_size': 2500, 'degree': 1, 'gamma': 0.001, 'k_fold': 4, 'lambda': 0.001, 'max_iters': 100, 'num_batches': 1, 'seed': 700, 'seed_cv': 0, 'avg_logistic_err_tr': 0.6462903410689642, 'avg_ridge_norm_tr': 0.0001914270271162636, 'avg_total_loss_tr': 0.6464817680960805, 'avg_n_err_tr': 0.32132990378203297, 'avg_logistic_err_te': 0.6463439974577003, 'avg_ridge_norm_te': 0.0001914270271162636, 'avg_total_loss_te': 0.6465354244848167, 'avg_n_err_te': 0.32140611603315233}\n",
      "iteration 900 - {'batch_size': 2500, 'degree': 1, 'gamma': 0.001, 'k_fold': 4, 'lambda': 0.001, 'max_iters': 100, 'num_batches': 1, 'seed': 800, 'seed_cv': 0, 'avg_logistic_err_tr': 0.6429585890538498, 'avg_ridge_norm_tr': 0.00020879423777386396, 'avg_total_loss_tr': 0.6431673832916238, 'avg_n_err_tr': 0.32060588739639895, 'avg_logistic_err_te': 0.6430223132265374, 'avg_ridge_norm_te': 0.00020879423777386396, 'avg_total_loss_te': 0.6432311074643112, 'avg_n_err_te': 0.3208059445555873}\n",
      "iteration 1000 - {'batch_size': 2500, 'degree': 1, 'gamma': 0.001, 'k_fold': 4, 'lambda': 0.001, 'max_iters': 100, 'num_batches': 1, 'seed': 900, 'seed_cv': 0, 'avg_logistic_err_tr': 0.6399424616017511, 'avg_ridge_norm_tr': 0.00022506205440032723, 'avg_total_loss_tr': 0.6401675236561513, 'avg_n_err_tr': 0.32007240163856343, 'avg_logistic_err_te': 0.64003569933148, 'avg_ridge_norm_te': 0.00022506205440032723, 'avg_total_loss_te': 0.6402607613858803, 'avg_n_err_te': 0.3207487853672478}\n",
      "iteration 100 - {'batch_size': 2500, 'degree': 2, 'gamma': 0.01, 'k_fold': 4, 'lambda': 0.01, 'max_iters': 100, 'num_batches': 1, 'seed': 0, 'seed_cv': 0, 'avg_logistic_err_tr': 0.5734257681881822, 'avg_ridge_norm_tr': 0.0030286301194691646, 'avg_total_loss_tr': 0.5764543983076514, 'avg_n_err_tr': 0.3037534533676288, 'avg_logistic_err_te': 0.5737115426279279, 'avg_ridge_norm_te': 0.0030286301194691646, 'avg_total_loss_te': 0.5767401727473971, 'avg_n_err_te': 0.3030723063732495}\n",
      "iteration 200 - {'batch_size': 2500, 'degree': 2, 'gamma': 0.01, 'k_fold': 4, 'lambda': 0.01, 'max_iters': 100, 'num_batches': 1, 'seed': 100, 'seed_cv': 0, 'avg_logistic_err_tr': 0.5422631917525498, 'avg_ridge_norm_tr': 0.004678685609853232, 'avg_total_loss_tr': 0.5469418773624031, 'avg_n_err_tr': 0.2532390206725731, 'avg_logistic_err_te': 0.5429973006207439, 'avg_ridge_norm_te': 0.004678685609853232, 'avg_total_loss_te': 0.5476759862305971, 'avg_n_err_te': 0.25424406973420977}\n",
      "iteration 300 - {'batch_size': 2500, 'degree': 2, 'gamma': 0.01, 'k_fold': 4, 'lambda': 0.01, 'max_iters': 100, 'num_batches': 1, 'seed': 200, 'seed_cv': 0, 'avg_logistic_err_tr': 0.5258632511501559, 'avg_ridge_norm_tr': 0.005876842628367897, 'avg_total_loss_tr': 0.5317400937785237, 'avg_n_err_tr': 0.24218348099456988, 'avg_logistic_err_te': 0.5268612062224934, 'avg_ridge_norm_te': 0.005876842628367897, 'avg_total_loss_te': 0.5327380488508613, 'avg_n_err_te': 0.24232637896541867}\n",
      "iteration 400 - {'batch_size': 2500, 'degree': 2, 'gamma': 0.01, 'k_fold': 4, 'lambda': 0.01, 'max_iters': 100, 'num_batches': 1, 'seed': 300, 'seed_cv': 0, 'avg_logistic_err_tr': 0.5147771883482444, 'avg_ridge_norm_tr': 0.006814568923983064, 'avg_total_loss_tr': 0.5215917572722275, 'avg_n_err_tr': 0.23630084786129368, 'avg_logistic_err_te': 0.5153413125399331, 'avg_ridge_norm_te': 0.006814568923983064, 'avg_total_loss_te': 0.5221558814639161, 'avg_n_err_te': 0.23552443555301517}\n",
      "iteration 500 - {'batch_size': 2500, 'degree': 2, 'gamma': 0.01, 'k_fold': 4, 'lambda': 0.01, 'max_iters': 100, 'num_batches': 1, 'seed': 400, 'seed_cv': 0, 'avg_logistic_err_tr': 0.50803483746613, 'avg_ridge_norm_tr': 0.007536688176111245, 'avg_total_loss_tr': 0.5155715256422413, 'avg_n_err_tr': 0.23435743545774984, 'avg_logistic_err_te': 0.5088877353323319, 'avg_ridge_norm_te': 0.007536688176111245, 'avg_total_loss_te': 0.5164244235084431, 'avg_n_err_te': 0.23320948842526434}\n",
      "iteration 600 - {'batch_size': 2500, 'degree': 2, 'gamma': 0.01, 'k_fold': 4, 'lambda': 0.01, 'max_iters': 100, 'num_batches': 1, 'seed': 500, 'seed_cv': 0, 'avg_logistic_err_tr': 0.503249863474561, 'avg_ridge_norm_tr': 0.008232718736549753, 'avg_total_loss_tr': 0.5114825822111109, 'avg_n_err_tr': 0.23253310469657998, 'avg_logistic_err_te': 0.5039545979610558, 'avg_ridge_norm_te': 0.008232718736549753, 'avg_total_loss_te': 0.5121873166976055, 'avg_n_err_te': 0.23233781080308658}\n",
      "iteration 700 - {'batch_size': 2500, 'degree': 2, 'gamma': 0.01, 'k_fold': 4, 'lambda': 0.01, 'max_iters': 100, 'num_batches': 1, 'seed': 600, 'seed_cv': 0, 'avg_logistic_err_tr': 0.498454637060487, 'avg_ridge_norm_tr': 0.008800537747918093, 'avg_total_loss_tr': 0.5072551748084051, 'avg_n_err_tr': 0.23038963513384778, 'avg_logistic_err_te': 0.49951585828381007, 'avg_ridge_norm_te': 0.008800537747918093, 'avg_total_loss_te': 0.5083163960317282, 'avg_n_err_te': 0.23000857387825097}\n",
      "iteration 800 - {'batch_size': 2500, 'degree': 2, 'gamma': 0.01, 'k_fold': 4, 'lambda': 0.01, 'max_iters': 100, 'num_batches': 1, 'seed': 700, 'seed_cv': 0, 'avg_logistic_err_tr': 0.4964467057480189, 'avg_ridge_norm_tr': 0.009210930154607312, 'avg_total_loss_tr': 0.5056576359026262, 'avg_n_err_tr': 0.22790321044107842, 'avg_logistic_err_te': 0.4972634009272345, 'avg_ridge_norm_te': 0.009210930154607312, 'avg_total_loss_te': 0.5064743310818418, 'avg_n_err_te': 0.2281223206630466}\n"
     ]
    },
    {
     "name": "stdout",
     "output_type": "stream",
     "text": [
      "iteration 900 - {'batch_size': 2500, 'degree': 2, 'gamma': 0.01, 'k_fold': 4, 'lambda': 0.01, 'max_iters': 100, 'num_batches': 1, 'seed': 800, 'seed_cv': 0, 'avg_logistic_err_tr': 0.4940306826091957, 'avg_ridge_norm_tr': 0.009544986485251223, 'avg_total_loss_tr': 0.5035756690944468, 'avg_n_err_tr': 0.22671715728303327, 'avg_logistic_err_te': 0.4954586693473948, 'avg_ridge_norm_te': 0.009544986485251223, 'avg_total_loss_te': 0.505003655832646, 'avg_n_err_te': 0.22667905115747358}\n",
      "iteration 1000 - {'batch_size': 2500, 'degree': 2, 'gamma': 0.01, 'k_fold': 4, 'lambda': 0.01, 'max_iters': 100, 'num_batches': 1, 'seed': 900, 'seed_cv': 0, 'avg_logistic_err_tr': 0.4918545852628742, 'avg_ridge_norm_tr': 0.009879826077266209, 'avg_total_loss_tr': 0.5017344113401404, 'avg_n_err_tr': 0.22494522244450793, 'avg_logistic_err_te': 0.49333590515807624, 'avg_ridge_norm_te': 0.009879826077266209, 'avg_total_loss_te': 0.5032157312353424, 'avg_n_err_te': 0.22525007144898546}\n",
      "iteration 100 - {'batch_size': 2500, 'degree': 2, 'gamma': 0.01, 'k_fold': 4, 'lambda': 0.001, 'max_iters': 100, 'num_batches': 1, 'seed': 0, 'seed_cv': 0, 'avg_logistic_err_tr': 0.5731885931465327, 'avg_ridge_norm_tr': 0.00030403838253052274, 'avg_total_loss_tr': 0.5734926315290632, 'avg_n_err_tr': 0.30356768600552536, 'avg_logistic_err_te': 0.5734756132190737, 'avg_ridge_norm_te': 0.00030403838253052274, 'avg_total_loss_te': 0.5737796516016042, 'avg_n_err_te': 0.3029294084024007}\n",
      "iteration 200 - {'batch_size': 2500, 'degree': 2, 'gamma': 0.01, 'k_fold': 4, 'lambda': 0.001, 'max_iters': 100, 'num_batches': 1, 'seed': 100, 'seed_cv': 0, 'avg_logistic_err_tr': 0.5417427204369275, 'avg_ridge_norm_tr': 0.0004714369081704331, 'avg_total_loss_tr': 0.5422141573450979, 'avg_n_err_tr': 0.2529675145279604, 'avg_logistic_err_te': 0.5424817001469915, 'avg_ridge_norm_te': 0.0004714369081704331, 'avg_total_loss_te': 0.5429531370551619, 'avg_n_err_te': 0.25410117176336094}\n",
      "iteration 300 - {'batch_size': 2500, 'degree': 2, 'gamma': 0.01, 'k_fold': 4, 'lambda': 0.001, 'max_iters': 100, 'num_batches': 1, 'seed': 200, 'seed_cv': 0, 'avg_logistic_err_tr': 0.5250980003885887, 'avg_ridge_norm_tr': 0.0005944277552484379, 'avg_total_loss_tr': 0.5256924281438371, 'avg_n_err_tr': 0.24194531770982186, 'avg_logistic_err_te': 0.5261074563723868, 'avg_ridge_norm_te': 0.0005944277552484379, 'avg_total_loss_te': 0.5267018841276352, 'avg_n_err_te': 0.24225492997999432}\n",
      "iteration 400 - {'batch_size': 2500, 'degree': 2, 'gamma': 0.01, 'k_fold': 4, 'lambda': 0.001, 'max_iters': 100, 'num_batches': 1, 'seed': 300, 'seed_cv': 0, 'avg_logistic_err_tr': 0.5138047280282807, 'avg_ridge_norm_tr': 0.0006918263421539807, 'avg_total_loss_tr': 0.5144965543704346, 'avg_n_err_tr': 0.23593883966847667, 'avg_logistic_err_te': 0.5143830744976313, 'avg_ridge_norm_te': 0.0006918263421539807, 'avg_total_loss_te': 0.5150749008397852, 'avg_n_err_te': 0.23526721920548727}\n",
      "iteration 500 - {'batch_size': 2500, 'degree': 2, 'gamma': 0.01, 'k_fold': 4, 'lambda': 0.001, 'max_iters': 100, 'num_batches': 1, 'seed': 400, 'seed_cv': 0, 'avg_logistic_err_tr': 0.5068837100981712, 'avg_ridge_norm_tr': 0.0007678063578221274, 'avg_total_loss_tr': 0.5076515164559934, 'avg_n_err_tr': 0.2339525578736782, 'avg_logistic_err_te': 0.507755771740095, 'avg_ridge_norm_te': 0.0007678063578221274, 'avg_total_loss_te': 0.5085235780979172, 'avg_n_err_te': 0.23292369248356673}\n",
      "iteration 600 - {'batch_size': 2500, 'degree': 2, 'gamma': 0.01, 'k_fold': 4, 'lambda': 0.001, 'max_iters': 100, 'num_batches': 1, 'seed': 500, 'seed_cv': 0, 'avg_logistic_err_tr': 0.5020121431799606, 'avg_ridge_norm_tr': 0.000841325319346019, 'avg_total_loss_tr': 0.5028534684993066, 'avg_n_err_tr': 0.23201390873582928, 'avg_logistic_err_te': 0.5027428776968487, 'avg_ridge_norm_te': 0.000841325319346019, 'avg_total_loss_te': 0.5035842030161947, 'avg_n_err_te': 0.23176621891969135}\n",
      "iteration 700 - {'batch_size': 2500, 'degree': 2, 'gamma': 0.01, 'k_fold': 4, 'lambda': 0.001, 'max_iters': 100, 'num_batches': 1, 'seed': 600, 'seed_cv': 0, 'avg_logistic_err_tr': 0.49709641842029684, 'avg_ridge_norm_tr': 0.0009023495058452886, 'avg_total_loss_tr': 0.49799876792614217, 'avg_n_err_tr': 0.22981327998475756, 'avg_logistic_err_te': 0.498171526598092, 'avg_ridge_norm_te': 0.0009023495058452886, 'avg_total_loss_te': 0.4990738761039373, 'avg_n_err_te': 0.2297799371248928}\n",
      "iteration 800 - {'batch_size': 2500, 'degree': 2, 'gamma': 0.01, 'k_fold': 4, 'lambda': 0.001, 'max_iters': 100, 'num_batches': 1, 'seed': 700, 'seed_cv': 0, 'avg_logistic_err_tr': 0.49498404639324073, 'avg_ridge_norm_tr': 0.0009476016780029675, 'avg_total_loss_tr': 0.4959316480712436, 'avg_n_err_tr': 0.22748880632561683, 'avg_logistic_err_te': 0.4958227414103975, 'avg_ridge_norm_te': 0.0009476016780029675, 'avg_total_loss_te': 0.4967703430884005, 'avg_n_err_te': 0.22749356959131178}\n",
      "iteration 900 - {'batch_size': 2500, 'degree': 2, 'gamma': 0.01, 'k_fold': 4, 'lambda': 0.001, 'max_iters': 100, 'num_batches': 1, 'seed': 800, 'seed_cv': 0, 'avg_logistic_err_tr': 0.49245726127183026, 'avg_ridge_norm_tr': 0.0009852994354963406, 'avg_total_loss_tr': 0.4934425607073266, 'avg_n_err_tr': 0.22656473278079453, 'avg_logistic_err_te': 0.49390723042392015, 'avg_ridge_norm_te': 0.0009852994354963406, 'avg_total_loss_te': 0.4948925298594165, 'avg_n_err_te': 0.2261789082595027}\n",
      "iteration 1000 - {'batch_size': 2500, 'degree': 2, 'gamma': 0.01, 'k_fold': 4, 'lambda': 0.001, 'max_iters': 100, 'num_batches': 1, 'seed': 900, 'seed_cv': 0, 'avg_logistic_err_tr': 0.49018355176531697, 'avg_ridge_norm_tr': 0.0010230155125390324, 'avg_total_loss_tr': 0.49120656727785605, 'avg_n_err_tr': 0.2246022673144708, 'avg_logistic_err_te': 0.49167518630883716, 'avg_ridge_norm_te': 0.0010230155125390324, 'avg_total_loss_te': 0.4926982018213762, 'avg_n_err_te': 0.22492140611603317}\n",
      "iteration 100 - {'batch_size': 2500, 'degree': 2, 'gamma': 0.001, 'k_fold': 4, 'lambda': 0.01, 'max_iters': 100, 'num_batches': 1, 'seed': 0, 'seed_cv': 0, 'avg_logistic_err_tr': 0.6503547847791986, 'avg_ridge_norm_tr': 0.0006422142942290031, 'avg_total_loss_tr': 0.6509969990734277, 'avg_n_err_tr': 0.3741878631990092, 'avg_logistic_err_te': 0.6503688998422649, 'avg_ridge_norm_te': 0.0006422142942290031, 'avg_total_loss_te': 0.6510111141364938, 'avg_n_err_te': 0.3737067733638182}\n",
      "iteration 200 - {'batch_size': 2500, 'degree': 2, 'gamma': 0.001, 'k_fold': 4, 'lambda': 0.01, 'max_iters': 100, 'num_batches': 1, 'seed': 100, 'seed_cv': 0, 'avg_logistic_err_tr': 0.6297038674189718, 'avg_ridge_norm_tr': 0.00108211938941721, 'avg_total_loss_tr': 0.630785986808389, 'avg_n_err_tr': 0.3640468705344384, 'avg_logistic_err_te': 0.6298631052049484, 'avg_ridge_norm_te': 0.00108211938941721, 'avg_total_loss_te': 0.6309452245943655, 'avg_n_err_te': 0.3642897970848814}\n",
      "iteration 300 - {'batch_size': 2500, 'degree': 2, 'gamma': 0.001, 'k_fold': 4, 'lambda': 0.01, 'max_iters': 100, 'num_batches': 1, 'seed': 200, 'seed_cv': 0, 'avg_logistic_err_tr': 0.6170170497660088, 'avg_ridge_norm_tr': 0.0014171751545443612, 'avg_total_loss_tr': 0.6184342249205531, 'avg_n_err_tr': 0.357106792416881, 'avg_logistic_err_te': 0.6172306799007523, 'avg_ridge_norm_te': 0.0014171751545443612, 'avg_total_loss_te': 0.6186478550552965, 'avg_n_err_te': 0.35697342097742213}\n",
      "iteration 400 - {'batch_size': 2500, 'degree': 2, 'gamma': 0.001, 'k_fold': 4, 'lambda': 0.01, 'max_iters': 100, 'num_batches': 1, 'seed': 300, 'seed_cv': 0, 'avg_logistic_err_tr': 0.6072071218047239, 'avg_ridge_norm_tr': 0.0017132794612722338, 'avg_total_loss_tr': 0.608920401265996, 'avg_n_err_tr': 0.3514337429741831, 'avg_logistic_err_te': 0.6073464460880973, 'avg_ridge_norm_te': 0.0017132794612722338, 'avg_total_loss_te': 0.6090597255493695, 'avg_n_err_te': 0.35135753072306375}\n",
      "iteration 500 - {'batch_size': 2500, 'degree': 2, 'gamma': 0.001, 'k_fold': 4, 'lambda': 0.01, 'max_iters': 100, 'num_batches': 1, 'seed': 400, 'seed_cv': 0, 'avg_logistic_err_tr': 0.5995177251208678, 'avg_ridge_norm_tr': 0.0019761726801418907, 'avg_total_loss_tr': 0.6014938978010096, 'avg_n_err_tr': 0.34142135848337624, 'avg_logistic_err_te': 0.5997233718422432, 'avg_ridge_norm_te': 0.0019761726801418907, 'avg_total_loss_te': 0.6016995445223852, 'avg_n_err_te': 0.3411689054015433}\n"
     ]
    },
    {
     "name": "stdout",
     "output_type": "stream",
     "text": [
      "iteration 600 - {'batch_size': 2500, 'degree': 2, 'gamma': 0.001, 'k_fold': 4, 'lambda': 0.01, 'max_iters': 100, 'num_batches': 1, 'seed': 500, 'seed_cv': 0, 'avg_logistic_err_tr': 0.5926085429007577, 'avg_ridge_norm_tr': 0.0022203933416733573, 'avg_total_loss_tr': 0.594828936242431, 'avg_n_err_tr': 0.332161569972373, 'avg_logistic_err_te': 0.5928102589621921, 'avg_ridge_norm_te': 0.0022203933416733573, 'avg_total_loss_te': 0.5950306523038654, 'avg_n_err_te': 0.33263789654186915}\n",
      "iteration 700 - {'batch_size': 2500, 'degree': 2, 'gamma': 0.001, 'k_fold': 4, 'lambda': 0.01, 'max_iters': 100, 'num_batches': 1, 'seed': 600, 'seed_cv': 0, 'avg_logistic_err_tr': 0.5866180331924548, 'avg_ridge_norm_tr': 0.002448115098676684, 'avg_total_loss_tr': 0.5890661482911315, 'avg_n_err_tr': 0.3247832714108793, 'avg_logistic_err_te': 0.5868952312394109, 'avg_ridge_norm_te': 0.002448115098676684, 'avg_total_loss_te': 0.5893433463380875, 'avg_n_err_te': 0.3244212632180623}\n",
      "iteration 800 - {'batch_size': 2500, 'degree': 2, 'gamma': 0.001, 'k_fold': 4, 'lambda': 0.01, 'max_iters': 100, 'num_batches': 1, 'seed': 700, 'seed_cv': 0, 'avg_logistic_err_tr': 0.5815013088782713, 'avg_ridge_norm_tr': 0.002644239702347023, 'avg_total_loss_tr': 0.5841455485806184, 'avg_n_err_tr': 0.3157616461846242, 'avg_logistic_err_te': 0.5817421705597147, 'avg_ridge_norm_te': 0.002644239702347023, 'avg_total_loss_te': 0.5843864102620616, 'avg_n_err_te': 0.31623320948842526}\n",
      "iteration 900 - {'batch_size': 2500, 'degree': 2, 'gamma': 0.001, 'k_fold': 4, 'lambda': 0.01, 'max_iters': 100, 'num_batches': 1, 'seed': 800, 'seed_cv': 0, 'avg_logistic_err_tr': 0.5769293593610505, 'avg_ridge_norm_tr': 0.0028287141897565277, 'avg_total_loss_tr': 0.5797580735508069, 'avg_n_err_tr': 0.307830808802515, 'avg_logistic_err_te': 0.5772653111392884, 'avg_ridge_norm_te': 0.0028287141897565277, 'avg_total_loss_te': 0.5800940253290449, 'avg_n_err_te': 0.3082309231208917}\n",
      "iteration 1000 - {'batch_size': 2500, 'degree': 2, 'gamma': 0.001, 'k_fold': 4, 'lambda': 0.01, 'max_iters': 100, 'num_batches': 1, 'seed': 900, 'seed_cv': 0, 'avg_logistic_err_tr': 0.5727709102931782, 'avg_ridge_norm_tr': 0.00300547071084618, 'avg_total_loss_tr': 0.5757763810040244, 'avg_n_err_tr': 0.29989044488901595, 'avg_logistic_err_te': 0.5731781487639438, 'avg_ridge_norm_te': 0.00300547071084618, 'avg_total_loss_te': 0.57618361947479, 'avg_n_err_te': 0.30018576736210345}\n",
      "iteration 100 - {'batch_size': 2500, 'degree': 2, 'gamma': 0.001, 'k_fold': 4, 'lambda': 0.001, 'max_iters': 100, 'num_batches': 1, 'seed': 0, 'seed_cv': 0, 'avg_logistic_err_tr': 0.6503410297576391, 'avg_ridge_norm_tr': 6.424819592526596e-05, 'avg_total_loss_tr': 0.6504052779535644, 'avg_n_err_tr': 0.3741878631990092, 'avg_logistic_err_te': 0.650355154329121, 'avg_ridge_norm_te': 6.424819592526596e-05, 'avg_total_loss_te': 0.6504194025250464, 'avg_n_err_te': 0.3737067733638182}\n",
      "iteration 200 - {'batch_size': 2500, 'degree': 2, 'gamma': 0.001, 'k_fold': 4, 'lambda': 0.001, 'max_iters': 100, 'num_batches': 1, 'seed': 100, 'seed_cv': 0, 'avg_logistic_err_tr': 0.6296692091289006, 'avg_ridge_norm_tr': 0.0001082994295835049, 'avg_total_loss_tr': 0.629777508558484, 'avg_n_err_tr': 0.36403734400304855, 'avg_logistic_err_te': 0.629828550011674, 'avg_ridge_norm_te': 0.0001082994295835049, 'avg_total_loss_te': 0.6299368494412576, 'avg_n_err_te': 0.3642897970848814}\n",
      "iteration 300 - {'batch_size': 2500, 'degree': 2, 'gamma': 0.001, 'k_fold': 4, 'lambda': 0.001, 'max_iters': 100, 'num_batches': 1, 'seed': 200, 'seed_cv': 0, 'avg_logistic_err_tr': 0.6169595799039651, 'avg_ridge_norm_tr': 0.00014188918773386038, 'avg_total_loss_tr': 0.6171014690916989, 'avg_n_err_tr': 0.35710202915118605, 'avg_logistic_err_te': 0.6171733970165937, 'avg_ridge_norm_te': 0.00014188918773386038, 'avg_total_loss_te': 0.6173152862043275, 'avg_n_err_te': 0.35695913118033723}\n",
      "iteration 400 - {'batch_size': 2500, 'degree': 2, 'gamma': 0.001, 'k_fold': 4, 'lambda': 0.001, 'max_iters': 100, 'num_batches': 1, 'seed': 300, 'seed_cv': 0, 'avg_logistic_err_tr': 0.6071272856770247, 'avg_ridge_norm_tr': 0.0001716002374553027, 'avg_total_loss_tr': 0.60729888591448, 'avg_n_err_tr': 0.35141468991140323, 'avg_logistic_err_te': 0.607266870561213, 'avg_ridge_norm_te': 0.0001716002374553027, 'avg_total_loss_te': 0.6074384707986682, 'avg_n_err_te': 0.35135753072306375}\n",
      "iteration 500 - {'batch_size': 2500, 'degree': 2, 'gamma': 0.001, 'k_fold': 4, 'lambda': 0.001, 'max_iters': 100, 'num_batches': 1, 'seed': 400, 'seed_cv': 0, 'avg_logistic_err_tr': 0.5994146420174687, 'avg_ridge_norm_tr': 0.00019800615515564514, 'avg_total_loss_tr': 0.5996126481726245, 'avg_n_err_tr': 0.34138801562351145, 'avg_logistic_err_te': 0.599620710537216, 'avg_ridge_norm_te': 0.00019800615515564514, 'avg_total_loss_te': 0.5998187166923715, 'avg_n_err_te': 0.3411689054015433}\n",
      "iteration 600 - {'batch_size': 2500, 'degree': 2, 'gamma': 0.001, 'k_fold': 4, 'lambda': 0.001, 'max_iters': 100, 'num_batches': 1, 'seed': 500, 'seed_cv': 0, 'avg_logistic_err_tr': 0.5924805552273871, 'avg_ridge_norm_tr': 0.00022256008466449396, 'avg_total_loss_tr': 0.5927031153120517, 'avg_n_err_tr': 0.3320853577212537, 'avg_logistic_err_te': 0.5926828727736053, 'avg_ridge_norm_te': 0.00022256008466449396, 'avg_total_loss_te': 0.5929054328582699, 'avg_n_err_te': 0.33250928836810517}\n",
      "iteration 700 - {'batch_size': 2500, 'degree': 2, 'gamma': 0.001, 'k_fold': 4, 'lambda': 0.001, 'max_iters': 100, 'num_batches': 1, 'seed': 600, 'seed_cv': 0, 'avg_logistic_err_tr': 0.5864643584004448, 'avg_ridge_norm_tr': 0.0002454778034993864, 'avg_total_loss_tr': 0.5867098362039442, 'avg_n_err_tr': 0.3246451367057254, 'avg_logistic_err_te': 0.5867423183839524, 'avg_ridge_norm_te': 0.0002454778034993864, 'avg_total_loss_te': 0.5869877961874519, 'avg_n_err_te': 0.324335524435553}\n",
      "iteration 800 - {'batch_size': 2500, 'degree': 2, 'gamma': 0.001, 'k_fold': 4, 'lambda': 0.001, 'max_iters': 100, 'num_batches': 1, 'seed': 700, 'seed_cv': 0, 'avg_logistic_err_tr': 0.5813180294813788, 'avg_ridge_norm_tr': 0.00026524904323505557, 'avg_total_loss_tr': 0.5815832785246138, 'avg_n_err_tr': 0.31564256454225015, 'avg_logistic_err_te': 0.5815596843932235, 'avg_ridge_norm_te': 0.00026524904323505557, 'avg_total_loss_te': 0.5818249334364585, 'avg_n_err_te': 0.3160760217204916}\n",
      "iteration 900 - {'batch_size': 2500, 'degree': 2, 'gamma': 0.001, 'k_fold': 4, 'lambda': 0.001, 'max_iters': 100, 'num_batches': 1, 'seed': 800, 'seed_cv': 0, 'avg_logistic_err_tr': 0.5767171069425728, 'avg_ridge_norm_tr': 0.00028386496413841385, 'avg_total_loss_tr': 0.5770009719067113, 'avg_n_err_tr': 0.30765933123749645, 'avg_logistic_err_te': 0.5770540851262952, 'avg_ridge_norm_te': 0.00028386496413841385, 'avg_total_loss_te': 0.5773379500904335, 'avg_n_err_te': 0.3080308659617033}\n",
      "iteration 1000 - {'batch_size': 2500, 'degree': 2, 'gamma': 0.001, 'k_fold': 4, 'lambda': 0.001, 'max_iters': 100, 'num_batches': 1, 'seed': 900, 'seed_cv': 0, 'avg_logistic_err_tr': 0.5725276004714048, 'avg_ridge_norm_tr': 0.0003017232926622644, 'avg_total_loss_tr': 0.5728293237640671, 'avg_n_err_tr': 0.29965228160426793, 'avg_logistic_err_te': 0.5729360668220871, 'avg_ridge_norm_te': 0.0003017232926622644, 'avg_total_loss_te': 0.5732377901147494, 'avg_n_err_te': 0.3}\n",
      "iteration 100 - {'batch_size': 2500, 'degree': 3, 'gamma': 0.01, 'k_fold': 4, 'lambda': 0.01, 'max_iters': 100, 'num_batches': 1, 'seed': 0, 'seed_cv': 0, 'avg_logistic_err_tr': 0.5754403745095308, 'avg_ridge_norm_tr': 0.0029990192668453283, 'avg_total_loss_tr': 0.5784393937763761, 'avg_n_err_tr': 0.282771267981328, 'avg_logistic_err_te': 0.5763041555246142, 'avg_ridge_norm_te': 0.0029990192668453283, 'avg_total_loss_te': 0.5793031747914597, 'avg_n_err_te': 0.28153758216633323}\n",
      "iteration 200 - {'batch_size': 2500, 'degree': 3, 'gamma': 0.01, 'k_fold': 4, 'lambda': 0.01, 'max_iters': 100, 'num_batches': 1, 'seed': 100, 'seed_cv': 0, 'avg_logistic_err_tr': 0.5486657085648863, 'avg_ridge_norm_tr': 0.004570497923081044, 'avg_total_loss_tr': 0.5532362064879675, 'avg_n_err_tr': 0.2466037915594932, 'avg_logistic_err_te': 0.5513451318441445, 'avg_ridge_norm_te': 0.004570497923081044, 'avg_total_loss_te': 0.5559156297672256, 'avg_n_err_te': 0.24617033438125177}\n"
     ]
    },
    {
     "name": "stdout",
     "output_type": "stream",
     "text": [
      "iteration 300 - {'batch_size': 2500, 'degree': 3, 'gamma': 0.01, 'k_fold': 4, 'lambda': 0.01, 'max_iters': 100, 'num_batches': 1, 'seed': 200, 'seed_cv': 0, 'avg_logistic_err_tr': 0.5311285064448088, 'avg_ridge_norm_tr': 0.005700871133760883, 'avg_total_loss_tr': 0.5368293775785697, 'avg_n_err_tr': 0.23952557873678196, 'avg_logistic_err_te': 0.5343838754428233, 'avg_ridge_norm_te': 0.005700871133760883, 'avg_total_loss_te': 0.5400847465765841, 'avg_n_err_te': 0.24015432980851673}\n",
      "iteration 400 - {'batch_size': 2500, 'degree': 3, 'gamma': 0.01, 'k_fold': 4, 'lambda': 0.01, 'max_iters': 100, 'num_batches': 1, 'seed': 300, 'seed_cv': 0, 'avg_logistic_err_tr': 0.5204168435026291, 'avg_ridge_norm_tr': 0.006622566211262514, 'avg_total_loss_tr': 0.5270394097138915, 'avg_n_err_tr': 0.2370963132323521, 'avg_logistic_err_te': 0.5213843277000202, 'avg_ridge_norm_te': 0.006622566211262514, 'avg_total_loss_te': 0.5280068939112827, 'avg_n_err_te': 0.2373963989711346}\n",
      "iteration 500 - {'batch_size': 2500, 'degree': 3, 'gamma': 0.01, 'k_fold': 4, 'lambda': 0.01, 'max_iters': 100, 'num_batches': 1, 'seed': 400, 'seed_cv': 0, 'avg_logistic_err_tr': 0.509207003158388, 'avg_ridge_norm_tr': 0.007420932134136577, 'avg_total_loss_tr': 0.5166279352925245, 'avg_n_err_tr': 0.2321568067066781, 'avg_logistic_err_te': 0.5109889215788324, 'avg_ridge_norm_te': 0.007420932134136577, 'avg_total_loss_te': 0.5184098537129691, 'avg_n_err_te': 0.23186624749928553}\n",
      "iteration 600 - {'batch_size': 2500, 'degree': 3, 'gamma': 0.01, 'k_fold': 4, 'lambda': 0.01, 'max_iters': 100, 'num_batches': 1, 'seed': 500, 'seed_cv': 0, 'avg_logistic_err_tr': 0.5022566401614951, 'avg_ridge_norm_tr': 0.008213565191644814, 'avg_total_loss_tr': 0.5104702053531399, 'avg_n_err_tr': 0.23103267600266741, 'avg_logistic_err_te': 0.5033166829310624, 'avg_ridge_norm_te': 0.008213565191644814, 'avg_total_loss_te': 0.5115302481227071, 'avg_n_err_te': 0.23168048013718207}\n",
      "iteration 700 - {'batch_size': 2500, 'degree': 3, 'gamma': 0.01, 'k_fold': 4, 'lambda': 0.01, 'max_iters': 100, 'num_batches': 1, 'seed': 600, 'seed_cv': 0, 'avg_logistic_err_tr': 0.503515873016028, 'avg_ridge_norm_tr': 0.008874021729068085, 'avg_total_loss_tr': 0.512389894745096, 'avg_n_err_tr': 0.23106601886253217, 'avg_logistic_err_te': 0.5059562821705548, 'avg_ridge_norm_te': 0.008874021729068085, 'avg_total_loss_te': 0.5148303038996229, 'avg_n_err_te': 0.23093741068876822}\n",
      "iteration 800 - {'batch_size': 2500, 'degree': 3, 'gamma': 0.01, 'k_fold': 4, 'lambda': 0.01, 'max_iters': 100, 'num_batches': 1, 'seed': 700, 'seed_cv': 0, 'avg_logistic_err_tr': 0.5004417803622614, 'avg_ridge_norm_tr': 0.009376308974075096, 'avg_total_loss_tr': 0.5098180893363365, 'avg_n_err_tr': 0.2282414023054206, 'avg_logistic_err_te': 0.5026064896150242, 'avg_ridge_norm_te': 0.009376308974075096, 'avg_total_loss_te': 0.5119827985890993, 'avg_n_err_te': 0.22837953701057445}\n",
      "iteration 900 - {'batch_size': 2500, 'degree': 3, 'gamma': 0.01, 'k_fold': 4, 'lambda': 0.01, 'max_iters': 100, 'num_batches': 1, 'seed': 800, 'seed_cv': 0, 'avg_logistic_err_tr': 0.49024070223752214, 'avg_ridge_norm_tr': 0.00983861047398396, 'avg_total_loss_tr': 0.5000793127115061, 'avg_n_err_tr': 0.22580261026960086, 'avg_logistic_err_te': 0.4911161130060309, 'avg_ridge_norm_te': 0.00983861047398396, 'avg_total_loss_te': 0.5009547234800149, 'avg_n_err_te': 0.2252214918548157}\n",
      "iteration 1000 - {'batch_size': 2500, 'degree': 3, 'gamma': 0.01, 'k_fold': 4, 'lambda': 0.01, 'max_iters': 100, 'num_batches': 1, 'seed': 900, 'seed_cv': 0, 'avg_logistic_err_tr': 0.485710316236043, 'avg_ridge_norm_tr': 0.010241625694934111, 'avg_total_loss_tr': 0.49595194193097714, 'avg_n_err_tr': 0.223254263122797, 'avg_logistic_err_te': 0.48746942270676663, 'avg_ridge_norm_te': 0.010241625694934111, 'avg_total_loss_te': 0.4977110484017008, 'avg_n_err_te': 0.22402114889968563}\n",
      "iteration 100 - {'batch_size': 2500, 'degree': 3, 'gamma': 0.01, 'k_fold': 4, 'lambda': 0.001, 'max_iters': 100, 'num_batches': 1, 'seed': 0, 'seed_cv': 0, 'avg_logistic_err_tr': 0.5752587783802033, 'avg_ridge_norm_tr': 0.0003010423040203369, 'avg_total_loss_tr': 0.5755598206842236, 'avg_n_err_tr': 0.2826045536820043, 'avg_logistic_err_te': 0.5761268504915897, 'avg_ridge_norm_te': 0.0003010423040203369, 'avg_total_loss_te': 0.5764278927956101, 'avg_n_err_te': 0.28145184338382395}\n",
      "iteration 200 - {'batch_size': 2500, 'degree': 3, 'gamma': 0.01, 'k_fold': 4, 'lambda': 0.001, 'max_iters': 100, 'num_batches': 1, 'seed': 100, 'seed_cv': 0, 'avg_logistic_err_tr': 0.5488424376390573, 'avg_ridge_norm_tr': 0.0004604525287700101, 'avg_total_loss_tr': 0.5493028901678272, 'avg_n_err_tr': 0.24674192626464705, 'avg_logistic_err_te': 0.5520864372728793, 'avg_ridge_norm_te': 0.0004604525287700101, 'avg_total_loss_te': 0.5525468898016493, 'avg_n_err_te': 0.2467847956559017}\n",
      "iteration 300 - {'batch_size': 2500, 'degree': 3, 'gamma': 0.01, 'k_fold': 4, 'lambda': 0.001, 'max_iters': 100, 'num_batches': 1, 'seed': 200, 'seed_cv': 0, 'avg_logistic_err_tr': 0.5314331327184401, 'avg_ridge_norm_tr': 0.0005765955116132011, 'avg_total_loss_tr': 0.5320097282300533, 'avg_n_err_tr': 0.23937315423454322, 'avg_logistic_err_te': 0.5355061011457429, 'avg_ridge_norm_te': 0.0005765955116132011, 'avg_total_loss_te': 0.5360826966573561, 'avg_n_err_te': 0.2397113460988854}\n",
      "iteration 400 - {'batch_size': 2500, 'degree': 3, 'gamma': 0.01, 'k_fold': 4, 'lambda': 0.001, 'max_iters': 100, 'num_batches': 1, 'seed': 300, 'seed_cv': 0, 'avg_logistic_err_tr': 0.5164787126284558, 'avg_ridge_norm_tr': 0.0006723239678057975, 'avg_total_loss_tr': 0.5171510365962615, 'avg_n_err_tr': 0.23664380299133086, 'avg_logistic_err_te': 0.5162394009238324, 'avg_ridge_norm_te': 0.0006723239678057975, 'avg_total_loss_te': 0.5169117248916381, 'avg_n_err_te': 0.23665332952272078}\n",
      "iteration 500 - {'batch_size': 2500, 'degree': 3, 'gamma': 0.01, 'k_fold': 4, 'lambda': 0.001, 'max_iters': 100, 'num_batches': 1, 'seed': 400, 'seed_cv': 0, 'avg_logistic_err_tr': 0.5079741910639952, 'avg_ridge_norm_tr': 0.0007560669965465574, 'avg_total_loss_tr': 0.508730258060542, 'avg_n_err_tr': 0.23183766790511573, 'avg_logistic_err_te': 0.5097669936833782, 'avg_ridge_norm_te': 0.0007560669965465574, 'avg_total_loss_te': 0.5105230606799247, 'avg_n_err_te': 0.23185195770220063}\n",
      "iteration 600 - {'batch_size': 2500, 'degree': 3, 'gamma': 0.01, 'k_fold': 4, 'lambda': 0.001, 'max_iters': 100, 'num_batches': 1, 'seed': 500, 'seed_cv': 0, 'avg_logistic_err_tr': 0.49851073468751517, 'avg_ridge_norm_tr': 0.0008394144846677166, 'avg_total_loss_tr': 0.4993501491721829, 'avg_n_err_tr': 0.2300609698008955, 'avg_logistic_err_te': 0.499698891682933, 'avg_ridge_norm_te': 0.0008394144846677166, 'avg_total_loss_te': 0.5005383061676008, 'avg_n_err_te': 0.23085167190625894}\n",
      "iteration 700 - {'batch_size': 2500, 'degree': 3, 'gamma': 0.01, 'k_fold': 4, 'lambda': 0.001, 'max_iters': 100, 'num_batches': 1, 'seed': 600, 'seed_cv': 0, 'avg_logistic_err_tr': 0.5000388542760771, 'avg_ridge_norm_tr': 0.0009100349623981824, 'avg_total_loss_tr': 0.5009488892384752, 'avg_n_err_tr': 0.22987043917309707, 'avg_logistic_err_te': 0.5031323654684374, 'avg_ridge_norm_te': 0.0009100349623981824, 'avg_total_loss_te': 0.5040424004308356, 'avg_n_err_te': 0.22982280651614748}\n",
      "iteration 800 - {'batch_size': 2500, 'degree': 3, 'gamma': 0.01, 'k_fold': 4, 'lambda': 0.001, 'max_iters': 100, 'num_batches': 1, 'seed': 700, 'seed_cv': 0, 'avg_logistic_err_tr': 0.5000124287521879, 'avg_ridge_norm_tr': 0.000965143859869114, 'avg_total_loss_tr': 0.500977572612057, 'avg_n_err_tr': 0.22810803086596168, 'avg_logistic_err_te': 0.502015272179416, 'avg_ridge_norm_te': 0.000965143859869114, 'avg_total_loss_te': 0.5029804160392851, 'avg_n_err_te': 0.22846527579308373}\n",
      "iteration 900 - {'batch_size': 2500, 'degree': 3, 'gamma': 0.01, 'k_fold': 4, 'lambda': 0.001, 'max_iters': 100, 'num_batches': 1, 'seed': 800, 'seed_cv': 0, 'avg_logistic_err_tr': 0.4898435391246603, 'avg_ridge_norm_tr': 0.0010162341361833126, 'avg_total_loss_tr': 0.4908597732608436, 'avg_n_err_tr': 0.22567400209583693, 'avg_logistic_err_te': 0.4908251989789017, 'avg_ridge_norm_te': 0.0010162341361833126, 'avg_total_loss_te': 0.4918414331150851, 'avg_n_err_te': 0.22516433266647615}\n"
     ]
    },
    {
     "name": "stdout",
     "output_type": "stream",
     "text": [
      "iteration 1000 - {'batch_size': 2500, 'degree': 3, 'gamma': 0.01, 'k_fold': 4, 'lambda': 0.001, 'max_iters': 100, 'num_batches': 1, 'seed': 900, 'seed_cv': 0, 'avg_logistic_err_tr': 0.4837548874987473, 'avg_ridge_norm_tr': 0.0010613961626639952, 'avg_total_loss_tr': 0.4848162836614113, 'avg_n_err_tr': 0.2229017814613699, 'avg_logistic_err_te': 0.48551334690974135, 'avg_ridge_norm_te': 0.0010613961626639952, 'avg_total_loss_te': 0.48657474307240534, 'avg_n_err_te': 0.22394969991426122}\n",
      "iteration 100 - {'batch_size': 2500, 'degree': 3, 'gamma': 0.001, 'k_fold': 4, 'lambda': 0.01, 'max_iters': 100, 'num_batches': 1, 'seed': 0, 'seed_cv': 0, 'avg_logistic_err_tr': 0.6403569193599665, 'avg_ridge_norm_tr': 0.0006621331979724392, 'avg_total_loss_tr': 0.641019052557939, 'avg_n_err_tr': 0.34637039154044014, 'avg_logistic_err_te': 0.64095109289312, 'avg_ridge_norm_te': 0.0006621331979724392, 'avg_total_loss_te': 0.6416132260910925, 'avg_n_err_te': 0.3467562160617319}\n",
      "iteration 200 - {'batch_size': 2500, 'degree': 3, 'gamma': 0.001, 'k_fold': 4, 'lambda': 0.01, 'max_iters': 100, 'num_batches': 1, 'seed': 100, 'seed_cv': 0, 'avg_logistic_err_tr': 0.6217191546191517, 'avg_ridge_norm_tr': 0.0010771472252383682, 'avg_total_loss_tr': 0.6227963018443902, 'avg_n_err_tr': 0.3372916071258455, 'avg_logistic_err_te': 0.6227788830792711, 'avg_ridge_norm_te': 0.0010771472252383682, 'avg_total_loss_te': 0.6238560303045095, 'avg_n_err_te': 0.33799657044869963}\n",
      "iteration 300 - {'batch_size': 2500, 'degree': 3, 'gamma': 0.001, 'k_fold': 4, 'lambda': 0.01, 'max_iters': 100, 'num_batches': 1, 'seed': 200, 'seed_cv': 0, 'avg_logistic_err_tr': 0.6098020481044921, 'avg_ridge_norm_tr': 0.001407941032397699, 'avg_total_loss_tr': 0.61120998913689, 'avg_n_err_tr': 0.3248928265218634, 'avg_logistic_err_te': 0.6111412709256236, 'avg_ridge_norm_te': 0.001407941032397699, 'avg_total_loss_te': 0.6125492119580214, 'avg_n_err_te': 0.3254072592169191}\n",
      "iteration 400 - {'batch_size': 2500, 'degree': 3, 'gamma': 0.001, 'k_fold': 4, 'lambda': 0.01, 'max_iters': 100, 'num_batches': 1, 'seed': 300, 'seed_cv': 0, 'avg_logistic_err_tr': 0.5991361197538417, 'avg_ridge_norm_tr': 0.0016818521442060906, 'avg_total_loss_tr': 0.6008179718980479, 'avg_n_err_tr': 0.3218919691340383, 'avg_logistic_err_te': 0.5995288336941738, 'avg_ridge_norm_te': 0.0016818521442060906, 'avg_total_loss_te': 0.6012106858383799, 'avg_n_err_te': 0.3231066018862532}\n",
      "iteration 500 - {'batch_size': 2500, 'degree': 3, 'gamma': 0.001, 'k_fold': 4, 'lambda': 0.01, 'max_iters': 100, 'num_batches': 1, 'seed': 400, 'seed_cv': 0, 'avg_logistic_err_tr': 0.5934437341768346, 'avg_ridge_norm_tr': 0.0019314800955417231, 'avg_total_loss_tr': 0.5953752142723763, 'avg_n_err_tr': 0.3102981804325045, 'avg_logistic_err_te': 0.5942174057273583, 'avg_ridge_norm_te': 0.0019314800955417231, 'avg_total_loss_te': 0.5961488858229, 'avg_n_err_te': 0.3102743641040297}\n",
      "iteration 600 - {'batch_size': 2500, 'degree': 3, 'gamma': 0.001, 'k_fold': 4, 'lambda': 0.01, 'max_iters': 100, 'num_batches': 1, 'seed': 500, 'seed_cv': 0, 'avg_logistic_err_tr': 0.5867298450280343, 'avg_ridge_norm_tr': 0.002179070075671071, 'avg_total_loss_tr': 0.5889089151037054, 'avg_n_err_tr': 0.296751452796037, 'avg_logistic_err_te': 0.5869068105735133, 'avg_ridge_norm_te': 0.002179070075671071, 'avg_total_loss_te': 0.5890858806491844, 'avg_n_err_te': 0.2970134324092598}\n",
      "iteration 700 - {'batch_size': 2500, 'degree': 3, 'gamma': 0.001, 'k_fold': 4, 'lambda': 0.01, 'max_iters': 100, 'num_batches': 1, 'seed': 600, 'seed_cv': 0, 'avg_logistic_err_tr': 0.5794424661152848, 'avg_ridge_norm_tr': 0.002404173352220561, 'avg_total_loss_tr': 0.5818466394675054, 'avg_n_err_tr': 0.28817281127941313, 'avg_logistic_err_te': 0.5803482323402815, 'avg_ridge_norm_te': 0.002404173352220561, 'avg_total_loss_te': 0.582752405692502, 'avg_n_err_te': 0.2888110888825378}\n",
      "iteration 800 - {'batch_size': 2500, 'degree': 3, 'gamma': 0.001, 'k_fold': 4, 'lambda': 0.01, 'max_iters': 100, 'num_batches': 1, 'seed': 700, 'seed_cv': 0, 'avg_logistic_err_tr': 0.5774095615346282, 'avg_ridge_norm_tr': 0.0025977990425735693, 'avg_total_loss_tr': 0.5800073605772017, 'avg_n_err_tr': 0.28048490044774693, 'avg_logistic_err_te': 0.5778494226233354, 'avg_ridge_norm_te': 0.0025977990425735693, 'avg_total_loss_te': 0.5804472216659089, 'avg_n_err_te': 0.2815090025721635}\n",
      "iteration 900 - {'batch_size': 2500, 'degree': 3, 'gamma': 0.001, 'k_fold': 4, 'lambda': 0.01, 'max_iters': 100, 'num_batches': 1, 'seed': 800, 'seed_cv': 0, 'avg_logistic_err_tr': 0.5709931291087624, 'avg_ridge_norm_tr': 0.0027629839412183846, 'avg_total_loss_tr': 0.5737561130499808, 'avg_n_err_tr': 0.27531675716871484, 'avg_logistic_err_te': 0.5722435325977927, 'avg_ridge_norm_te': 0.0027629839412183846, 'avg_total_loss_te': 0.5750065165390111, 'avg_n_err_te': 0.27636467562160616}\n",
      "iteration 1000 - {'batch_size': 2500, 'degree': 3, 'gamma': 0.001, 'k_fold': 4, 'lambda': 0.01, 'max_iters': 100, 'num_batches': 1, 'seed': 900, 'seed_cv': 0, 'avg_logistic_err_tr': 0.5671483073389892, 'avg_ridge_norm_tr': 0.002933376166786923, 'avg_total_loss_tr': 0.5700816835057763, 'avg_n_err_tr': 0.2687339239782795, 'avg_logistic_err_te': 0.5683895716587992, 'avg_ridge_norm_te': 0.002933376166786923, 'avg_total_loss_te': 0.5713229478255861, 'avg_n_err_te': 0.2692054872820806}\n",
      "iteration 100 - {'batch_size': 2500, 'degree': 3, 'gamma': 0.001, 'k_fold': 4, 'lambda': 0.001, 'max_iters': 100, 'num_batches': 1, 'seed': 0, 'seed_cv': 0, 'avg_logistic_err_tr': 0.640344545515917, 'avg_ridge_norm_tr': 6.624043756746009e-05, 'avg_total_loss_tr': 0.6404107859534844, 'avg_n_err_tr': 0.34636562827474515, 'avg_logistic_err_te': 0.6409389528964795, 'avg_ridge_norm_te': 6.624043756746009e-05, 'avg_total_loss_te': 0.641005193334047, 'avg_n_err_te': 0.3467562160617319}\n",
      "iteration 200 - {'batch_size': 2500, 'degree': 3, 'gamma': 0.001, 'k_fold': 4, 'lambda': 0.001, 'max_iters': 100, 'num_batches': 1, 'seed': 100, 'seed_cv': 0, 'avg_logistic_err_tr': 0.6216881970182331, 'avg_ridge_norm_tr': 0.00010780024957426107, 'avg_total_loss_tr': 0.6217959972678073, 'avg_n_err_tr': 0.33731542345432025, 'avg_logistic_err_te': 0.6227487277856336, 'avg_ridge_norm_te': 0.00010780024957426107, 'avg_total_loss_te': 0.6228565280352079, 'avg_n_err_te': 0.33798228065161473}\n",
      "iteration 300 - {'batch_size': 2500, 'degree': 3, 'gamma': 0.001, 'k_fold': 4, 'lambda': 0.001, 'max_iters': 100, 'num_batches': 1, 'seed': 200, 'seed_cv': 0, 'avg_logistic_err_tr': 0.6097512773169467, 'avg_ridge_norm_tr': 0.00014096093409923417, 'avg_total_loss_tr': 0.609892238251046, 'avg_n_err_tr': 0.3248880632561684, 'avg_logistic_err_te': 0.6110922752816252, 'avg_ridge_norm_te': 0.00014096093409923417, 'avg_total_loss_te': 0.6112332362157245, 'avg_n_err_te': 0.3254072592169191}\n",
      "iteration 400 - {'batch_size': 2500, 'degree': 3, 'gamma': 0.001, 'k_fold': 4, 'lambda': 0.001, 'max_iters': 100, 'num_batches': 1, 'seed': 300, 'seed_cv': 0, 'avg_logistic_err_tr': 0.5990624438841948, 'avg_ridge_norm_tr': 0.0001684470652603078, 'avg_total_loss_tr': 0.5992308909494551, 'avg_n_err_tr': 0.32187767933695344, 'avg_logistic_err_te': 0.5994567493086967, 'avg_ridge_norm_te': 0.0001684470652603078, 'avg_total_loss_te': 0.599625196373957, 'avg_n_err_te': 0.32307802229208343}\n",
      "iteration 500 - {'batch_size': 2500, 'degree': 3, 'gamma': 0.001, 'k_fold': 4, 'lambda': 0.001, 'max_iters': 100, 'num_batches': 1, 'seed': 400, 'seed_cv': 0, 'avg_logistic_err_tr': 0.5933485332142727, 'avg_ridge_norm_tr': 0.00019351876551884783, 'avg_total_loss_tr': 0.5935420519797915, 'avg_n_err_tr': 0.31024578450985996, 'avg_logistic_err_te': 0.5941233115661573, 'avg_ridge_norm_te': 0.00019351876551884783, 'avg_total_loss_te': 0.5943168303316761, 'avg_n_err_te': 0.3102314947127751}\n",
      "iteration 600 - {'batch_size': 2500, 'degree': 3, 'gamma': 0.001, 'k_fold': 4, 'lambda': 0.001, 'max_iters': 100, 'num_batches': 1, 'seed': 500, 'seed_cv': 0, 'avg_logistic_err_tr': 0.5866155258649047, 'avg_ridge_norm_tr': 0.00021840371245093857, 'avg_total_loss_tr': 0.5868339295773557, 'avg_n_err_tr': 0.2967276364675622, 'avg_logistic_err_te': 0.5867939672335611, 'avg_ridge_norm_te': 0.00021840371245093857, 'avg_total_loss_te': 0.5870123709460121, 'avg_n_err_te': 0.2969562732209202}\n"
     ]
    },
    {
     "name": "stdout",
     "output_type": "stream",
     "text": [
      "iteration 700 - {'batch_size': 2500, 'degree': 3, 'gamma': 0.001, 'k_fold': 4, 'lambda': 0.001, 'max_iters': 100, 'num_batches': 1, 'seed': 600, 'seed_cv': 0, 'avg_logistic_err_tr': 0.5793040293275751, 'avg_ridge_norm_tr': 0.0002410530146716084, 'avg_total_loss_tr': 0.5795450823422467, 'avg_n_err_tr': 0.2880823092312089, 'avg_logistic_err_te': 0.5802113183563751, 'avg_ridge_norm_te': 0.0002410530146716084, 'avg_total_loss_te': 0.5804523713710467, 'avg_n_err_te': 0.2887825092883681}\n",
      "iteration 800 - {'batch_size': 2500, 'degree': 3, 'gamma': 0.001, 'k_fold': 4, 'lambda': 0.001, 'max_iters': 100, 'num_batches': 1, 'seed': 700, 'seed_cv': 0, 'avg_logistic_err_tr': 0.5772493913677494, 'avg_ridge_norm_tr': 0.00026056599775348274, 'avg_total_loss_tr': 0.5775099573655029, 'avg_n_err_tr': 0.2803801086024579, 'avg_logistic_err_te': 0.5776901873571235, 'avg_ridge_norm_te': 0.00026056599775348274, 'avg_total_loss_te': 0.5779507533548769, 'avg_n_err_te': 0.2813661046013146}\n",
      "iteration 900 - {'batch_size': 2500, 'degree': 3, 'gamma': 0.001, 'k_fold': 4, 'lambda': 0.001, 'max_iters': 100, 'num_batches': 1, 'seed': 800, 'seed_cv': 0, 'avg_logistic_err_tr': 0.5708044198461817, 'avg_ridge_norm_tr': 0.0002772469887552314, 'avg_total_loss_tr': 0.5710816668349369, 'avg_n_err_tr': 0.27510241021244164, 'avg_logistic_err_te': 0.572057931737003, 'avg_ridge_norm_te': 0.0002772469887552314, 'avg_total_loss_te': 0.5723351787257581, 'avg_n_err_te': 0.2762789368390969}\n",
      "iteration 1000 - {'batch_size': 2500, 'degree': 3, 'gamma': 0.001, 'k_fold': 4, 'lambda': 0.001, 'max_iters': 100, 'num_batches': 1, 'seed': 900, 'seed_cv': 0, 'avg_logistic_err_tr': 0.5669304075543565, 'avg_ridge_norm_tr': 0.00029446009744450957, 'avg_total_loss_tr': 0.567224867651801, 'avg_n_err_tr': 0.26856720967895586, 'avg_logistic_err_te': 0.5681754308372075, 'avg_ridge_norm_te': 0.00029446009744450957, 'avg_total_loss_te': 0.568469890934652, 'avg_n_err_te': 0.2690625893112317}\n",
      "iteration 100 - {'batch_size': 2500, 'degree': -2, 'gamma': 0.01, 'k_fold': 4, 'lambda': 0.01, 'max_iters': 100, 'num_batches': 1, 'seed': 0, 'seed_cv': 0, 'avg_logistic_err_tr': 0.5187957079639209, 'avg_ridge_norm_tr': 0.003905396901336084, 'avg_total_loss_tr': 0.522701104865257, 'avg_n_err_tr': 0.21849696356275303, 'avg_logistic_err_te': 0.520234580379937, 'avg_ridge_norm_te': 0.003905396901336084, 'avg_total_loss_te': 0.5241399772812729, 'avg_n_err_te': 0.21976214574898786}\n",
      "iteration 200 - {'batch_size': 2500, 'degree': -2, 'gamma': 0.01, 'k_fold': 4, 'lambda': 0.01, 'max_iters': 100, 'num_batches': 1, 'seed': 100, 'seed_cv': 0, 'avg_logistic_err_tr': 0.4886151456458308, 'avg_ridge_norm_tr': 0.005527714977517301, 'avg_total_loss_tr': 0.4941428606233481, 'avg_n_err_tr': 0.20836144849302746, 'avg_logistic_err_te': 0.4911280280687659, 'avg_ridge_norm_te': 0.005527714977517301, 'avg_total_loss_te': 0.4966557430462832, 'avg_n_err_te': 0.20991481106612686}\n",
      "iteration 300 - {'batch_size': 2500, 'degree': -2, 'gamma': 0.01, 'k_fold': 4, 'lambda': 0.01, 'max_iters': 100, 'num_batches': 1, 'seed': 200, 'seed_cv': 0, 'avg_logistic_err_tr': 0.4717818475720902, 'avg_ridge_norm_tr': 0.006632547715757991, 'avg_total_loss_tr': 0.4784143952878482, 'avg_n_err_tr': 0.20064383715699505, 'avg_logistic_err_te': 0.47532172712255205, 'avg_ridge_norm_te': 0.006632547715757991, 'avg_total_loss_te': 0.4819542748383101, 'avg_n_err_te': 0.20392628205128205}\n",
      "iteration 400 - {'batch_size': 2500, 'degree': -2, 'gamma': 0.01, 'k_fold': 4, 'lambda': 0.01, 'max_iters': 100, 'num_batches': 1, 'seed': 300, 'seed_cv': 0, 'avg_logistic_err_tr': 0.46051964212609925, 'avg_ridge_norm_tr': 0.007437980637210898, 'avg_total_loss_tr': 0.46795762276331015, 'avg_n_err_tr': 0.1974457377417904, 'avg_logistic_err_te': 0.46420566873521807, 'avg_ridge_norm_te': 0.007437980637210898, 'avg_total_loss_te': 0.471643649372429, 'avg_n_err_te': 0.19871794871794873}\n",
      "iteration 500 - {'batch_size': 2500, 'degree': -2, 'gamma': 0.01, 'k_fold': 4, 'lambda': 0.01, 'max_iters': 100, 'num_batches': 1, 'seed': 400, 'seed_cv': 0, 'avg_logistic_err_tr': 0.452584444621105, 'avg_ridge_norm_tr': 0.008154845954123652, 'avg_total_loss_tr': 0.46073929057522856, 'avg_n_err_tr': 0.19396648672964462, 'avg_logistic_err_te': 0.4571257952445831, 'avg_ridge_norm_te': 0.008154845954123652, 'avg_total_loss_te': 0.46528064119870677, 'avg_n_err_te': 0.1965038798920378}\n",
      "iteration 600 - {'batch_size': 2500, 'degree': -2, 'gamma': 0.01, 'k_fold': 4, 'lambda': 0.01, 'max_iters': 100, 'num_batches': 1, 'seed': 500, 'seed_cv': 0, 'avg_logistic_err_tr': 0.44469423203906566, 'avg_ridge_norm_tr': 0.008838387873717409, 'avg_total_loss_tr': 0.45353261991278304, 'avg_n_err_tr': 0.18835751237067025, 'avg_logistic_err_te': 0.4496874848494041, 'avg_ridge_norm_te': 0.008838387873717409, 'avg_total_loss_te': 0.45852587272312145, 'avg_n_err_te': 0.19150641025641024}\n",
      "iteration 700 - {'batch_size': 2500, 'degree': -2, 'gamma': 0.01, 'k_fold': 4, 'lambda': 0.01, 'max_iters': 100, 'num_batches': 1, 'seed': 600, 'seed_cv': 0, 'avg_logistic_err_tr': 0.4377125942104735, 'avg_ridge_norm_tr': 0.009477962101169102, 'avg_total_loss_tr': 0.44719055631164256, 'avg_n_err_tr': 0.18499775078722447, 'avg_logistic_err_te': 0.4420365606797661, 'avg_ridge_norm_te': 0.009477962101169102, 'avg_total_loss_te': 0.4515145227809352, 'avg_n_err_te': 0.1878373819163293}\n",
      "iteration 800 - {'batch_size': 2500, 'degree': -2, 'gamma': 0.01, 'k_fold': 4, 'lambda': 0.01, 'max_iters': 100, 'num_batches': 1, 'seed': 700, 'seed_cv': 0, 'avg_logistic_err_tr': 0.43327885093965135, 'avg_ridge_norm_tr': 0.010095823317830894, 'avg_total_loss_tr': 0.4433746742574822, 'avg_n_err_tr': 0.18268527890238417, 'avg_logistic_err_te': 0.4379039113651692, 'avg_ridge_norm_te': 0.010095823317830894, 'avg_total_loss_te': 0.4479997346830001, 'avg_n_err_te': 0.18699392712550608}\n",
      "iteration 900 - {'batch_size': 2500, 'degree': -2, 'gamma': 0.01, 'k_fold': 4, 'lambda': 0.01, 'max_iters': 100, 'num_batches': 1, 'seed': 800, 'seed_cv': 0, 'avg_logistic_err_tr': 0.4292075858218179, 'avg_ridge_norm_tr': 0.010690743385103856, 'avg_total_loss_tr': 0.43989832920692173, 'avg_n_err_tr': 0.181068657219973, 'avg_logistic_err_te': 0.4335366172415959, 'avg_ridge_norm_te': 0.010690743385103856, 'avg_total_loss_te': 0.4442273606266998, 'avg_n_err_te': 0.18286099865047234}\n",
      "iteration 1000 - {'batch_size': 2500, 'degree': -2, 'gamma': 0.01, 'k_fold': 4, 'lambda': 0.01, 'max_iters': 100, 'num_batches': 1, 'seed': 900, 'seed_cv': 0, 'avg_logistic_err_tr': 0.42718152188955294, 'avg_ridge_norm_tr': 0.01099271514477232, 'avg_total_loss_tr': 0.4381742370343253, 'avg_n_err_tr': 0.18085779352226722, 'avg_logistic_err_te': 0.4325668010043685, 'avg_ridge_norm_te': 0.01099271514477232, 'avg_total_loss_te': 0.44355951614914085, 'avg_n_err_te': 0.1828820850202429}\n",
      "iteration 100 - {'batch_size': 2500, 'degree': -2, 'gamma': 0.01, 'k_fold': 4, 'lambda': 0.001, 'max_iters': 100, 'num_batches': 1, 'seed': 0, 'seed_cv': 0, 'avg_logistic_err_tr': 0.5184991093043575, 'avg_ridge_norm_tr': 0.00039208971418865015, 'avg_total_loss_tr': 0.5188911990185462, 'avg_n_err_tr': 0.2184688484030589, 'avg_logistic_err_te': 0.5199429728489302, 'avg_ridge_norm_te': 0.00039208971418865015, 'avg_total_loss_te': 0.5203350625631188, 'avg_n_err_te': 0.21967780026990555}\n",
      "iteration 200 - {'batch_size': 2500, 'degree': -2, 'gamma': 0.01, 'k_fold': 4, 'lambda': 0.001, 'max_iters': 100, 'num_batches': 1, 'seed': 100, 'seed_cv': 0, 'avg_logistic_err_tr': 0.4880799670537007, 'avg_ridge_norm_tr': 0.0005570331230066735, 'avg_total_loss_tr': 0.48863700017670736, 'avg_n_err_tr': 0.20829116059379216, 'avg_logistic_err_te': 0.4906095327320769, 'avg_ridge_norm_te': 0.0005570331230066735, 'avg_total_loss_te': 0.49116656585508356, 'avg_n_err_te': 0.20983046558704455}\n",
      "iteration 300 - {'batch_size': 2500, 'degree': -2, 'gamma': 0.01, 'k_fold': 4, 'lambda': 0.001, 'max_iters': 100, 'num_batches': 1, 'seed': 200, 'seed_cv': 0, 'avg_logistic_err_tr': 0.4710105352941239, 'avg_ridge_norm_tr': 0.0006707055581913809, 'avg_total_loss_tr': 0.4716812408523153, 'avg_n_err_tr': 0.20051731893837157, 'avg_logistic_err_te': 0.47458370468971295, 'avg_ridge_norm_te': 0.0006707055581913809, 'avg_total_loss_te': 0.4752544102479043, 'avg_n_err_te': 0.2038841093117409}\n"
     ]
    },
    {
     "name": "stdout",
     "output_type": "stream",
     "text": [
      "iteration 400 - {'batch_size': 2500, 'degree': -2, 'gamma': 0.01, 'k_fold': 4, 'lambda': 0.001, 'max_iters': 100, 'num_batches': 1, 'seed': 300, 'seed_cv': 0, 'avg_logistic_err_tr': 0.4594655637029497, 'avg_ridge_norm_tr': 0.0007548192688151838, 'avg_total_loss_tr': 0.46022038297176493, 'avg_n_err_tr': 0.19709429824561403, 'avg_logistic_err_te': 0.4632049226425771, 'avg_ridge_norm_te': 0.0007548192688151838, 'avg_total_loss_te': 0.46395974191139233, 'avg_n_err_te': 0.19846491228070176}\n",
      "iteration 500 - {'batch_size': 2500, 'degree': -2, 'gamma': 0.01, 'k_fold': 4, 'lambda': 0.001, 'max_iters': 100, 'num_batches': 1, 'seed': 400, 'seed_cv': 0, 'avg_logistic_err_tr': 0.4512803024062271, 'avg_ridge_norm_tr': 0.0008304120547770689, 'avg_total_loss_tr': 0.45211071446100415, 'avg_n_err_tr': 0.19367830634278002, 'avg_logistic_err_te': 0.4558849618926861, 'avg_ridge_norm_te': 0.0008304120547770689, 'avg_total_loss_te': 0.4567153739474632, 'avg_n_err_te': 0.19627192982456138}\n",
      "iteration 600 - {'batch_size': 2500, 'degree': -2, 'gamma': 0.01, 'k_fold': 4, 'lambda': 0.001, 'max_iters': 100, 'num_batches': 1, 'seed': 500, 'seed_cv': 0, 'avg_logistic_err_tr': 0.44318554745569183, 'avg_ridge_norm_tr': 0.0009029185493547733, 'avg_total_loss_tr': 0.4440884660050466, 'avg_n_err_tr': 0.1878444107062528, 'avg_logistic_err_te': 0.44825348056697495, 'avg_ridge_norm_te': 0.0009029185493547733, 'avg_total_loss_te': 0.44915639911632976, 'avg_n_err_te': 0.1913377192982456}\n",
      "iteration 700 - {'batch_size': 2500, 'degree': -2, 'gamma': 0.01, 'k_fold': 4, 'lambda': 0.001, 'max_iters': 100, 'num_batches': 1, 'seed': 600, 'seed_cv': 0, 'avg_logistic_err_tr': 0.4359789468292192, 'avg_ridge_norm_tr': 0.0009713580925032446, 'avg_total_loss_tr': 0.4369503049217225, 'avg_n_err_tr': 0.18454790823211875, 'avg_logistic_err_te': 0.4403802965891736, 'avg_ridge_norm_te': 0.0009713580925032446, 'avg_total_loss_te': 0.44135165468167686, 'avg_n_err_te': 0.18754217273954116}\n",
      "iteration 800 - {'batch_size': 2500, 'degree': -2, 'gamma': 0.01, 'k_fold': 4, 'lambda': 0.001, 'max_iters': 100, 'num_batches': 1, 'seed': 700, 'seed_cv': 0, 'avg_logistic_err_tr': 0.4313597743997722, 'avg_ridge_norm_tr': 0.0010378487416236792, 'avg_total_loss_tr': 0.4323976231413959, 'avg_n_err_tr': 0.18192616959064328, 'avg_logistic_err_te': 0.43606433117142024, 'avg_ridge_norm_te': 0.0010378487416236792, 'avg_total_loss_te': 0.43710217991304395, 'avg_n_err_te': 0.18657219973009445}\n",
      "iteration 900 - {'batch_size': 2500, 'degree': -2, 'gamma': 0.01, 'k_fold': 4, 'lambda': 0.001, 'max_iters': 100, 'num_batches': 1, 'seed': 800, 'seed_cv': 0, 'avg_logistic_err_tr': 0.42715058627184915, 'avg_ridge_norm_tr': 0.001102408341184967, 'avg_total_loss_tr': 0.428252994613034, 'avg_n_err_tr': 0.18032360548807919, 'avg_logistic_err_te': 0.4315889406984519, 'avg_ridge_norm_te': 0.001102408341184967, 'avg_total_loss_te': 0.43269134903963685, 'avg_n_err_te': 0.18237601214574897}\n",
      "iteration 1000 - {'batch_size': 2500, 'degree': -2, 'gamma': 0.01, 'k_fold': 4, 'lambda': 0.001, 'max_iters': 100, 'num_batches': 1, 'seed': 900, 'seed_cv': 0, 'avg_logistic_err_tr': 0.4249477674660559, 'avg_ridge_norm_tr': 0.0011377372771383548, 'avg_total_loss_tr': 0.42608550474319423, 'avg_n_err_tr': 0.18008462663067928, 'avg_logistic_err_te': 0.43042296925870793, 'avg_ridge_norm_te': 0.0011377372771383548, 'avg_total_loss_te': 0.4315607065358463, 'avg_n_err_te': 0.18220732118758434}\n",
      "iteration 100 - {'batch_size': 2500, 'degree': -2, 'gamma': 0.001, 'k_fold': 4, 'lambda': 0.01, 'max_iters': 100, 'num_batches': 1, 'seed': 0, 'seed_cv': 0, 'avg_logistic_err_tr': 0.6278236182476488, 'avg_ridge_norm_tr': 0.0008029044090585218, 'avg_total_loss_tr': 0.6286265226567073, 'avg_n_err_tr': 0.2468440733243365, 'avg_logistic_err_te': 0.6281462323529958, 'avg_ridge_norm_te': 0.0008029044090585218, 'avg_total_loss_te': 0.6289491367620543, 'avg_n_err_te': 0.24803896761133604}\n",
      "iteration 200 - {'batch_size': 2500, 'degree': -2, 'gamma': 0.001, 'k_fold': 4, 'lambda': 0.01, 'max_iters': 100, 'num_batches': 1, 'seed': 100, 'seed_cv': 0, 'avg_logistic_err_tr': 0.5975493470821626, 'avg_ridge_norm_tr': 0.0013382516784828072, 'avg_total_loss_tr': 0.5988875987606455, 'avg_n_err_tr': 0.23670152946468737, 'avg_logistic_err_te': 0.5981513573177375, 'avg_ridge_norm_te': 0.0013382516784828072, 'avg_total_loss_te': 0.5994896089962203, 'avg_n_err_te': 0.23987854251012145}\n",
      "iteration 300 - {'batch_size': 2500, 'degree': -2, 'gamma': 0.001, 'k_fold': 4, 'lambda': 0.01, 'max_iters': 100, 'num_batches': 1, 'seed': 200, 'seed_cv': 0, 'avg_logistic_err_tr': 0.5776670656904831, 'avg_ridge_norm_tr': 0.0017787438573635982, 'avg_total_loss_tr': 0.5794458095478467, 'avg_n_err_tr': 0.23178137651821862, 'avg_logistic_err_te': 0.5785965025665614, 'avg_ridge_norm_te': 0.0017787438573635982, 'avg_total_loss_te': 0.5803752464239249, 'avg_n_err_te': 0.23445934547908232}\n",
      "iteration 400 - {'batch_size': 2500, 'degree': -2, 'gamma': 0.001, 'k_fold': 4, 'lambda': 0.01, 'max_iters': 100, 'num_batches': 1, 'seed': 300, 'seed_cv': 0, 'avg_logistic_err_tr': 0.5639240835337093, 'avg_ridge_norm_tr': 0.00213219780454762, 'avg_total_loss_tr': 0.5660562813382569, 'avg_n_err_tr': 0.22878711201079624, 'avg_logistic_err_te': 0.5649459256075194, 'avg_ridge_norm_te': 0.00213219780454762, 'avg_total_loss_te': 0.5670781234120671, 'avg_n_err_te': 0.23131747638326586}\n",
      "iteration 500 - {'batch_size': 2500, 'degree': -2, 'gamma': 0.001, 'k_fold': 4, 'lambda': 0.01, 'max_iters': 100, 'num_batches': 1, 'seed': 400, 'seed_cv': 0, 'avg_logistic_err_tr': 0.5528145938778796, 'avg_ridge_norm_tr': 0.0024275744431031076, 'avg_total_loss_tr': 0.5552421683209827, 'avg_n_err_tr': 0.2209992127755286, 'avg_logistic_err_te': 0.5541100348180079, 'avg_ridge_norm_te': 0.0024275744431031076, 'avg_total_loss_te': 0.556537609261111, 'avg_n_err_te': 0.22343117408906885}\n",
      "iteration 600 - {'batch_size': 2500, 'degree': -2, 'gamma': 0.001, 'k_fold': 4, 'lambda': 0.01, 'max_iters': 100, 'num_batches': 1, 'seed': 500, 'seed_cv': 0, 'avg_logistic_err_tr': 0.5435646350462826, 'avg_ridge_norm_tr': 0.002720790645944186, 'avg_total_loss_tr': 0.5462854256922267, 'avg_n_err_tr': 0.2190873819163293, 'avg_logistic_err_te': 0.5450641485227128, 'avg_ridge_norm_te': 0.002720790645944186, 'avg_total_loss_te': 0.5477849391686569, 'avg_n_err_te': 0.2210905870445344}\n",
      "iteration 700 - {'batch_size': 2500, 'degree': -2, 'gamma': 0.001, 'k_fold': 4, 'lambda': 0.01, 'max_iters': 100, 'num_batches': 1, 'seed': 600, 'seed_cv': 0, 'avg_logistic_err_tr': 0.5356556899465773, 'avg_ridge_norm_tr': 0.0029817013599818735, 'avg_total_loss_tr': 0.5386373913065592, 'avg_n_err_tr': 0.21702091767881243, 'avg_logistic_err_te': 0.5373552310838015, 'avg_ridge_norm_te': 0.0029817013599818735, 'avg_total_loss_te': 0.5403369324437833, 'avg_n_err_te': 0.21815958164642374}\n",
      "iteration 800 - {'batch_size': 2500, 'degree': -2, 'gamma': 0.001, 'k_fold': 4, 'lambda': 0.01, 'max_iters': 100, 'num_batches': 1, 'seed': 700, 'seed_cv': 0, 'avg_logistic_err_tr': 0.5289075413370582, 'avg_ridge_norm_tr': 0.0032292551459344606, 'avg_total_loss_tr': 0.5321367964829926, 'avg_n_err_tr': 0.21520046108861896, 'avg_logistic_err_te': 0.5306368604642323, 'avg_ridge_norm_te': 0.0032292551459344606, 'avg_total_loss_te': 0.5338661156101667, 'avg_n_err_te': 0.21624072199730096}\n"
     ]
    }
   ],
   "source": [
    "hs = {\n",
    "    'batch_size': 2500,\n",
    "    'degree': np.concatenate([np.array([-2]), np.arange(1, 4)]), \n",
    "    'gamma': [1e-2, 1e-3], \n",
    "    'lambda': [1e-2, 1e-3],\n",
    "    'k_fold': 4,\n",
    "    'max_iters': 1000,\n",
    "    'num_batches': 1,\n",
    "    'seed': 0,\n",
    "    'seed_cv': 0\n",
    "}\n",
    "\n",
    "for i in range(5):\n",
    "    \n",
    "    cache = Cache(CACHE_DIR + f'clean_standardize_expand_logistic_ridge_regression_cross_validate_split{i}')\n",
    "\n",
    "    _ = evaluate(\n",
    "        clean = map_logistic(clean_standardize_expand), \n",
    "        fit   = descent_with_cache(\n",
    "            descent    = cross_validate_descent(\n",
    "                            stochastic_gradient_descent_e(logistic_gradient_ridge), \n",
    "                            logistic_error_and_ridge,\n",
    "                        ),\n",
    "            round_size = 100,\n",
    "            cache      = cache,\n",
    "            log        = True\n",
    "        ), \n",
    "        y     = y_split[i],\n",
    "        x     = x_split[i],\n",
    "        hs    = hs\n",
    "    )"
   ]
  },
  {
   "cell_type": "code",
   "execution_count": null,
   "metadata": {},
   "outputs": [],
   "source": [
    "hs = { \n",
    "    'degree': np.concatenate([np.array([-2]), np.arange(4, 16)]), \n",
    "    'lambda': np.logspace(-8, -4, 5),\n",
    "    'k_fold': 4,\n",
    "    'seed': 0\n",
    "}\n",
    "\n",
    "for i in range(5):\n",
    "    \n",
    "    cache = Cache(CACHE_DIR + f'clean_standardize_expand_cross_validate_ridge_regression_analytical_mse_split{i}')\n",
    "\n",
    "    result = evaluate(\n",
    "        clean = clean_standardize_expand, \n",
    "        fit   = fit_with_cache(cross_validate(ridge_regression_analytical, ridge_mse), cache), \n",
    "        x     = x_split[i],\n",
    "        y     = y_split[i], \n",
    "        hs    = hs\n",
    "    )"
   ]
  },
  {
   "cell_type": "markdown",
   "metadata": {},
   "source": [
    "### Logistic Lasso"
   ]
  },
  {
   "cell_type": "code",
   "execution_count": null,
   "metadata": {},
   "outputs": [],
   "source": [
    "hs = {\n",
    "    'batch_size': 2500,\n",
    "    'degree': np.concatenate([np.array([-2]), np.arange(1, 4)]), \n",
    "    'gamma': [1e-2, 1e-3], \n",
    "    'lambda': [1e-2, 1e-3],\n",
    "    'k_fold': 4,\n",
    "    'max_iters': 1000,\n",
    "    'num_batches': 1,\n",
    "    'seed': 0,\n",
    "    'seed_cv': 0\n",
    "}\n",
    "\n",
    "for i in range(5):\n",
    "    \n",
    "    cache = Cache(CACHE_DIR + f'clean_standardize_expand_logistic_lasso_regression_cross_validate_split{i}')\n",
    "\n",
    "    _ = evaluate(\n",
    "        clean = map_logistic(clean_standardize_expand), \n",
    "        fit   = descent_with_cache(\n",
    "            descent    = cross_validate_descent(\n",
    "                            stochastic_gradient_descent_e(logistic_gradient_lasso), \n",
    "                            logistic_error_and_lasso,\n",
    "                        ),\n",
    "            round_size = 100,\n",
    "            cache      = cache,\n",
    "            log        = True\n",
    "        ), \n",
    "        y     = y_split[i],\n",
    "        x     = x_split[i],\n",
    "        hs    = hs\n",
    "    )"
   ]
  },
  {
   "cell_type": "code",
   "execution_count": null,
   "metadata": {},
   "outputs": [],
   "source": []
  }
 ],
 "metadata": {
  "kernelspec": {
   "display_name": "Python 3",
   "language": "python",
   "name": "python3"
  },
  "language_info": {
   "codemirror_mode": {
    "name": "ipython",
    "version": 3
   },
   "file_extension": ".py",
   "mimetype": "text/x-python",
   "name": "python",
   "nbconvert_exporter": "python",
   "pygments_lexer": "ipython3",
   "version": "3.6.5"
  }
 },
 "nbformat": 4,
 "nbformat_minor": 2
}
