{
 "cells": [
  {
   "cell_type": "code",
   "execution_count": 2,
   "metadata": {},
   "outputs": [],
   "source": [
    "%run helpers.py\n",
    "\n",
    "import numpy as np\n",
    "import matplotlib.mlab as mlab\n",
    "import matplotlib.pyplot as plt\n",
    "import warnings\n",
    "\n",
    "warnings.filterwarnings('ignore')"
   ]
  },
  {
   "cell_type": "code",
   "execution_count": 3,
   "metadata": {},
   "outputs": [],
   "source": [
    "# %load features.py\n",
    "# This file contains all functions related to transforming and cleaning\n",
    "# the features\n",
    "import numpy as np\n",
    "\n",
    "MIN_MAX_VALUES = {\n",
    "    0:  (0,  500), 1 : (0,  220), 2: (0, 300),  3: (0, 320),\n",
    "    5:  (0, 2300),                              8: (0, 100),  9: (0, 1000),\n",
    "    10: (0,    6),                             13: (0, 150),\n",
    "                   16: (0,  180),                            19: (0,  210),\n",
    "                   21: (0, 1000),              23: (0, 500),\n",
    "                   26: (0,  250),                            29: (0,  500),\n",
    "}\n",
    "\n",
    "def build_poly(x, degree):\n",
    "    \"\"\"polynomial basis functions for input data x, for j=0 up to j=degree.\"\"\"\n",
    "    # this function should return the matrix formed\n",
    "    # by applying the polynomial basis to the input data\n",
    "    return np.array([np.concatenate([[1.0]] + [[xi ** d for d in range(1, degree+1)] for xi in row]) for row in x])\n",
    "\n",
    "def standardize(x):\n",
    "    \"\"\"Standardize the original data set.\"\"\"\n",
    "    mean_x = np.mean(x)\n",
    "    x = x - mean_x\n",
    "    std_x = np.std(x)\n",
    "    x = x / std_x\n",
    "    return x, mean_x, std_x\n",
    "\n",
    "def standardize_all(x):\n",
    "    x = np.apply_along_axis(lambda xi: standardize(xi)[0], 0, x)\n",
    "    return x\n",
    "\n",
    "def clamp(data, min_value, max_value, mode='clamp'):\n",
    "    if mode == 'clamp':\n",
    "        data[data > max_value] = max_value\n",
    "        data[data < min_value] = min_value\n",
    "    else:\n",
    "        data[data > max_value] = np.NaN\n",
    "        data[data < min_value] = np.NaN\n",
    "\n",
    "def remove_errors(data):\n",
    "    data = data.copy()\n",
    "    data[data == -999.0] = np.NaN\n",
    "    return data\n",
    "\n",
    "def remove_outliers(data, mode='clamp'):\n",
    "    data = data.copy()\n",
    "\n",
    "    for key, value in MIN_MAX_VALUES.items():\n",
    "        clamp(data[:, key], value[0], value[1], mode)\n",
    "\n",
    "    return data\n",
    "\n",
    "def remove_nan_features(x):\n",
    "    x = x[:, ~np.any(np.isnan(x), axis=0)]\n",
    "    return x\n",
    "\n",
    "def remove_nan_samples(x, y):\n",
    "    mask = np.any(np.isnan(x), axis=1)\n",
    "    return x[~mask], y[~mask]\n",
    "\n",
    "def decompose_categorical(x):\n",
    "    return np.array([np.vectorize(lambda xi: 1 if xi == i else 0)(x) for i in np.unique(x)]).T\n",
    "\n",
    "def separate_features(x, indexes):\n",
    "    return x[:, indexes], np.delete(x, indexes, axis=1)\n"
   ]
  },
  {
   "cell_type": "code",
   "execution_count": 4,
   "metadata": {},
   "outputs": [],
   "source": [
    "y, x, ids = load_csv_data('data/train.csv', sub_sample=True)"
   ]
  },
  {
   "cell_type": "markdown",
   "metadata": {},
   "source": [
    "# Raw Data\n",
    "\n",
    "*\"How much data dowe have in total?\"*"
   ]
  },
  {
   "cell_type": "code",
   "execution_count": 9,
   "metadata": {},
   "outputs": [
    {
     "name": "stdout",
     "output_type": "stream",
     "text": [
      "- There are 5000 data points in the dataset\n",
      "- There are 30 features in x\n"
     ]
    }
   ],
   "source": [
    "print(\"- There are {} data points in the dataset\".format(x.shape[0]))\n",
    "print(\"- There are {} features in x\".format(x.shape[1]))"
   ]
  },
  {
   "cell_type": "code",
   "execution_count": 12,
   "metadata": {},
   "outputs": [],
   "source": [
    "def describe_features(x):\n",
    "    mean_x = np.nanmean(x, axis=0)\n",
    "    var_x = np.nanvar(x, axis=0)\n",
    "    max_x = np.nanmax(x, axis=0)\n",
    "    min_x = np.nanmin(x, axis=0)\n",
    "    nan_x = np.sum(np.isnan(x), axis=0)\n",
    "    \n",
    "    print(f'Shape: {x.shape}')\n",
    "    print('ID |    Mean    |    Var     |    Min     |    Max     |   #NaN   |')\n",
    "    print('---|------------|------------|------------|------------|----------|')\n",
    "    \n",
    "    for f in range(0, x.shape[1]):\n",
    "        mean = '{0:.3f}'.format(mean_x[f]).rjust(10)\n",
    "        var = '{0:.3f}'.format(var_x[f]).rjust(10)\n",
    "        maxi = '{0:.3f}'.format(max_x[f]).rjust(10)\n",
    "        mini = '{0:.3f}'.format(min_x[f]).rjust(10)\n",
    "        nani = str(nan_x[f]).rjust(8)\n",
    "        identifier = str(f).rjust(2)\n",
    "    \n",
    "        print('{} | {} | {} | {} | {} | {} |'.format(identifier, mean, var, mini, maxi, nani))\n"
   ]
  },
  {
   "cell_type": "markdown",
   "metadata": {},
   "source": [
    "*\"What does the data look like?\"*"
   ]
  },
  {
   "cell_type": "code",
   "execution_count": 13,
   "metadata": {},
   "outputs": [
    {
     "name": "stdout",
     "output_type": "stream",
     "text": [
      "Shape: (5000, 30)\n",
      "ID |    Mean    |    Var     |    Min     |    Max     |   #NaN   |\n",
      "---|------------|------------|------------|------------|----------|\n",
      " 0 |    -66.570 | 178522.382 |   -999.000 |    977.515 |        0 |\n",
      " 1 |     50.266 |   1227.770 |      0.011 |    256.371 |        0 |\n",
      " 2 |     81.007 |   1712.009 |      9.463 |    658.494 |        0 |\n",
      " 3 |     57.243 |   3945.247 |      0.000 |    585.661 |        0 |\n",
      " 4 |   -703.584 | 208562.497 |   -999.000 |      7.544 |        0 |\n",
      " 5 |   -596.237 | 432395.561 |   -999.000 |   3056.908 |        0 |\n",
      " 6 |   -704.530 | 207232.544 |   -999.000 |     15.228 |        0 |\n",
      " 7 |      2.376 |      0.627 |      0.256 |      5.423 |        0 |\n",
      " 8 |     18.975 |    495.589 |      0.000 |    257.324 |        0 |\n",
      " 9 |    157.925 |  13633.526 |     46.227 |   1279.985 |        0 |\n",
      "10 |      1.448 |      0.705 |      0.136 |      9.955 |        0 |\n",
      "11 |     -0.159 |      1.403 |     -1.414 |      1.414 |        0 |\n",
      "12 |   -704.155 | 207756.906 |   -999.000 |      1.000 |        0 |\n",
      "13 |     37.971 |    436.991 |     20.001 |    301.229 |        0 |\n",
      "14 |     -0.008 |      1.487 |     -2.468 |      2.463 |        0 |\n",
      "15 |     -0.000 |      3.213 |     -3.141 |      3.141 |        0 |\n",
      "16 |     46.340 |    446.602 |     26.005 |    263.690 |        0 |\n",
      "17 |     -0.020 |      1.613 |     -2.482 |      2.480 |        0 |\n",
      "18 |      0.115 |      3.359 |     -3.141 |      3.141 |        0 |\n",
      "19 |     42.210 |   1033.956 |      0.537 |    404.422 |        0 |\n",
      "20 |      0.029 |      3.264 |     -3.139 |      3.141 |        0 |\n",
      "21 |    209.379 |  16697.123 |     24.416 |   1391.891 |        0 |\n",
      "22 |      0.984 |      0.951 |      0.000 |      3.000 |        0 |\n",
      "23 |   -345.453 | 283494.766 |   -999.000 |    738.235 |        0 |\n",
      "24 |   -396.614 | 238905.669 |   -999.000 |      4.464 |        0 |\n",
      "25 |   -396.605 | 238912.765 |   -999.000 |      3.141 |        0 |\n",
      "26 |   -687.271 | 232559.963 |   -999.000 |    358.433 |        0 |\n",
      "27 |   -704.297 | 207557.795 |   -999.000 |      4.496 |        0 |\n",
      "28 |   -704.331 | 207509.868 |   -999.000 |      3.140 |        0 |\n",
      "29 |     73.614 |  10032.782 |      0.000 |   1104.776 |        0 |\n"
     ]
    }
   ],
   "source": [
    "describe_features(x)"
   ]
  },
  {
   "cell_type": "markdown",
   "metadata": {},
   "source": [
    "# Clean Data"
   ]
  },
  {
   "cell_type": "markdown",
   "metadata": {},
   "source": [
    "*\"What does the clean data look like?\"*"
   ]
  },
  {
   "cell_type": "markdown",
   "metadata": {},
   "source": [
    "### 1 - Simple Cleaning"
   ]
  },
  {
   "cell_type": "code",
   "execution_count": 56,
   "metadata": {},
   "outputs": [
    {
     "name": "stdout",
     "output_type": "stream",
     "text": [
      "Shape: (5000, 19)\n",
      "ID |    Mean    |    Var     |    Min     |    Max     |   #NaN   |\n",
      "---|------------|------------|------------|------------|----------|\n",
      " 0 |      0.000 |      1.000 |     -1.439 |      4.862 |        0 |\n",
      " 1 |      0.000 |      1.000 |     -1.878 |      5.796 |        0 |\n",
      " 2 |      0.000 |      1.000 |     -0.941 |      4.360 |        0 |\n",
      " 3 |      0.000 |      1.000 |     -2.677 |      3.848 |        0 |\n",
      " 4 |      0.000 |      1.000 |     -0.934 |      4.100 |        0 |\n",
      " 5 |     -0.000 |      1.000 |     -0.964 |      7.273 |        0 |\n",
      " 6 |     -0.000 |      1.000 |     -1.611 |      5.613 |        0 |\n",
      " 7 |     -0.000 |      1.000 |     -1.060 |      1.328 |        0 |\n",
      " 8 |     -0.000 |      1.000 |     -0.901 |      5.673 |        0 |\n",
      " 9 |     -0.000 |      1.000 |     -2.018 |      2.026 |        0 |\n",
      "10 |      0.000 |      1.000 |     -1.752 |      1.752 |        0 |\n",
      "11 |     -0.000 |      1.000 |     -0.977 |      6.437 |        0 |\n",
      "12 |      0.000 |      1.000 |     -1.939 |      1.968 |        0 |\n",
      "13 |      0.000 |      1.000 |     -1.777 |      1.651 |        0 |\n",
      "14 |      0.000 |      1.000 |     -1.363 |      5.528 |        0 |\n",
      "15 |     -0.000 |      1.000 |     -1.753 |      1.723 |        0 |\n",
      "16 |      0.000 |      1.000 |     -1.446 |      6.190 |        0 |\n",
      "17 |      0.000 |      1.000 |     -1.009 |      2.067 |        0 |\n",
      "18 |      0.000 |      1.000 |     -0.770 |      4.529 |        0 |\n"
     ]
    }
   ],
   "source": [
    "def clean_data(x):\n",
    "    \n",
    "    x = remove_errors(x)\n",
    "    x = remove_outliers(x)\n",
    "    x = standardize_all(x)\n",
    "    x = remove_nan_features(x)\n",
    "#     x = build_poly(x, 2)\n",
    "    \n",
    "    return x\n",
    "    \n",
    "describe_features(clean_data(x))"
   ]
  },
  {
   "cell_type": "code",
   "execution_count": 54,
   "metadata": {},
   "outputs": [
    {
     "name": "stdout",
     "output_type": "stream",
     "text": [
      "Shape: (5000, 39)\n",
      "ID |    Mean    |    Var     |    Min     |    Max     |   #NaN   |\n",
      "---|------------|------------|------------|------------|----------|\n",
      " 0 |      1.000 |      0.000 |      1.000 |      1.000 |        0 |\n",
      " 1 |      0.228 |      0.025 |      0.000 |      1.000 |        0 |\n",
      " 2 |      0.077 |      0.010 |      0.000 |      1.000 |        0 |\n",
      " 3 |      0.245 |      0.017 |      0.000 |      1.000 |        0 |\n",
      " 4 |      0.077 |      0.012 |      0.000 |      1.000 |        0 |\n",
      " 5 |      0.177 |      0.036 |      0.000 |      1.000 |        0 |\n",
      " 6 |      0.067 |      0.020 |      0.000 |      1.000 |        0 |\n",
      " 7 |      0.410 |      0.023 |      0.000 |      1.000 |        0 |\n",
      " 8 |      0.192 |      0.016 |      0.000 |      1.000 |        0 |\n",
      " 9 |      0.185 |      0.039 |      0.000 |      1.000 |        0 |\n",
      "10 |      0.074 |      0.024 |      0.000 |      1.000 |        0 |\n",
      "11 |      0.117 |      0.015 |      0.000 |      1.000 |        0 |\n",
      "12 |      0.028 |      0.005 |      0.000 |      1.000 |        0 |\n",
      "13 |      0.223 |      0.019 |      0.000 |      1.000 |        0 |\n",
      "14 |      0.069 |      0.011 |      0.000 |      1.000 |        0 |\n",
      "15 |      0.444 |      0.175 |      0.000 |      1.000 |        0 |\n",
      "16 |      0.373 |      0.172 |      0.000 |      1.000 |        0 |\n",
      "17 |      0.137 |      0.023 |      0.000 |      1.000 |        0 |\n",
      "18 |      0.042 |      0.011 |      0.000 |      1.000 |        0 |\n",
      "19 |      0.499 |      0.061 |      0.000 |      1.000 |        0 |\n",
      "20 |      0.310 |      0.065 |      0.000 |      1.000 |        0 |\n",
      "21 |      0.500 |      0.081 |      0.000 |      1.000 |        0 |\n",
      "22 |      0.331 |      0.088 |      0.000 |      1.000 |        0 |\n",
      "23 |      0.132 |      0.018 |      0.000 |      1.000 |        0 |\n",
      "24 |      0.036 |      0.008 |      0.000 |      1.000 |        0 |\n",
      "25 |      0.496 |      0.066 |      0.000 |      1.000 |        0 |\n",
      "26 |      0.312 |      0.069 |      0.000 |      1.000 |        0 |\n",
      "27 |      0.518 |      0.085 |      0.000 |      1.000 |        0 |\n",
      "28 |      0.354 |      0.093 |      0.000 |      1.000 |        0 |\n",
      "29 |      0.198 |      0.021 |      0.000 |      1.000 |        0 |\n",
      "30 |      0.060 |      0.012 |      0.000 |      1.000 |        0 |\n",
      "31 |      0.504 |      0.083 |      0.000 |      1.000 |        0 |\n",
      "32 |      0.337 |      0.090 |      0.000 |      1.000 |        0 |\n",
      "33 |      0.189 |      0.017 |      0.000 |      1.000 |        0 |\n",
      "34 |      0.053 |      0.008 |      0.000 |      1.000 |        0 |\n",
      "35 |      0.328 |      0.106 |      0.000 |      1.000 |        0 |\n",
      "36 |      0.213 |      0.086 |      0.000 |      1.000 |        0 |\n",
      "37 |      0.145 |      0.036 |      0.000 |      1.000 |        0 |\n",
      "38 |      0.057 |      0.019 |      0.000 |      1.000 |        0 |\n"
     ]
    }
   ],
   "source": [
    "def normalize(x):\n",
    "    \n",
    "    return (x - x.min()) / (x.max() - x.min())\n",
    "\n",
    "def normalize_all(x):\n",
    "    \n",
    "    x = np.apply_along_axis(lambda xi: normalize(xi), 0, x)\n",
    "    return x\n",
    "\n",
    "\n",
    "# def build_poly_cross(x):\n",
    "    \n",
    "#     cross_x = [xi * xj for xi in row for j in row for row in x if (i!=j && i > j)]\n",
    "#     return cross_x\n",
    "\n",
    "\n",
    "def clean_data_2(x):\n",
    "    \n",
    "    x = remove_errors(x)\n",
    "    x = remove_outliers(x)\n",
    "    x = normalize_all(x)\n",
    "    x = remove_nan_features(x)\n",
    "    x = build_poly(x, 2)\n",
    "    \n",
    "    return x\n",
    "    \n",
    "describe_features(clean_data_2(x))"
   ]
  },
  {
   "cell_type": "code",
   "execution_count": 47,
   "metadata": {},
   "outputs": [],
   "source": [
    "def build_poly_cross(x):\n",
    "    \n",
    "    cross_x = np.array([[row[i] * row[j] for i in range(len(row)) for j in range(len(row)) if j != i and j > i] for row in x]\n",
    "    )\n",
    "    exp_x = build_poly(x, 2)\n",
    "    \n",
    "    return np.concatenate([exp_x, cross_x], axis=1)"
   ]
  },
  {
   "cell_type": "code",
   "execution_count": 48,
   "metadata": {},
   "outputs": [
    {
     "data": {
      "text/plain": [
       "array([[ 1.,  1.,  1.,  2.,  4.,  3.,  9.,  2.,  3.,  6.],\n",
       "       [ 1.,  4., 16.,  5., 25.,  6., 36., 20., 24., 30.]])"
      ]
     },
     "execution_count": 48,
     "metadata": {},
     "output_type": "execute_result"
    }
   ],
   "source": [
    "build_poly_cross([[1, 2, 3], [4, 5, 6]])"
   ]
  },
  {
   "cell_type": "code",
   "execution_count": 7,
   "metadata": {},
   "outputs": [],
   "source": [
    "def histo_feature(data, i, ax=None, b=None):\n",
    "    \n",
    "    indexes = ~np.isnan(data[:,i])\n",
    "    \n",
    "    if b == None:\n",
    "        color = 'blue'\n",
    "    elif b:\n",
    "        indexes = indexes & (y == 1)\n",
    "        color='green'\n",
    "    else:\n",
    "        indexes = indexes & (y == -1)\n",
    "        color='red'\n",
    "        \n",
    "    if ax ==None:\n",
    "        ax = plt\n",
    "    \n",
    "    ax.hist(data[:,i][indexes], 250, facecolor=color, alpha=0.75)\n",
    "    \n",
    "def histo_features(data, b=None):\n",
    "    fig = plt.figure(figsize = (15,15))\n",
    "    \n",
    "    for i in range(0, 30):\n",
    "        ax = fig.add_subplot(6,5,i+1)\n",
    "        histo_feature(data, i, ax=ax, b=b)"
   ]
  },
  {
   "cell_type": "code",
   "execution_count": null,
   "metadata": {},
   "outputs": [],
   "source": [
    "def compare_features(data):\n",
    "    fig = plt.figure(figsize = (15,150))\n",
    "    \n",
    "    for i in range(0, 60):\n",
    "        ax = fig.add_subplot(30,2,i+1)\n",
    "        histo_feature(data, int(i/2.0), ax=ax, b=(i%2==0))"
   ]
  },
  {
   "cell_type": "code",
   "execution_count": null,
   "metadata": {},
   "outputs": [],
   "source": [
    "compare_features(x_clamped)"
   ]
  },
  {
   "cell_type": "markdown",
   "metadata": {},
   "source": [
    "### Normalization"
   ]
  },
  {
   "cell_type": "code",
   "execution_count": null,
   "metadata": {},
   "outputs": [],
   "source": [
    "def standardize(x):\n",
    "    \"\"\"Standardize the original data set.\"\"\"\n",
    "    mean_x = np.mean(x)\n",
    "    x = x - mean_x\n",
    "    std_x = np.std(x)\n",
    "    x = x / std_x\n",
    "    return x, mean_x, std_x"
   ]
  },
  {
   "cell_type": "code",
   "execution_count": null,
   "metadata": {},
   "outputs": [],
   "source": [
    "x_std = np.vectorize(lambda x: standardize(x))(x_clean)"
   ]
  },
  {
   "cell_type": "code",
   "execution_count": null,
   "metadata": {},
   "outputs": [],
   "source": [
    "x_test = np.apply_along_axis(lambda x: standardize(x)[0], 0, x_clean)\n",
    "mask = np.all(np.isnan(x_test), axis=0)\n",
    "x_test = x_test[:, ~mask]\n",
    "\n",
    "# describe_features(x_test.dropna())\n",
    "\n",
    "describe_features(x_test)\n",
    "# d[:,~np.all(np.isnan(d), axis=0)]"
   ]
  },
  {
   "cell_type": "markdown",
   "metadata": {},
   "source": [
    "# Advanced Information\n",
    "\n",
    "### Mass of Higgs Boson\n",
    "\n",
    "Most certainly, it is important to keep the first feature, which indicates the mass of the potential particle that could be a Higgs Boson. Unfortunately, it is "
   ]
  },
  {
   "cell_type": "code",
   "execution_count": 132,
   "metadata": {},
   "outputs": [
    {
     "name": "stdout",
     "output_type": "stream",
     "text": [
      "There are 840 cases where the mass of the Higgs Boson candidate is not available. \n",
      "Of these, 69 signaled a Higgs Boson and 771 did not.\n"
     ]
    }
   ],
   "source": [
    "index = (x[:, 0] == -999.0)\n",
    "y_test = y[index]\n",
    "print(f'There are {y_test.shape[0]} cases where the mass of the Higgs Boson candidate is not available. \\nOf these, {(y_test[y_test == 1]).shape[0]} signaled a Higgs Boson and {y_test[y_test == -1].shape[0]} did not.')"
   ]
  },
  {
   "cell_type": "code",
   "execution_count": 115,
   "metadata": {},
   "outputs": [
    {
     "name": "stdout",
     "output_type": "stream",
     "text": [
      "When there is a candidate, its average mass is 121.70888798076925\n"
     ]
    }
   ],
   "source": [
    "avg_mass = np.mean(x[~index, 0])\n",
    "print(f'When there is a candidate, its average mass is {avg_mass}')"
   ]
  },
  {
   "cell_type": "markdown",
   "metadata": {},
   "source": [
    "### Jet Numbers\n",
    "\n",
    "The categorical attribute `jet_number` influences how certain columns are `NaN`. Let's see how the table looks like for different jet numbers."
   ]
  },
  {
   "cell_type": "code",
   "execution_count": 121,
   "metadata": {},
   "outputs": [
    {
     "name": "stdout",
     "output_type": "stream",
     "text": [
      "Shape: (1985, 30)\n",
      "ID |    Mean    |    Var     |    Min     |    Max     |   #NaN   |\n",
      "---|------------|------------|------------|------------|----------|\n",
      " 0 |    120.976 |   2972.097 |     17.252 |    760.613 |      562 |\n",
      " 1 |     60.833 |    996.625 |      0.110 |    239.881 |        0 |\n",
      " 2 |     81.882 |   1400.835 |     13.423 |    432.568 |        0 |\n",
      " 3 |     13.516 |    209.414 |      0.000 |     95.050 |        0 |\n",
      " 4 |        nan |        nan |        nan |        nan |     1985 |\n",
      " 5 |        nan |        nan |        nan |        nan |     1985 |\n",
      " 6 |        nan |        nan |        nan |        nan |     1985 |\n",
      " 7 |      2.669 |      0.490 |      0.480 |      5.398 |        0 |\n",
      " 8 |     13.516 |    209.414 |      0.000 |     95.050 |        0 |\n",
      " 9 |     75.376 |    441.799 |     46.227 |    204.230 |        0 |\n",
      "10 |      1.429 |      0.358 |      0.240 |      5.126 |        0 |\n",
      "11 |     -0.945 |      0.811 |     -1.414 |      1.414 |        0 |\n",
      "12 |        nan |        nan |        nan |        nan |     1985 |\n",
      "13 |     32.998 |    179.389 |     20.001 |    137.032 |        0 |\n",
      "14 |     -0.018 |      1.550 |     -2.453 |      2.450 |        0 |\n",
      "15 |      0.013 |      3.232 |     -3.141 |      3.141 |        0 |\n",
      "16 |     42.379 |    206.295 |     26.033 |    145.585 |        0 |\n",
      "17 |     -0.062 |      1.765 |     -2.482 |      2.476 |        0 |\n",
      "18 |      0.108 |      3.292 |     -3.133 |      3.138 |        0 |\n",
      "19 |     32.438 |    301.556 |      0.537 |    137.966 |        0 |\n",
      "20 |     -0.058 |      3.232 |     -3.135 |      3.134 |        0 |\n",
      "21 |    124.390 |   2976.852 |     24.416 |    432.395 |        0 |\n",
      "22 |      0.000 |      0.000 |      0.000 |      0.000 |        0 |\n",
      "23 |        nan |        nan |        nan |        nan |     1985 |\n",
      "24 |        nan |        nan |        nan |        nan |     1985 |\n",
      "25 |        nan |        nan |        nan |        nan |     1985 |\n",
      "26 |        nan |        nan |        nan |        nan |     1985 |\n",
      "27 |        nan |        nan |        nan |        nan |     1985 |\n",
      "28 |        nan |        nan |        nan |        nan |     1985 |\n",
      "29 |      0.000 |      0.000 |      0.000 |      0.000 |        0 |\n"
     ]
    }
   ],
   "source": [
    "describe_features(remove_errors(x[x[:, 22] == 0]))"
   ]
  },
  {
   "cell_type": "code",
   "execution_count": 122,
   "metadata": {},
   "outputs": [
    {
     "name": "stdout",
     "output_type": "stream",
     "text": [
      "Shape: (1540, 30)\n",
      "ID |    Mean    |    Var     |    Min     |    Max     |   #NaN   |\n",
      "---|------------|------------|------------|------------|----------|\n",
      " 0 |    123.538 |   4873.741 |     18.891 |    977.515 |      172 |\n",
      " 1 |     46.691 |   1296.879 |      0.073 |    256.371 |        0 |\n",
      " 2 |     82.376 |   2238.650 |     14.910 |    658.494 |        0 |\n",
      " 3 |     66.597 |   2381.826 |      0.172 |    480.343 |        0 |\n",
      " 4 |        nan |        nan |        nan |        nan |     1540 |\n",
      " 5 |        nan |        nan |        nan |        nan |     1540 |\n",
      " 6 |        nan |        nan |        nan |        nan |     1540 |\n",
      " 7 |      2.330 |      0.594 |      0.451 |      5.423 |        0 |\n",
      " 8 |     17.022 |    315.651 |      0.043 |    228.007 |        0 |\n",
      " 9 |    151.341 |   4397.689 |     78.569 |    670.062 |        0 |\n",
      "10 |      1.426 |      0.644 |      0.183 |      7.827 |        0 |\n",
      "11 |      0.198 |      1.218 |     -1.414 |      1.414 |        0 |\n",
      "12 |        nan |        nan |        nan |        nan |     1540 |\n",
      "13 |     38.341 |    415.459 |     20.001 |    296.088 |        0 |\n",
      "14 |      0.043 |      1.483 |     -2.463 |      2.463 |        0 |\n",
      "15 |     -0.013 |      3.099 |     -3.138 |      3.139 |        0 |\n",
      "16 |     46.450 |    433.393 |     26.026 |    198.103 |        0 |\n",
      "17 |      0.034 |      1.618 |     -2.461 |      2.480 |        0 |\n",
      "18 |      0.114 |      3.417 |     -3.141 |      3.141 |        0 |\n",
      "19 |     41.823 |    911.954 |      1.343 |    289.971 |        0 |\n",
      "20 |      0.099 |      3.249 |     -3.137 |      3.140 |        0 |\n",
      "21 |    204.336 |   6618.446 |     60.265 |    749.569 |        0 |\n",
      "22 |      1.000 |      0.000 |      1.000 |      1.000 |        0 |\n",
      "23 |     66.550 |   2216.594 |     30.005 |    475.898 |        0 |\n",
      "24 |     -0.042 |      3.315 |     -4.476 |      4.355 |        0 |\n",
      "25 |      0.017 |      3.322 |     -3.140 |      3.136 |        0 |\n",
      "26 |        nan |        nan |        nan |        nan |     1540 |\n",
      "27 |        nan |        nan |        nan |        nan |     1540 |\n",
      "28 |        nan |        nan |        nan |        nan |     1540 |\n",
      "29 |     66.550 |   2216.595 |     30.005 |    475.898 |        0 |\n"
     ]
    }
   ],
   "source": [
    "describe_features(remove_errors(x[x[:, 22] == 1]))"
   ]
  },
  {
   "cell_type": "code",
   "execution_count": 123,
   "metadata": {},
   "outputs": [
    {
     "name": "stdout",
     "output_type": "stream",
     "text": [
      "Shape: (1043, 30)\n",
      "ID |    Mean    |    Var     |    Min     |    Max     |   #NaN   |\n",
      "---|------------|------------|------------|------------|----------|\n",
      " 0 |    120.992 |   2622.137 |     11.160 |    748.076 |       70 |\n",
      " 1 |     38.508 |   1105.092 |      0.011 |    214.034 |        0 |\n",
      " 2 |     78.116 |   1348.942 |      9.463 |    563.498 |        0 |\n",
      " 3 |     99.726 |   4840.548 |      0.991 |    585.661 |        0 |\n",
      " 4 |      2.572 |      3.201 |      0.001 |      7.544 |        0 |\n",
      " 5 |    372.698 | 163239.320 |     20.724 |   3056.908 |        0 |\n",
      " 6 |     -1.022 |     14.745 |    -14.127 |     15.228 |        0 |\n",
      " 7 |      2.083 |      0.558 |      0.256 |      5.135 |        0 |\n",
      " 8 |     17.635 |    437.350 |      0.080 |    210.603 |        0 |\n",
      " 9 |    239.577 |   9337.024 |    115.669 |    816.777 |        0 |\n",
      "10 |      1.488 |      1.124 |      0.136 |      9.955 |        0 |\n",
      "11 |      0.557 |      0.953 |     -1.414 |      1.414 |        0 |\n",
      "12 |      0.508 |      0.159 |      0.000 |      1.000 |        0 |\n",
      "13 |     42.335 |    534.137 |     20.005 |    192.565 |        0 |\n",
      "14 |     -0.042 |      1.398 |     -2.468 |      2.442 |        0 |\n",
      "15 |      0.024 |      3.339 |     -3.128 |      3.138 |        0 |\n",
      "16 |     50.536 |    637.137 |     26.010 |    263.690 |        0 |\n",
      "17 |     -0.016 |      1.374 |     -2.474 |      2.460 |        0 |\n",
      "18 |      0.110 |      3.352 |     -3.140 |      3.141 |        0 |\n",
      "19 |     52.859 |   1722.754 |      1.725 |    404.422 |        0 |\n",
      "20 |      0.075 |      3.312 |     -3.139 |      3.141 |        0 |\n",
      "21 |    291.046 |  12037.713 |     79.187 |    877.785 |        0 |\n",
      "22 |      2.000 |      0.000 |      2.000 |      2.000 |        0 |\n",
      "23 |     95.451 |   3707.407 |     31.046 |    584.018 |        0 |\n",
      "24 |      0.015 |      3.352 |     -4.034 |      4.464 |        0 |\n",
      "25 |     -0.031 |      3.225 |     -3.140 |      3.128 |        0 |\n",
      "26 |     51.255 |    651.939 |     30.025 |    352.201 |        0 |\n",
      "27 |     -0.005 |      4.419 |     -4.464 |      4.496 |        0 |\n",
      "28 |     -0.129 |      3.279 |     -3.138 |      3.140 |        0 |\n",
      "29 |    146.705 |   5921.155 |     61.709 |    736.708 |        0 |\n"
     ]
    }
   ],
   "source": [
    "describe_features(remove_errors(x[x[:, 22] == 2]))"
   ]
  },
  {
   "cell_type": "code",
   "execution_count": 124,
   "metadata": {},
   "outputs": [
    {
     "name": "stdout",
     "output_type": "stream",
     "text": [
      "Shape: (432, 30)\n",
      "ID |    Mean    |    Var     |    Min     |    Max     |   #NaN   |\n",
      "---|------------|------------|------------|------------|----------|\n",
      " 0 |    119.783 |   3463.394 |     22.564 |    587.733 |       36 |\n",
      " 1 |     42.841 |   1392.126 |      0.014 |    215.655 |        0 |\n",
      " 2 |     79.088 |   2106.957 |     12.672 |    485.700 |        0 |\n",
      " 3 |    122.252 |   6841.529 |      3.216 |    551.744 |        0 |\n",
      " 4 |      2.017 |      2.242 |      0.005 |      6.721 |        0 |\n",
      " 5 |    350.845 | 123162.597 |     30.359 |   2037.086 |        0 |\n",
      " 6 |     -0.249 |      8.676 |    -10.052 |      9.234 |        0 |\n",
      " 7 |      1.896 |      0.703 |      0.408 |      4.842 |        0 |\n",
      " 8 |     54.259 |   1192.737 |      0.718 |    257.324 |        0 |\n",
      " 9 |    363.567 |  27694.750 |    158.959 |   1279.985 |        0 |\n",
      "10 |      1.508 |      1.494 |      0.140 |      8.575 |        0 |\n",
      "11 |      0.459 |      0.951 |     -1.414 |      1.414 |        0 |\n",
      "12 |      0.397 |      0.156 |      0.000 |      1.000 |        0 |\n",
      "13 |     48.973 |   1181.682 |     20.056 |    301.229 |        0 |\n",
      "14 |     -0.055 |      1.407 |     -2.445 |      2.387 |        0 |\n",
      "15 |     -0.074 |      3.224 |     -3.116 |      3.136 |        0 |\n",
      "16 |     54.023 |    964.172 |     26.005 |    223.932 |        0 |\n",
      "17 |     -0.029 |      1.454 |     -2.454 |      2.458 |        0 |\n",
      "18 |      0.162 |      3.474 |     -3.111 |      3.129 |        0 |\n",
      "19 |     62.784 |   2034.796 |      2.873 |    345.183 |        0 |\n",
      "20 |      0.066 |      3.293 |     -3.129 |      3.130 |        0 |\n",
      "21 |    420.698 |  32880.356 |     90.683 |   1391.891 |        0 |\n",
      "22 |      3.000 |      0.000 |      3.000 |      3.000 |        0 |\n",
      "23 |    124.318 |   6601.500 |     35.338 |    738.235 |        0 |\n",
      "24 |     -0.016 |      2.572 |     -4.009 |      3.800 |        0 |\n",
      "25 |     -0.011 |      3.204 |     -3.129 |      3.141 |        0 |\n",
      "26 |     73.287 |   1886.508 |     30.782 |    358.433 |        0 |\n",
      "27 |     -0.011 |      3.240 |     -4.475 |      4.393 |        0 |\n",
      "28 |     -0.103 |      3.230 |     -3.132 |      3.123 |        0 |\n",
      "29 |    260.571 |  20993.763 |     98.550 |   1104.776 |        0 |\n"
     ]
    }
   ],
   "source": [
    "describe_features(remove_errors(x[x[:, 22] == 3]))"
   ]
  },
  {
   "cell_type": "code",
   "execution_count": 47,
   "metadata": {},
   "outputs": [],
   "source": [
    "def split_categories(x, n, category):\n",
    "    categories = np.apply_along_axis(categorize, 1, x)\n",
    "    return [x[categories == i] for i in np.arange(n)]"
   ]
  },
  {
   "cell_type": "code",
   "execution_count": 48,
   "metadata": {},
   "outputs": [
    {
     "data": {
      "text/plain": [
       "[array([[-999.   ,   86.317,   73.988, ..., -999.   , -999.   ,    0.   ],\n",
       "        [-999.   ,   64.299,   64.676, ..., -999.   , -999.   ,    0.   ],\n",
       "        [-999.   ,   66.497,   26.766, ..., -999.   , -999.   ,    0.   ],\n",
       "        ...,\n",
       "        [-999.   ,  133.017,   65.248, ..., -999.   , -999.   ,    0.   ],\n",
       "        [-999.   ,   88.445,   54.259, ..., -999.   , -999.   ,    0.   ],\n",
       "        [-999.   ,   78.589,   76.993, ..., -999.   , -999.   ,    0.   ]]),\n",
       " array([[ 148.436,   43.251,  118.888, ..., -999.   , -999.   ,    0.   ],\n",
       "        [ 249.415,   77.191,  185.154, ..., -999.   , -999.   ,    0.   ],\n",
       "        [  84.766,   34.015,   56.33 , ..., -999.   , -999.   ,    0.   ],\n",
       "        ...,\n",
       "        [  88.762,   44.889,   67.41 , ..., -999.   , -999.   ,    0.   ],\n",
       "        [  65.259,   49.695,   59.832, ..., -999.   , -999.   ,    0.   ],\n",
       "        [  81.153,   28.748,   63.335, ..., -999.   , -999.   ,    0.   ]]),\n",
       " array([[ 219.057,   72.461,  124.835, ..., -999.   , -999.   ,   50.396],\n",
       "        [  90.801,   27.787,   65.373, ..., -999.   , -999.   ,   62.766],\n",
       "        [ 107.067,    1.939,   70.444, ..., -999.   , -999.   ,   66.634],\n",
       "        ...,\n",
       "        [ 142.347,    7.389,   99.212, ..., -999.   , -999.   ,   97.068],\n",
       "        [  78.162,   46.335,   60.136, ..., -999.   , -999.   ,   32.44 ],\n",
       "        [ 130.042,    4.073,   67.819, ..., -999.   , -999.   ,   51.037]]),\n",
       " array([[138.47 ,  51.655,  97.827, ...,   1.24 ,  -2.475, 113.497],\n",
       "        [128.167,  52.145,  86.912, ...,  -1.788,  -0.287, 103.658],\n",
       "        [114.803,  53.183,  65.016, ...,   2.854,  -1.133, 102.7  ],\n",
       "        ...,\n",
       "        [140.825,  31.805,  92.986, ...,  -3.158,   1.03 , 146.614],\n",
       "        [129.522,  58.701,  95.036, ...,  -3.203,   0.571, 200.132],\n",
       "        [ 97.757,  70.745,  73.633, ...,  -1.015,   1.25 , 106.34 ]]),\n",
       " array([[ 7.57190e+01,  4.32830e+01,  5.43860e+01, ...,  1.58800e+00,\n",
       "          1.55600e+00,  1.19865e+02],\n",
       "        [ 7.78950e+01,  3.84710e+01,  4.93110e+01, ..., -1.72400e+00,\n",
       "         -1.26900e+00,  2.56657e+02],\n",
       "        [ 1.05437e+02,  2.67000e-01,  7.41130e+01, ...,  1.46500e+00,\n",
       "          8.85000e-01,  1.40131e+02],\n",
       "        ...,\n",
       "        [ 3.38949e+02,  8.18180e+01,  2.69243e+02, ...,  2.61600e+00,\n",
       "         -2.17000e+00,  5.63801e+02],\n",
       "        [ 1.54627e+02,  2.56710e+01,  5.04180e+01, ..., -3.57900e+00,\n",
       "          1.40200e+00,  7.36095e+02],\n",
       "        [ 9.76390e+01,  4.05100e+00,  5.27910e+01, ..., -1.17500e+00,\n",
       "          8.71000e-01,  3.98779e+02]])]"
      ]
     },
     "execution_count": 48,
     "metadata": {},
     "output_type": "execute_result"
    }
   ],
   "source": [
    "def categorize(x):\n",
    "#     if np.isnan(x[0]):\n",
    "    if x[0] == -999.0:\n",
    "        return 0\n",
    "    else:\n",
    "        return x[22] + 1\n",
    "\n",
    "\n",
    "split_categories(x, 5, categorize)"
   ]
  },
  {
   "cell_type": "code",
   "execution_count": 21,
   "metadata": {},
   "outputs": [
    {
     "name": "stdout",
     "output_type": "stream",
     "text": [
      "[array([1, 3, 2, 4]), array([5, 7, 6, 8])]\n",
      "[array([[1, 2, 3],\n",
      "       [2, 4, 7]]), array([[4, 5, 6],\n",
      "       [7, 8, 9]])]\n"
     ]
    }
   ],
   "source": [
    "def split(arr, cond):\n",
    "    return [arr[cond], arr[~cond]]\n",
    "\n",
    "a = np.array([1,3,5,7,2,4,6,8])\n",
    "print(split(a, a<5))\n",
    "\n",
    "a = np.array([[1,2,3],[4,5,6],[7,8,9],[2,4,7]])\n",
    "print(split(a, a[:,0]<3))"
   ]
  },
  {
   "cell_type": "code",
   "execution_count": null,
   "metadata": {},
   "outputs": [],
   "source": []
  }
 ],
 "metadata": {
  "kernelspec": {
   "display_name": "Python 3",
   "language": "python",
   "name": "python3"
  },
  "language_info": {
   "codemirror_mode": {
    "name": "ipython",
    "version": 3
   },
   "file_extension": ".py",
   "mimetype": "text/x-python",
   "name": "python",
   "nbconvert_exporter": "python",
   "pygments_lexer": "ipython3",
   "version": "3.6.5"
  }
 },
 "nbformat": 4,
 "nbformat_minor": 2
}
