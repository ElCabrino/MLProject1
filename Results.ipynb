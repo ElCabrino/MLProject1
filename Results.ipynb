{
 "cells": [
  {
   "cell_type": "code",
   "execution_count": 47,
   "metadata": {},
   "outputs": [],
   "source": [
    "%run algebra.py\n",
    "%run cache.py\n",
    "%run costs.py\n",
    "%run features.py\n",
    "%run gradients.py\n",
    "%run helpers.py\n",
    "%run model.py\n",
    "%run models.py\n",
    "%run splits.py\n",
    "\n",
    "import numpy as np\n",
    "import matplotlib.mlab as mlab\n",
    "import matplotlib.pyplot as plt\n",
    "import csv\n",
    "import numpy as np\n",
    "import warnings\n",
    "warnings.filterwarnings('ignore')"
   ]
  },
  {
   "cell_type": "code",
   "execution_count": 5,
   "metadata": {},
   "outputs": [],
   "source": [
    "def load_csv_data(data_path, sub_sample=True):\n",
    "    \"\"\"Loads data and returns y (class labels), tX (features) and ids (event ids)\"\"\"\n",
    "    y = np.genfromtxt(data_path, delimiter=\",\", skip_header=1, dtype=str, usecols=1)\n",
    "    x = np.genfromtxt(data_path, delimiter=\",\", skip_header=1)\n",
    "    ids = x[:, 0].astype(np.int)\n",
    "    input_data = x[:, 2:]\n",
    "\n",
    "    # convert class labels from strings to binary (-1,1)\n",
    "    yb = np.ones(len(y))\n",
    "    yb[np.where(y=='b')] = -1\n",
    "\n",
    "    # sub-sample\n",
    "    if sub_sample:\n",
    "        yb = yb[::50]\n",
    "        input_data = input_data[::50]\n",
    "        ids = ids[::50]\n",
    "\n",
    "    return yb, input_data, ids"
   ]
  },
  {
   "cell_type": "code",
   "execution_count": 6,
   "metadata": {
    "scrolled": true
   },
   "outputs": [],
   "source": [
    "y, x, ids = load_csv_data('data/train.csv')"
   ]
  },
  {
   "cell_type": "markdown",
   "metadata": {},
   "source": [
    "# 1 - Only Using Clean Features"
   ]
  },
  {
   "cell_type": "markdown",
   "metadata": {},
   "source": [
    "### Ridge Regression with Fixed Degree"
   ]
  },
  {
   "cell_type": "code",
   "execution_count": 4,
   "metadata": {
    "scrolled": true
   },
   "outputs": [
    {
     "data": {
      "image/png": "[encoded data removed]",
      "text/plain": [
       "<Figure size 432x288 with 1 Axes>"
      ]
     },
     "metadata": {
      "needs_background": "light"
     },
     "output_type": "display_data"
    },
    {
     "data": {
      "text/plain": [
       "{'degree': 12.0, 'lambda': 2.1544346900318823e-05, 'mse': 0.27156314426523304}"
      ]
     },
     "execution_count": 4,
     "metadata": {},
     "output_type": "execute_result"
    }
   ],
   "source": [
    "myModel = RidgeRegression_MSE_Degree_Model(x, y)\n",
    "\n",
    "res = myModel.evaluate(hs={ \n",
    "    'degree': np.arange(30), \n",
    "    'lambda': np.logspace(-8, -2, 10)\n",
    "}, filename='results/RidgeRegression_MSE_Degree_Model')\n",
    "\n",
    "res_mse = np.vectorize(lambda x: x['mse'])(res)\n",
    "\n",
    "plt.imshow(1 / res_mse, cmap='hot', interpolation='nearest')\n",
    "plt.show()\n",
    "\n",
    "ii = np.where(res_mse == res_mse.min())\n",
    "i, j = ii[0][0], ii[1][0]\n",
    "\n",
    "res[i, j]"
   ]
  },
  {
   "cell_type": "markdown",
   "metadata": {},
   "source": [
    "### Least Squares"
   ]
  },
  {
   "cell_type": "code",
   "execution_count": 54,
   "metadata": {},
   "outputs": [
    {
     "data": {
      "image/png": "[encoded data removed]",
      "text/plain": [
       "<Figure size 432x288 with 1 Axes>"
      ]
     },
     "metadata": {
      "needs_background": "light"
     },
     "output_type": "display_data"
    },
    {
     "data": {
      "text/plain": [
       "{'degree': 12.0, 'mse': 0.27188712714910396}"
      ]
     },
     "execution_count": 54,
     "metadata": {},
     "output_type": "execute_result"
    }
   ],
   "source": [
    "myModel = LeastSquare_MSE_Degree_Model(x, y)\n",
    "\n",
    "degrees = np.arange(15)\n",
    "\n",
    "res = myModel.evaluate(hs={ \n",
    "    'degree': degrees\n",
    "}, filename='results/LeastSquare_MSE_Degree_Model')\n",
    "\n",
    "res_mse = np.vectorize(lambda x: x['mse'])(res)\n",
    "\n",
    "plt.figure(2)\n",
    "plt.plot(degrees, res_mse, 'r')\n",
    "plt.xlabel('Degrees')\n",
    "plt.ylabel('Error')\n",
    "plt.show()\n",
    "\n",
    "ii = np.where(res_mse == res_mse.min())\n",
    "i = ii[0][0]\n",
    "\n",
    "res[i]"
   ]
  },
  {
   "cell_type": "markdown",
   "metadata": {},
   "source": [
    "### Stochastic Gradient Descent with Fixed Degree"
   ]
  },
  {
   "cell_type": "code",
   "execution_count": 56,
   "metadata": {},
   "outputs": [
    {
     "data": {
      "image/png": "[encoded data removed]",
      "text/plain": [
       "<Figure size 432x288 with 1 Axes>"
      ]
     },
     "metadata": {
      "needs_background": "light"
     },
     "output_type": "display_data"
    },
    {
     "data": {
      "text/plain": [
       "{'degree': 5.0, 'gamma': 2.7825594022071258e-11, 'mse': 0.49915383115180956}"
      ]
     },
     "execution_count": 56,
     "metadata": {},
     "output_type": "execute_result"
    }
   ],
   "source": [
    "myModel = StochasticGradientDescent_MSE_Degree_Model(x, y)\n",
    "\n",
    "gammas = np.logspace(-15, -10, 10)\n",
    "degrees = np.arange(12)\n",
    "\n",
    "res = myModel.evaluate(hs={ \n",
    "    'degree': degrees,\n",
    "    'gamma': gammas\n",
    "}, filename='results/SGD_Degree_Gamma_Variation_Model')\n",
    "\n",
    "res_mse = np.vectorize(lambda x: x['mse'])(res)\n",
    "\n",
    "plt.figure(3)\n",
    "plt.imshow(1 / res_mse, cmap='hot', interpolation='nearest')\n",
    "plt.xlabel('degrees')\n",
    "plt.show()\n",
    "\n",
    "ii = np.where(res_mse == res_mse.min())\n",
    "i, j = ii[0][0], ii[1][0]\n",
    "\n",
    "res[i, j]"
   ]
  },
  {
   "cell_type": "code",
   "execution_count": null,
   "metadata": {},
   "outputs": [],
   "source": []
  },
  {
   "cell_type": "code",
   "execution_count": null,
   "metadata": {},
   "outputs": [],
   "source": []
  }
 ],
 "metadata": {
  "kernelspec": {
   "display_name": "Python 3",
   "language": "python",
   "name": "python3"
  },
  "language_info": {
   "codemirror_mode": {
    "name": "ipython",
    "version": 3
   },
   "file_extension": ".py",
   "mimetype": "text/x-python",
   "name": "python",
   "nbconvert_exporter": "python",
   "pygments_lexer": "ipython3",
   "version": "3.6.6"
  }
 },
 "nbformat": 4,
 "nbformat_minor": 2
}
